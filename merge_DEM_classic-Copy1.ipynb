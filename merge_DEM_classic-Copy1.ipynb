{
 "cells": [
  {
   "cell_type": "code",
   "execution_count": 1,
   "id": "53297109-7514-4854-ba10-e1777c7f4bfb",
   "metadata": {},
   "outputs": [],
   "source": [
    "import os\n",
    "import numpy as np\n",
    "from scipy.interpolate import griddata\n",
    "import xarray as xr\n",
    "import matplotlib.pyplot as plt"
   ]
  },
  {
   "cell_type": "code",
   "execution_count": 2,
   "id": "d1f79f63-8670-44e5-b5be-e54552addec7",
   "metadata": {},
   "outputs": [],
   "source": [
    "# Répertoires fichiers grilles\n",
    "rep = '/home/thibault-delahaye/git_dev/notebook-grid-tools/DATASETS_CROCOTOOLS/Topo/to_merge_ter/'\n",
    "\n",
    "# Chemins des rasters à fusionner\n",
    "input1 = rep + \"MNT_NC100m_TSUCAL_GEO_refNM_ZNEG_V1.0.grd\" # HIGH RESOLUTION\n",
    "#input2 = rep + \"gebco_2024_n-14.502_s-25.4004_w158.5986_e171.6064.nc\" #LOW RESOLUTION\n",
    "input2= rep + \"etopo_2022_NC.tiff\"\n",
    "#OUTPUT de la fusion\n",
    "#output = rep + \"gebco_x_tsucal\""
   ]
  },
  {
   "cell_type": "code",
   "execution_count": 5,
   "id": "f3377aa6-1604-40ad-b2f7-1285849d4c26",
   "metadata": {},
   "outputs": [],
   "source": [
    "# Ouvrir le fichier 1\n",
    "ds1 = xr.open_dataset(input1)\n",
    "\n",
    "# Ouvrir le fichier 2\n",
    "#try:\n",
    "#    import rioxarray\n",
    "#    ds2_dataArray= rioxarray.open_rasterio(input2)\n",
    "    # Transformer le DataArray en Dataset\n",
    "#    ds2_temp = ds2_dataArray.to_dataset()\n",
    "#    ds2= ds2_temp.sel(band=1, drop=True)\n",
    "#except:\n",
    "ds2 = xr.open_dataset(input2)"
   ]
  },
  {
   "cell_type": "code",
   "execution_count": null,
   "id": "d15a0af6-ecd3-4d58-8dd3-25ba467fe4b9",
   "metadata": {},
   "outputs": [],
   "source": [
    "if input2[-4:]=='tiff':\n",
    "    ds2= ds2.sel(band=1, drop=True)"
   ]
  },
  {
   "cell_type": "code",
   "execution_count": 17,
   "id": "dabf525f-9a25-4e83-be5e-dc33b1966725",
   "metadata": {},
   "outputs": [],
   "source": [
    "# Identifier la variable contenant les données de bathymétrie\n",
    "# On suppose que la variable de bathymétrie est la seule avec des valeurs numériques\n",
    "\n",
    "for var_name in ds1.data_vars:\n",
    "    var_data = ds1[var_name]\n",
    "    # Vérifier si la variable est 2D et contient des valeurs numériques\n",
    "    if var_data.ndim == 2 and var_data.dtype.kind in {'f', 'i'}:\n",
    "         z_ds1= var_name\n",
    "         break\n",
    "else:\n",
    "    print(\"Aucune variable de bathymétrie trouvée dans ds1\")\n",
    "\n",
    "for var_name in ds2.data_vars:\n",
    "    var_data = ds2[var_name]\n",
    "    # Vérifier si la variable est 2D et contient des valeurs numériques\n",
    "    if var_data.ndim == 2 and var_data.dtype.kind in {'f', 'i'}:\n",
    "         z_ds2= var_name\n",
    "         break\n",
    "else:\n",
    "    print(\"Aucune variable de bathymétrie trouvée dans ds2\")"
   ]
  },
  {
   "cell_type": "code",
   "execution_count": 18,
   "id": "05fe54dd-3e6e-420e-b48b-dc7f759f209c",
   "metadata": {},
   "outputs": [],
   "source": [
    "# Identifier les noms des coordonnées lat/lon des fichiers\n",
    "\n",
    "for coord_name in ds1.coords:\n",
    "    coord_data = ds1[coord_name]\n",
    "    # On suppose que lon et lat sont généralement des coordonnées avec des valeurs géographiques\n",
    "    if coord_name.lower() in {'lon', 'longitude'}:\n",
    "        lon_coord_ds1  = coord_name\n",
    "    elif coord_name.lower() in {'lat', 'latitude'}:\n",
    "        lat_coord_ds1  = coord_name\n",
    "    elif coord_data.dims == ('x',) or coord_data.dims == ('y',):\n",
    "        if 'x' in coord_data.dims:\n",
    "            lon_coord_ds1 = coord_name\n",
    "        if 'y' in coord_data.dims:\n",
    "            lat_coord_ds1 = coord_name\n",
    "\n",
    "for coord_name in ds2.coords:\n",
    "    coord_data = ds2[coord_name]\n",
    "    # On suppose que lon et lat sont généralement des coordonnées avec des valeurs géographiques\n",
    "    if coord_name.lower() in {'lon', 'longitude'}:\n",
    "        lon_coord_ds2  = coord_name\n",
    "    elif coord_name.lower() in {'lat', 'latitude'}:\n",
    "        lat_coord_ds2  = coord_name\n",
    "    elif coord_data.dims == ('x',) or coord_data.dims == ('y',):\n",
    "        if 'x' in coord_data.dims:\n",
    "            lon_coord_ds2 = coord_name\n",
    "        if 'y' in coord_data.dims:\n",
    "            lat_coord_ds2 = coord_name"
   ]
  },
  {
   "cell_type": "code",
   "execution_count": 19,
   "id": "28e714c1-9efc-4a51-93d4-8d896dfa9c45",
   "metadata": {},
   "outputs": [],
   "source": [
    "#Interpoler la grille de basse résolution sur une grille de résolution = HIGH RES\n",
    "\n",
    "#Déterminer la résolution de la grille 1\n",
    "resolution_lon= np.diff(ds1[lon_coord_ds1]).mean()\n",
    "resolution_lat= np.diff(ds1[lat_coord_ds1]).mean()\n",
    "\n",
    "lon2= ds2[lon_coord_ds2].values\n",
    "lat2= ds2[lat_coord_ds2].values\n",
    "z2= ds2[z_ds2].values\n",
    "\n",
    "# Récupérér grille ds2 initiale\n",
    "lon_grid_2, lat_grid_2 = np.meshgrid(lon2, lat2)"
   ]
  },
  {
   "cell_type": "code",
   "execution_count": 20,
   "id": "59342802-56c7-4d2d-9cde-3979fd91afe8",
   "metadata": {},
   "outputs": [],
   "source": [
    "# Aplatir les grilles 2D et les valeurs\n",
    "lon_flat_2 = lon_grid_2.ravel()\n",
    "lat_flat_2 = lat_grid_2.ravel()\n",
    "z_flat_2 = z2.ravel()\n",
    "\n",
    "# Créer une nouvelle grille ds2\n",
    "new_lon_2 = np.arange(lon2.min(), lon2.max(), resolution_lon)\n",
    "new_lat_2 = np.arange(lat2.min(), lat2.max(), resolution_lat)\n",
    "new_lon_grid_2, new_lat_grid_2 = np.meshgrid(new_lon_2, new_lat_2)"
   ]
  },
  {
   "cell_type": "code",
   "execution_count": 21,
   "id": "5e66a6d1-69b8-4ccf-b375-cc41e9678af3",
   "metadata": {},
   "outputs": [],
   "source": [
    "z2_interp = griddata((lon_flat_2, lat_flat_2), z_flat_2, (new_lon_grid_2, new_lat_grid_2), method='nearest')"
   ]
  },
  {
   "cell_type": "code",
   "execution_count": 22,
   "id": "5d3bcfcf-064b-4305-9d01-7ca22b98e032",
   "metadata": {},
   "outputs": [],
   "source": [
    "lon1= ds1[lon_coord_ds1].values\n",
    "lat1= ds1[lat_coord_ds1].values\n",
    "z1= ds1[z_ds1].values\n",
    "\n",
    "# Récupérér grille ds2 initiale\n",
    "lon_grid_1, lat_grid_1 = np.meshgrid(lon1, lat1)\n",
    "\n",
    "# Aplatir les grilles 2D et les valeurs\n",
    "lon_flat_1 = lon_grid_1.ravel()\n",
    "lat_flat_1 = lat_grid_1.ravel()\n",
    "z_flat_1 = z1.ravel()\n",
    "\n",
    "# 1. Identifier la zone de chevauchement entre les grilles\n",
    "lon_min_1, lon_max_1 = lon1.min(), lon1.max()  # Étendue de la grille 1 en longitude\n",
    "lat_min_1, lat_max_1 = lat1.min(), lat1.max()  # Étendue de la grille 1 en latitude\n",
    "\n",
    "# Créer un masque sur la grille rééchantillonnée de la grille 2 qui couvre seulement la zone de la grille 1\n",
    "mask_overlap = (new_lon_grid_2 >= lon_min_1) & (new_lon_grid_2 <= lon_max_1) & \\\n",
    "               (new_lat_grid_2 >= lat_min_1) & (new_lat_grid_2 <= lat_max_1)\n",
    "\n",
    "# 2. Interpolation des données de la grille 1 (haute résolution) uniquement sur la zone couverte par la grille 1\n",
    "z1_interp_on_z2_overlap = griddata(\n",
    "    (lon_flat_1, lat_flat_1),  # Points d'origine (grille 1)\n",
    "    z_flat_1,                  # Valeurs d'origine (grille 1)\n",
    "    (new_lon_grid_2[mask_overlap], new_lat_grid_2[mask_overlap]),  # Points cibles (zone de la grille 1 dans la grille 2)\n",
    "    method='nearest'           # Méthode d'interpolation\n",
    ")\n"
   ]
  },
  {
   "cell_type": "code",
   "execution_count": 23,
   "id": "b0692819-7e74-493a-b55f-ee1e0d5f2cbb",
   "metadata": {},
   "outputs": [],
   "source": [
    "z2_save= z2_interp.copy()\n",
    "\n",
    "# 3. Remplacer les données de z2_interp uniquement dans la zone de chevauchement avec celles de la grille 1\n",
    "z2_interp[mask_overlap] = z1_interp_on_z2_overlap"
   ]
  },
  {
   "cell_type": "markdown",
   "id": "cf66330f-de92-48f2-a238-d23055986a8f",
   "metadata": {},
   "source": [
    "### LISSAGE"
   ]
  },
  {
   "cell_type": "code",
   "execution_count": 24,
   "id": "4d65b88f-18f0-45d9-b05b-cc4ea7617a54",
   "metadata": {},
   "outputs": [],
   "source": [
    "# Définir la largeur de la zone tampon en nombre de mailles\n",
    "buffer_width = 30\n",
    "\n",
    "\n",
    "#Bords de la grille haute résolution dans la grille finale\n",
    "lon_min= new_lon_grid_2[mask_overlap].min()\n",
    "lon_max= new_lon_grid_2[mask_overlap].max()\n",
    "lat_min= new_lat_grid_2[mask_overlap].min()\n",
    "lat_max= new_lat_grid_2[mask_overlap].max()\n",
    "\n",
    "# Calculer les limites extérieures de la zone tampon\n",
    "lon_buffer_min = lon_min - buffer_width * resolution_lon\n",
    "lon_buffer_max = lon_max + buffer_width * resolution_lon\n",
    "lat_buffer_min = lat_min - buffer_width * resolution_lat\n",
    "lat_buffer_max = lat_max + buffer_width * resolution_lat\n",
    "\n",
    "#Masque: zone tampon + grille haute résolution\n",
    "mask_buff_extremum=(new_lon_grid_2 >= lon_buffer_min) & (new_lon_grid_2 <= lon_buffer_max) & \\\n",
    "                   (new_lat_grid_2 >= lat_buffer_min) & (new_lat_grid_2 <= lat_buffer_max)\n",
    "\n",
    "# Zone tampon excluant la grille haute résolution\n",
    "mask_buffer= mask_buff_extremum & ~mask_overlap"
   ]
  },
  {
   "cell_type": "markdown",
   "id": "c2a477a1-f573-4127-8c65-7096050d552d",
   "metadata": {},
   "source": [
    "### Lissage des nan"
   ]
  },
  {
   "cell_type": "code",
   "execution_count": 25,
   "id": "b4c74c18-afb8-4aff-997d-1fca1da31097",
   "metadata": {},
   "outputs": [],
   "source": [
    "mask_nan = np.isnan(z2_interp) & ~np.isnan(z2_save)\n",
    "z2_combined= z2_interp.copy()\n",
    "z2_combined[mask_nan]= z2_save[mask_nan]"
   ]
  },
  {
   "cell_type": "code",
   "execution_count": 26,
   "id": "36f78f5f-e3ba-47c9-83ac-9b4f539492bf",
   "metadata": {},
   "outputs": [
    {
     "data": {
      "text/plain": [
       "(7734, 12459)"
      ]
     },
     "execution_count": 26,
     "metadata": {},
     "output_type": "execute_result"
    }
   ],
   "source": [
    "mask_nan.shape"
   ]
  },
  {
   "cell_type": "code",
   "execution_count": 27,
   "id": "a79495ff-8832-487f-bc7a-2d87a8a11f77",
   "metadata": {},
   "outputs": [],
   "source": [
    "from scipy.interpolate import RectBivariateSpline\n",
    "# Créer un interpolateur avec les nouvelles coordonnées\n",
    "spline = RectBivariateSpline(new_lat_grid_2[:, 0], new_lon_grid_2[0, :], z2_combined)\n",
    "\n",
    "# Interpoler sur les nouvelles coordonnées\n",
    "z2_smoothed = spline(new_lat_grid_2[:, 0], new_lon_grid_2[0, :])\n",
    "\n",
    "###\n",
    "#z2_interp[mask_nan]= z2_smoothed[mask_nan]"
   ]
  },
  {
   "cell_type": "code",
   "execution_count": 28,
   "id": "c3fd5fb8-39ae-44b0-b697-a42613779582",
   "metadata": {},
   "outputs": [],
   "source": [
    "z2_interp[mask_nan]= z2_smoothed[mask_nan]"
   ]
  },
  {
   "cell_type": "code",
   "execution_count": 16,
   "id": "e114dc40-ea5c-4a3e-9288-234f08c28ec9",
   "metadata": {},
   "outputs": [
    {
     "ename": "IndentationError",
     "evalue": "unexpected indent (1040564234.py, line 9)",
     "output_type": "error",
     "traceback": [
      "\u001b[0;36m  Cell \u001b[0;32mIn[16], line 9\u001b[0;36m\u001b[0m\n\u001b[0;31m    (new_lat_grid_2 >= lat_buffer_min_ext) & (new_lat_grid_2 <= lat_buffer_max_ext)\u001b[0m\n\u001b[0m    ^\u001b[0m\n\u001b[0;31mIndentationError\u001b[0m\u001b[0;31m:\u001b[0m unexpected indent\n"
     ]
    }
   ],
   "source": [
    "# Masque de la limite extérieure de la zone tampon (partie grille 2)\n",
    "#lon_buffer_min_ext = lon_buffer_min - 30*resolution_lon\n",
    "#lon_buffer_max_ext = lon_buffer_max + 30*resolution_lon\n",
    "#lat_buffer_min_ext = lat_buffer_min - 30*resolution_lat\n",
    "#lat_buffer_max_ext = lat_buffer_max + 30*resolution_lat\n",
    "\n",
    "#Masque: zone tampon + grille haute résolution\n",
    "#mask_buff_ext_extremum=(new_lon_grid_2 >= lon_buffer_min_ext) & (new_lon_grid_2 <= lon_buffer_max_ext) & \\\n",
    "#                   (new_lat_grid_2 >= lat_buffer_min_ext) & (new_lat_grid_2 <= lat_buffer_max_ext)\n",
    "\n",
    "#mask_buff_ext= mask_buff_ext_extremum & ~mask_buff_extremum"
   ]
  },
  {
   "cell_type": "code",
   "execution_count": 29,
   "id": "e871a133-4932-4bdb-8bdd-2649d4b25a35",
   "metadata": {},
   "outputs": [],
   "source": [
    "import numpy as np\n",
    "from scipy.ndimage import binary_dilation\n",
    "\n",
    "# Appliquer une dilatation binaire pour obtenir les voisins externes\n",
    "dilated_mask_buffer_ext = binary_dilation(mask_buff_extremum)\n",
    "\n",
    "# Les bords externes sont ceux qui sont dans la dilatation mais pas dans le masque initial\n",
    "border_buffer_ext = dilated_mask_buffer_ext & ~mask_buff_extremum\n",
    "\n",
    "# Récupérer les indices des bords extérieurs\n",
    "#indices_border_buff_ext = np.where(border_buffer_ext)"
   ]
  },
  {
   "cell_type": "code",
   "execution_count": 18,
   "id": "d95e58a5-89e9-478d-bb2f-464d4ee3382c",
   "metadata": {},
   "outputs": [],
   "source": [
    "# Masque de la limite intérieure de la zone tampon (partie grille 1)\n",
    "#lon_buffer_min_int = lon_min + 3*resolution_lon\n",
    "#lon_buffer_max_int = lon_max - 3*resolution_lon\n",
    "#lat_buffer_min_int = lat_min + 3*resolution_lat\n",
    "#lat_buffer_max_int = lat_max - 3*resolution_lat\n",
    "\n",
    "#Masque: zone tampon + grille haute résolution\n",
    "#mask_buff_int_extremum=(new_lon_grid_2 >= lon_buffer_min_int) & (new_lon_grid_2 <= lon_buffer_max_int) & \\\n",
    "  #                 (new_lat_grid_2 >= lat_buffer_min_int) & (new_lat_grid_2 <= lat_buffer_max_int)\n",
    "\n",
    "#mask_buff_int= ~mask_buff_int_extremum & mask_overlap"
   ]
  },
  {
   "cell_type": "code",
   "execution_count": 30,
   "id": "8060c290-1182-4520-afdc-63fe3211a9d4",
   "metadata": {},
   "outputs": [],
   "source": [
    "from scipy.ndimage import binary_erosion\n",
    "#Appliquer une érosion binaire pour identifier l'intérieur\n",
    "eroded_mask = binary_erosion(mask_overlap)\n",
    "\n",
    "# Les bords intérieurs sont ceux qui sont dans le masque initial mais pas dans l'érosion\n",
    "border_mask_inner = mask_overlap & ~eroded_mask\n",
    "\n",
    "\n",
    "# Récupérer les indices des bords intérieurs\n",
    "#indices_border_inner = np.where(border_mask_inner)"
   ]
  },
  {
   "cell_type": "code",
   "execution_count": 20,
   "id": "6db3ced2-ac25-4236-8919-4b669f4c0222",
   "metadata": {},
   "outputs": [],
   "source": [
    "# Coordonnées et valeurs pour la zone tampon\n",
    "#lon_buffer = new_lon_grid_2[mask_buffer]\n",
    "#lat_buffer = new_lat_grid_2[mask_buffer]\n",
    "\n",
    "# Coordonnées et valeurs pour la grille 1 utiles\n",
    "#lon_buffer_int = new_lon_grid_2[mask_buff_int]\n",
    "#lat_buffer_int = new_lat_grid_2[mask_buff_int]\n",
    "\n",
    "# Coordonnées et valeurs pour la grille 2 utiles\n",
    "#lon_buffer_ext = new_lon_grid_2[mask_buff_ext]\n",
    "#lat_buffer_ext = new_lat_grid_2[mask_buff_ext]"
   ]
  },
  {
   "cell_type": "code",
   "execution_count": 21,
   "id": "bda9fc41-8d2d-4578-b6da-f78215a084e3",
   "metadata": {},
   "outputs": [],
   "source": [
    "# Coordonnées des points dans la zone tampon\n",
    "#coords_buffer = np.vstack((lon_buffer, lat_buffer)).T\n",
    "\n",
    "# Coordonnées des points dans la grille 1 utiles\n",
    "#coords_buffer_int = np.vstack((lon_buffer_int, lat_buffer_int)).T\n",
    "\n",
    "# Coordonnées des points dans la grille 1 utiles\n",
    "#coords_buffer_ext = np.vstack((lon_buffer_ext, lat_buffer_ext)).T"
   ]
  },
  {
   "cell_type": "code",
   "execution_count": 22,
   "id": "d7c8adea-eae0-4961-8111-6aa78f99ee3a",
   "metadata": {},
   "outputs": [],
   "source": [
    "#from scipy.spatial import cKDTree\n",
    "\n",
    "# Coordonnées des points de la grille haute résolution\n",
    "#coords_high_res = np.vstack((new_lon_grid_2[mask_overlap].ravel(), new_lat_grid_2[mask_overlap].ravel())).T\n",
    "\n",
    "# Créer un arbre KD pour les points de la grille haute résolution\n",
    "#tree_high_res = cKDTree(coords_buffer_int)"
   ]
  },
  {
   "cell_type": "code",
   "execution_count": 23,
   "id": "04e7a8a2-d27c-4792-af15-e6f9cdd693d1",
   "metadata": {},
   "outputs": [],
   "source": [
    "# Créer un arbre KD pour les points de la grille basse résolution\n",
    "#tree_low_res = cKDTree(coords_buffer_ext)"
   ]
  },
  {
   "cell_type": "code",
   "execution_count": 24,
   "id": "745e81e0-f268-44a9-aeac-7cd1f4be4979",
   "metadata": {},
   "outputs": [],
   "source": [
    "# Trouver les indices des points les plus proches et les distances\n",
    "#distances_to_high_res, indices_high_res = tree_high_res.query(coords_buffer)\n",
    "# Trouver les distances aux points les plus proches de la grille 2 (hors de la zone tampon)\n",
    "#distances_to_low_res, indices_low_res = tree_low_res.query(coords_buffer)"
   ]
  },
  {
   "cell_type": "code",
   "execution_count": 31,
   "id": "a52ddb51-758b-43e0-a691-87b4059fa23a",
   "metadata": {},
   "outputs": [],
   "source": [
    "# Rayon approximatif de la Terre en mètres\n",
    "#R = 6371000  # Rayon moyen de la Terre en mètres\n",
    "\n",
    "# Fonction pour calculer la distance de Haversine\n",
    "#def haversine(lon1, lat1, lon2, lat2):\n",
    "#    lon1, lat1, lon2, lat2 = map(np.radians, [lon1, lat1, lon2, lat2])\n",
    "#    dlon = lon2 - lon1\n",
    "#    dlat = lat2 - lat1\n",
    "#    a = np.sin(dlat / 2)**2 + np.cos(lat1) * np.cos(lat2) * np.sin(dlon / 2)**2\n",
    "#    c = 2 * np.arctan2(np.sqrt(a), np.sqrt(1 - a))\n",
    "#    return R * c\n",
    "\n",
    "lon_inner = new_lon_grid_2[border_mask_inner]\n",
    "lat_inner = new_lat_grid_2[border_mask_inner]\n",
    "lon_outer = new_lon_grid_2[border_buffer_ext]\n",
    "lat_outer = new_lat_grid_2[border_buffer_ext]\n",
    "\n",
    "# Extraire les valeurs de z2_interp aux bords intérieurs et extérieurs\n",
    "values_inner = z2_interp[border_mask_inner]\n",
    "values_outer = z2_interp[border_buffer_ext]\n",
    "\n",
    "# Pour chaque maille dans mask_buffer, trouver les valeurs à partir des bords intérieurs et extérieurs les plus proches\n",
    "buffer_lon = new_lon_grid_2[mask_buffer]\n",
    "buffer_lat = new_lat_grid_2[mask_buffer]\n",
    "\n",
    "# Initialiser les tableaux pour stocker les valeurs interpolées\n",
    "interpolated_values = np.zeros(buffer_lon.shape)\n",
    "\n",
    "# Pour chaque maille dans mask_buffer\n",
    "for i, (lon, lat) in enumerate(zip(buffer_lon, buffer_lat)):\n",
    "    # Calculer les distances à toutes les mailles de border_mask_inner et border_mask_ext\n",
    "    #dist_inner = haversine(lon, lat, lon_inner, lat_inner)\n",
    "    #dist_outer = haversine(lon, lat, lon_outer, lat_outer)\n",
    "    dist_inner = np.sqrt((lon_inner - lon)**2 + (lat_inner - lat)**2)\n",
    "    dist_outer = np.sqrt((lon_outer - lon)**2 + (lat_outer - lat)**2)\n",
    "    \n",
    "    \n",
    "    # Trouver les indices des bords les plus proches\n",
    "    nearest_inner_idx = np.argmin(dist_inner)\n",
    "    nearest_outer_idx = np.argmin(dist_outer)\n",
    "    \n",
    "    # Extraire les valeurs les plus proches\n",
    "    value_inner = values_inner[nearest_inner_idx]\n",
    "    value_outer = values_outer[nearest_outer_idx]\n",
    "    \n",
    "    # Calculer la distance totale pour la pondération\n",
    "    total_distance = dist_inner[nearest_inner_idx] + dist_outer[nearest_outer_idx]\n",
    "    \n",
    "    # Calculer les poids pour l'interpolation\n",
    "    weight_inner = dist_outer[nearest_outer_idx] / total_distance\n",
    "    weight_outer = dist_inner[nearest_inner_idx] / total_distance\n",
    "    \n",
    "    # Calculer la valeur interpolée\n",
    "    interpolated_values[i] = weight_inner * value_inner + weight_outer * value_outer\n",
    "\n",
    "\n",
    "z2_interp[mask_buffer] = interpolated_values"
   ]
  },
  {
   "cell_type": "code",
   "execution_count": 28,
   "id": "9053123a-2098-4893-836b-32f908313264",
   "metadata": {},
   "outputs": [],
   "source": [
    "# Éviter les divisions par zéro (si un point est très proche d'un autre point)\n",
    "#epsilon = 1e-10\n",
    "#distances_to_high_res = distances_to_high_res + epsilon\n",
    "#distances_to_low_res = distances_to_low_res + epsilon\n",
    "\n",
    "# Calculer les pondérations inverses aux distances\n",
    "#weights_high_res = 1 / distances_to_high_res\n",
    "#weights_low_res = 1 / distances_to_low_res\n",
    "\n",
    "# Normaliser les pondérations pour que leur somme soit égale à 1\n",
    "#weights_sum = weights_high_res + weights_low_res\n",
    "#weights_high_res /= weights_sum\n",
    "#weights_low_res /= weights_sum\n",
    "\n",
    "#weights_high_res = 1 - (distances_to_high_res / (distances_to_high_res + distances_to_low_res))\n",
    "#weights_low_res = 1 - weights_high_res"
   ]
  },
  {
   "cell_type": "code",
   "execution_count": 29,
   "id": "6e5de7ee-b493-4306-9bf6-adf3b8bad36d",
   "metadata": {},
   "outputs": [],
   "source": [
    "# Extraire les valeurs interpolées des deux grilles\n",
    "#z_high_res_nearest = z2_interp[mask_buff_int][indices_high_res]\n",
    "#z_low_res_nearest = z2_interp[mask_buff_ext][indices_low_res]"
   ]
  },
  {
   "cell_type": "code",
   "execution_count": 30,
   "id": "9e343db7-0ce9-449b-8f75-b959475686af",
   "metadata": {},
   "outputs": [],
   "source": [
    "# Calculer la valeur lissée pour chaque point dans la zone tampon\n",
    "#z_smooth = weights_high_res * z_high_res_nearest + weights_low_res * z_low_res_nearest\n",
    "#z_smooth = (weights_high_res * z_high_res_nearest + weights_low_res * z_low_res_nearest + z2_interp[mask_buffer]) / 2\n"
   ]
  },
  {
   "cell_type": "code",
   "execution_count": null,
   "id": "be7796fa-f3f5-4033-a653-00a77f3e2a3a",
   "metadata": {},
   "outputs": [],
   "source": [
    "# Remplacer les valeurs dans la zone tampon\n",
    "#z2_interp[mask_buffer] = z_smooth"
   ]
  },
  {
   "cell_type": "code",
   "execution_count": null,
   "id": "2e67743f-adad-43c2-ba2c-6469fa5f152c",
   "metadata": {},
   "outputs": [],
   "source": [
    "#import scipy.ndimage as ndimage\n",
    "#mask_nan = np.isnan(z2_interp)\n",
    "#z2_interp[mask_nan] = z2_save[mask_nan]\n",
    "# Appliquer un filtre de lissage (gaussien) sur la zone des trous comblés\n",
    "# sigma contrôle l'intensité du lissage (ajuster en fonction des résultats)\n",
    "#z_smooth_nan = ndimage.gaussian_filter(z2_save, sigma=3)\n",
    "#z2_interp[mask_nan] = z_smooth_nan[mask_nan]"
   ]
  },
  {
   "cell_type": "code",
   "execution_count": 32,
   "id": "67eda247-1b61-4d87-8c32-4c925921e8e2",
   "metadata": {},
   "outputs": [],
   "source": [
    "import xarray as xr\n",
    "\n",
    "# Obtenez les coordonnées uniques\n",
    "new_lon_unique = np.unique(new_lon_grid_2)\n",
    "new_lat_unique = np.unique(new_lat_grid_2)\n",
    "\n",
    "# Créer un DataArray pour les données interpolées\n",
    "ds_interpolated = xr.DataArray(\n",
    "    z2_interp, \n",
    "    coords=[('lat', new_lat_unique), ('lon', new_lon_unique)],  # Ajouter les coordonnées\n",
    "    dims=['lat', 'lon']  # Spécifier les dimensions\n",
    ")\n",
    "\n",
    "# Créer un Dataset pour organiser les variables\n",
    "ds_to_save = xr.Dataset({\n",
    "    'z2_interp': ds_interpolated  # Ajouter la variable interpolée\n",
    "})\n",
    "\n",
    "# Sauvegarder dans un fichier NetCDF\n",
    "ds_to_save.to_netcdf('composite_etopo_jroger.nc')\n"
   ]
  },
  {
   "cell_type": "code",
   "execution_count": 33,
   "id": "1a221dc9-f721-4670-9cb4-d8d817743ed1",
   "metadata": {},
   "outputs": [],
   "source": [
    "ds2.to_netcdf('etopo.nc')"
   ]
  },
  {
   "cell_type": "code",
   "execution_count": null,
   "id": "7afe564d-135b-4ede-acee-57c88129e4a4",
   "metadata": {},
   "outputs": [],
   "source": []
  }
 ],
 "metadata": {
  "kernelspec": {
   "display_name": "Python 3 (ipykernel)",
   "language": "python",
   "name": "python3"
  },
  "language_info": {
   "codemirror_mode": {
    "name": "ipython",
    "version": 3
   },
   "file_extension": ".py",
   "mimetype": "text/x-python",
   "name": "python",
   "nbconvert_exporter": "python",
   "pygments_lexer": "ipython3",
   "version": "3.9.18"
  }
 },
 "nbformat": 4,
 "nbformat_minor": 5
}
