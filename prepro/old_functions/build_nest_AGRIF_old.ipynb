{
 "cells": [
  {
   "cell_type": "markdown",
   "id": "71573cd1-5091-49f2-8d81-3099cc2a10d2",
   "metadata": {},
   "source": [
    "<center><img src=\"https://encrypted-tbn0.gstatic.com/images?q=tbn:ANd9GcQXnrruP7guibF61c4gOESBR2VhhqYmEjKin0yY9lrhCak3hIbXI0QDSlObO74xcBkjMw&usqp=CAU\"/></center>"
   ]
  },
  {
   "cell_type": "markdown",
   "id": "91295459-7aa4-466c-927c-6a13262198f5",
   "metadata": {},
   "source": [
    "# 🔍 Build a nest - AGRIF "
   ]
  },
  {
   "cell_type": "markdown",
   "id": "2b482d33-fda9-40ef-997c-4633bfd826eb",
   "metadata": {},
   "source": [
    "<small>\n",
    "This notebook allows you to build a child grid/a nest from a parent grid (created with <strong>`make_grid.ipynb`</strong>) with offline or AGRIF methods\n",
    "<br>💡 It is linked to the croco-ocean/croco_pytools' <a href= \"https://gitlab.inria.fr/croco-ocean/croco_pytools/-/issues/4\">ISSUE #4</a> located on the <strong>croco-ocean INRIA's gitlab</strong>\n",
    "<br>➡️ Notebook created by <a href=\"mailto:thibault.delahaye@ird.fr\">Thibault Delahaye</a> and based on the existing codes of pycrocotool\n",
    "<br>🌳 Developped on **notebook-grid-tools**'s branch, whose source is the main branch\n",
    "</small>"
   ]
  },
  {
   "cell_type": "markdown",
   "id": "732b409d-ebfc-46bf-90c0-886c78075eaa",
   "metadata": {},
   "source": [
    "## 📖-Code-presentation"
   ]
  },
  {
   "cell_type": "markdown",
   "id": "b0d9248e-616a-4efc-a185-2a430b1470a4",
   "metadata": {},
   "source": [
    "### Method"
   ]
  },
  {
   "cell_type": "markdown",
   "id": "a492df32-a9cc-4317-8d8b-f2d7631b3e27",
   "metadata": {},
   "source": [
    "<div class=\"alert alert-block alert-info\">\n",
    "\n",
    "To represent fine-scale phenomena, CROCO offers the ability to create zooms with increased resolution. Two options exist 🛠️:  \n",
    "    \n",
    "##### Offline Zoom 🗺️ ➡️ 🔍\n",
    "\n",
    "- **Description**: Creation of a grid with the desired resolution, where the boundaries are within a grid of a larger CROCO domain, already modeled.\n",
    "- **Conditions**: The high-resolution grid takes as initial and boundary conditions those from the larger CROCO simulation. The simulations are independent and no feedback from the high-resolution grid to the coarser grid is possible. The simulations run separately.\n",
    "- **Advantages**:\n",
    "  - Independence\n",
    "  - No constraints on the chosen resolution\n",
    "- **Disadvantages**:\n",
    "  - No feedback to the larger domain\n",
    "  - Zoom boundary forcing depends on the frequency of the parent grid’s history, which may filter out some waves present in the parent grid.\n",
    "\n",
    "<div style=\"border: 2px dotted black; padding: 10px; margin: 10px;\">\n",
    "\n",
    "##### AGRIF Zoom 🔄\n",
    "\n",
    "- **Description**: AGRIF is a library that allows running CROCO with several embedded domains together. (see documentation in CROCO documentation)\n",
    "- **Conditions**: Parent and child(s) domains are run simultaneously, coupling the domains at the barotropic time step.\n",
    "- **Advantages**:\n",
    "  - Two-way feedback to the parent domain is possible and can significantly improve results of the larger domain\n",
    "  - Coupling at the highest possible frequency\n",
    "  - Consistency of numerics\n",
    "  - Any number of nesting levels is allowed\n",
    "- **Disadvantages**:\n",
    "  - Requires simultaneous execution of the parent and child(s) grids\n",
    "  - Nesting ratio should be 3 or 5\n",
    "  - Currently, AGRIF zooms in CROCO must have the same vertical resolution as the parent.\n",
    "</div>\n",
    "\n",
    "</div>"
   ]
  },
  {
   "cell_type": "markdown",
   "id": "d1fe7066-b065-451a-8385-23d3eaff4cf2",
   "metadata": {},
   "source": [
    "### 💾 Datasets\n",
    "\n",
    "Further Information: [CROCO OCEAN WEBSITE](http://www.croco-ocean.org)\n",
    "  \n",
    "*This file is part of CROCOTOOLS* 🐊\n",
    "\n",
    "**Create a CROCO grid file** 🌐   \n",
    "In the current state the script can handle:  "
   ]
  },
  {
   "cell_type": "markdown",
   "id": "a2f0433f-cf98-46f3-a381-638f17113570",
   "metadata": {},
   "source": [
    "<table style=\"width: 100%; text-align: left; border-collapse: collapse;\">\n",
    "  <thead>\n",
    "    <tr>\n",
    "      <th style=\"border: 1px solid #ddd; padding: 8px; background-color: #f4f4f4;\">DATA</th>\n",
    "      <th style=\"border: 1px solid #ddd; padding: 8px; background-color: #f4f4f4;\">SOURCE</th>\n",
    "      <th style=\"border: 1px solid #ddd; padding: 8px; background-color: #f4f4f4;\">FILE EXTENSION</th>\n",
    "    </tr>\n",
    "  </thead>\n",
    "  <tbody>\n",
    "    <tr>\n",
    "      <td style=\"border: 1px solid #ddd; padding: 8px;\"><strong>⛰️ topo/bathy</strong></td>\n",
    "      <td style=\"border: 1px solid #ddd; padding: 8px;\">etopo (5,2,1),<br>srtm30, gebco</td>\n",
    "      <td style=\"border: 1px solid #ddd; padding: 8px;\"><em>NetCDF</em></td>\n",
    "    </tr>\n",
    "    <tr>\n",
    "      <td style=\"border: 1px solid #ddd; padding: 8px;\"><strong>🏖️ coastline</strong></td>\n",
    "      <td style=\"border: 1px solid #ddd; padding: 8px;\">GSHHS</td>\n",
    "      <td style=\"border: 1px solid #ddd; padding: 8px;\"><em>shapefile</em></td>\n",
    "    </tr>\n",
    "    <tr>\n",
    "      <td style=\"border: 1px solid #ddd; padding: 8px;\"><strong>🐊 parent CROCO grid</strong></td>\n",
    "      <td style=\"border: 1px solid #ddd; padding: 8px;\">croco_grd built with make_grid.ipynb</td>\n",
    "      <td style=\"border: 1px solid #ddd; padding: 8px;\"><em>NetCDF</em></td>\n",
    "    </tr>\n",
    "  </tbody>\n",
    "</table>"
   ]
  },
  {
   "cell_type": "markdown",
   "id": "eaa0004a-d8b0-4429-a1f9-f8742bd5b2f0",
   "metadata": {},
   "source": [
    "### ⚙️ Requirements\n",
    "➡️ Installing `ipympl` for interactive Plots :\n",
    "\n",
    "*To use **interactive plotting** features with the `%matplotlib widget` [magic command](#Magic-cells) in Jupyter Notebook or JupyterLab, you need to install the `ipympl` package. This package enables Matplotlib to render interactive plots using Jupyter widgets.*\n",
    "\n",
    " **Run the following command** in a code cell or in your notebook to install `ipympl`:\n",
    "   ```python\n",
    "   pip install ipympl\n",
    "   ```"
   ]
  },
  {
   "cell_type": "markdown",
   "id": "27db1e1f-eef7-4d4f-a1fc-d01f806296ba",
   "metadata": {},
   "source": [
    "---\n",
    "\n",
    "<div style=\"text-align: center; font-size: 0.9em; color: gray;\">\n",
    "  CODE BODY\n",
    "</div>\n",
    "\n",
    "---"
   ]
  },
  {
   "cell_type": "markdown",
   "id": "0777ea4e-fe68-4fdf-b339-db6b4bfebe0f",
   "metadata": {},
   "source": [
    "### Magic cells"
   ]
  },
  {
   "cell_type": "markdown",
   "id": "f6224b8e-f390-45ab-aaee-edd0276477b6",
   "metadata": {},
   "source": [
    "[Magic cell](https://ipython.readthedocs.io/en/stable/interactive/magics.html) ⚡🐚 dedicated to the activation of backend environments"
   ]
  },
  {
   "cell_type": "code",
   "execution_count": 1,
   "id": "3a702449-8ad8-4297-a23b-56415dc11b3c",
   "metadata": {},
   "outputs": [],
   "source": [
    "#Allows widget interactivity with user\n",
    "%matplotlib widget    \n",
    "%load_ext autoreload\n",
    "%autoreload 2"
   ]
  },
  {
   "cell_type": "markdown",
   "id": "54ec949f-b22d-4154-8495-354b59500ae6",
   "metadata": {},
   "source": [
    "### Dependencies"
   ]
  },
  {
   "cell_type": "code",
   "execution_count": 55,
   "id": "d93d3268-6c49-470f-b320-95d2b297c9ba",
   "metadata": {},
   "outputs": [],
   "source": [
    "import numpy as np\n",
    "import os,sys\n",
    "os.environ['ETS_TOOLKIT'] = 'wx'\n",
    "sys.path.append(\"./Modules/\")\n",
    "sys.path.append(\"./Readers/\")\n",
    "sys.path.append(\"./Modules/graphicUI_tools/\")\n",
    "from main_window import *\n",
    "import tools_make_grid\n",
    "#----------------------------------------------#\n",
    "from tools_make_grid import GetMask,GetTopo, topo_prt, Inputs_smth_c2c, Inputs_c2c\n",
    "from croco_class import CROCO\n",
    "from main_window import Outputs\n",
    "#----------------------------------------------#\n",
    "from Modules.map_tools.map_tools import plot_grid, plot_outline, plot_topo\n",
    "from scipy.spatial import distance\n",
    "import matplotlib.pyplot as plt\n",
    "import ipywidgets as widgets\n",
    "from ipywidgets import interact_manual\n",
    "#----------------------------------------------#\n",
    "from matplotlib.widgets import RectangleSelector\n",
    "from ipywidgets import FloatText, VBox\n",
    "from IPython.display import display, clear_output"
   ]
  },
  {
   "cell_type": "markdown",
   "id": "d10507b3-1965-4435-8d6f-e7ca9520a554",
   "metadata": {},
   "source": [
    "## 🗺️ Parent grid path and infos"
   ]
  },
  {
   "cell_type": "markdown",
   "id": "0a7a2d1a-05d5-4bb2-b22c-66de9b131a20",
   "metadata": {},
   "source": [
    "### Parent grid path:"
   ]
  },
  {
   "cell_type": "code",
   "execution_count": 3,
   "id": "e3e1356d-6a5e-4d04-997d-8bb2f08d697f",
   "metadata": {},
   "outputs": [],
   "source": [
    "parent_grid_file= \"../../CROCO_FILES/croco_grd.nc\""
   ]
  },
  {
   "cell_type": "markdown",
   "id": "d81d5fab-dc1d-4ce1-a926-05952234cca4",
   "metadata": {},
   "source": [
    "### Collecting parent's grid inputs/outputs parameters"
   ]
  },
  {
   "cell_type": "markdown",
   "id": "d774cee8-adec-48c8-b705-06206b0bb909",
   "metadata": {},
   "source": [
    "#### Collecting parent's grid outputs"
   ]
  },
  {
   "cell_type": "code",
   "execution_count": 63,
   "id": "ec7d9cee-60a4-4e76-915d-75ffabd20607",
   "metadata": {},
   "outputs": [],
   "source": [
    "prt= topo_prt(parent_grid_file)"
   ]
  },
  {
   "cell_type": "markdown",
   "id": "c690aaf9-13a4-48b5-95fe-790cfc680ca2",
   "metadata": {},
   "source": [
    "## 🐣 Build the nest"
   ]
  },
  {
   "cell_type": "markdown",
   "id": "dd8b3f08-b9db-4d6e-9ee5-41a698b25a3c",
   "metadata": {},
   "source": [
    "<div class=\"alert alert-block alert-info\">\n",
    "    \n",
    "**AGRIF (Adaptive Grid Refinement in Fortran)** is a Fortran 95 package for the inclusion of adaptive mesh refinement features within a finite difference numerical model. One of the major advantages of AGRIF in static-grid embedding is the ability to manage an arbitrary number of fixed grids and an arbitrary number of embedding levels.  \n",
    "\n",
    "</div>"
   ]
  },
  {
   "cell_type": "markdown",
   "id": "0ae72dff-a983-4862-916c-a8038c55dc19",
   "metadata": {},
   "source": [
    "### Nested Grids Explanation (example for a 1:3 refinement ratio )\n",
    "\n",
    "The nested grids are rectangular and are aligned with the parent (coarser) grid within which they are nested.\n",
    "\n",
    "- **$i_{\\text{min}}$, $i_{\\text{max}}$, $j_{\\text{min}}$, and $j_{\\text{max}}$** refer to the positions of the child grid corners, in terms of its parent grid starting with the value 1 in each space direction.\n",
    "- When the user chooses these positions, one has to take care that the fine grid is contained within the parent grid.\n",
    "- **$(i_{\\text{min}}, j_{\\text{min}})$** are the lower left corner positions and **$(i_{\\text{max}}, j_{\\text{max}})$** are the upper right corner positions.\n",
    "\n",
    "This is a quite important feature to know in order to properly choose integers **$i_{\\text{min}}$, $i_{\\text{max}}$, $j_{\\text{min}}$, and $j_{\\text{max}}$** for your fine grid domain definition. Indeed, the index of the first coarse grid point inside the child domain is _($i_{\\text{min}} + 2$, $j_{\\text{min}} + 2$)_ and not _($i_{\\text{min}}$, $j_{\\text{min}}$)_.\n",
    "\n",
    "<div style=\"display: flex; align-items: flex-start; justify-content: space-between; margin-top: 20px;\">\n",
    "    <div style=\"flex: 1; max-width: 50%; margin-right: 20px;\">\n",
    "        <p>\n",
    "            The nested grids are rectangular and are aligned with the parent (coarser) grid within which they are nested. \n",
    "            <br><br>\n",
    "            - $i_{\\text{min}}$, $i_{\\text{max}}$, $j_{\\text{min}}$, and $j_{\\text{max}}$ refer to the positions of the child grid corners, in terms of its parent grid starting with the value 1 in each space direction.\n",
    "            <br>\n",
    "            - When the user chooses these positions, one has to take care that the fine grid is contained within the parent grid.\n",
    "            <br>\n",
    "            - $(i_{\\text{min}}, j_{\\text{min}})$ are the lower left corner positions and $(i_{\\text{max}}, j_{\\text{max}})$ are the upper right corner positions.\n",
    "            <br><br>\n",
    "            This is a quite important feature to know in order to properly choose integers $i_{\\text{min}}$, $i_{\\text{max}}$, $j_{\\text{min}}$, and $j_{\\text{max}}$ for your fine grid domain definition. Indeed, the index of the first coarse grid point inside the child domain is _($i_{\\text{min}} + 2$, $j_{\\text{min}} + 2$)_ and not _($i_{\\text{min}}$, $j_{\\text{min}}$)_.\n",
    "        </p>\n",
    "    </div>\n",
    "    <div style=\"flex: 1; max-width: 50%;\">\n",
    "        <img src=\"http://forge.ipsl.jussieu.fr/nemo/raw-attachment/wiki/Users/SetupNewConfiguration/AGRIF-nesting-tool/AGRIF-Grid-Definition.jpg\" alt=\"AGRIF Grid Definition\" style=\"width: 90%; height: auto; display: block; margin-left: auto; margin-right: auto;\">\n",
    "    </div>\n",
    "</div>\n",
    "\n"
   ]
  },
  {
   "cell_type": "markdown",
   "id": "8b14c9c1-3765-4140-9711-a1ec9f2335fe",
   "metadata": {},
   "source": [
    "### Create a new child grid"
   ]
  },
  {
   "cell_type": "markdown",
   "id": "d5ea6256-3e4d-4778-98b7-729657c05d90",
   "metadata": {},
   "source": [
    "#### ✏️🔧 User's changes"
   ]
  },
  {
   "cell_type": "markdown",
   "id": "5f9a18d0-d44d-4dbc-92bb-2938e96cc95e",
   "metadata": {},
   "source": [
    "##### AGRIF grid parameters"
   ]
  },
  {
   "cell_type": "code",
   "execution_count": 15,
   "id": "b633a24d-ae1c-4869-90f8-85177047f5f7",
   "metadata": {},
   "outputs": [],
   "source": [
    "#Refinement coefficient\n",
    "coef= 3 \n",
    "\n",
    "#Child grid corners positions on the parent grid\n",
    "imin= 10\n",
    "imax= 27\n",
    "jmin= 8\n",
    "jmax= 28"
   ]
  },
  {
   "cell_type": "markdown",
   "id": "1db83a93-3f9a-46d8-b691-8f0adf605bd9",
   "metadata": {},
   "source": [
    "#### Smoothing settings"
   ]
  },
  {
   "cell_type": "markdown",
   "id": "5ed0808c-fcd9-4148-a0e5-1a11685acb6f",
   "metadata": {},
   "source": [
    "See [online documentation](https://croco-ocean.gitlabpages.inria.fr/croco_doc/model/model.grid.html) for more details 📚"
   ]
  },
  {
   "cell_type": "code",
   "execution_count": 57,
   "id": "7b61a1e4-58cd-4ca0-8eed-830145c17add",
   "metadata": {},
   "outputs": [],
   "source": [
    "interp_rad  = 2     # Interpolation radius in number of points (usually between 2 and 8)\n",
    "rfact       = 0.2   # Maximum r-fact to reach (the lower it is, the smoother it will be)    \n",
    "smooth_meth = 'lsmooth' # Smoothing method ('smooth', 'lsmooth', 'lsmooth_legacy', 'lsmooth2', 'lsmooth1', 'cond_rx0_topo') "
   ]
  },
  {
   "cell_type": "markdown",
   "id": "3617efea-cb27-4ef0-ab5b-00baf1c51af9",
   "metadata": {},
   "source": [
    "##### Paths"
   ]
  },
  {
   "cell_type": "markdown",
   "id": "0bac5f00-8e88-496e-81a7-ff451230e74a",
   "metadata": {},
   "source": [
    "###### Inputs"
   ]
  },
  {
   "cell_type": "markdown",
   "id": "16eda06e-fed4-4f74-b898-769933133a0e",
   "metadata": {},
   "source": [
    "Topo/bathy file ⛰️ :"
   ]
  },
  {
   "cell_type": "code",
   "execution_count": 16,
   "id": "096eeb30-73d6-4b78-b17e-d5fb30887197",
   "metadata": {},
   "outputs": [],
   "source": [
    "topofile = '../../DATASETS_CROCOTOOLS/Topo/etopo2.nc'"
   ]
  },
  {
   "cell_type": "markdown",
   "id": "595ab788-9cf8-4bcb-bbfb-419f4936569c",
   "metadata": {},
   "source": [
    "Coastline file (for the mask) 🏖️ :"
   ]
  },
  {
   "cell_type": "code",
   "execution_count": 17,
   "id": "e5e38696-6cda-41b0-96b3-16c86e5980e4",
   "metadata": {},
   "outputs": [],
   "source": [
    "shp_file = '../../DATASETS_CROCOTOOLS/gshhs/GSHHS_shp/i/GSHHS_i_L1.shp'"
   ]
  },
  {
   "cell_type": "markdown",
   "id": "1bfe9ebc-c9fb-4eda-b942-1fbbe3fc2e9f",
   "metadata": {},
   "source": [
    "###### Output(s)"
   ]
  },
  {
   "cell_type": "markdown",
   "id": "83ca225b-99e1-4dbe-be71-2b8baac9b0bb",
   "metadata": {},
   "source": [
    "Output directory:"
   ]
  },
  {
   "cell_type": "code",
   "execution_count": 18,
   "id": "94ccd22b-e338-4cb4-84a2-c6881fec8d00",
   "metadata": {},
   "outputs": [],
   "source": [
    "output_file=\"../../CROCO_FILES/\""
   ]
  },
  {
   "cell_type": "markdown",
   "id": "258016c8-72df-4821-9de7-8ee1616f89be",
   "metadata": {},
   "source": [
    "##### Mask"
   ]
  },
  {
   "cell_type": "markdown",
   "id": "95c92e47-183a-4a53-82a4-c35fa88ef936",
   "metadata": {},
   "source": [
    "Single Connect (Masks water not connected to the main water body) 🎭:"
   ]
  },
  {
   "cell_type": "code",
   "execution_count": 19,
   "id": "5a035087-218b-4c0c-bbf8-3f70f8efdbcd",
   "metadata": {},
   "outputs": [],
   "source": [
    "sgl_connect=[False,20,20] # True or False, point indices inside the main water body"
   ]
  },
  {
   "cell_type": "markdown",
   "id": "cef81637-93a6-4f44-8793-1062fb037252",
   "metadata": {},
   "source": [
    "##### Open boundary conditions"
   ]
  },
  {
   "cell_type": "markdown",
   "id": "7b8f8711-659b-442b-98db-a49690f989e1",
   "metadata": {},
   "source": [
    "<div style=\"border: 2px solid yellow; padding: 10px; background-color: #fff3e0;\">\n",
    "    <strong>🚨 CHECKBOX SELECTION:</strong> SIMPLY RUN THE NEXT CELL TO SELECT OBCs\n",
    "</div>"
   ]
  },
  {
   "cell_type": "markdown",
   "id": "c422bfe1-a108-4584-b90e-4c54a402002f",
   "metadata": {
    "jp-MarkdownHeadingCollapsed": true
   },
   "source": [
    "###### Run widget"
   ]
  },
  {
   "cell_type": "code",
   "execution_count": 24,
   "id": "c62f6348-5343-4438-b077-3a816ff3ad16",
   "metadata": {},
   "outputs": [],
   "source": [
    "# Define variables to store the settings\n",
    "settings = {\n",
    "    'NORTH': True,\n",
    "    'SOUTH': True,\n",
    "    'WEST': True,\n",
    "    'EAST': True,\n",
    "    'MERGING_AREA': 5  # Set default value to 5\n",
    "}\n",
    "\n",
    "# Function to handle saving values\n",
    "def save_values(b):\n",
    "    # Update settings with current values\n",
    "    settings['NORTH'] = north_checkbox.value\n",
    "    settings['SOUTH'] = south_checkbox.value\n",
    "    settings['WEST'] = west_checkbox.value\n",
    "    settings['EAST'] = east_checkbox.value\n",
    "    settings['MERGING_AREA'] = merging_area_text.value\n",
    "    \n",
    "    # Display confirmation message\n",
    "    with output:\n",
    "        clear_output()\n",
    "        print(\"Settings have been saved.\")\n",
    "        print(settings)  # Display current settings for verification\n",
    "\n",
    "# Create checkboxes for each border\n",
    "north_checkbox = widgets.Checkbox(value=settings['NORTH'], description='North Border ⬆️')\n",
    "south_checkbox = widgets.Checkbox(value=settings['SOUTH'], description='South Border ⬇️')\n",
    "west_checkbox = widgets.Checkbox(value=settings['WEST'], description='West Border ⬅️')\n",
    "east_checkbox = widgets.Checkbox(value=settings['EAST'], description='East Border ➡️')\n",
    "\n",
    "# Create a field for the \"Merging Area\" parameter as an integer with default value 5\n",
    "merging_area_text = widgets.IntText(\n",
    "    value=settings['MERGING_AREA'], \n",
    "    layout=widgets.Layout(width='100px')  # Adjust width of the input field\n",
    ")\n",
    "merging_area_label = widgets.Label(\n",
    "    value='Merging Area:', \n",
    "    layout=widgets.Layout(width='150px', display='flex', justify_content='flex-end')  # Adjust label width and alignment\n",
    ")\n",
    "\n",
    "# Create an HBox for the label and input field\n",
    "merging_area_box = widgets.HBox(children=[\n",
    "    merging_area_label, \n",
    "    merging_area_text\n",
    "])\n",
    "\n",
    "# Create a button to save the settings\n",
    "save_button = widgets.Button(description=\"Save Settings\")\n",
    "save_button.on_click(save_values)\n",
    "\n",
    "# Create a box around the widgets with custom styling\n",
    "border_box = widgets.VBox(children=[\n",
    "    north_checkbox, \n",
    "    south_checkbox, \n",
    "    west_checkbox, \n",
    "    east_checkbox,\n",
    "    merging_area_box,\n",
    "    save_button\n",
    "])\n",
    "\n",
    "# Apply CSS styles to the box\n",
    "border_box.layout.border = '2px solid #007bff'\n",
    "border_box.layout.padding = '10px'\n",
    "border_box.layout.border_radius = '5px'\n",
    "border_box.layout.margin = '10px'\n",
    "border_box.layout.width = '400px'  # Increase width to ensure full visibility\n",
    "\n",
    "# Adjust width of individual widgets\n",
    "north_checkbox.layout.width = '100%'\n",
    "south_checkbox.layout.width = '100%'\n",
    "west_checkbox.layout.width = '100%'\n",
    "east_checkbox.layout.width = '100%'\n",
    "merging_area_text.layout.width = '100px'  # Set a specific width for the input field\n",
    "\n",
    "# Create an output area for displaying messages\n",
    "output = widgets.Output()"
   ]
  },
  {
   "cell_type": "markdown",
   "id": "761bcf75-a03d-4ab1-b303-ac1ed630f818",
   "metadata": {},
   "source": [
    "###### Select parameters for OBC's"
   ]
  },
  {
   "cell_type": "code",
   "execution_count": 25,
   "id": "d2c83965-d750-4d50-96c2-eb568522355b",
   "metadata": {},
   "outputs": [
    {
     "data": {
      "application/vnd.jupyter.widget-view+json": {
       "model_id": "7960f6d40984449c95d14374afd6cb79",
       "version_major": 2,
       "version_minor": 0
      },
      "text/plain": [
       "VBox(children=(Checkbox(value=True, description='North Border ⬆️', layout=Layout(width='100%')), Checkbox(valu…"
      ]
     },
     "metadata": {},
     "output_type": "display_data"
    },
    {
     "data": {
      "application/vnd.jupyter.widget-view+json": {
       "model_id": "d57d4671684b4d248705d80cd3b634bc",
       "version_major": 2,
       "version_minor": 0
      },
      "text/plain": [
       "Output()"
      ]
     },
     "metadata": {},
     "output_type": "display_data"
    }
   ],
   "source": [
    "# Display the box and output area\n",
    "display(border_box, output)"
   ]
  },
  {
   "cell_type": "markdown",
   "id": "f5fc6241-47a7-46ff-903d-af12c5a87dc8",
   "metadata": {},
   "source": [
    "#### ⚙️🌐 Building the grid"
   ]
  },
  {
   "cell_type": "markdown",
   "id": "53b3c9ca-ce14-47c9-854c-cad3ba1c2196",
   "metadata": {},
   "source": [
    "##### Creating classes for inputs/outputs AGRIF"
   ]
  },
  {
   "cell_type": "code",
   "execution_count": 58,
   "id": "efc51595-ba25-469b-b939-be999726db73",
   "metadata": {},
   "outputs": [],
   "source": [
    "#INPUTS AGRIF classes\n",
    "inputs= Inputs_c2c(coef,imin,imax,jmin,jmax)\n",
    "inputs_smth= Inputs_smth_c2c(interp_rad,rfact,smooth_meth)\n",
    "\n",
    "#Outputs class\n",
    "outputs=Outputs()"
   ]
  },
  {
   "cell_type": "markdown",
   "id": "2fbb3c06-c443-4e06-b116-7c325d73033e",
   "metadata": {},
   "source": [
    "##### Create lon/lat grid "
   ]
  },
  {
   "cell_type": "code",
   "execution_count": 64,
   "id": "5b6e8ea9-aa90-4769-a1b7-6d24b4243265",
   "metadata": {},
   "outputs": [
    {
     "name": "stdout",
     "output_type": "stream",
     "text": [
      "==> East limits displacement +1\n",
      "==> East limits displacement +1\n"
     ]
    },
    {
     "data": {
      "text/plain": [
       "<main_window.Outputs at 0x736cd8df2860>"
      ]
     },
     "execution_count": 64,
     "metadata": {},
     "output_type": "execute_result"
    }
   ],
   "source": [
    "EasyGrid.AGRIFgrid(None,prt,inputs,outputs)"
   ]
  },
  {
   "cell_type": "markdown",
   "id": "569db9af-5087-4d8c-8727-1e71439f5965",
   "metadata": {},
   "source": [
    "##### Building the mask and smoothing topo"
   ]
  },
  {
   "cell_type": "markdown",
   "id": "d16ff50d-448b-4432-bfd3-bc5524732083",
   "metadata": {},
   "source": [
    "<div class=\"alert alert-block alert-warning\"> \n",
    "Tip: if the ouput is too long 🖱️ right click on the cell annd \"Enable scrolling for outputs\"\n",
    "</div>"
   ]
  },
  {
   "cell_type": "code",
   "execution_count": 68,
   "id": "db55f3fe-371e-4ecb-9514-022d2fc4e97e",
   "metadata": {
    "scrolled": true
   },
   "outputs": [
    {
     "name": "stdout",
     "output_type": "stream",
     "text": [
      "Reading topography file: ../../DATASETS_CROCOTOOLS/Topo/etopo2.nc\n",
      "Single region dataset imin/imax= 5707 5992\n",
      "Bounding indices of the relevant part to be extracted from the entire dataset:\n",
      " imin,imax = 5707 5992 out of 10800 jmin,jmax = 1620 1826 out of 5400\n",
      "Interpolating topography to CROCO grid\n",
      "\n",
      " Geographical extents of the dataset:\n",
      "    Longitude min/max =   10.233334   19.733334\n",
      "    Latitude  min/max =  -36.000000  -29.133333\n",
      "\n",
      " Geographical extents of requested ROMS grid:\n",
      "    Longitude min/max =   10.289043   19.710957\n",
      "    Latitude  min/max =  -35.945886  -29.175113\n",
      "\n",
      " Bounding indices for the portion of dataset covering the entire model grid:\n",
      " iwest,ieast =    2   285 out of   286 jsouth,jnorth =    2   205 out of   207\n",
      "\n",
      " Averaging window width = 2.00000 in grid spaces.\n",
      "\n",
      ".Finished interpolating\n",
      "...........\n",
      "\n",
      " Wall Clock time spent to compute hraw    0.01 sec running   1 threads.\n",
      "Matching Parent and Child mask close to boundary\n",
      "Processing mask to close narrow bay and narrow land (1 point wide)\n",
      " enter smooth_thread r_max = 0.2000000  iters_cond =  500  iters_lin =    0\n",
      " set_tiles: nx =  60 ny =  57 numthreads =  1 nsub_x =  1 nsub_y =  3\n",
      "  nsub_x =   1  nsub_y =   3  isize =  60  jsize =  19  trd =   0\n",
      "\n",
      " iter  i,jrx_max rx_max              i,jry_max ry_max\n",
      " ------------------------------------------------------------------\n",
      "    0    12   55 rx_max = 0.3522074    27   49 ry_max = 0.5656148\n",
      "    1    12   55 rx_max = 0.3034240    27   49 ry_max = 0.4576477\n",
      "    2    12   55 rx_max = 0.2721697    27   49 ry_max = 0.3888398\n",
      "    3    12   55 rx_max = 0.2500776    27   49 ry_max = 0.3457322\n",
      "    4    12   55 rx_max = 0.2341888    27   49 ry_max = 0.3167603\n",
      "    5    12   55 rx_max = 0.2234599    27   49 ry_max = 0.2961966\n",
      "    6    12   55 rx_max = 0.2161522    27   49 ry_max = 0.2810831\n",
      "    7    12   55 rx_max = 0.2110463    27   49 ry_max = 0.2693742\n",
      "    8    11   55 rx_max = 0.2074774    27   49 ry_max = 0.2595391\n",
      "    9    11   55 rx_max = 0.2063375    15   47 ry_max = 0.2515277\n",
      "   10    11   55 rx_max = 0.2051764    25   49 ry_max = 0.2472817\n",
      "   11    11   55 rx_max = 0.2040830    25   49 ry_max = 0.2437956\n",
      "   12    11   55 rx_max = 0.2030967    25   49 ry_max = 0.2406222\n",
      "   13    11   55 rx_max = 0.2022501    25   49 ry_max = 0.2376030\n",
      "   14    11   55 rx_max = 0.2016377    25   49 ry_max = 0.2347758\n",
      "   15    11   55 rx_max = 0.2011940    16   47 ry_max = 0.2323099\n",
      "   16    11   55 rx_max = 0.2008718    16   47 ry_max = 0.2302723\n",
      "   17    11   55 rx_max = 0.2006376    15   47 ry_max = 0.2285490\n",
      "   18    11   55 rx_max = 0.2004671    15   47 ry_max = 0.2270661\n",
      "   19    11   55 rx_max = 0.2003426    15   47 ry_max = 0.2257364\n",
      "   20    11   55 rx_max = 0.2002517    15   47 ry_max = 0.2245327\n",
      "   21    11   55 rx_max = 0.2001851    15   47 ry_max = 0.2234326\n",
      "   22    11   55 rx_max = 0.2001363    15   47 ry_max = 0.2224186\n",
      "   23    11   55 rx_max = 0.2001005    15   47 ry_max = 0.2214769\n",
      "   24    11   55 rx_max = 0.2000742    15   47 ry_max = 0.2206075\n",
      "   25    11   55 rx_max = 0.2000549    15   47 ry_max = 0.2198212\n",
      "   26    11   55 rx_max = 0.2000406    15   47 ry_max = 0.2190977\n",
      "   27    11   55 rx_max = 0.2000301    15   47 ry_max = 0.2184273\n",
      "   28    11   55 rx_max = 0.2000223    15   47 ry_max = 0.2178069\n",
      "   29    11   55 rx_max = 0.2000165    15   47 ry_max = 0.2172336\n",
      "   30    11   55 rx_max = 0.2000123    15   47 ry_max = 0.2167041\n",
      "   31    11   55 rx_max = 0.2000091    15   47 ry_max = 0.2162151\n",
      "   32    11   55 rx_max = 0.2000068    15   47 ry_max = 0.2157765\n",
      "   33    11   55 rx_max = 0.2000050    15   47 ry_max = 0.2153811\n",
      "   34    11   55 rx_max = 0.2000038    15   47 ry_max = 0.2150043\n",
      "   35    11   55 rx_max = 0.2000028    15   47 ry_max = 0.2146455\n",
      "   36    11   55 rx_max = 0.2000021    15   47 ry_max = 0.2143064\n",
      "   37    11   55 rx_max = 0.2000016    15   47 ry_max = 0.2139857\n",
      "   38    11   55 rx_max = 0.2000012    15   47 ry_max = 0.2136688\n",
      "   39    11   55 rx_max = 0.2000009    15   47 ry_max = 0.2133594\n",
      "   40    11   55 rx_max = 0.2000006    15   47 ry_max = 0.2130593\n",
      "   41    11   55 rx_max = 0.2000005    15   47 ry_max = 0.2127693\n",
      "   42    11   55 rx_max = 0.2000004    15   47 ry_max = 0.2124897\n",
      "   43    11   55 rx_max = 0.2000003    15   48 ry_max = 0.2122503\n",
      "   44    11   55 rx_max = 0.2000002    15   48 ry_max = 0.2120828\n",
      "   45    11   55 rx_max = 0.2000002    15   48 ry_max = 0.2119109\n",
      "   46    11   55 rx_max = 0.2000001    15   48 ry_max = 0.2117371\n",
      "   47    11   55 rx_max = 0.2000001    15   48 ry_max = 0.2115631\n",
      "   48    11   55 rx_max = 0.2000001    15   48 ry_max = 0.2113896\n",
      "   49    11   55 rx_max = 0.2000000    15   48 ry_max = 0.2112173\n",
      "   50    11   55 rx_max = 0.2000000    15   48 ry_max = 0.2110466\n",
      "   51    11   55 rx_max = 0.2000000    15   48 ry_max = 0.2108777\n",
      "   52    11   55 rx_max = 0.2000000    15   48 ry_max = 0.2107108\n",
      "   53    11   55 rx_max = 0.2000000    15   48 ry_max = 0.2105460\n",
      "   54    11   55 rx_max = 0.2000000    15   48 ry_max = 0.2103835\n",
      "   55    11   55 rx_max = 0.2000000    15   48 ry_max = 0.2102233\n",
      "   56    11   55 rx_max = 0.2000000    15   48 ry_max = 0.2100654\n",
      "   57    11   55 rx_max = 0.2000000    15   48 ry_max = 0.2099098\n",
      "   58    11   55 rx_max = 0.2000000    15   48 ry_max = 0.2097566\n",
      "   59    11   55 rx_max = 0.2000000    15   48 ry_max = 0.2096058\n",
      "   60    11   55 rx_max = 0.2000000    15   48 ry_max = 0.2094574\n",
      "   61    11   55 rx_max = 0.2000000    15   48 ry_max = 0.2093113\n",
      "   62    11   55 rx_max = 0.2000000    15   48 ry_max = 0.2091675\n",
      "   63    11   55 rx_max = 0.2000000    15   48 ry_max = 0.2090260\n",
      "   64    11   55 rx_max = 0.2000000    15   48 ry_max = 0.2088868\n",
      "   65    11   55 rx_max = 0.2000000    15   48 ry_max = 0.2087499\n",
      "   66    11   55 rx_max = 0.2000000    15   48 ry_max = 0.2086152\n",
      "   67    11   55 rx_max = 0.2000000    15   48 ry_max = 0.2084827\n",
      "   68    11   55 rx_max = 0.2000000    15   48 ry_max = 0.2083523\n",
      "   69    11   55 rx_max = 0.2000000    15   48 ry_max = 0.2082241\n",
      "   70    11   55 rx_max = 0.2000000    15   48 ry_max = 0.2080979\n",
      "   71    11   55 rx_max = 0.2000000    15   48 ry_max = 0.2079737\n",
      "   72    11   55 rx_max = 0.2000000    15   48 ry_max = 0.2"
     ]
    },
    {
     "data": {
      "text/plain": [
       "<main_window.Outputs at 0x736cd8df2860>"
      ]
     },
     "execution_count": 68,
     "metadata": {},
     "output_type": "execute_result"
    },
    {
     "name": "stdout",
     "output_type": "stream",
     "text": [
      "078512\n",
      "   73    11   55 rx_max = 0.2000000    15   48 ry_max = 0.2077303\n",
      "   74    11   55 rx_max = 0.2000000    15   48 ry_max = 0.2076111\n",
      "   75    11   55 rx_max = 0.2000000    15   48 ry_max = 0.2074934\n",
      "   76    11   55 rx_max = 0.2000000    15   48 ry_max = 0.2073774\n",
      "   77    11   55 rx_max = 0.2000000    15   48 ry_max = 0.2072630\n",
      "   78    11   55 rx_max = 0.2000000    15   48 ry_max = 0.2071502\n",
      "   79    11   55 rx_max = 0.2000000    15   48 ry_max = 0.2070391\n",
      "   80    11   55 rx_max = 0.2000000    15   48 ry_max = 0.2069296\n",
      "   81    11   55 rx_max = 0.2000000    15   48 ry_max = 0.2068217\n",
      "   82    11   55 rx_max = 0.2000000    15   48 ry_max = 0.2067154\n",
      "   83    11   55 rx_max = 0.2000000    15   48 ry_max = 0.2066108\n",
      "   84    11   55 rx_max = 0.2000000    15   48 ry_max = 0.2065077\n",
      "   85    11   55 rx_max = 0.2000000    15   48 ry_max = 0.2064062\n",
      "   86    11   55 rx_max = 0.2000000    15   48 ry_max = 0.2063063\n",
      "   87    11   55 rx_max = 0.2000000    15   48 ry_max = 0.2062080\n",
      "   88    11   55 rx_max = 0.2000000    15   48 ry_max = 0.2061112\n",
      "   89    11   55 rx_max = 0.2000000    15   48 ry_max = 0.2060159\n",
      "   90    11   55 rx_max = 0.2000000    15   48 ry_max = 0.2059221\n",
      "   91    11   55 rx_max = 0.2000000    15   48 ry_max = 0.2058298\n",
      "   92    11   55 rx_max = 0.2000000    15   48 ry_max = 0.2057389\n",
      "   93    11   55 rx_max = 0.2000000    15   48 ry_max = 0.2056495\n",
      "   94    11   55 rx_max = 0.2000000    15   48 ry_max = 0.2055616\n",
      "   95    11   55 rx_max = 0.2000000    15   48 ry_max = 0.2054750\n",
      "   96    11   55 rx_max = 0.2000000    15   48 ry_max = 0.2053898\n",
      "   97    11   55 rx_max = 0.2000000    15   48 ry_max = 0.2053060\n",
      "   98    11   55 rx_max = 0.2000000    15   48 ry_max = 0.2052235\n",
      "   99    12   56 rx_max = 0.2000000    15   48 ry_max = 0.2051423\n",
      "  100    11   55 rx_max = 0.2000000    15   48 ry_max = 0.2050624\n",
      "  101    11   55 rx_max = 0.2000000    15   48 ry_max = 0.2049838\n",
      "  102    12   56 rx_max = 0.2000000    15   48 ry_max = 0.2049065\n",
      "  103    11   55 rx_max = 0.2000000    15   48 ry_max = 0.2048304\n",
      "  104    12   56 rx_max = 0.2000000    15   48 ry_max = 0.2047556\n",
      "  105    12   56 rx_max = 0.1999999    15   48 ry_max = 0.2046819\n",
      "  106    12   56 rx_max = 0.1999995    15   48 ry_max = 0.2046094\n",
      "  107    12   56 rx_max = 0.1999988    15   48 ry_max = 0.2045381\n",
      "  108    12   56 rx_max = 0.1999976    15   48 ry_max = 0.2044679\n",
      "  109    12   56 rx_max = 0.1999958    15   48 ry_max = 0.2043988\n",
      "  110    12   56 rx_max = 0.1999934    15   48 ry_max = 0.2043309\n",
      "  111    12   56 rx_max = 0.1999904    15   48 ry_max = 0.2042640\n",
      "  112    12   56 rx_max = 0.1999865    15   48 ry_max = 0.2041982\n",
      "  113    12   56 rx_max = 0.1999819    15   48 ry_max = 0.2041334\n",
      "  114    12   56 rx_max = 0.1999764    15   48 ry_max = 0.2040697\n",
      "  115    12   56 rx_max = 0.1999701    15   48 ry_max = 0.2040070\n",
      "  116    12   56 rx_max = 0.1999629    15   48 ry_max = 0.2039453\n",
      "  117    12   56 rx_max = 0.1999548    15   48 ry_max = 0.2038845\n",
      "  118    12   56 rx_max = 0.1999458    15   48 ry_max = 0.2038247\n",
      "  119    12   56 rx_max = 0.1999358    15   48 ry_max = 0.2037658\n",
      "  120    12   56 rx_max = 0.1999249    15   48 ry_max = 0.2037078\n",
      "  121    12   56 rx_max = 0.1999131    15   48 ry_max = 0.2036506\n",
      "  122    12   56 rx_max = 0.1999004    15   48 ry_max = 0.2035943\n",
      "  123    12   56 rx_max = 0.1998867    15   48 ry_max = 0.2035388\n",
      "  124    12   56 rx_max = 0.1998721    15   48 ry_max = 0.2034840\n",
      "  125    12   56 rx_max = 0.1998566    15   48 ry_max = 0.2034301\n",
      "  126    12   56 rx_max = 0.1998403    15   48 ry_max = 0.2033769\n",
      "  127    12   56 rx_max = 0.1998230    15   48 ry_max = 0.2033245\n",
      "  128    12   56 rx_max = 0.1998048    15   48 ry_max = 0.2032729\n",
      "  129    12   56 rx_max = 0.1997858    15   48 ry_max = 0.2032220\n",
      "  130    12   56 rx_max = 0.1997660    15   48 ry_max = 0.2031718\n",
      "  131    12   56 rx_max = 0.1997453    15   48 ry_max = 0.2031224\n",
      "  132    12   56 rx_max = 0.1997238    15   48 ry_max = 0.2030737\n",
      "  133    12   56 rx_max = 0.1997016    15   48 ry_max = 0.2030257\n",
      "  134    12   56 rx_max = 0.1996785    15   48 ry_max = 0.2029784\n",
      "  135    12   56 rx_max = 0.1996547    15   48 ry_max = 0.2029318\n",
      "  136    12   56 rx_max = 0.1996301    15   48 ry_max = 0.2028859\n",
      "  137    12   56 rx_max = 0.1996049    15   48 ry_max = 0.2028407\n",
      "  138    12   56 rx_max = 0.1995789    15   48 ry_max = 0.2027962\n",
      "  139    12   56 rx_max = 0.1995523    15   48 ry_max = 0.2027524\n",
      "  140    12   56 rx_max = 0.1995250    15   48 ry_max = 0.2027092\n",
      "  141    12   56 rx_max = 0.1994970    15   48 ry_max = 0.2026667\n",
      "  142    12   56 rx_max = 0.1994684    15   48 ry_max = 0.2026248\n",
      "  143    12   56 rx_max = 0.1994392    15   48 ry_max = 0.2025836\n",
      "  144    12   56 rx_max = 0.1994095    15   48 ry_max = 0.2025429\n",
      "  145    12   56 rx_max = 0.1993791    15   48 ry_max = 0.2025029\n",
      "  146    12   56 rx_max = 0.1993482    15   48 ry_max = 0.2024635\n",
      "  147    12   56 rx_max = 0.1993168    15   48 ry_max = 0.2024247\n",
      "  148    12   56 rx_max = 0.1992849    15   48 ry_max = 0.2023865\n",
      "  149    12   56 rx_max = 0.1992524    15   48 ry_max = 0.2023489\n",
      "  150    12   56 rx_max = 0.1992195    15   48 ry_max = 0.2023118\n",
      "  151    12   56 rx_max = 0.1991861    15   48 ry_max = 0.2022754\n",
      "  152    12   56 rx_max = 0.1991523    15   48 ry_max = 0.2022394\n",
      "  153    12   56 rx_max = 0.1991180    15   48 ry_max = 0.2022040\n",
      "  154    12   56 rx_max = 0.1990834    15   48 ry_max = 0.2021691\n",
      "  155    12   56 rx_max = 0.1990483    15   48 ry_max = 0.2021348\n",
      "  156    12   56 rx_max = 0.1990128    15   48 ry_max = 0.2021009\n",
      "  157    12   56 rx_max = 0.1989770    15   48 ry_max = 0.2020676\n",
      "  158    12   56 rx_max = 0.1989408    15   48 ry_max = 0.2020347\n",
      "  159    12   56 rx_max = 0.1989043    15   48 ry_max = 0.2020023\n",
      "  160    12   56 rx_max = 0.1988675    15   48 ry_max = 0.2019704\n",
      "  161    12   56 rx_max = 0.1988303    15   48 ry_max = 0.2019389\n",
      "  162    12   56 rx_max = 0.1987929    15   48 ry_max = 0.2019078\n",
      "  163    12   56 rx_max = 0.1987552    15   48 ry_max = 0.2018771\n",
      "  164    12   56 rx_max = 0.1987172    15   48 ry_max = 0.2018468\n",
      "  165    12   56 rx_max = 0.1986789    15   48 ry_max = 0.2018170\n",
      "  166    12   56 rx_max = 0.1986404    15   48 ry_max = 0.2017875\n",
      "  167    12   56 rx_max = 0.1986017    15   48 ry_max = 0.2017584\n",
      "  168    12   56 rx_max = 0.1985627    15   48 ry_max = 0.2017297\n",
      "  169    12   56 rx_max = 0.1985236    15   48 ry_max = 0.2017013\n",
      "  170    12   56 rx_max = 0.1984842    15   48 ry_max = 0.2016733\n",
      "  171    12   56 rx_max = 0.1984447    15   48 ry_max = 0.2016457\n",
      "  172    12   56 rx_max = 0.1984050    15   48 ry_max = 0.2016184\n",
      "  173    12   56 rx_max = 0.1983651    15   48 ry_max = 0.2015915\n",
      "  174    12   56 rx_max = 0.1983250    15   48 ry_max = 0.2015649\n",
      "  175    12   56 rx_max = 0.1982849    15   48 ry_max = 0.2015386\n",
      "  176    12   56 rx_max = 0.1982445    15   48 ry_max = 0.2015127\n",
      "  177    12   56 rx_max = 0.1982041    15   48 ry_max = 0.2014871\n",
      "  178    12   56 rx_max = 0.1981636    15   48 ry_max = 0.2014618\n",
      "  179    12   56 rx_max = 0.1981229    15   48 ry_max = 0.2014369\n",
      "  180    12   56 rx_max = 0.1980821    15   48 ry_max = 0.2014122\n",
      "  181    12   56 rx_max = 0.1980413    15   48 ry_max = 0.2013879\n",
      "  182    12   56 rx_max = 0.1980004    15   48 ry_max = 0.2013639\n",
      "  183    12   56 rx_max = 0.1979594    15   48 ry_max = 0.2013402\n",
      "  184    12   56 rx_max = 0.1979183    15   48 ry_max = 0.2013168\n",
      "  185    12   56 rx_max = 0.1978772    15   48 ry_max = 0.2012938\n",
      "  186    12   56 rx_max = 0.1978360    15   48 ry_max = 0.2012710\n",
      "  187    12   56 rx_max = 0.1977948    15   48 ry_max = 0.2012485\n",
      "  188    12   56 rx_max = 0.1977535    15   48 ry_max = 0.2012264\n",
      "  189    12   56 rx_max = 0.1977122    15   48 ry_max = 0.2012045\n",
      "  190    12   56 rx_max = 0.1976709    15   48 ry_max = 0.2011829\n",
      "  191    12   56 rx_max = 0.1976296    15   48 ry_max = 0.2011617\n",
      "  192    12   56 rx_max = 0.1975883    15   48 ry_max = 0.2011407\n",
      "  193    12   56 rx_max = 0.1975470    15   48 ry_max = 0.2011201\n",
      "  194    12   56 rx_max = 0.1975057    15   48 ry_max = 0.2010997\n",
      "  195    12   56 rx_max = 0.1974643    15   48 ry_max = 0.2010796\n",
      "  196    12   56 rx_max = 0.1974230    15   48 ry_max = 0.2010598\n",
      "  197    12   56 rx_max = 0.1973818    15   48 ry_max = 0.2010403\n",
      "  198    12   56 rx_max = 0.1973405    15   48 ry_max = 0.2010211\n",
      "  199    12   56 rx_max = 0.1972993    15   48 ry_max = 0.2010022\n",
      "  200    12   56 rx_max = 0.1972581    15   48 ry_max = 0.2009835\n",
      "  201    12   56 rx_max = 0.1972170    15   48 ry_max = 0.2009652\n",
      "  202    12   56 rx_max = 0.1971759    15   48 ry_max = 0.2009471\n",
      "  203    12   56 rx_max = 0.1971348    15   48 ry_max = 0.2009294\n",
      "  204    12   56 rx_max = 0.1970938    15   48 ry_max = 0.2009119\n",
      "  205    12   56 rx_max = 0.1970529    15   48 ry_max = 0.2008948\n",
      "  206    12   56 rx_max = 0.1970120    15   48 ry_max = 0.2008779\n",
      "  207    12   56 rx_max = 0.1969712    15   48 ry_max = 0.2008614\n",
      "  208    12   56 rx_max = 0.1969305    15   48 ry_max = 0.2008451\n",
      "  209    12   56 rx_max = 0.1968898    15   48 ry_max = 0.2008291\n",
      "  210    12   56 rx_max = 0.1968492    15   48 ry_max = 0.2008134\n",
      "  211    12   56 rx_max = 0.1968087    15   48 ry_max = 0.2007980\n",
      "  212    12   56 rx_max = 0.1967683    15   48 ry_max = 0.2007829\n",
      "  213    12   56 rx_max = 0.1967280    15   48 ry_max = 0.2007680\n",
      "  214    12   56 rx_max = 0.1966878    15   48 ry_max = 0.2007535\n",
      "  215    12   56 rx_max = 0.1966476    15   48 ry_max = 0.2007392\n",
      "  216    12   56 rx_max = 0.1966076    15   48 ry_max = 0.2007251\n",
      "  217    12   56 rx_max = 0.1965676    15   48 ry_max = 0.2007114\n",
      "  218    12   56 rx_max = 0.1965278    15   48 ry_max = 0.2006979\n",
      "  219    12   56 rx_max = 0.1964881    15   48 ry_max = 0.2006846\n",
      "  220    12   56 rx_max = 0.1964484    15   48 ry_max = 0.2006716\n",
      "  221    12   56 rx_max = 0.1964089    15   48 ry_max = 0.2006588\n",
      "  222    12   56 rx_max = 0.1963695    15   48 ry_max = 0.2006463\n",
      "  223    12   56 rx_max = 0.1963303    15   48 ry_max = 0.2006340\n",
      "  224    12   56 rx_max = 0.1962911    15   48 ry_max = 0.2006220\n",
      "  225    12   56 rx_max = 0.1962521    15   48 ry_max = 0.2006101\n",
      "  226    12   56 rx_max = 0.1962131    15   48 ry_max = 0.2005985\n",
      "  227    12   56 rx_max = 0.1961743    15   48 ry_max = 0.2005871\n",
      "  228    12   56 rx_max = 0.1961357    15   48 ry_max = 0.2005760\n",
      "  229    12   56 rx_max = 0.1960971    15   48 ry_max = 0.2005650\n",
      "  230    12   56 rx_max = 0.1960587    15   48 ry_max = 0.2005543\n",
      "  231    12   56 rx_max = 0.1960205    15   48 ry_max = 0.2005437\n",
      "  232    12   56 rx_max = 0.1959823    15   48 ry_max = 0.2005334\n",
      "  233    12   56 rx_max = 0.1959443    15   48 ry_max = 0.2005232\n",
      "  234    12   56 rx_max = 0.1959064    15   48 ry_max = 0.2005133\n",
      "  235    12   56 rx_max = 0.1958687    15   48 ry_max = 0.2005035\n",
      "  236    12   56 rx_max = 0.1958311    16   49 ry_max = 0.2004972\n",
      "  237    12   56 rx_max = 0.1957937    16   49 ry_max = 0.2004911\n",
      "  238    12   56 rx_max = 0.1957563    16   49 ry_max = 0.2004851\n",
      "  239    12   56 rx_max = 0.1957192    16   49 ry_max = 0.2004792\n",
      "  240    12   56 rx_max = 0.1956822    16   49 ry_max = 0.2004733\n",
      "  241    12   56 rx_max = 0.1956453    16   49 ry_max = 0.2004675\n",
      "  242    12   56 rx_max = 0.1956086    16   49 ry_max = 0.2004618\n",
      "  243    12   56 rx_max = 0.1955720    16   49 ry_max = 0.2004562\n",
      "  244    12   56 rx_max = 0.1955355    16   49 ry_max = 0.2004506\n",
      "  245    12   56 rx_max = 0.1954993    16   49 ry_max = 0.2004451\n",
      "  246    12   56 rx_max = 0.1954631    16   49 ry_max = 0.2004396\n",
      "  247    12   56 rx_max = 0.1954271    16   49 ry_max = 0.2004342\n",
      "  248    12   56 rx_max = 0.1953913    16   49 ry_max = 0.2004289\n",
      "  249    12   56 rx_max = 0.1953556    16   49 ry_max = 0.2004237\n",
      "  250    12   56 rx_max = 0.1953201    16   49 ry_max = 0.2004185\n",
      "  251    12   56 rx_max = 0.1952847    16   49 ry_max = 0.2004134\n",
      "  252    12   56 rx_max = 0.1952495    16   49 ry_max = 0.2004083\n",
      "  253    12   56 rx_max = 0.1952145    16   49 ry_max = 0.2004033\n",
      "  254    12   56 rx_max = 0.1951796    16   49 ry_max = 0.2003984\n",
      "  255    12   56 rx_max = 0.1951448    16   49 ry_max = 0.2003935\n",
      "  256    12   56 rx_max = 0.1951102    16   49 ry_max = 0.2003887\n",
      "  257    12   56 rx_max = 0.1950758    16   49 ry_max = 0.2003839\n",
      "  258    12   56 rx_max = 0.1950415    16   49 ry_max = 0.2003792\n",
      "  259    12   56 rx_max = 0.1950074    16   49 ry_max = 0.2003746\n",
      "  260    12   56 rx_max = 0.1949734    16   49 ry_max = 0.2003700\n",
      "  261    12   56 rx_max = 0.1949396    16   49 ry_max = 0.2003655\n",
      "  262    12   56 rx_max = 0.1949060    16   49 ry_max = 0.2003610\n",
      "  263    12   56 rx_max = 0.1948725    16   49 ry_max = 0.2003566\n",
      "  264    12   56 rx_max = 0.1948392    16   49 ry_max = 0.2003522\n",
      "  265    12   56 rx_max = 0.1948060    16   49 ry_max = 0.2003479\n",
      "  266    12   56 rx_max = 0.1947730    16   49 ry_max = 0.2003437\n",
      "  267    12   56 rx_max = 0.1947401    16   49 ry_max = 0.2003395\n",
      "  268    12   56 rx_max = 0.1947074    16   49 ry_max = 0.2003353\n",
      "  269    12   56 rx_max = 0.1946749    16   49 ry_max = 0.2003312\n",
      "  270    12   56 rx_max = 0.1946425    16   49 ry_max = 0.2003272\n",
      "  271    12   56 rx_max = 0.1946103    16   49 ry_max = 0.2003232\n",
      "  272    12   56 rx_max = 0.1945783    16   49 ry_max = 0.2003192\n",
      "  273    12   56 rx_max = 0.1945464    16   49 ry_max = 0.2003153\n",
      "  274    12   56 rx_max = 0.1945146    16   49 ry_max = 0.2003114\n",
      "  275    12   56 rx_max = 0.1944831    16   49 ry_max = 0.2003076\n",
      "  276    12   56 rx_max = 0.1944517    16   49 ry_max = 0.2003039\n",
      "  277    12   56 rx_max = 0.1944204    16   49 ry_max = 0.2003002\n",
      "  278    12   56 rx_max = 0.1943893    16   49 ry_max = 0.2002965\n",
      "  279    12   56 rx_max = 0.1943583    16   49 ry_max = 0.2002929\n",
      "  280    12   56 rx_max = 0.1943276    16   49 ry_max = 0.2002893\n",
      "  281    12   56 rx_max = 0.1942969    16   49 ry_max = 0.2002857\n",
      "  282    12   56 rx_max = 0.1942665    16   49 ry_max = 0.2002822\n",
      "  283    12   56 rx_max = 0.1942362    16   49 ry_max = 0.2002788\n",
      "  284    12   56 rx_max = 0.1942060    16   49 ry_max = 0.2002754\n",
      "  285    12   56 rx_max = 0.1941760    16   49 ry_max = 0.2002720\n",
      "  286    12   56 rx_max = 0.1941462    16   49 ry_max = 0.2002687\n",
      "  287    12   56 rx_max = 0.1941165    16   49 ry_max = 0.2002654\n",
      "  288    12   56 rx_max = 0.1940870    16   49 ry_max = 0.2002621\n",
      "  289    12   56 rx_max = 0.1940576    16   49 ry_max = 0.2002589\n",
      "  290    12   56 rx_max = 0.1940284    16   49 ry_max = 0.2002558\n",
      "  291    12   56 rx_max = 0.1939993    16   49 ry_max = 0.2002526\n",
      "  292    12   56 rx_max = 0.1939704    16   49 ry_max = 0.2002495\n",
      "  293    12   56 rx_max = 0.1939417    16   49 ry_max = 0.2002465\n",
      "  294    12   56 rx_max = 0.1939131    16   49 ry_max = 0.2002435\n",
      "  295    12   56 rx_max = 0.1938846    16   49 ry_max = 0.2002405\n",
      "  296    12   56 rx_max = 0.1938563    16   49 ry_max = 0.2002376\n",
      "  297    12   56 rx_max = 0.1938282    16   49 ry_max = 0.2002346\n",
      "  298    12   56 rx_max = 0.1938002    16   49 ry_max = 0.2002318\n",
      "  299    12   56 rx_max = 0.1937724    16   49 ry_max = 0.2002289\n",
      "  300    12   56 rx_max = 0.1937447    16   49 ry_max = 0.2002261\n",
      "  301    12   56 rx_max = 0.1937172    16   49 ry_max = 0.2002234\n",
      "  302    12   56 rx_max = 0.1936898    16   49 ry_max = 0.2002206\n",
      "  303    12   56 rx_max = 0.1936626    16   49 ry_max = 0.2002179\n",
      "  304    12   56 rx_max = 0.1936355    16   49 ry_max = 0.2002153\n",
      "  305    12   56 rx_max = 0.1936086    16   49 ry_max = 0.2002126\n",
      "  306    12   56 rx_max = 0.1935818    16   49 ry_max = 0.2002100\n",
      "  307    12   56 rx_max = 0.1935551    16   49 ry_max = 0.2002075\n",
      "  308    12   56 rx_max = 0.1935287    16   49 ry_max = 0.2002049\n",
      "  309    12   56 rx_max = 0.1935023    16   49 ry_max = 0.2002024\n",
      "  310    12   56 rx_max = 0.1934761    16   49 ry_max = 0.2001999\n",
      "  311    12   56 rx_max = 0.1934501    16   49 ry_max = 0.2001975\n",
      "  312    12   56 rx_max = 0.1934242    16   49 ry_max = 0.2001951\n",
      "  313    12   56 rx_max = 0.1933984    16   49 ry_max = 0.2001927\n",
      "  314    12   56 rx_max = 0.1933728    16   49 ry_max = 0.2001903\n",
      "  315    12   56 rx_max = 0.1933474    16   49 ry_max = 0.2001880\n",
      "  316    12   56 rx_max = 0.1933220    16   49 ry_max = 0.2001857\n",
      "  317    12   56 rx_max = 0.1932969    16   49 ry_max = 0.2001834\n",
      "  318    12   56 rx_max = 0.1932718    16   49 ry_max = 0.2001812\n",
      "  319    12   56 rx_max = 0.1932469    16   49 ry_max = 0.2001790\n",
      "  320    12   56 rx_max = 0.1932222    16   49 ry_max = 0.2001768\n",
      "  321    12   56 rx_max = 0.1931976    16   49 ry_max = 0.2001746\n",
      "  322    12   56 rx_max = 0.1931731    16   49 ry_max = 0.2001725\n",
      "  323    12   56 rx_max = 0.1931488    16   49 ry_max = 0.2001704\n",
      "  324    12   56 rx_max = 0.1931246    16   49 ry_max = 0.2001683\n",
      "  325    12   56 rx_max = 0.1931005    16   49 ry_max = 0.2001662\n",
      "  326    12   56 rx_max = 0.1930766    16   49 ry_max = 0.2001642\n",
      "  327    12   56 rx_max = 0.1930528    16   49 ry_max = 0.2001622\n",
      "  328    12   56 rx_max = 0.1930292    16   49 ry_max = 0.2001602\n",
      "  329    12   56 rx_max = 0.1930056    16   49 ry_max = 0.2001582\n",
      "  330    12   56 rx_max = 0.1929823    16   49 ry_max = 0.2001563\n",
      "  331    12   56 rx_max = 0.1929590    16   49 ry_max = 0.2001544\n",
      "  332    12   56 rx_max = 0.1929359    16   49 ry_max = 0.2001525\n",
      "  333    12   56 rx_max = 0.1929129    16   49 ry_max = 0.2001506\n",
      "  334    12   56 rx_max = 0.1928901    16   49 ry_max = 0.2001488\n",
      "  335    12   56 rx_max = 0.1928674    16   49 ry_max = 0.2001470\n",
      "  336    12   56 rx_max = 0.1928448    16   49 ry_max = 0.2001452\n",
      "  337    12   56 rx_max = 0.1928224    16   49 ry_max = 0.2001434\n",
      "  338    12   56 rx_max = 0.1928001    16   49 ry_max = 0.2001416\n",
      "  339    12   56 rx_max = 0.1927779    16   49 ry_max = 0.2001399\n",
      "  340    12   56 rx_max = 0.1927558    16   49 ry_max = 0.2001382\n",
      "  341    12   56 rx_max = 0.1927339    16   49 ry_max = 0.2001365\n",
      "  342    12   56 rx_max = 0.1927121    16   49 ry_max = 0.2001348\n",
      "  343    12   56 rx_max = 0.1926904    16   49 ry_max = 0.2001332\n",
      "  344    12   56 rx_max = 0.1926689    16   49 ry_max = 0.2001316\n",
      "  345    12   56 rx_max = 0.1926475    16   49 ry_max = 0.2001300\n",
      "  346    12   56 rx_max = 0.1926262    16   49 ry_max = 0.2001284\n",
      "  347    12   56 rx_max = 0.1926050    16   49 ry_max = 0.2001268\n",
      "  348    12   56 rx_max = 0.1925840    16   49 ry_max = 0.2001252\n",
      "  349    12   56 rx_max = 0.1925630    16   49 ry_max = 0.2001237\n",
      "  350    12   56 rx_max = 0.1925423    16   49 ry_max = 0.2001222\n",
      "  351    12   56 rx_max = 0.1925216    16   49 ry_max = 0.2001207\n",
      "  352    12   56 rx_max = 0.1925010    16   49 ry_max = 0.2001192\n",
      "  353    12   56 rx_max = 0.1924806    16   49 ry_max = 0.2001178\n",
      "  354    12   56 rx_max = 0.1924603    16   49 ry_max = 0.2001163\n",
      "  355    12   56 rx_max = 0.1924401    16   49 ry_max = 0.2001149\n",
      "  356    12   56 rx_max = 0.1924200    16   49 ry_max = 0.2001135\n",
      "  357    12   56 rx_max = 0.1924001    16   49 ry_max = 0.2001121\n",
      "  358    12   56 rx_max = 0.1923802    16   49 ry_max = 0.2001107\n",
      "  359    12   56 rx_max = 0.1923605    16   49 ry_max = 0.2001094\n",
      "  360    12   56 rx_max = 0.1923409    16   49 ry_max = 0.2001080\n",
      "  361    12   56 rx_max = 0.1923214    16   49 ry_max = 0.2001067\n",
      "  362    12   56 rx_max = 0.1923021    16   49 ry_max = 0.2001054\n",
      "  363    12   56 rx_max = 0.1922828    16   49 ry_max = 0.2001041\n",
      "  364    12   56 rx_max = 0.1922637    16   49 ry_max = 0.2001028\n",
      "  365    12   56 rx_max = 0.1922447    16   49 ry_max = 0.2001016\n",
      "  366    12   56 rx_max = 0.1922258    16   49 ry_max = 0.2001003\n",
      "  367    12   56 rx_max = 0.1922070    16   49 ry_max = 0.2000991\n",
      "  368    12   56 rx_max = 0.1921883    16   49 ry_max = 0.2000979\n",
      "  369    12   56 rx_max = 0.1921697    16   49 ry_max = 0.2000967\n",
      "  370    12   56 rx_max = 0.1921512    16   49 ry_max = 0.2000955\n",
      "  371    12   56 rx_max = 0.1921329    16   49 ry_max = 0.2000944\n",
      "  372    12   56 rx_max = 0.1921146    16   49 ry_max = 0.2000932\n",
      "  373    12   56 rx_max = 0.1920965    16   49 ry_max = 0.2000921\n",
      "  374    12   56 rx_max = 0.1920785    16   49 ry_max = 0.2000909\n",
      "  375    12   56 rx_max = 0.1920606    16   49 ry_max = 0.2000898\n",
      "  376    12   56 rx_max = 0.1920428    16   49 ry_max = 0.2000887\n",
      "  377    12   56 rx_max = 0.1920251    16   49 ry_max = 0.2000876\n",
      "  378    12   56 rx_max = 0.1920075    16   49 ry_max = 0.2000866\n",
      "  379    12   56 rx_max = 0.1919900    16   49 ry_max = 0.2000855\n",
      "  380    12   56 rx_max = 0.1919726    16   49 ry_max = 0.2000845\n",
      "  381    12   56 rx_max = 0.1919553    16   49 ry_max = 0.2000834\n",
      "  382    12   56 rx_max = 0.1919381    16   49 ry_max = 0.2000824\n",
      "  383    12   56 rx_max = 0.1919211    16   49 ry_max = 0.2000814\n",
      "  384    12   56 rx_max = 0.1919041    16   49 ry_max = 0.2000804\n",
      "  385    12   56 rx_max = 0.1918872    16   49 ry_max = 0.2000794\n",
      "  386    12   56 rx_max = 0.1918704    16   49 ry_max = 0.2000784\n",
      "  387    12   56 rx_max = 0.1918538    16   49 ry_max = 0.2000775\n",
      "  388    12   56 rx_max = 0.1918372    16   49 ry_max = 0.2000765\n",
      "  389    12   56 rx_max = 0.1918208    16   49 ry_max = 0.2000756\n",
      "  390    12   56 rx_max = 0.1918044    16   49 ry_max = 0.2000747\n",
      "  391    12   56 rx_max = 0.1917881    16   49 ry_max = 0.2000738\n",
      "  392    12   56 rx_max = 0.1917720    16   49 ry_max = 0.2000729\n",
      "  393    12   56 rx_max = 0.1917559    16   49 ry_max = 0.2000720\n",
      "  394    12   56 rx_max = 0.1917399    16   49 ry_max = 0.2000711\n",
      "  395    12   56 rx_max = 0.1917240    16   49 ry_max = 0.2000702\n",
      "  396    12   56 rx_max = 0.1917082    16   49 ry_max = 0.2000694\n",
      "  397    12   56 rx_max = 0.1916926    16   49 ry_max = 0.2000685\n",
      "  398    12   56 rx_max = 0.1916770    16   49 ry_max = 0.2000677\n",
      "  399    12   56 rx_max = 0.1916615    16   49 ry_max = 0.2000668\n",
      "  400    12   56 rx_max = 0.1916461    16   49 ry_max = 0.2000660\n",
      "  401    12   56 rx_max = 0.1916308    16   49 ry_max = 0.2000652\n",
      "  402    12   56 rx_max = 0.1916156    16   49 ry_max = 0.2000644\n",
      "  403    12   56 rx_max = 0.1916004    16   49 ry_max = 0.2000636\n",
      "  404    12   56 rx_max = 0.1915854    16   49 ry_max = 0.2000629\n",
      "  405    12   56 rx_max = 0.1915705    16   49 ry_max = 0.2000621\n",
      "  406    12   56 rx_max = 0.1915556    16   49 ry_max = 0.2000613\n",
      "  407    12   56 rx_max = 0.1915408    16   49 ry_max = 0.2000606\n",
      "  408    12   56 rx_max = 0.1915262    16   49 ry_max = 0.2000598\n",
      "  409    12   56 rx_max = 0.1915116    16   49 ry_max = 0.2000591\n",
      "  410    12   56 rx_max = 0.1914971    16   49 ry_max = 0.2000584\n",
      "  411    12   56 rx_max = 0.1914827    16   49 ry_max = 0.2000577\n",
      "  412    12   56 rx_max = 0.1914684    16   49 ry_max = 0.2000570\n",
      "  413    12   56 rx_max = 0.1914542    16   49 ry_max = 0.2000563\n",
      "  414    12   56 rx_max = 0.1914400    16   49 ry_max = 0.2000556\n",
      "  415    12   56 rx_max = 0.1914260    16   49 ry_max = 0.2000549\n",
      "  416    12   56 rx_max = 0.1914120    16   49 ry_max = 0.2000542\n",
      "  417    12   56 rx_max = 0.1913981    16   49 ry_max = 0.2000536\n",
      "  418    12   56 rx_max = 0.1913843    16   49 ry_max = 0.2000529\n",
      "  419    12   56 rx_max = 0.1913706    16   49 ry_max = 0.2000523\n",
      "  420    12   56 rx_max = 0.1913570    16   49 ry_max = 0.2000516\n",
      "  421    12   56 rx_max = 0.1913434    16   49 ry_max = 0.2000510\n",
      "  422    12   56 rx_max = 0.1913299    16   49 ry_max = 0.2000504\n",
      "  423    12   56 rx_max = 0.1913166    16   49 ry_max = 0.2000497\n",
      "  424    12   56 rx_max = 0.1913032    16   49 ry_max = 0.2000491\n",
      "  425    12   56 rx_max = 0.1912900    16   49 ry_max = 0.2000485\n",
      "  426    12   56 rx_max = 0.1912769    16   49 ry_max = 0.2000479\n",
      "  427    12   56 rx_max = 0.1912638    16   49 ry_max = 0.2000474\n",
      "  428    12   56 rx_max = 0.1912508    16   49 ry_max = 0.2000468\n",
      "  429    12   56 rx_max = 0.1912379    16   49 ry_max = 0.2000462\n",
      "  430    12   56 rx_max = 0.1912251    16   49 ry_max = 0.2000456\n",
      "  431    12   56 rx_max = 0.1912124    16   49 ry_max = 0.2000451\n",
      "  432    12   56 rx_max = 0.1911997    16   49 ry_max = 0.2000445\n",
      "  433    12   56 rx_max = 0.1911871    16   49 ry_max = 0.2000440\n",
      "  434    12   56 rx_max = 0.1911746    16   49 ry_max = 0.2000434\n",
      "  435    12   56 rx_max = 0.1911622    16   49 ry_max = 0.2000429\n",
      "  436    12   56 rx_max = 0.1911498    16   49 ry_max = 0.2000424\n",
      "  437    12   56 rx_max = 0.1911375    16   49 ry_max = 0.2000419\n",
      "  438    12   56 rx_max = 0.1911253    16   49 ry_max = 0.2000414\n",
      "  439    12   56 rx_max = 0.1911132    16   49 ry_max = 0.2000408\n",
      "  440    12   56 rx_max = 0.1911011    16   49 ry_max = 0.2000404\n",
      "  441    12   56 rx_max = 0.1910891    16   49 ry_max = 0.2000399\n",
      "  442    12   56 rx_max = 0.1910772    16   49 ry_max = 0.2000394\n",
      "  443    12   56 rx_max = 0.1910654    16   49 ry_max = 0.2000389\n",
      "  444    12   56 rx_max = 0.1910536    16   49 ry_max = 0.2000384\n",
      "  445    12   56 rx_max = 0.1910419    16   49 ry_max = 0.2000379\n",
      "  446    12   56 rx_max = 0.1910303    16   49 ry_max = 0.2000375\n",
      "  447    12   56 rx_max = 0.1910188    16   49 ry_max = 0.2000370\n",
      "  448    12   56 rx_max = 0.1910073    16   49 ry_max = 0.2000366\n",
      "  449    12   56 rx_max = 0.1909959    16   49 ry_max = 0.2000361\n",
      "  450    12   56 rx_max = 0.1909845    16   49 ry_max = 0.2000357\n",
      "  451    12   56 rx_max = 0.1909733    16   49 ry_max = 0.2000352\n",
      "  452    12   56 rx_max = 0.1909621    16   49 ry_max = 0.2000348\n",
      "  453    12   56 rx_max = 0.1909509    16   49 ry_max = 0.2000344\n",
      "  454    12   56 rx_max = 0.1909399    16   49 ry_max = 0.2000340\n",
      "  455    12   56 rx_max = 0.1909289    16   49 ry_max = 0.2000335\n",
      "  456    12   56 rx_max = 0.1909179    16   49 ry_max = 0.2000331\n",
      "  457    12   56 rx_max = 0.1909071    16   49 ry_max = 0.2000327\n",
      "  458    12   56 rx_max = 0.1908963    16   49 ry_max = 0.2000323\n",
      "  459    12   56 rx_max = 0.1908855    16   49 ry_max = 0.2000319\n",
      "  460    12   56 rx_max = 0.1908749    16   49 ry_max = 0.2000315\n",
      "  461    12   56 rx_max = 0.1908643    16   49 ry_max = 0.2000312\n",
      "  462    12   56 rx_max = 0.1908538    16   49 ry_max = 0.2000308\n",
      "  463    12   56 rx_max = 0.1908433    16   49 ry_max = 0.2000304\n",
      "  464    12   56 rx_max = 0.1908329    16   49 ry_max = 0.2000300\n",
      "  465    12   56 rx_max = 0.1908225    16   49 ry_max = 0.2000297\n",
      "  466    12   56 rx_max = 0.1908123    16   49 ry_max = 0.2000293\n",
      "  467    12   56 rx_max = 0.1908021    16   49 ry_max = 0.2000289\n",
      "  468    12   56 rx_max = 0.1907919    16   49 ry_max = 0.2000286\n",
      "  469    12   56 rx_max = 0.1907818    16   49 ry_max = 0.2000282\n",
      "  470    12   56 rx_max = 0.1907718    16   49 ry_max = 0.2000279\n",
      "  471    12   56 rx_max = 0.1907618    16   49 ry_max = 0.2000275\n",
      "  472    12   56 rx_max = 0.1907519    16   49 ry_max = 0.2000272\n",
      "  473    12   56 rx_max = 0.1907421    16   49 ry_max = 0.2000269\n",
      "  474    12   56 rx_max = 0.1907323    16   49 ry_max = 0.2000265\n",
      "  475    12   56 rx_max = 0.1907226    16   49 ry_max = 0.2000262\n",
      "  476    12   56 rx_max = 0.1907129    16   49 ry_max = 0.2000259\n",
      "  477    12   56 rx_max = 0.1907033    16   49 ry_max = 0.2000256\n",
      "  478    12   56 rx_max = 0.1906938    16   49 ry_max = 0.2000253\n",
      "  479    12   56 rx_max = 0.1906843    16   49 ry_max = 0.2000250\n",
      "  480    12   56 rx_max = 0.1906749    16   49 ry_max = 0.2000247\n",
      "  481    12   56 rx_max = 0.1906655    16   49 ry_max = 0.2000244\n",
      "  482    12   56 rx_max = 0.1906562    16   49 ry_max = 0.2000241\n",
      "  483    12   56 rx_max = 0.1906469    16   49 ry_max = 0.2000238\n",
      "  484    12   56 rx_max = 0.1906377    16   49 ry_max = 0.2000235\n",
      "  485    12   56 rx_max = 0.1906286    16   49 ry_max = 0.2000232\n",
      "  486    12   56 rx_max = 0.1906195    16   49 ry_max = 0.2000229\n",
      "  487    12   56 rx_max = 0.1906105    16   49 ry_max = 0.2000226\n",
      "  488    12   56 rx_max = 0.1906015    16   49 ry_max = 0.2000223\n",
      "  489    12   56 rx_max = 0.1905926    16   49 ry_max = 0.2000221\n",
      "  490    12   56 rx_max = 0.1905837    16   49 ry_max = 0.2000218\n",
      "  491    12   56 rx_max = 0.1905749    16   49 ry_max = 0.2000215\n",
      "  492    12   56 rx_max = 0.1905662    16   49 ry_max = 0.2000213\n",
      "  493    12   56 rx_max = 0.1905575    16   49 ry_max = 0.2000210\n",
      "  494    12   56 rx_max = 0.1905488    16   49 ry_max = 0.2000208\n",
      "  495    12   56 rx_max = 0.1905403    16   49 ry_max = 0.2000205\n",
      "  496    12   56 rx_max = 0.1905317    16   49 ry_max = 0.2000203\n",
      "  497    12   56 rx_max = 0.1905232    16   49 ry_max = 0.2000200\n",
      "  498    12   56 rx_max = 0.1905148    16   49 ry_max = 0.2000198\n",
      "  499    12   56 rx_max = 0.1905064    16   49 ry_max = 0.2000195\n",
      "\n",
      " Wall Clock time spent in smoothing    0.02 sec running   1 threads.\n"
     ]
    }
   ],
   "source": [
    "#GetTopo.topo(None,outputs,topofile,shp_file,smooth=inputs_smth,sgl_connect=sgl_connect)\n",
    "GetTopo.topo(None,outputs, topofile, shp_file, smooth= inputs_smth, hmin=np.nanmin(prt.h),\n",
    "                  hmax=np.nanmax(prt.h), sgl_connect=sgl_connect, prt_grd=prt, coef= inputs.coef)"
   ]
  },
  {
   "cell_type": "markdown",
   "id": "ca2716e3-a6f0-4135-b58a-9039aac96818",
   "metadata": {},
   "source": [
    "#### 🪨🧩 Connecting parent/child topo's"
   ]
  },
  {
   "cell_type": "markdown",
   "id": "01c6a052-d1f6-4fe9-9aa6-d6cb20d98d84",
   "metadata": {},
   "source": [
    "##### Run the topo matching function"
   ]
  },
  {
   "cell_type": "markdown",
   "id": "2b9def0e-b4ac-40d7-bbce-d4667effc176",
   "metadata": {},
   "source": [
    "<div class=\"alert alert-block alert-info\">\n",
    "<strong>Topo parent-child smoothing:</strong> Currently the code used to match parent/child grids'topo is the fortran one, a python version is under construction\n",
    "</div>"
   ]
  },
  {
   "cell_type": "code",
   "execution_count": 69,
   "id": "2f23b1fb-6e17-455f-9a37-fd5f1ce02fb7",
   "metadata": {},
   "outputs": [
    {
     "name": "stdout",
     "output_type": "stream",
     "text": [
      " allocated           0 MB total\n"
     ]
    },
    {
     "data": {
      "text/plain": [
       "<main_window.Outputs at 0x736cd8df2860>"
      ]
     },
     "execution_count": 69,
     "metadata": {},
     "output_type": "execute_result"
    },
    {
     "name": "stdout",
     "output_type": "stream",
     "text": [
      " allocated           0 MB total\n",
      " Parent grid xmin,xmax =   5.9521298615024127        24.047870138497583     \n",
      " enter search_tile, jcmin =           1  jcmax =          62\n",
      "  check_search_indices ...  ...done\n",
      "  checking offsets...  max errors = 5.942295266958553E-15 1.421085471520200E-14\n",
      " allocated           0 MB total\n",
      " allocated           0 MB total\n",
      " set_tiles: nx =  59 ny =  62 numthreads =  1 nsub_x =  1 nsub_y =  7\n",
      " set_tiles: nx =  59 ny =  62 numthreads =  1 nsub_x =  1 nsub_y =  7\n",
      " Etching merging zone area into land...\n",
      "        iter =     10  npts =         0  changes =         0\n",
      " set_tiles: nx =  59 ny =  62 numthreads =  1 nsub_x =  1 nsub_y =  7\n",
      " Etching merging weight function into land...\n",
      " set_tiles: nx =  59 ny =  62 numthreads =  1 nsub_x =  1 nsub_y =  7\n",
      " Smoothing weight function, iters =          20   numthreads =           1\n",
      "        iter =     20\n",
      " Merging topography...\n"
     ]
    }
   ],
   "source": [
    "#Directions settings from user's changes'widget\n",
    "directions = []\n",
    "if settings['WEST']:\n",
    "    directions.append('West')\n",
    "if settings['EAST']:\n",
    "    directions.append('East')\n",
    "if settings['SOUTH']:\n",
    "    directions.append('South')\n",
    "if settings['NORTH']:\n",
    "    directions.append('North')\n",
    "settings['dirs'] = directions\n",
    "\n",
    "#Matching/Smoothing/interpolating function\n",
    "GetTopo.match_topo(None,prt,outputs,[settings['dirs'],settings['MERGING_AREA']])"
   ]
  },
  {
   "cell_type": "markdown",
   "id": "1b2fb9db-4936-4ce8-9e32-4392c1a12388",
   "metadata": {},
   "source": [
    "## 👁️🌐 Grid display"
   ]
  },
  {
   "cell_type": "code",
   "execution_count": 70,
   "id": "ac1fcb09-5054-49d0-9234-e2d4abfea65a",
   "metadata": {},
   "outputs": [],
   "source": [
    "#plt.style.use('_mpl-gallery')\n",
    "figure2 = plt.figure(figsize = (12,12))\n",
    "figure2.suptitle('Grid outline and bathymetry')\n",
    "ax2 = plot_outline(prt, figure2)\n",
    "ax2, cb2 = plot_topo(prt, figure2, ax2)\n",
    "#ax2 = plot_outline(outputs, figure2)\n",
    "ax2, cb2= plot_topo(outputs, figure2, ax2)"
   ]
  },
  {
   "cell_type": "code",
   "execution_count": 71,
   "id": "1d754624-fc5d-488d-a9d1-d24f3379d438",
   "metadata": {},
   "outputs": [
    {
     "data": {
      "image/png": "[encoded data removed]",
      "text/plain": [
       "<Figure size 1200x1200 with 3 Axes>"
      ]
     },
     "execution_count": 71,
     "metadata": {},
     "output_type": "execute_result"
    }
   ],
   "source": [
    "figure2"
   ]
  },
  {
   "cell_type": "markdown",
   "id": "89af957d-b581-4041-a443-127fd67266b3",
   "metadata": {},
   "source": [
    "### Save grid as necdf"
   ]
  },
  {
   "cell_type": "markdown",
   "id": "cd96ebc0-9108-4390-bf5f-aa681636dabd",
   "metadata": {},
   "source": [
    "This code creates a Netcdf file containing all grid data (geographic, topo-bathymetric, mask) in the format defined by the classes generated earlier in this notebook. Then it saves it in the ouput repertory."
   ]
  },
  {
   "cell_type": "code",
   "execution_count": 27,
   "id": "c5d12b69-5cdf-4187-ba44-0b8f541167a8",
   "metadata": {},
   "outputs": [
    {
     "name": "stdout",
     "output_type": "stream",
     "text": [
      "Writting ../../CROCO_FILES/croco_chd_grd.nc done\n"
     ]
    }
   ],
   "source": [
    "CROCO.create_grid_nc(None,output_file,inputs,outputs)"
   ]
  },
  {
   "cell_type": "code",
   "execution_count": null,
   "id": "3a6da174-54b1-4376-837a-d8b6dc8ee4a6",
   "metadata": {},
   "outputs": [],
   "source": []
  }
 ],
 "metadata": {
  "kernelspec": {
   "display_name": "Python 3 (ipykernel)",
   "language": "python",
   "name": "python3"
  },
  "language_info": {
   "codemirror_mode": {
    "name": "ipython",
    "version": 3
   },
   "file_extension": ".py",
   "mimetype": "text/x-python",
   "name": "python",
   "nbconvert_exporter": "python",
   "pygments_lexer": "ipython3",
   "version": "3.9.18"
  }
 },
 "nbformat": 4,
 "nbformat_minor": 5
}
