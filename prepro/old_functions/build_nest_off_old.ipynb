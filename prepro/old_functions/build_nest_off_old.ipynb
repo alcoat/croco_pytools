{
 "cells": [
  {
   "cell_type": "markdown",
   "id": "71573cd1-5091-49f2-8d81-3099cc2a10d2",
   "metadata": {},
   "source": [
    "<center><img src=\"https://encrypted-tbn0.gstatic.com/images?q=tbn:ANd9GcQXnrruP7guibF61c4gOESBR2VhhqYmEjKin0yY9lrhCak3hIbXI0QDSlObO74xcBkjMw&usqp=CAU\"/></center>"
   ]
  },
  {
   "cell_type": "markdown",
   "id": "91295459-7aa4-466c-927c-6a13262198f5",
   "metadata": {},
   "source": [
    "# 🔍 Build a nest - OFFLINE "
   ]
  },
  {
   "cell_type": "markdown",
   "id": "2b482d33-fda9-40ef-997c-4633bfd826eb",
   "metadata": {},
   "source": [
    "<small>\n",
    "This notebook allows you to build a child grid/a nest from a parent grid (created with <strong>`make_grid.ipynb`</strong>) with offline or AGRIF methods\n",
    "<br>💡 It is linked to the croco-ocean/croco_pytools' <a href= \"https://gitlab.inria.fr/croco-ocean/croco_pytools/-/issues/4\">ISSUE #4</a> located on the <strong>croco-ocean INRIA's gitlab</strong>\n",
    "<br>➡️ Notebook created by <a href=\"mailto:thibault.delahaye@ird.fr\">Thibault Delahaye</a> and based on the existing codes of pycrocotool\n",
    "<br>🌳 Developped on **notebook-grid-tools**'s branch, whose source is the main branch\n",
    "</small>"
   ]
  },
  {
   "cell_type": "markdown",
   "id": "732b409d-ebfc-46bf-90c0-886c78075eaa",
   "metadata": {},
   "source": [
    "## 📖-Code-presentation"
   ]
  },
  {
   "cell_type": "markdown",
   "id": "b0d9248e-616a-4efc-a185-2a430b1470a4",
   "metadata": {},
   "source": [
    "### Method"
   ]
  },
  {
   "cell_type": "markdown",
   "id": "3ab1876e-b658-4401-bfcb-0336a45f71df",
   "metadata": {},
   "source": [
    "<div class=\"alert alert-block alert-info\">\n",
    "\n",
    "To represent fine-scale phenomena, CROCO offers the ability to create zooms with increased resolution. Two options exist 🛠️:\n",
    "\n",
    "<div style=\"border: 2px dotted black; padding: 10px; margin: 10px;\">\n",
    "    \n",
    "##### Offline Zoom 🗺️ ➡️ 🔍\n",
    "\n",
    "- **Description**: Creation of a grid with the desired resolution, where the boundaries are within a grid of a larger CROCO domain, already modeled.\n",
    "- **Conditions**: The high-resolution grid takes as initial and boundary conditions those from the larger CROCO simulation. The simulations are independent and no feedback from the high-resolution grid to the coarser grid is possible. The simulations run separately.\n",
    "- **Advantages**:\n",
    "  - Independence\n",
    "  - No constraints on the chosen resolution\n",
    "- **Disadvantages**:\n",
    "  - No feedback to the larger domain\n",
    "  - Zoom boundary forcing depends on the frequency of the parent grid’s history, which may filter out some waves present in the parent grid.\n",
    "</div>\n",
    "##### AGRIF Zoom 🔄\n",
    "\n",
    "- **Description**: AGRIF is a library that allows running CROCO with several embedded domains together. (see documentation in CROCO documentation)\n",
    "- **Conditions**: Parent and child(s) domains are run simultaneously, coupling the domains at the barotropic time step.\n",
    "- **Advantages**:\n",
    "  - Two-way feedback to the parent domain is possible and can significantly improve results of the larger domain\n",
    "  - Coupling at the highest possible frequency\n",
    "  - Consistency of numerics\n",
    "  - Any number of nesting levels is allowed\n",
    "- **Disadvantages**:\n",
    "  - Requires simultaneous execution of the parent and child(s) grids\n",
    "  - Nesting ratio should be 3 or 5\n",
    "  - Currently, AGRIF zooms in CROCO must have the same vertical resolution as the parent.\n",
    "\n",
    "</div>"
   ]
  },
  {
   "cell_type": "markdown",
   "id": "d1fe7066-b065-451a-8385-23d3eaff4cf2",
   "metadata": {},
   "source": [
    "### 💾 Datasets\n",
    "\n",
    "Further Information: [CROCO OCEAN WEBSITE](http://www.croco-ocean.org)\n",
    "  \n",
    "*This file is part of CROCOTOOLS* 🐊\n",
    "\n",
    "**Create a CROCO grid file** 🌐   \n",
    "In the current state the script can handle:  "
   ]
  },
  {
   "cell_type": "markdown",
   "id": "a2f0433f-cf98-46f3-a381-638f17113570",
   "metadata": {},
   "source": [
    "<table style=\"width: 100%; text-align: left; border-collapse: collapse;\">\n",
    "  <thead>\n",
    "    <tr>\n",
    "      <th style=\"border: 1px solid #ddd; padding: 8px; background-color: #f4f4f4;\">DATA</th>\n",
    "      <th style=\"border: 1px solid #ddd; padding: 8px; background-color: #f4f4f4;\">SOURCE</th>\n",
    "      <th style=\"border: 1px solid #ddd; padding: 8px; background-color: #f4f4f4;\">FILE EXTENSION</th>\n",
    "    </tr>\n",
    "  </thead>\n",
    "  <tbody>\n",
    "    <tr>\n",
    "      <td style=\"border: 1px solid #ddd; padding: 8px;\"><strong>⛰️ topo/bathy</strong></td>\n",
    "      <td style=\"border: 1px solid #ddd; padding: 8px;\">etopo (5,2,1),<br>srtm30, gebco</td>\n",
    "      <td style=\"border: 1px solid #ddd; padding: 8px;\"><em>NetCDF</em></td>\n",
    "    </tr>\n",
    "    <tr>\n",
    "      <td style=\"border: 1px solid #ddd; padding: 8px;\"><strong>🏖️ coastline</strong></td>\n",
    "      <td style=\"border: 1px solid #ddd; padding: 8px;\">GSHHS</td>\n",
    "      <td style=\"border: 1px solid #ddd; padding: 8px;\"><em>shapefile</em></td>\n",
    "    </tr>\n",
    "    <tr>\n",
    "      <td style=\"border: 1px solid #ddd; padding: 8px;\"><strong>🐊 parent CROCO grid</strong></td>\n",
    "      <td style=\"border: 1px solid #ddd; padding: 8px;\">croco_grd built with make_grid.ipynb</td>\n",
    "      <td style=\"border: 1px solid #ddd; padding: 8px;\"><em>NetCDF</em></td>\n",
    "    </tr>\n",
    "  </tbody>\n",
    "</table>"
   ]
  },
  {
   "cell_type": "markdown",
   "id": "eaa0004a-d8b0-4429-a1f9-f8742bd5b2f0",
   "metadata": {},
   "source": [
    "### ⚙️ Requirements\n",
    "➡️ Installing `ipympl` for interactive Plots :\n",
    "\n",
    "*To use **interactive plotting** features with the `%matplotlib widget` [magic command](#Magic-cells) in Jupyter Notebook or JupyterLab, you need to install the `ipympl` package. This package enables Matplotlib to render interactive plots using Jupyter widgets.*\n",
    "\n",
    " **Run the following command** in a code cell or in your notebook to install `ipympl`:\n",
    "   ```python\n",
    "   pip install ipympl\n",
    "   ```"
   ]
  },
  {
   "cell_type": "markdown",
   "id": "27db1e1f-eef7-4d4f-a1fc-d01f806296ba",
   "metadata": {},
   "source": [
    "---\n",
    "\n",
    "<div style=\"text-align: center; font-size: 0.9em; color: gray;\">\n",
    "  CODE BODY\n",
    "</div>\n",
    "\n",
    "---"
   ]
  },
  {
   "cell_type": "markdown",
   "id": "0777ea4e-fe68-4fdf-b339-db6b4bfebe0f",
   "metadata": {},
   "source": [
    "### Magic cells"
   ]
  },
  {
   "cell_type": "markdown",
   "id": "f6224b8e-f390-45ab-aaee-edd0276477b6",
   "metadata": {},
   "source": [
    "[Magic cell](https://ipython.readthedocs.io/en/stable/interactive/magics.html) ⚡🐚 dedicated to the activation of backend environments"
   ]
  },
  {
   "cell_type": "code",
   "execution_count": 1,
   "id": "3a702449-8ad8-4297-a23b-56415dc11b3c",
   "metadata": {},
   "outputs": [],
   "source": [
    "#Allows widget interactivity with user\n",
    "%matplotlib widget    \n",
    "%load_ext autoreload\n",
    "%autoreload 2"
   ]
  },
  {
   "cell_type": "markdown",
   "id": "54ec949f-b22d-4154-8495-354b59500ae6",
   "metadata": {},
   "source": [
    "### Dependencies"
   ]
  },
  {
   "cell_type": "code",
   "execution_count": 2,
   "id": "d93d3268-6c49-470f-b320-95d2b297c9ba",
   "metadata": {},
   "outputs": [],
   "source": [
    "import numpy as np\n",
    "import os,sys\n",
    "os.environ['ETS_TOOLKIT'] = 'wx'\n",
    "sys.path.append(\"./Modules/\")\n",
    "sys.path.append(\"./Readers/\")\n",
    "sys.path.append(\"./Modules/graphicUI_tools/\")\n",
    "from main_window import *\n",
    "import tools_make_grid\n",
    "#----------------------------------------------#\n",
    "from tools_make_grid import inputs,inputs_smth,EasyGrid,GetMask,GetTopo, topo_prt\n",
    "from croco_class import CROCO\n",
    "from main_window import Outputs\n",
    "#----------------------------------------------#\n",
    "from Modules.map_tools.map_tools import plot_grid, plot_outline, plot_topo\n",
    "from scipy.spatial import distance\n",
    "import matplotlib.pyplot as plt\n",
    "import ipywidgets as widgets\n",
    "from ipywidgets import interact_manual\n",
    "#----------------------------------------------#\n",
    "from matplotlib.widgets import RectangleSelector\n",
    "from ipywidgets import FloatText, VBox\n",
    "from IPython.display import display, clear_output"
   ]
  },
  {
   "cell_type": "markdown",
   "id": "d10507b3-1965-4435-8d6f-e7ca9520a554",
   "metadata": {},
   "source": [
    "## 🗺️ Parent grid path and infos"
   ]
  },
  {
   "cell_type": "markdown",
   "id": "0a7a2d1a-05d5-4bb2-b22c-66de9b131a20",
   "metadata": {},
   "source": [
    "### Parent grid path:"
   ]
  },
  {
   "cell_type": "code",
   "execution_count": 3,
   "id": "e3e1356d-6a5e-4d04-997d-8bb2f08d697f",
   "metadata": {},
   "outputs": [],
   "source": [
    "parent_grid_file= \"../../CROCO_FILES/croco_grd.nc\""
   ]
  },
  {
   "cell_type": "markdown",
   "id": "d81d5fab-dc1d-4ce1-a926-05952234cca4",
   "metadata": {},
   "source": [
    "### Collecting parent's grid inputs/outputs parameters"
   ]
  },
  {
   "cell_type": "markdown",
   "id": "d774cee8-adec-48c8-b705-06206b0bb909",
   "metadata": {},
   "source": [
    "#### Collecting parent's grid inputs"
   ]
  },
  {
   "cell_type": "code",
   "execution_count": 4,
   "id": "31e2f203-967a-44c7-9c4a-e61523ebda53",
   "metadata": {},
   "outputs": [],
   "source": [
    "import json\n",
    "import pandas as pd\n",
    "import os\n",
    "\n",
    "output_folder = os.path.dirname(parent_grid_file)\n",
    "json_filename = 'user_inputs.json'\n",
    "\n",
    "json_file_path= os.path.join(output_folder, json_filename)\n",
    "\n",
    "# Lire le fichier JSON\n",
    "with open(json_file_path, 'r') as json_file:\n",
    "    user_inputs_parent = json.load(json_file)\n",
    "    \n",
    "# Convertir les sous-dictionnaires en DataFrames séparés\n",
    "df_inputs = pd.DataFrame([user_inputs_parent['inputs']])\n",
    "df_inputs_smth = pd.DataFrame([user_inputs_parent['inputs_smth']])"
   ]
  },
  {
   "cell_type": "markdown",
   "id": "f68bb6c1-5490-4932-ba3c-e9f05d4732b7",
   "metadata": {},
   "source": [
    "**PARENT GRID INPUTS**"
   ]
  },
  {
   "cell_type": "code",
   "execution_count": 5,
   "id": "43789432-13c2-4829-bef5-277861c3476a",
   "metadata": {},
   "outputs": [
    {
     "data": {
      "text/html": [
       "<div>\n",
       "<style scoped>\n",
       "    .dataframe tbody tr th:only-of-type {\n",
       "        vertical-align: middle;\n",
       "    }\n",
       "\n",
       "    .dataframe tbody tr th {\n",
       "        vertical-align: top;\n",
       "    }\n",
       "\n",
       "    .dataframe thead th {\n",
       "        text-align: right;\n",
       "    }\n",
       "</style>\n",
       "<table border=\"1\" class=\"dataframe\">\n",
       "  <thead>\n",
       "    <tr style=\"text-align: right;\">\n",
       "      <th></th>\n",
       "      <th>tra_lon</th>\n",
       "      <th>tra_lat</th>\n",
       "      <th>size_x</th>\n",
       "      <th>size_y</th>\n",
       "      <th>rot</th>\n",
       "      <th>nx</th>\n",
       "      <th>ny</th>\n",
       "    </tr>\n",
       "  </thead>\n",
       "  <tbody>\n",
       "    <tr>\n",
       "      <th>0</th>\n",
       "      <td>15</td>\n",
       "      <td>-32</td>\n",
       "      <td>1556</td>\n",
       "      <td>1334</td>\n",
       "      <td>0</td>\n",
       "      <td>39</td>\n",
       "      <td>40</td>\n",
       "    </tr>\n",
       "  </tbody>\n",
       "</table>\n",
       "</div>"
      ],
      "text/plain": [
       "   tra_lon  tra_lat  size_x  size_y  rot  nx  ny\n",
       "0       15      -32    1556    1334    0  39  40"
      ]
     },
     "execution_count": 5,
     "metadata": {},
     "output_type": "execute_result"
    }
   ],
   "source": [
    "df_inputs"
   ]
  },
  {
   "cell_type": "markdown",
   "id": "55dcb7e3-caa5-4cdd-b150-e153273134ca",
   "metadata": {},
   "source": [
    "**PARENT GRID SMOOTHING PARAMETERS**"
   ]
  },
  {
   "cell_type": "code",
   "execution_count": 6,
   "id": "28143ac1-1807-4ffe-b14a-d5e6100bbaf2",
   "metadata": {},
   "outputs": [
    {
     "data": {
      "text/html": [
       "<div>\n",
       "<style scoped>\n",
       "    .dataframe tbody tr th:only-of-type {\n",
       "        vertical-align: middle;\n",
       "    }\n",
       "\n",
       "    .dataframe tbody tr th {\n",
       "        vertical-align: top;\n",
       "    }\n",
       "\n",
       "    .dataframe thead th {\n",
       "        text-align: right;\n",
       "    }\n",
       "</style>\n",
       "<table border=\"1\" class=\"dataframe\">\n",
       "  <thead>\n",
       "    <tr style=\"text-align: right;\">\n",
       "      <th></th>\n",
       "      <th>depthmin</th>\n",
       "      <th>depthmax</th>\n",
       "      <th>smthr</th>\n",
       "      <th>rfact</th>\n",
       "      <th>smooth</th>\n",
       "    </tr>\n",
       "  </thead>\n",
       "  <tbody>\n",
       "    <tr>\n",
       "      <th>0</th>\n",
       "      <td>50</td>\n",
       "      <td>6000</td>\n",
       "      <td>2</td>\n",
       "      <td>0.2</td>\n",
       "      <td>lsmooth</td>\n",
       "    </tr>\n",
       "  </tbody>\n",
       "</table>\n",
       "</div>"
      ],
      "text/plain": [
       "   depthmin  depthmax  smthr  rfact   smooth\n",
       "0        50      6000      2    0.2  lsmooth"
      ]
     },
     "execution_count": 6,
     "metadata": {},
     "output_type": "execute_result"
    }
   ],
   "source": [
    "df_inputs_smth"
   ]
  },
  {
   "cell_type": "code",
   "execution_count": 29,
   "id": "ce19c8c5-3279-4f24-b27d-7467b0f6c2bb",
   "metadata": {},
   "outputs": [],
   "source": [
    "#### Collecting parent's grid outputs"
   ]
  },
  {
   "cell_type": "code",
   "execution_count": 7,
   "id": "eade141e-3d51-4e82-a8d7-8daff05a1d85",
   "metadata": {},
   "outputs": [],
   "source": [
    "prt= topo_prt(parent_grid_file)"
   ]
  },
  {
   "cell_type": "markdown",
   "id": "c690aaf9-13a4-48b5-95fe-790cfc680ca2",
   "metadata": {},
   "source": [
    "## 🐣 Build the nest"
   ]
  },
  {
   "cell_type": "markdown",
   "id": "8b14c9c1-3765-4140-9711-a1ec9f2335fe",
   "metadata": {},
   "source": [
    "### Create a new child grid"
   ]
  },
  {
   "cell_type": "markdown",
   "id": "d5ea6256-3e4d-4778-98b7-729657c05d90",
   "metadata": {},
   "source": [
    "#### ✏️🔧 User's changes"
   ]
  },
  {
   "cell_type": "markdown",
   "id": "5f9a18d0-d44d-4dbc-92bb-2938e96cc95e",
   "metadata": {},
   "source": [
    "##### Center's position (degrees) 📍"
   ]
  },
  {
   "cell_type": "code",
   "execution_count": 8,
   "id": "b633a24d-ae1c-4869-90f8-85177047f5f7",
   "metadata": {},
   "outputs": [],
   "source": [
    "tra_lon =  15 # Longitude of the grid center \n",
    "tra_lat = -32 # Latitude of the grid center"
   ]
  },
  {
   "cell_type": "markdown",
   "id": "ac37c4bd-6a15-4e0a-9579-77fb282b06b2",
   "metadata": {},
   "source": [
    "##### Grid extent (km) and resolution"
   ]
  },
  {
   "cell_type": "code",
   "execution_count": 9,
   "id": "172530be-c801-4d56-bf5c-fe671f67a79f",
   "metadata": {},
   "outputs": [],
   "source": [
    "# Grid size [km]\n",
    "size_x = 150\n",
    "size_y = 130\n",
    "\n",
    "# Grid number of points \n",
    "nx = 10 #39\n",
    "ny = 11 #40"
   ]
  },
  {
   "cell_type": "code",
   "execution_count": 10,
   "id": "fc6765de-5f28-4648-828e-67ae16262ce1",
   "metadata": {},
   "outputs": [
    {
     "name": "stdout",
     "output_type": "stream",
     "text": [
      "Resolution in X direction: 15.00 km\n",
      "Resolution in Y direction: 11.82 km\n"
     ]
    }
   ],
   "source": [
    "# Calculate Resolution\n",
    "delta_x = size_x / nx\n",
    "delta_y = size_y / ny\n",
    "\n",
    "# Display results\n",
    "print(f\"Resolution in X direction: {delta_x:.2f} km\")\n",
    "print(f\"Resolution in Y direction: {delta_y:.2f} km\")"
   ]
  },
  {
   "cell_type": "markdown",
   "id": "9cd5022f-19c2-4f05-a8c5-bfdbec2ffca5",
   "metadata": {},
   "source": [
    "##### Grid rotation (degrees)"
   ]
  },
  {
   "cell_type": "code",
   "execution_count": 11,
   "id": "089e402c-7d32-46d9-a505-cb1d06399d64",
   "metadata": {},
   "outputs": [],
   "source": [
    "rot = 0"
   ]
  },
  {
   "cell_type": "markdown",
   "id": "1db83a93-3f9a-46d8-b691-8f0adf605bd9",
   "metadata": {},
   "source": [
    "#### Smoothing settings"
   ]
  },
  {
   "cell_type": "markdown",
   "id": "5ed0808c-fcd9-4148-a0e5-1a11685acb6f",
   "metadata": {},
   "source": [
    "See [online documentation](https://croco-ocean.gitlabpages.inria.fr/croco_doc/model/model.grid.html) for more details 📚"
   ]
  },
  {
   "cell_type": "code",
   "execution_count": 12,
   "id": "7b61a1e4-58cd-4ca0-8eed-830145c17add",
   "metadata": {},
   "outputs": [],
   "source": [
    "hmin        = 50    # Minimum depth [m]\n",
    "hmax        = 6000  # Maximum depth [m]\n",
    "interp_rad  = 2     # Interpolation radius in number of points (usually between 2 and 8)\n",
    "rfact       = 0.2   # Maximum r-fact to reach (the lower it is, the smoother it will be)    \n",
    "smooth_meth = 'lsmooth' # Smoothing method ('smooth', 'lsmooth', 'lsmooth_legacy', 'lsmooth2', 'lsmooth1', 'cond_rx0_topo') "
   ]
  },
  {
   "cell_type": "markdown",
   "id": "3617efea-cb27-4ef0-ab5b-00baf1c51af9",
   "metadata": {},
   "source": [
    "##### Paths"
   ]
  },
  {
   "cell_type": "markdown",
   "id": "0bac5f00-8e88-496e-81a7-ff451230e74a",
   "metadata": {},
   "source": [
    "###### Inputs"
   ]
  },
  {
   "cell_type": "markdown",
   "id": "16eda06e-fed4-4f74-b898-769933133a0e",
   "metadata": {},
   "source": [
    "Topo/bathy file ⛰️ :"
   ]
  },
  {
   "cell_type": "code",
   "execution_count": 13,
   "id": "096eeb30-73d6-4b78-b17e-d5fb30887197",
   "metadata": {},
   "outputs": [],
   "source": [
    "topofile = '../../DATASETS_CROCOTOOLS/Topo/etopo2.nc'"
   ]
  },
  {
   "cell_type": "markdown",
   "id": "595ab788-9cf8-4bcb-bbfb-419f4936569c",
   "metadata": {},
   "source": [
    "Coastline file (for the mask) 🏖️ :"
   ]
  },
  {
   "cell_type": "code",
   "execution_count": 14,
   "id": "e5e38696-6cda-41b0-96b3-16c86e5980e4",
   "metadata": {},
   "outputs": [],
   "source": [
    "shp_file = '../../DATASETS_CROCOTOOLS/gshhs/GSHHS_shp/i/GSHHS_i_L1.shp'"
   ]
  },
  {
   "cell_type": "markdown",
   "id": "1bfe9ebc-c9fb-4eda-b942-1fbbe3fc2e9f",
   "metadata": {},
   "source": [
    "###### Output(s)"
   ]
  },
  {
   "cell_type": "markdown",
   "id": "83ca225b-99e1-4dbe-be71-2b8baac9b0bb",
   "metadata": {},
   "source": [
    "Output grid file 🔲:"
   ]
  },
  {
   "cell_type": "code",
   "execution_count": 15,
   "id": "94ccd22b-e338-4cb4-84a2-c6881fec8d00",
   "metadata": {},
   "outputs": [],
   "source": [
    "output_file=\"../../CROCO_FILES/croco_chd_grd.nc\""
   ]
  },
  {
   "cell_type": "markdown",
   "id": "258016c8-72df-4821-9de7-8ee1616f89be",
   "metadata": {},
   "source": [
    "##### Mask"
   ]
  },
  {
   "cell_type": "markdown",
   "id": "95c92e47-183a-4a53-82a4-c35fa88ef936",
   "metadata": {},
   "source": [
    "Single Connect (Masks water not connected to the main water body) 🎭:"
   ]
  },
  {
   "cell_type": "code",
   "execution_count": 16,
   "id": "5a035087-218b-4c0c-bbf8-3f70f8efdbcd",
   "metadata": {},
   "outputs": [],
   "source": [
    "sgl_connect=[False,20,20] # True or False, point indices inside the main water body"
   ]
  },
  {
   "cell_type": "markdown",
   "id": "1552f1ab-a6c5-4a4c-9b60-38cee42dd2a8",
   "metadata": {},
   "source": [
    "##### Open boundary conditions"
   ]
  },
  {
   "cell_type": "markdown",
   "id": "cb6dfb00-cbdd-4bb1-901e-1d99c21b7b9f",
   "metadata": {},
   "source": [
    "<div style=\"border: 2px solid yellow; padding: 10px; background-color: #fff3e0;\">\n",
    "    <strong>🚨 CHECKBOX SELECTION:</strong> SIMPLY RUN THE NEXT CELL TO SELECT OBCs\n",
    "</div>"
   ]
  },
  {
   "cell_type": "markdown",
   "id": "f7449453-4869-4c1a-baed-b784fd6d79ff",
   "metadata": {},
   "source": [
    "###### Run widget"
   ]
  },
  {
   "cell_type": "code",
   "execution_count": 21,
   "id": "c2b6fec9-8dbb-4823-b359-fffe29b89558",
   "metadata": {},
   "outputs": [],
   "source": [
    "# Define variables to store the settings\n",
    "settings = {\n",
    "    'NORTH': True,\n",
    "    'SOUTH': True,\n",
    "    'WEST': True,\n",
    "    'EAST': True,\n",
    "    'MERGING_AREA': 5  # Set default value to 5\n",
    "}\n",
    "\n",
    "# Function to handle saving values\n",
    "def save_values(b):\n",
    "    # Update settings with current values\n",
    "    settings['NORTH'] = north_checkbox.value\n",
    "    settings['SOUTH'] = south_checkbox.value\n",
    "    settings['WEST'] = west_checkbox.value\n",
    "    settings['EAST'] = east_checkbox.value\n",
    "    settings['MERGING_AREA'] = merging_area_text.value\n",
    "    \n",
    "    # Display confirmation message\n",
    "    with output:\n",
    "        clear_output()\n",
    "        print(\"Settings have been saved.\")\n",
    "        print(settings)  # Display current settings for verification\n",
    "\n",
    "# Create checkboxes for each border\n",
    "north_checkbox = widgets.Checkbox(value=settings['NORTH'], description='North Border ⬆️')\n",
    "south_checkbox = widgets.Checkbox(value=settings['SOUTH'], description='South Border ⬇️')\n",
    "west_checkbox = widgets.Checkbox(value=settings['WEST'], description='West Border ⬅️')\n",
    "east_checkbox = widgets.Checkbox(value=settings['EAST'], description='East Border ➡️')\n",
    "\n",
    "# Create a field for the \"Merging Area\" parameter as an integer with default value 5\n",
    "merging_area_text = widgets.IntText(\n",
    "    value=settings['MERGING_AREA'], \n",
    "    layout=widgets.Layout(width='100px')  # Adjust width of the input field\n",
    ")\n",
    "merging_area_label = widgets.Label(\n",
    "    value='Merging Area:', \n",
    "    layout=widgets.Layout(width='150px', display='flex', justify_content='flex-end')  # Adjust label width and alignment\n",
    ")\n",
    "\n",
    "# Create an HBox for the label and input field\n",
    "merging_area_box = widgets.HBox(children=[\n",
    "    merging_area_label, \n",
    "    merging_area_text\n",
    "])\n",
    "\n",
    "# Create a button to save the settings\n",
    "save_button = widgets.Button(description=\"Save Settings\")\n",
    "save_button.on_click(save_values)\n",
    "\n",
    "# Create a box around the widgets with custom styling\n",
    "border_box = widgets.VBox(children=[\n",
    "    north_checkbox, \n",
    "    south_checkbox, \n",
    "    west_checkbox, \n",
    "    east_checkbox,\n",
    "    merging_area_box,\n",
    "    save_button\n",
    "])\n",
    "\n",
    "# Apply CSS styles to the box\n",
    "border_box.layout.border = '2px solid #007bff'\n",
    "border_box.layout.padding = '10px'\n",
    "border_box.layout.border_radius = '5px'\n",
    "border_box.layout.margin = '10px'\n",
    "border_box.layout.width = '400px'  # Increase width to ensure full visibility\n",
    "\n",
    "# Adjust width of individual widgets\n",
    "north_checkbox.layout.width = '100%'\n",
    "south_checkbox.layout.width = '100%'\n",
    "west_checkbox.layout.width = '100%'\n",
    "east_checkbox.layout.width = '100%'\n",
    "merging_area_text.layout.width = '100px'  # Set a specific width for the input field\n",
    "\n",
    "# Create an output area for displaying messages\n",
    "output = widgets.Output()"
   ]
  },
  {
   "cell_type": "markdown",
   "id": "442fe765-af49-4123-b58b-3aac0d9c7a6f",
   "metadata": {},
   "source": [
    "###### Select parameters for OBC's"
   ]
  },
  {
   "cell_type": "code",
   "execution_count": 22,
   "id": "b2b482bf-7a87-433c-83d1-c72e6a9cb08f",
   "metadata": {},
   "outputs": [
    {
     "data": {
      "application/vnd.jupyter.widget-view+json": {
       "model_id": "6b2375b7e0844fd2a663c1b61e023768",
       "version_major": 2,
       "version_minor": 0
      },
      "text/plain": [
       "VBox(children=(Checkbox(value=True, description='North Border', layout=Layout(width='100%')), Checkbox(value=T…"
      ]
     },
     "metadata": {},
     "output_type": "display_data"
    },
    {
     "data": {
      "application/vnd.jupyter.widget-view+json": {
       "model_id": "af4612e6c65d4353a43251963df1d639",
       "version_major": 2,
       "version_minor": 0
      },
      "text/plain": [
       "Output()"
      ]
     },
     "metadata": {},
     "output_type": "display_data"
    }
   ],
   "source": [
    "# Display the box and output area\n",
    "display(border_box, output)"
   ]
  },
  {
   "cell_type": "markdown",
   "id": "f5fc6241-47a7-46ff-903d-af12c5a87dc8",
   "metadata": {},
   "source": [
    "#### ⚙️🌐 Building the grid"
   ]
  },
  {
   "cell_type": "markdown",
   "id": "53b3c9ca-ce14-47c9-854c-cad3ba1c2196",
   "metadata": {},
   "source": [
    "##### Creating classes for inputs/outputs"
   ]
  },
  {
   "cell_type": "code",
   "execution_count": 17,
   "id": "dcc37aef-7709-461d-90a6-9c9f788ac573",
   "metadata": {},
   "outputs": [],
   "source": [
    "inputs=inputs(tra_lon,tra_lat,size_x,size_y,nx,ny,rot)\n",
    "inputs_smth=inputs_smth(hmin,hmax,interp_rad,rfact,smooth_meth)\n",
    "outputs=Outputs()"
   ]
  },
  {
   "cell_type": "markdown",
   "id": "2fbb3c06-c443-4e06-b116-7c325d73033e",
   "metadata": {},
   "source": [
    "##### Create lon/lat grid "
   ]
  },
  {
   "cell_type": "code",
   "execution_count": 18,
   "id": "5b6e8ea9-aa90-4769-a1b7-6d24b4243265",
   "metadata": {},
   "outputs": [
    {
     "data": {
      "text/plain": [
       "<main_window.Outputs at 0x7ee06fd19f40>"
      ]
     },
     "execution_count": 18,
     "metadata": {},
     "output_type": "execute_result"
    }
   ],
   "source": [
    "EasyGrid.easygrid(None,inputs,outputs)"
   ]
  },
  {
   "cell_type": "markdown",
   "id": "569db9af-5087-4d8c-8727-1e71439f5965",
   "metadata": {},
   "source": [
    "##### Building the mask and smoothing topo"
   ]
  },
  {
   "cell_type": "markdown",
   "id": "d16ff50d-448b-4432-bfd3-bc5524732083",
   "metadata": {},
   "source": [
    "<div class=\"alert alert-block alert-warning\"> \n",
    "Tip: if the ouput is too long 🖱️ right click on the cell annd \"Enable scrolling for outputs\"\n",
    "</div>"
   ]
  },
  {
   "cell_type": "code",
   "execution_count": 19,
   "id": "db55f3fe-371e-4ecb-9514-022d2fc4e97e",
   "metadata": {
    "scrolled": true
   },
   "outputs": [
    {
     "name": "stdout",
     "output_type": "stream",
     "text": [
      "Reading topography file: ../../DATASETS_CROCOTOOLS/Topo/etopo2.nc\n",
      "Single region dataset imin/imax= 5808 5891\n",
      "Bounding indices of the relevant part to be extracted from the entire dataset:\n",
      " imin,imax = 5808 5891 out of 10800 jmin,jmax = 1710 1770 out of 5400\n",
      "Interpolating topography to CROCO grid\n",
      "Finished interpolating\n",
      "\n",
      " Geographical extents of the dataset:\n",
      "ratio between prt and chld grid is approx: 2\n",
      "    Longitude min/max =   13.600000   16.366667\n",
      "    Latitude  min/max =  -33.000000  -31.000000\n",
      "\n",
      " Geographical extents of requested ROMS grid:\n",
      "    Longitude min/max =   13.636036   16.363964\n",
      "    Latitude  min/max =  -32.956451  -31.037594\n",
      "\n",
      " Bounding indices for the portion of dataset covering the entire model grid:\n",
      " iwest,ieast =    2    83 out of    84 jsouth,jnorth =    2    59 out of    61\n",
      "\n",
      " Averaging window width = 2.00000 in grid spaces.\n",
      "\n",
      "...\n",
      "\n",
      " Wall Clock time spent to compute hraw    0.00 sec running   1 threads.\n",
      "Matching Parent and Child mask close to boundary\n",
      " enter smooth_thread r_max = 0.2000000  iters_cond =  500  iters_lin =    0\n",
      " set_tiles: nx =  11 ny =  10 numthreads =  1 nsub_x =  1 nsub_y =  2\n",
      "  nsub_x =   1  nsub_y =   2  isize =  11  jsize =   5  trd =   0\n",
      "\n",
      " iter  i,jrx_max rx_max              i,jry_max ry_max\n",
      " ------------------------------------------------------------------\n",
      "    0     8   11 rx_max = 0.0767227    12   10 ry_max = 0.1485433\n",
      "    1     9    9 rx_max = 0.0704059    11   10 ry_max = 0.1393016\n",
      "    2     9    9 rx_max = 0.0704059    11   10 ry_max = 0.1393016\n",
      "    3     9    9 rx_max = 0.0704059    11   10 ry_max = 0.1393016\n",
      "    4     9    9 rx_max = 0.0704059    11   10 ry_max = 0.1393016\n",
      "    5     9    9 rx_max = 0.0704059    11   10 ry_max = 0.1393016\n",
      "    6     9    9 rx_max = 0.0704059    11   10 ry_max = 0.1393016\n",
      "    7     9    9 rx_max = 0.0704059    11   10 ry_max = 0.1393016\n",
      "    8     9    9 rx_max = 0.0704059    11   10 ry_max = 0.1393016\n",
      "    9     9    9 rx_max = 0.0704059    11   10 ry_max = 0.1393016\n",
      "   10     9    9 rx_max = 0.0704059    11   10 ry_max = 0.1393016\n",
      "   11     9    9 rx_max = 0.0704059    11   10 ry_max = 0.1393016\n",
      "   12     9    9 rx_max = 0.0704059    11   10 ry_max = 0.1393016\n",
      "   13     9    9 rx_max = 0.0704059    11   10 ry_max = 0.1393016\n",
      "   14     9    9 rx_max = 0.0704059    11   10 ry_max = 0.1393016\n",
      "   15     9    9 rx_max = 0.0704059    11   10 ry_max = 0.1393016\n",
      "   16     9    9 rx_max = 0.0704059    11   10 ry_max = 0.1393016\n",
      "   17     9    9 rx_max = 0.0704059    11   10 ry_max = 0.1393016\n",
      "   18     9    9 rx_max = 0.0704059    11   10 ry_max = 0.1393016\n",
      "   19     9    9 rx_max = 0.0704059    11   10 ry_max = 0.1393016\n",
      "   20     9    9 rx_max = 0.0704059    11   10 ry_max = 0.1393016\n",
      "   21     9    9 rx_max = 0.0704059    11   10 ry_max = 0.1393016\n",
      "   22     9    9 rx_max = 0.0704059    11   10 ry_max = 0.1393016\n",
      "   23     9    9 rx_max = 0.0704059    11   10 ry_max = 0.1393016\n",
      "   24     9    9 rx_max = 0.0704059    11   10 ry_max = 0.1393016\n",
      "   25     9    9 rx_max = 0.0704059    11   10 ry_max = 0.1393016\n",
      "   26     9    9 rx_max = 0.0704059    11   10 ry_max = 0.1393016\n",
      "   27     9    9 rx_max = 0.0704059    11   10 ry_max = 0.1393016\n",
      "   28     9    9 rx_max = 0.0"
     ]
    },
    {
     "data": {
      "text/plain": [
       "<main_window.Outputs at 0x7ee06fd19f40>"
      ]
     },
     "execution_count": 19,
     "metadata": {},
     "output_type": "execute_result"
    },
    {
     "name": "stdout",
     "output_type": "stream",
     "text": [
      "704059    11   10 ry_max = 0.1393016\n",
      "   29     9    9 rx_max = 0.0704059    11   10 ry_max = 0.1393016\n",
      "   30     9    9 rx_max = 0.0704059    11   10 ry_max = 0.1393016\n",
      "   31     9    9 rx_max = 0.0704059    11   10 ry_max = 0.1393016\n",
      "   32     9    9 rx_max = 0.0704059    11   10 ry_max = 0.1393016\n",
      "   33     9    9 rx_max = 0.0704059    11   10 ry_max = 0.1393016\n",
      "   34     9    9 rx_max = 0.0704059    11   10 ry_max = 0.1393016\n",
      "   35     9    9 rx_max = 0.0704059    11   10 ry_max = 0.1393016\n",
      "   36     9    9 rx_max = 0.0704059    11   10 ry_max = 0.1393016\n",
      "   37     9    9 rx_max = 0.0704059    11   10 ry_max = 0.1393016\n",
      "   38     9    9 rx_max = 0.0704059    11   10 ry_max = 0.1393016\n",
      "   39     9    9 rx_max = 0.0704059    11   10 ry_max = 0.1393016\n",
      "   40     9    9 rx_max = 0.0704059    11   10 ry_max = 0.1393016\n",
      "   41     9    9 rx_max = 0.0704059    11   10 ry_max = 0.1393016\n",
      "   42     9    9 rx_max = 0.0704059    11   10 ry_max = 0.1393016\n",
      "   43     9    9 rx_max = 0.0704059    11   10 ry_max = 0.1393016\n",
      "   44     9    9 rx_max = 0.0704059    11   10 ry_max = 0.1393016\n",
      "   45     9    9 rx_max = 0.0704059    11   10 ry_max = 0.1393016\n",
      "   46     9    9 rx_max = 0.0704059    11   10 ry_max = 0.1393016\n",
      "   47     9    9 rx_max = 0.0704059    11   10 ry_max = 0.1393016\n",
      "   48     9    9 rx_max = 0.0704059    11   10 ry_max = 0.1393016\n",
      "   49     9    9 rx_max = 0.0704059    11   10 ry_max = 0.1393016\n",
      "   50     9    9 rx_max = 0.0704059    11   10 ry_max = 0.1393016\n",
      "   51     9    9 rx_max = 0.0704059    11   10 ry_max = 0.1393016\n",
      "   52     9    9 rx_max = 0.0704059    11   10 ry_max = 0.1393016\n",
      "   53     9    9 rx_max = 0.0704059    11   10 ry_max = 0.1393016\n",
      "   54     9    9 rx_max = 0.0704059    11   10 ry_max = 0.1393016\n",
      "   55     9    9 rx_max = 0.0704059    11   10 ry_max = 0.1393016\n",
      "   56     9    9 rx_max = 0.0704059    11   10 ry_max = 0.1393016\n",
      "   57     9    9 rx_max = 0.0704059    11   10 ry_max = 0.1393016\n",
      "   58     9    9 rx_max = 0.0704059    11   10 ry_max = 0.1393016\n",
      "   59     9    9 rx_max = 0.0704059    11   10 ry_max = 0.1393016\n",
      "   60     9    9 rx_max = 0.0704059    11   10 ry_max = 0.1393016\n",
      "   61     9    9 rx_max = 0.0704059    11   10 ry_max = 0.1393016\n",
      "   62     9    9 rx_max = 0.0704059    11   10 ry_max = 0.1393016\n",
      "   63     9    9 rx_max = 0.0704059    11   10 ry_max = 0.1393016\n",
      "   64     9    9 rx_max = 0.0704059    11   10 ry_max = 0.1393016\n",
      "   65     9    9 rx_max = 0.0704059    11   10 ry_max = 0.1393016\n",
      "   66     9    9 rx_max = 0.0704059    11   10 ry_max = 0.1393016\n",
      "   67     9    9 rx_max = 0.0704059    11   10 ry_max = 0.1393016\n",
      "   68     9    9 rx_max = 0.0704059    11   10 ry_max = 0.1393016\n",
      "   69     9    9 rx_max = 0.0704059    11   10 ry_max = 0.1393016\n",
      "   70     9    9 rx_max = 0.0704059    11   10 ry_max = 0.1393016\n",
      "   71     9    9 rx_max = 0.0704059    11   10 ry_max = 0.1393016\n",
      "   72     9    9 rx_max = 0.0704059    11   10 ry_max = 0.1393016\n",
      "   73     9    9 rx_max = 0.0704059    11   10 ry_max = 0.1393016\n",
      "   74     9    9 rx_max = 0.0704059    11   10 ry_max = 0.1393016\n",
      "   75     9    9 rx_max = 0.0704059    11   10 ry_max = 0.1393016\n",
      "   76     9    9 rx_max = 0.0704059    11   10 ry_max = 0.1393016\n",
      "   77     9    9 rx_max = 0.0704059    11   10 ry_max = 0.1393016\n",
      "   78     9    9 rx_max = 0.0704059    11   10 ry_max = 0.1393016\n",
      "   79     9    9 rx_max = 0.0704059    11   10 ry_max = 0.1393016\n",
      "   80     9    9 rx_max = 0.0704059    11   10 ry_max = 0.1393016\n",
      "   81     9    9 rx_max = 0.0704059    11   10 ry_max = 0.1393016\n",
      "   82     9    9 rx_max = 0.0704059    11   10 ry_max = 0.1393016\n",
      "   83     9    9 rx_max = 0.0704059    11   10 ry_max = 0.1393016\n",
      "   84     9    9 rx_max = 0.0704059    11   10 ry_max = 0.1393016\n",
      "   85     9    9 rx_max = 0.0704059    11   10 ry_max = 0.1393016\n",
      "   86     9    9 rx_max = 0.0704059    11   10 ry_max = 0.1393016\n",
      "   87     9    9 rx_max = 0.0704059    11   10 ry_max = 0.1393016\n",
      "   88     9    9 rx_max = 0.0704059    11   10 ry_max = 0.1393016\n",
      "   89     9    9 rx_max = 0.0704059    11   10 ry_max = 0.1393016\n",
      "   90     9    9 rx_max = 0.0704059    11   10 ry_max = 0.1393016\n",
      "   91     9    9 rx_max = 0.0704059    11   10 ry_max = 0.1393016\n",
      "   92     9    9 rx_max = 0.0704059    11   10 ry_max = 0.1393016\n",
      "   93     9    9 rx_max = 0.0704059    11   10 ry_max = 0.1393016\n",
      "   94     9    9 rx_max = 0.0704059    11   10 ry_max = 0.1393016\n",
      "   95     9    9 rx_max = 0.0704059    11   10 ry_max = 0.1393016\n",
      "   96     9    9 rx_max = 0.0704059    11   10 ry_max = 0.1393016\n",
      "   97     9    9 rx_max = 0.0704059    11   10 ry_max = 0.1393016\n",
      "   98     9    9 rx_max = 0.0704059    11   10 ry_max = 0.1393016\n",
      "   99     9    9 rx_max = 0.0704059    11   10 ry_max = 0.1393016\n",
      "  100     9    9 rx_max = 0.0704059    11   10 ry_max = 0.1393016\n",
      "  101     9    9 rx_max = 0.0704059    11   10 ry_max = 0.1393016\n",
      "  102     9    9 rx_max = 0.0704059    11   10 ry_max = 0.1393016\n",
      "  103     9    9 rx_max = 0.0704059    11   10 ry_max = 0.1393016\n",
      "  104     9    9 rx_max = 0.0704059    11   10 ry_max = 0.1393016\n",
      "  105     9    9 rx_max = 0.0704059    11   10 ry_max = 0.1393016\n",
      "  106     9    9 rx_max = 0.0704059    11   10 ry_max = 0.1393016\n",
      "  107     9    9 rx_max = 0.0704059    11   10 ry_max = 0.1393016\n",
      "  108     9    9 rx_max = 0.0704059    11   10 ry_max = 0.1393016\n",
      "  109     9    9 rx_max = 0.0704059    11   10 ry_max = 0.1393016\n",
      "  110     9    9 rx_max = 0.0704059    11   10 ry_max = 0.1393016\n",
      "  111     9    9 rx_max = 0.0704059    11   10 ry_max = 0.1393016\n",
      "  112     9    9 rx_max = 0.0704059    11   10 ry_max = 0.1393016\n",
      "  113     9    9 rx_max = 0.0704059    11   10 ry_max = 0.1393016\n",
      "  114     9    9 rx_max = 0.0704059    11   10 ry_max = 0.1393016\n",
      "  115     9    9 rx_max = 0.0704059    11   10 ry_max = 0.1393016\n",
      "  116     9    9 rx_max = 0.0704059    11   10 ry_max = 0.1393016\n",
      "  117     9    9 rx_max = 0.0704059    11   10 ry_max = 0.1393016\n",
      "  118     9    9 rx_max = 0.0704059    11   10 ry_max = 0.1393016\n",
      "  119     9    9 rx_max = 0.0704059    11   10 ry_max = 0.1393016\n",
      "  120     9    9 rx_max = 0.0704059    11   10 ry_max = 0.1393016\n",
      "  121     9    9 rx_max = 0.0704059    11   10 ry_max = 0.1393016\n",
      "  122     9    9 rx_max = 0.0704059    11   10 ry_max = 0.1393016\n",
      "  123     9    9 rx_max = 0.0704059    11   10 ry_max = 0.1393016\n",
      "  124     9    9 rx_max = 0.0704059    11   10 ry_max = 0.1393016\n",
      "  125     9    9 rx_max = 0.0704059    11   10 ry_max = 0.1393016\n",
      "  126     9    9 rx_max = 0.0704059    11   10 ry_max = 0.1393016\n",
      "  127     9    9 rx_max = 0.0704059    11   10 ry_max = 0.1393016\n",
      "  128     9    9 rx_max = 0.0704059    11   10 ry_max = 0.1393016\n",
      "  129     9    9 rx_max = 0.0704059    11   10 ry_max = 0.1393016\n",
      "  130     9    9 rx_max = 0.0704059    11   10 ry_max = 0.1393016\n",
      "  131     9    9 rx_max = 0.0704059    11   10 ry_max = 0.1393016\n",
      "  132     9    9 rx_max = 0.0704059    11   10 ry_max = 0.1393016\n",
      "  133     9    9 rx_max = 0.0704059    11   10 ry_max = 0.1393016\n",
      "  134     9    9 rx_max = 0.0704059    11   10 ry_max = 0.1393016\n",
      "  135     9    9 rx_max = 0.0704059    11   10 ry_max = 0.1393016\n",
      "  136     9    9 rx_max = 0.0704059    11   10 ry_max = 0.1393016\n",
      "  137     9    9 rx_max = 0.0704059    11   10 ry_max = 0.1393016\n",
      "  138     9    9 rx_max = 0.0704059    11   10 ry_max = 0.1393016\n",
      "  139     9    9 rx_max = 0.0704059    11   10 ry_max = 0.1393016\n",
      "  140     9    9 rx_max = 0.0704059    11   10 ry_max = 0.1393016\n",
      "  141     9    9 rx_max = 0.0704059    11   10 ry_max = 0.1393016\n",
      "  142     9    9 rx_max = 0.0704059    11   10 ry_max = 0.1393016\n",
      "  143     9    9 rx_max = 0.0704059    11   10 ry_max = 0.1393016\n",
      "  144     9    9 rx_max = 0.0704059    11   10 ry_max = 0.1393016\n",
      "  145     9    9 rx_max = 0.0704059    11   10 ry_max = 0.1393016\n",
      "  146     9    9 rx_max = 0.0704059    11   10 ry_max = 0.1393016\n",
      "  147     9    9 rx_max = 0.0704059    11   10 ry_max = 0.1393016\n",
      "  148     9    9 rx_max = 0.0704059    11   10 ry_max = 0.1393016\n",
      "  149     9    9 rx_max = 0.0704059    11   10 ry_max = 0.1393016\n",
      "  150     9    9 rx_max = 0.0704059    11   10 ry_max = 0.1393016\n",
      "  151     9    9 rx_max = 0.0704059    11   10 ry_max = 0.1393016\n",
      "  152     9    9 rx_max = 0.0704059    11   10 ry_max = 0.1393016\n",
      "  153     9    9 rx_max = 0.0704059    11   10 ry_max = 0.1393016\n",
      "  154     9    9 rx_max = 0.0704059    11   10 ry_max = 0.1393016\n",
      "  155     9    9 rx_max = 0.0704059    11   10 ry_max = 0.1393016\n",
      "  156     9    9 rx_max = 0.0704059    11   10 ry_max = 0.1393016\n",
      "  157     9    9 rx_max = 0.0704059    11   10 ry_max = 0.1393016\n",
      "  158     9    9 rx_max = 0.0704059    11   10 ry_max = 0.1393016\n",
      "  159     9    9 rx_max = 0.0704059    11   10 ry_max = 0.1393016\n",
      "  160     9    9 rx_max = 0.0704059    11   10 ry_max = 0.1393016\n",
      "  161     9    9 rx_max = 0.0704059    11   10 ry_max = 0.1393016\n",
      "  162     9    9 rx_max = 0.0704059    11   10 ry_max = 0.1393016\n",
      "  163     9    9 rx_max = 0.0704059    11   10 ry_max = 0.1393016\n",
      "  164     9    9 rx_max = 0.0704059    11   10 ry_max = 0.1393016\n",
      "  165     9    9 rx_max = 0.0704059    11   10 ry_max = 0.1393016\n",
      "  166     9    9 rx_max = 0.0704059    11   10 ry_max = 0.1393016\n",
      "  167     9    9 rx_max = 0.0704059    11   10 ry_max = 0.1393016\n",
      "  168     9    9 rx_max = 0.0704059    11   10 ry_max = 0.1393016\n",
      "  169     9    9 rx_max = 0.0704059    11   10 ry_max = 0.1393016\n",
      "  170     9    9 rx_max = 0.0704059    11   10 ry_max = 0.1393016\n",
      "  171     9    9 rx_max = 0.0704059    11   10 ry_max = 0.1393016\n",
      "  172     9    9 rx_max = 0.0704059    11   10 ry_max = 0.1393016\n",
      "  173     9    9 rx_max = 0.0704059    11   10 ry_max = 0.1393016\n",
      "  174     9    9 rx_max = 0.0704059    11   10 ry_max = 0.1393016\n",
      "  175     9    9 rx_max = 0.0704059    11   10 ry_max = 0.1393016\n",
      "  176     9    9 rx_max = 0.0704059    11   10 ry_max = 0.1393016\n",
      "  177     9    9 rx_max = 0.0704059    11   10 ry_max = 0.1393016\n",
      "  178     9    9 rx_max = 0.0704059    11   10 ry_max = 0.1393016\n",
      "  179     9    9 rx_max = 0.0704059    11   10 ry_max = 0.1393016\n",
      "  180     9    9 rx_max = 0.0704059    11   10 ry_max = 0.1393016\n",
      "  181     9    9 rx_max = 0.0704059    11   10 ry_max = 0.1393016\n",
      "  182     9    9 rx_max = 0.0704059    11   10 ry_max = 0.1393016\n",
      "  183     9    9 rx_max = 0.0704059    11   10 ry_max = 0.1393016\n",
      "  184     9    9 rx_max = 0.0704059    11   10 ry_max = 0.1393016\n",
      "  185     9    9 rx_max = 0.0704059    11   10 ry_max = 0.1393016\n",
      "  186     9    9 rx_max = 0.0704059    11   10 ry_max = 0.1393016\n",
      "  187     9    9 rx_max = 0.0704059    11   10 ry_max = 0.1393016\n",
      "  188     9    9 rx_max = 0.0704059    11   10 ry_max = 0.1393016\n",
      "  189     9    9 rx_max = 0.0704059    11   10 ry_max = 0.1393016\n",
      "  190     9    9 rx_max = 0.0704059    11   10 ry_max = 0.1393016\n",
      "  191     9    9 rx_max = 0.0704059    11   10 ry_max = 0.1393016\n",
      "  192     9    9 rx_max = 0.0704059    11   10 ry_max = 0.1393016\n",
      "  193     9    9 rx_max = 0.0704059    11   10 ry_max = 0.1393016\n",
      "  194     9    9 rx_max = 0.0704059    11   10 ry_max = 0.1393016\n",
      "  195     9    9 rx_max = 0.0704059    11   10 ry_max = 0.1393016\n",
      "  196     9    9 rx_max = 0.0704059    11   10 ry_max = 0.1393016\n",
      "  197     9    9 rx_max = 0.0704059    11   10 ry_max = 0.1393016\n",
      "  198     9    9 rx_max = 0.0704059    11   10 ry_max = 0.1393016\n",
      "  199     9    9 rx_max = 0.0704059    11   10 ry_max = 0.1393016\n",
      "  200     9    9 rx_max = 0.0704059    11   10 ry_max = 0.1393016\n",
      "  201     9    9 rx_max = 0.0704059    11   10 ry_max = 0.1393016\n",
      "  202     9    9 rx_max = 0.0704059    11   10 ry_max = 0.1393016\n",
      "  203     9    9 rx_max = 0.0704059    11   10 ry_max = 0.1393016\n",
      "  204     9    9 rx_max = 0.0704059    11   10 ry_max = 0.1393016\n",
      "  205     9    9 rx_max = 0.0704059    11   10 ry_max = 0.1393016\n",
      "  206     9    9 rx_max = 0.0704059    11   10 ry_max = 0.1393016\n",
      "  207     9    9 rx_max = 0.0704059    11   10 ry_max = 0.1393016\n",
      "  208     9    9 rx_max = 0.0704059    11   10 ry_max = 0.1393016\n",
      "  209     9    9 rx_max = 0.0704059    11   10 ry_max = 0.1393016\n",
      "  210     9    9 rx_max = 0.0704059    11   10 ry_max = 0.1393016\n",
      "  211     9    9 rx_max = 0.0704059    11   10 ry_max = 0.1393016\n",
      "  212     9    9 rx_max = 0.0704059    11   10 ry_max = 0.1393016\n",
      "  213     9    9 rx_max = 0.0704059    11   10 ry_max = 0.1393016\n",
      "  214     9    9 rx_max = 0.0704059    11   10 ry_max = 0.1393016\n",
      "  215     9    9 rx_max = 0.0704059    11   10 ry_max = 0.1393016\n",
      "  216     9    9 rx_max = 0.0704059    11   10 ry_max = 0.1393016\n",
      "  217     9    9 rx_max = 0.0704059    11   10 ry_max = 0.1393016\n",
      "  218     9    9 rx_max = 0.0704059    11   10 ry_max = 0.1393016\n",
      "  219     9    9 rx_max = 0.0704059    11   10 ry_max = 0.1393016\n",
      "  220     9    9 rx_max = 0.0704059    11   10 ry_max = 0.1393016\n",
      "  221     9    9 rx_max = 0.0704059    11   10 ry_max = 0.1393016\n",
      "  222     9    9 rx_max = 0.0704059    11   10 ry_max = 0.1393016\n",
      "  223     9    9 rx_max = 0.0704059    11   10 ry_max = 0.1393016\n",
      "  224     9    9 rx_max = 0.0704059    11   10 ry_max = 0.1393016\n",
      "  225     9    9 rx_max = 0.0704059    11   10 ry_max = 0.1393016\n",
      "  226     9    9 rx_max = 0.0704059    11   10 ry_max = 0.1393016\n",
      "  227     9    9 rx_max = 0.0704059    11   10 ry_max = 0.1393016\n",
      "  228     9    9 rx_max = 0.0704059    11   10 ry_max = 0.1393016\n",
      "  229     9    9 rx_max = 0.0704059    11   10 ry_max = 0.1393016\n",
      "  230     9    9 rx_max = 0.0704059    11   10 ry_max = 0.1393016\n",
      "  231     9    9 rx_max = 0.0704059    11   10 ry_max = 0.1393016\n",
      "  232     9    9 rx_max = 0.0704059    11   10 ry_max = 0.1393016\n",
      "  233     9    9 rx_max = 0.0704059    11   10 ry_max = 0.1393016\n",
      "  234     9    9 rx_max = 0.0704059    11   10 ry_max = 0.1393016\n",
      "  235     9    9 rx_max = 0.0704059    11   10 ry_max = 0.1393016\n",
      "  236     9    9 rx_max = 0.0704059    11   10 ry_max = 0.1393016\n",
      "  237     9    9 rx_max = 0.0704059    11   10 ry_max = 0.1393016\n",
      "  238     9    9 rx_max = 0.0704059    11   10 ry_max = 0.1393016\n",
      "  239     9    9 rx_max = 0.0704059    11   10 ry_max = 0.1393016\n",
      "  240     9    9 rx_max = 0.0704059    11   10 ry_max = 0.1393016\n",
      "  241     9    9 rx_max = 0.0704059    11   10 ry_max = 0.1393016\n",
      "  242     9    9 rx_max = 0.0704059    11   10 ry_max = 0.1393016\n",
      "  243     9    9 rx_max = 0.0704059    11   10 ry_max = 0.1393016\n",
      "  244     9    9 rx_max = 0.0704059    11   10 ry_max = 0.1393016\n",
      "  245     9    9 rx_max = 0.0704059    11   10 ry_max = 0.1393016\n",
      "  246     9    9 rx_max = 0.0704059    11   10 ry_max = 0.1393016\n",
      "  247     9    9 rx_max = 0.0704059    11   10 ry_max = 0.1393016\n",
      "  248     9    9 rx_max = 0.0704059    11   10 ry_max = 0.1393016\n",
      "  249     9    9 rx_max = 0.0704059    11   10 ry_max = 0.1393016\n",
      "  250     9    9 rx_max = 0.0704059    11   10 ry_max = 0.1393016\n",
      "  251     9    9 rx_max = 0.0704059    11   10 ry_max = 0.1393016\n",
      "  252     9    9 rx_max = 0.0704059    11   10 ry_max = 0.1393016\n",
      "  253     9    9 rx_max = 0.0704059    11   10 ry_max = 0.1393016\n",
      "  254     9    9 rx_max = 0.0704059    11   10 ry_max = 0.1393016\n",
      "  255     9    9 rx_max = 0.0704059    11   10 ry_max = 0.1393016\n",
      "  256     9    9 rx_max = 0.0704059    11   10 ry_max = 0.1393016\n",
      "  257     9    9 rx_max = 0.0704059    11   10 ry_max = 0.1393016\n",
      "  258     9    9 rx_max = 0.0704059    11   10 ry_max = 0.1393016\n",
      "  259     9    9 rx_max = 0.0704059    11   10 ry_max = 0.1393016\n",
      "  260     9    9 rx_max = 0.0704059    11   10 ry_max = 0.1393016\n",
      "  261     9    9 rx_max = 0.0704059    11   10 ry_max = 0.1393016\n",
      "  262     9    9 rx_max = 0.0704059    11   10 ry_max = 0.1393016\n",
      "  263     9    9 rx_max = 0.0704059    11   10 ry_max = 0.1393016\n",
      "  264     9    9 rx_max = 0.0704059    11   10 ry_max = 0.1393016\n",
      "  265     9    9 rx_max = 0.0704059    11   10 ry_max = 0.1393016\n",
      "  266     9    9 rx_max = 0.0704059    11   10 ry_max = 0.1393016\n",
      "  267     9    9 rx_max = 0.0704059    11   10 ry_max = 0.1393016\n",
      "  268     9    9 rx_max = 0.0704059    11   10 ry_max = 0.1393016\n",
      "  269     9    9 rx_max = 0.0704059    11   10 ry_max = 0.1393016\n",
      "  270     9    9 rx_max = 0.0704059    11   10 ry_max = 0.1393016\n",
      "  271     9    9 rx_max = 0.0704059    11   10 ry_max = 0.1393016\n",
      "  272     9    9 rx_max = 0.0704059    11   10 ry_max = 0.1393016\n",
      "  273     9    9 rx_max = 0.0704059    11   10 ry_max = 0.1393016\n",
      "  274     9    9 rx_max = 0.0704059    11   10 ry_max = 0.1393016\n",
      "  275     9    9 rx_max = 0.0704059    11   10 ry_max = 0.1393016\n",
      "  276     9    9 rx_max = 0.0704059    11   10 ry_max = 0.1393016\n",
      "  277     9    9 rx_max = 0.0704059    11   10 ry_max = 0.1393016\n",
      "  278     9    9 rx_max = 0.0704059    11   10 ry_max = 0.1393016\n",
      "  279     9    9 rx_max = 0.0704059    11   10 ry_max = 0.1393016\n",
      "  280     9    9 rx_max = 0.0704059    11   10 ry_max = 0.1393016\n",
      "  281     9    9 rx_max = 0.0704059    11   10 ry_max = 0.1393016\n",
      "  282     9    9 rx_max = 0.0704059    11   10 ry_max = 0.1393016\n",
      "  283     9    9 rx_max = 0.0704059    11   10 ry_max = 0.1393016\n",
      "  284     9    9 rx_max = 0.0704059    11   10 ry_max = 0.1393016\n",
      "  285     9    9 rx_max = 0.0704059    11   10 ry_max = 0.1393016\n",
      "  286     9    9 rx_max = 0.0704059    11   10 ry_max = 0.1393016\n",
      "  287     9    9 rx_max = 0.0704059    11   10 ry_max = 0.1393016\n",
      "  288     9    9 rx_max = 0.0704059    11   10 ry_max = 0.1393016\n",
      "  289     9    9 rx_max = 0.0704059    11   10 ry_max = 0.1393016\n",
      "  290     9    9 rx_max = 0.0704059    11   10 ry_max = 0.1393016\n",
      "  291     9    9 rx_max = 0.0704059    11   10 ry_max = 0.1393016\n",
      "  292     9    9 rx_max = 0.0704059    11   10 ry_max = 0.1393016\n",
      "  293     9    9 rx_max = 0.0704059    11   10 ry_max = 0.1393016\n",
      "  294     9    9 rx_max = 0.0704059    11   10 ry_max = 0.1393016\n",
      "  295     9    9 rx_max = 0.0704059    11   10 ry_max = 0.1393016\n",
      "  296     9    9 rx_max = 0.0704059    11   10 ry_max = 0.1393016\n",
      "  297     9    9 rx_max = 0.0704059    11   10 ry_max = 0.1393016\n",
      "  298     9    9 rx_max = 0.0704059    11   10 ry_max = 0.1393016\n",
      "  299     9    9 rx_max = 0.0704059    11   10 ry_max = 0.1393016\n",
      "  300     9    9 rx_max = 0.0704059    11   10 ry_max = 0.1393016\n",
      "  301     9    9 rx_max = 0.0704059    11   10 ry_max = 0.1393016\n",
      "  302     9    9 rx_max = 0.0704059    11   10 ry_max = 0.1393016\n",
      "  303     9    9 rx_max = 0.0704059    11   10 ry_max = 0.1393016\n",
      "  304     9    9 rx_max = 0.0704059    11   10 ry_max = 0.1393016\n",
      "  305     9    9 rx_max = 0.0704059    11   10 ry_max = 0.1393016\n",
      "  306     9    9 rx_max = 0.0704059    11   10 ry_max = 0.1393016\n",
      "  307     9    9 rx_max = 0.0704059    11   10 ry_max = 0.1393016\n",
      "  308     9    9 rx_max = 0.0704059    11   10 ry_max = 0.1393016\n",
      "  309     9    9 rx_max = 0.0704059    11   10 ry_max = 0.1393016\n",
      "  310     9    9 rx_max = 0.0704059    11   10 ry_max = 0.1393016\n",
      "  311     9    9 rx_max = 0.0704059    11   10 ry_max = 0.1393016\n",
      "  312     9    9 rx_max = 0.0704059    11   10 ry_max = 0.1393016\n",
      "  313     9    9 rx_max = 0.0704059    11   10 ry_max = 0.1393016\n",
      "  314     9    9 rx_max = 0.0704059    11   10 ry_max = 0.1393016\n",
      "  315     9    9 rx_max = 0.0704059    11   10 ry_max = 0.1393016\n",
      "  316     9    9 rx_max = 0.0704059    11   10 ry_max = 0.1393016\n",
      "  317     9    9 rx_max = 0.0704059    11   10 ry_max = 0.1393016\n",
      "  318     9    9 rx_max = 0.0704059    11   10 ry_max = 0.1393016\n",
      "  319     9    9 rx_max = 0.0704059    11   10 ry_max = 0.1393016\n",
      "  320     9    9 rx_max = 0.0704059    11   10 ry_max = 0.1393016\n",
      "  321     9    9 rx_max = 0.0704059    11   10 ry_max = 0.1393016\n",
      "  322     9    9 rx_max = 0.0704059    11   10 ry_max = 0.1393016\n",
      "  323     9    9 rx_max = 0.0704059    11   10 ry_max = 0.1393016\n",
      "  324     9    9 rx_max = 0.0704059    11   10 ry_max = 0.1393016\n",
      "  325     9    9 rx_max = 0.0704059    11   10 ry_max = 0.1393016\n",
      "  326     9    9 rx_max = 0.0704059    11   10 ry_max = 0.1393016\n",
      "  327     9    9 rx_max = 0.0704059    11   10 ry_max = 0.1393016\n",
      "  328     9    9 rx_max = 0.0704059    11   10 ry_max = 0.1393016\n",
      "  329     9    9 rx_max = 0.0704059    11   10 ry_max = 0.1393016\n",
      "  330     9    9 rx_max = 0.0704059    11   10 ry_max = 0.1393016\n",
      "  331     9    9 rx_max = 0.0704059    11   10 ry_max = 0.1393016\n",
      "  332     9    9 rx_max = 0.0704059    11   10 ry_max = 0.1393016\n",
      "  333     9    9 rx_max = 0.0704059    11   10 ry_max = 0.1393016\n",
      "  334     9    9 rx_max = 0.0704059    11   10 ry_max = 0.1393016\n",
      "  335     9    9 rx_max = 0.0704059    11   10 ry_max = 0.1393016\n",
      "  336     9    9 rx_max = 0.0704059    11   10 ry_max = 0.1393016\n",
      "  337     9    9 rx_max = 0.0704059    11   10 ry_max = 0.1393016\n",
      "  338     9    9 rx_max = 0.0704059    11   10 ry_max = 0.1393016\n",
      "  339     9    9 rx_max = 0.0704059    11   10 ry_max = 0.1393016\n",
      "  340     9    9 rx_max = 0.0704059    11   10 ry_max = 0.1393016\n",
      "  341     9    9 rx_max = 0.0704059    11   10 ry_max = 0.1393016\n",
      "  342     9    9 rx_max = 0.0704059    11   10 ry_max = 0.1393016\n",
      "  343     9    9 rx_max = 0.0704059    11   10 ry_max = 0.1393016\n",
      "  344     9    9 rx_max = 0.0704059    11   10 ry_max = 0.1393016\n",
      "  345     9    9 rx_max = 0.0704059    11   10 ry_max = 0.1393016\n",
      "  346     9    9 rx_max = 0.0704059    11   10 ry_max = 0.1393016\n",
      "  347     9    9 rx_max = 0.0704059    11   10 ry_max = 0.1393016\n",
      "  348     9    9 rx_max = 0.0704059    11   10 ry_max = 0.1393016\n",
      "  349     9    9 rx_max = 0.0704059    11   10 ry_max = 0.1393016\n",
      "  350     9    9 rx_max = 0.0704059    11   10 ry_max = 0.1393016\n",
      "  351     9    9 rx_max = 0.0704059    11   10 ry_max = 0.1393016\n",
      "  352     9    9 rx_max = 0.0704059    11   10 ry_max = 0.1393016\n",
      "  353     9    9 rx_max = 0.0704059    11   10 ry_max = 0.1393016\n",
      "  354     9    9 rx_max = 0.0704059    11   10 ry_max = 0.1393016\n",
      "  355     9    9 rx_max = 0.0704059    11   10 ry_max = 0.1393016\n",
      "  356     9    9 rx_max = 0.0704059    11   10 ry_max = 0.1393016\n",
      "  357     9    9 rx_max = 0.0704059    11   10 ry_max = 0.1393016\n",
      "  358     9    9 rx_max = 0.0704059    11   10 ry_max = 0.1393016\n",
      "  359     9    9 rx_max = 0.0704059    11   10 ry_max = 0.1393016\n",
      "  360     9    9 rx_max = 0.0704059    11   10 ry_max = 0.1393016\n",
      "  361     9    9 rx_max = 0.0704059    11   10 ry_max = 0.1393016\n",
      "  362     9    9 rx_max = 0.0704059    11   10 ry_max = 0.1393016\n",
      "  363     9    9 rx_max = 0.0704059    11   10 ry_max = 0.1393016\n",
      "  364     9    9 rx_max = 0.0704059    11   10 ry_max = 0.1393016\n",
      "  365     9    9 rx_max = 0.0704059    11   10 ry_max = 0.1393016\n",
      "  366     9    9 rx_max = 0.0704059    11   10 ry_max = 0.1393016\n",
      "  367     9    9 rx_max = 0.0704059    11   10 ry_max = 0.1393016\n",
      "  368     9    9 rx_max = 0.0704059    11   10 ry_max = 0.1393016\n",
      "  369     9    9 rx_max = 0.0704059    11   10 ry_max = 0.1393016\n",
      "  370     9    9 rx_max = 0.0704059    11   10 ry_max = 0.1393016\n",
      "  371     9    9 rx_max = 0.0704059    11   10 ry_max = 0.1393016\n",
      "  372     9    9 rx_max = 0.0704059    11   10 ry_max = 0.1393016\n",
      "  373     9    9 rx_max = 0.0704059    11   10 ry_max = 0.1393016\n",
      "  374     9    9 rx_max = 0.0704059    11   10 ry_max = 0.1393016\n",
      "  375     9    9 rx_max = 0.0704059    11   10 ry_max = 0.1393016\n",
      "  376     9    9 rx_max = 0.0704059    11   10 ry_max = 0.1393016\n",
      "  377     9    9 rx_max = 0.0704059    11   10 ry_max = 0.1393016\n",
      "  378     9    9 rx_max = 0.0704059    11   10 ry_max = 0.1393016\n",
      "  379     9    9 rx_max = 0.0704059    11   10 ry_max = 0.1393016\n",
      "  380     9    9 rx_max = 0.0704059    11   10 ry_max = 0.1393016\n",
      "  381     9    9 rx_max = 0.0704059    11   10 ry_max = 0.1393016\n",
      "  382     9    9 rx_max = 0.0704059    11   10 ry_max = 0.1393016\n",
      "  383     9    9 rx_max = 0.0704059    11   10 ry_max = 0.1393016\n",
      "  384     9    9 rx_max = 0.0704059    11   10 ry_max = 0.1393016\n",
      "  385     9    9 rx_max = 0.0704059    11   10 ry_max = 0.1393016\n",
      "  386     9    9 rx_max = 0.0704059    11   10 ry_max = 0.1393016\n",
      "  387     9    9 rx_max = 0.0704059    11   10 ry_max = 0.1393016\n",
      "  388     9    9 rx_max = 0.0704059    11   10 ry_max = 0.1393016\n",
      "  389     9    9 rx_max = 0.0704059    11   10 ry_max = 0.1393016\n",
      "  390     9    9 rx_max = 0.0704059    11   10 ry_max = 0.1393016\n",
      "  391     9    9 rx_max = 0.0704059    11   10 ry_max = 0.1393016\n",
      "  392     9    9 rx_max = 0.0704059    11   10 ry_max = 0.1393016\n",
      "  393     9    9 rx_max = 0.0704059    11   10 ry_max = 0.1393016\n",
      "  394     9    9 rx_max = 0.0704059    11   10 ry_max = 0.1393016\n",
      "  395     9    9 rx_max = 0.0704059    11   10 ry_max = 0.1393016\n",
      "  396     9    9 rx_max = 0.0704059    11   10 ry_max = 0.1393016\n",
      "  397     9    9 rx_max = 0.0704059    11   10 ry_max = 0.1393016\n",
      "  398     9    9 rx_max = 0.0704059    11   10 ry_max = 0.1393016\n",
      "  399     9    9 rx_max = 0.0704059    11   10 ry_max = 0.1393016\n",
      "  400     9    9 rx_max = 0.0704059    11   10 ry_max = 0.1393016\n",
      "  401     9    9 rx_max = 0.0704059    11   10 ry_max = 0.1393016\n",
      "  402     9    9 rx_max = 0.0704059    11   10 ry_max = 0.1393016\n",
      "  403     9    9 rx_max = 0.0704059    11   10 ry_max = 0.1393016\n",
      "  404     9    9 rx_max = 0.0704059    11   10 ry_max = 0.1393016\n",
      "  405     9    9 rx_max = 0.0704059    11   10 ry_max = 0.1393016\n",
      "  406     9    9 rx_max = 0.0704059    11   10 ry_max = 0.1393016\n",
      "  407     9    9 rx_max = 0.0704059    11   10 ry_max = 0.1393016\n",
      "  408     9    9 rx_max = 0.0704059    11   10 ry_max = 0.1393016\n",
      "  409     9    9 rx_max = 0.0704059    11   10 ry_max = 0.1393016\n",
      "  410     9    9 rx_max = 0.0704059    11   10 ry_max = 0.1393016\n",
      "  411     9    9 rx_max = 0.0704059    11   10 ry_max = 0.1393016\n",
      "  412     9    9 rx_max = 0.0704059    11   10 ry_max = 0.1393016\n",
      "  413     9    9 rx_max = 0.0704059    11   10 ry_max = 0.1393016\n",
      "  414     9    9 rx_max = 0.0704059    11   10 ry_max = 0.1393016\n",
      "  415     9    9 rx_max = 0.0704059    11   10 ry_max = 0.1393016\n",
      "  416     9    9 rx_max = 0.0704059    11   10 ry_max = 0.1393016\n",
      "  417     9    9 rx_max = 0.0704059    11   10 ry_max = 0.1393016\n",
      "  418     9    9 rx_max = 0.0704059    11   10 ry_max = 0.1393016\n",
      "  419     9    9 rx_max = 0.0704059    11   10 ry_max = 0.1393016\n",
      "  420     9    9 rx_max = 0.0704059    11   10 ry_max = 0.1393016\n",
      "  421     9    9 rx_max = 0.0704059    11   10 ry_max = 0.1393016\n",
      "  422     9    9 rx_max = 0.0704059    11   10 ry_max = 0.1393016\n",
      "  423     9    9 rx_max = 0.0704059    11   10 ry_max = 0.1393016\n",
      "  424     9    9 rx_max = 0.0704059    11   10 ry_max = 0.1393016\n",
      "  425     9    9 rx_max = 0.0704059    11   10 ry_max = 0.1393016\n",
      "  426     9    9 rx_max = 0.0704059    11   10 ry_max = 0.1393016\n",
      "  427     9    9 rx_max = 0.0704059    11   10 ry_max = 0.1393016\n",
      "  428     9    9 rx_max = 0.0704059    11   10 ry_max = 0.1393016\n",
      "  429     9    9 rx_max = 0.0704059    11   10 ry_max = 0.1393016\n",
      "  430     9    9 rx_max = 0.0704059    11   10 ry_max = 0.1393016\n",
      "  431     9    9 rx_max = 0.0704059    11   10 ry_max = 0.1393016\n",
      "  432     9    9 rx_max = 0.0704059    11   10 ry_max = 0.1393016\n",
      "  433     9    9 rx_max = 0.0704059    11   10 ry_max = 0.1393016\n",
      "  434     9    9 rx_max = 0.0704059    11   10 ry_max = 0.1393016\n",
      "  435     9    9 rx_max = 0.0704059    11   10 ry_max = 0.1393016\n",
      "  436     9    9 rx_max = 0.0704059    11   10 ry_max = 0.1393016\n",
      "  437     9    9 rx_max = 0.0704059    11   10 ry_max = 0.1393016\n",
      "  438     9    9 rx_max = 0.0704059    11   10 ry_max = 0.1393016\n",
      "  439     9    9 rx_max = 0.0704059    11   10 ry_max = 0.1393016\n",
      "  440     9    9 rx_max = 0.0704059    11   10 ry_max = 0.1393016\n",
      "  441     9    9 rx_max = 0.0704059    11   10 ry_max = 0.1393016\n",
      "  442     9    9 rx_max = 0.0704059    11   10 ry_max = 0.1393016\n",
      "  443     9    9 rx_max = 0.0704059    11   10 ry_max = 0.1393016\n",
      "  444     9    9 rx_max = 0.0704059    11   10 ry_max = 0.1393016\n",
      "  445     9    9 rx_max = 0.0704059    11   10 ry_max = 0.1393016\n",
      "  446     9    9 rx_max = 0.0704059    11   10 ry_max = 0.1393016\n",
      "  447     9    9 rx_max = 0.0704059    11   10 ry_max = 0.1393016\n",
      "  448     9    9 rx_max = 0.0704059    11   10 ry_max = 0.1393016\n",
      "  449     9    9 rx_max = 0.0704059    11   10 ry_max = 0.1393016\n",
      "  450     9    9 rx_max = 0.0704059    11   10 ry_max = 0.1393016\n",
      "  451     9    9 rx_max = 0.0704059    11   10 ry_max = 0.1393016\n",
      "  452     9    9 rx_max = 0.0704059    11   10 ry_max = 0.1393016\n",
      "  453     9    9 rx_max = 0.0704059    11   10 ry_max = 0.1393016\n",
      "  454     9    9 rx_max = 0.0704059    11   10 ry_max = 0.1393016\n",
      "  455     9    9 rx_max = 0.0704059    11   10 ry_max = 0.1393016\n",
      "  456     9    9 rx_max = 0.0704059    11   10 ry_max = 0.1393016\n",
      "  457     9    9 rx_max = 0.0704059    11   10 ry_max = 0.1393016\n",
      "  458     9    9 rx_max = 0.0704059    11   10 ry_max = 0.1393016\n",
      "  459     9    9 rx_max = 0.0704059    11   10 ry_max = 0.1393016\n",
      "  460     9    9 rx_max = 0.0704059    11   10 ry_max = 0.1393016\n",
      "  461     9    9 rx_max = 0.0704059    11   10 ry_max = 0.1393016\n",
      "  462     9    9 rx_max = 0.0704059    11   10 ry_max = 0.1393016\n",
      "  463     9    9 rx_max = 0.0704059    11   10 ry_max = 0.1393016\n",
      "  464     9    9 rx_max = 0.0704059    11   10 ry_max = 0.1393016\n",
      "  465     9    9 rx_max = 0.0704059    11   10 ry_max = 0.1393016\n",
      "  466     9    9 rx_max = 0.0704059    11   10 ry_max = 0.1393016\n",
      "  467     9    9 rx_max = 0.0704059    11   10 ry_max = 0.1393016\n",
      "  468     9    9 rx_max = 0.0704059    11   10 ry_max = 0.1393016\n",
      "  469     9    9 rx_max = 0.0704059    11   10 ry_max = 0.1393016\n",
      "  470     9    9 rx_max = 0.0704059    11   10 ry_max = 0.1393016\n",
      "  471     9    9 rx_max = 0.0704059    11   10 ry_max = 0.1393016\n",
      "  472     9    9 rx_max = 0.0704059    11   10 ry_max = 0.1393016\n",
      "  473     9    9 rx_max = 0.0704059    11   10 ry_max = 0.1393016\n",
      "  474     9    9 rx_max = 0.0704059    11   10 ry_max = 0.1393016\n",
      "  475     9    9 rx_max = 0.0704059    11   10 ry_max = 0.1393016\n",
      "  476     9    9 rx_max = 0.0704059    11   10 ry_max = 0.1393016\n",
      "  477     9    9 rx_max = 0.0704059    11   10 ry_max = 0.1393016\n",
      "  478     9    9 rx_max = 0.0704059    11   10 ry_max = 0.1393016\n",
      "  479     9    9 rx_max = 0.0704059    11   10 ry_max = 0.1393016\n",
      "  480     9    9 rx_max = 0.0704059    11   10 ry_max = 0.1393016\n",
      "  481     9    9 rx_max = 0.0704059    11   10 ry_max = 0.1393016\n",
      "  482     9    9 rx_max = 0.0704059    11   10 ry_max = 0.1393016\n",
      "  483     9    9 rx_max = 0.0704059    11   10 ry_max = 0.1393016\n",
      "  484     9    9 rx_max = 0.0704059    11   10 ry_max = 0.1393016\n",
      "  485     9    9 rx_max = 0.0704059    11   10 ry_max = 0.1393016\n",
      "  486     9    9 rx_max = 0.0704059    11   10 ry_max = 0.1393016\n",
      "  487     9    9 rx_max = 0.0704059    11   10 ry_max = 0.1393016\n",
      "  488     9    9 rx_max = 0.0704059    11   10 ry_max = 0.1393016\n",
      "  489     9    9 rx_max = 0.0704059    11   10 ry_max = 0.1393016\n",
      "  490     9    9 rx_max = 0.0704059    11   10 ry_max = 0.1393016\n",
      "  491     9    9 rx_max = 0.0704059    11   10 ry_max = 0.1393016\n",
      "  492     9    9 rx_max = 0.0704059    11   10 ry_max = 0.1393016\n",
      "  493     9    9 rx_max = 0.0704059    11   10 ry_max = 0.1393016\n",
      "  494     9    9 rx_max = 0.0704059    11   10 ry_max = 0.1393016\n",
      "  495     9    9 rx_max = 0.0704059    11   10 ry_max = 0.1393016\n",
      "  496     9    9 rx_max = 0.0704059    11   10 ry_max = 0.1393016\n",
      "  497     9    9 rx_max = 0.0704059    11   10 ry_max = 0.1393016\n",
      "  498     9    9 rx_max = 0.0704059    11   10 ry_max = 0.1393016\n",
      "  499     9    9 rx_max = 0.0704059    11   10 ry_max = 0.1393016\n",
      "\n",
      " Wall Clock time spent in smoothing    0.00 sec running   1 threads.\n"
     ]
    }
   ],
   "source": [
    "#GetTopo.topo(None,outputs,topofile,shp_file,smooth=inputs_smth,sgl_connect=sgl_connect)\n",
    "GetTopo.topo(None,outputs, topofile, shp_file, smooth= inputs_smth, sgl_connect=sgl_connect, prt_grd=prt)"
   ]
  },
  {
   "cell_type": "markdown",
   "id": "ca2716e3-a6f0-4135-b58a-9039aac96818",
   "metadata": {},
   "source": [
    "#### 🪨🧩 Connecting parent/child topo's"
   ]
  },
  {
   "cell_type": "markdown",
   "id": "8448f301-3f2f-45be-9e22-9afe942642ee",
   "metadata": {},
   "source": [
    "<div style=\"border: 2px solid yellow; padding: 10px; background-color: #fff3e0;\">\n",
    "    <strong>🚨 CHECKBOX SELECTION:</strong> SIMPLY RUN THE NEXT CELL TO SELECT OBCs\n",
    "</div>"
   ]
  },
  {
   "cell_type": "code",
   "execution_count": 20,
   "id": "c62f6348-5343-4438-b077-3a816ff3ad16",
   "metadata": {},
   "outputs": [
    {
     "data": {
      "application/vnd.jupyter.widget-view+json": {
       "model_id": "4ebbc699711f4553bfbe195e60dc6dbb",
       "version_major": 2,
       "version_minor": 0
      },
      "text/plain": [
       "VBox(children=(Checkbox(value=True, description='North Border', layout=Layout(width='100%')), Checkbox(value=T…"
      ]
     },
     "metadata": {},
     "output_type": "display_data"
    },
    {
     "data": {
      "application/vnd.jupyter.widget-view+json": {
       "model_id": "b6cb1893f96b4decb772308cf42677a8",
       "version_major": 2,
       "version_minor": 0
      },
      "text/plain": [
       "Output()"
      ]
     },
     "metadata": {},
     "output_type": "display_data"
    }
   ],
   "source": [
    "# Define variables to store the settings\n",
    "settings = {\n",
    "    'NORTH': True,\n",
    "    'SOUTH': True,\n",
    "    'WEST': True,\n",
    "    'EAST': True,\n",
    "    'MERGING_AREA': 5  # Set default value to 5\n",
    "}\n",
    "\n",
    "# Function to handle saving values\n",
    "def save_values(b):\n",
    "    # Update settings with current values\n",
    "    settings['NORTH'] = north_checkbox.value\n",
    "    settings['SOUTH'] = south_checkbox.value\n",
    "    settings['WEST'] = west_checkbox.value\n",
    "    settings['EAST'] = east_checkbox.value\n",
    "    settings['MERGING_AREA'] = merging_area_text.value\n",
    "    \n",
    "    # Display confirmation message\n",
    "    with output:\n",
    "        clear_output()\n",
    "        print(\"Settings have been saved.\")\n",
    "        print(settings)  # Display current settings for verification\n",
    "\n",
    "# Create checkboxes for each border\n",
    "north_checkbox = widgets.Checkbox(value=settings['NORTH'], description='North Border')\n",
    "south_checkbox = widgets.Checkbox(value=settings['SOUTH'], description='South Border')\n",
    "west_checkbox = widgets.Checkbox(value=settings['WEST'], description='West Border')\n",
    "east_checkbox = widgets.Checkbox(value=settings['EAST'], description='East Border')\n",
    "\n",
    "# Create a field for the \"Merging Area\" parameter as an integer with default value 5\n",
    "merging_area_text = widgets.IntText(\n",
    "    value=settings['MERGING_AREA'], \n",
    "    layout=widgets.Layout(width='100px')  # Adjust width of the input field\n",
    ")\n",
    "merging_area_label = widgets.Label(\n",
    "    value='Merging Area:', \n",
    "    layout=widgets.Layout(width='150px', display='flex', justify_content='flex-end')  # Adjust label width and alignment\n",
    ")\n",
    "\n",
    "# Create an HBox for the label and input field\n",
    "merging_area_box = widgets.HBox(children=[\n",
    "    merging_area_label, \n",
    "    merging_area_text\n",
    "])\n",
    "\n",
    "# Create a button to save the settings\n",
    "save_button = widgets.Button(description=\"Save Settings\")\n",
    "save_button.on_click(save_values)\n",
    "\n",
    "# Create a box around the widgets with custom styling\n",
    "border_box = widgets.VBox(children=[\n",
    "    north_checkbox, \n",
    "    south_checkbox, \n",
    "    west_checkbox, \n",
    "    east_checkbox,\n",
    "    merging_area_box,\n",
    "    save_button\n",
    "])\n",
    "\n",
    "# Apply CSS styles to the box\n",
    "border_box.layout.border = '2px solid #007bff'\n",
    "border_box.layout.padding = '10px'\n",
    "border_box.layout.border_radius = '5px'\n",
    "border_box.layout.margin = '10px'\n",
    "border_box.layout.width = '400px'  # Increase width to ensure full visibility\n",
    "\n",
    "# Adjust width of individual widgets\n",
    "north_checkbox.layout.width = '100%'\n",
    "south_checkbox.layout.width = '100%'\n",
    "west_checkbox.layout.width = '100%'\n",
    "east_checkbox.layout.width = '100%'\n",
    "merging_area_text.layout.width = '100px'  # Set a specific width for the input field\n",
    "\n",
    "# Create an output area for displaying messages\n",
    "output = widgets.Output()\n",
    "\n",
    "# Display the box and output area\n",
    "display(border_box, output)"
   ]
  },
  {
   "cell_type": "markdown",
   "id": "01c6a052-d1f6-4fe9-9aa6-d6cb20d98d84",
   "metadata": {},
   "source": [
    "##### Run the topo matching function"
   ]
  },
  {
   "cell_type": "markdown",
   "id": "2b9def0e-b4ac-40d7-bbce-d4667effc176",
   "metadata": {},
   "source": [
    "<div class=\"alert alert-block alert-info\">\n",
    "<strong>Topo parent-child smoothing:</strong> Currently the code used to match parent/child grids'topo is the fortran one, a python version is under construction\n",
    "</div>"
   ]
  },
  {
   "cell_type": "code",
   "execution_count": 21,
   "id": "4bfe71e9-c8a1-49c0-8438-5fc48fbb2809",
   "metadata": {},
   "outputs": [],
   "source": [
    "import copy\n",
    "outputs_original= copy.deepcopy(outputs)"
   ]
  },
  {
   "cell_type": "code",
   "execution_count": 24,
   "id": "2f23b1fb-6e17-455f-9a37-fd5f1ce02fb7",
   "metadata": {},
   "outputs": [
    {
     "data": {
      "text/plain": [
       "<main_window.Outputs at 0x7ee06fd19f40>"
      ]
     },
     "execution_count": 24,
     "metadata": {},
     "output_type": "execute_result"
    },
    {
     "name": "stdout",
     "output_type": "stream",
     "text": [
      " allocated           0 MB total\n",
      " allocated           0 MB total\n",
      " Parent grid xmin,xmax =   5.9521298615024127        24.047870138497583     \n",
      " enter search_tile, jcmin =           1  jcmax =          13\n",
      "  check_search_indices ...  ...done\n",
      "  checking offsets...  max errors = 3.552713678800501E-15 8.215650382226158E-15\n",
      " allocated           0 MB total\n",
      " allocated           0 MB total\n",
      " set_tiles: nx =  12 ny =  13 numthreads =  1 nsub_x =  1 nsub_y =  1\n",
      " set_tiles: nx =  12 ny =  13 numthreads =  1 nsub_x =  1 nsub_y =  1\n",
      " Etching merging zone area into land...\n",
      "        iter =      1  npts =         0  changes =         0\n",
      " set_tiles: nx =  12 ny =  13 numthreads =  1 nsub_x =  1 nsub_y =  1\n",
      " Etching merging weight function into land...\n",
      " set_tiles: nx =  12 ny =  13 numthreads =  1 nsub_x =  1 nsub_y =  1\n",
      " Smoothing weight function, iters =          20   numthreads =           1\n",
      "        iter =     20\n",
      " Merging topography...\n"
     ]
    }
   ],
   "source": [
    "directions = []\n",
    "if settings['WEST']:\n",
    "    directions.append('West')\n",
    "if settings['EAST']:\n",
    "    directions.append('East')\n",
    "if settings['SOUTH']:\n",
    "    directions.append('South')\n",
    "if settings['NORTH']:\n",
    "    directions.append('North')\n",
    "settings['dirs'] = directions\n",
    "\n",
    "GetTopo.match_topo(None,prt,outputs,[settings['dirs'],settings['MERGING_AREA']])\n",
    "\n",
    "#topo= toolsf.r2r_match_topo(settings['WEST'],settings['EAST'],settings['SOUTH'],settings['NORTH'],nx ,ny , iip, jjp, settings['MERGING_AREA'],outputs.lon_rho.T,outputs.lat_rho.T,outputs.h.T,mask_tmp.T,\\\n",
    "                                  #prt.lon_rho.T,prt.lat_rho.T,prt.h.T)"
   ]
  },
  {
   "cell_type": "markdown",
   "id": "1b2fb9db-4936-4ce8-9e32-4392c1a12388",
   "metadata": {},
   "source": [
    "## 👁️🌐 Grid display"
   ]
  },
  {
   "cell_type": "code",
   "execution_count": 25,
   "id": "ac1fcb09-5054-49d0-9234-e2d4abfea65a",
   "metadata": {},
   "outputs": [],
   "source": [
    "#plt.style.use('_mpl-gallery')\n",
    "figure2 = plt.figure(figsize = (12,12))\n",
    "figure2.suptitle('Grid outline and bathymetry')\n",
    "ax2 = plot_outline(prt, figure2)\n",
    "ax2, cb2 = plot_topo(prt, figure2, ax2)\n",
    "#ax2 = plot_outline(outputs, figure2)\n",
    "ax2, cb2= plot_topo(outputs, figure2, ax2)"
   ]
  },
  {
   "cell_type": "code",
   "execution_count": 26,
   "id": "1d754624-fc5d-488d-a9d1-d24f3379d438",
   "metadata": {},
   "outputs": [
    {
     "data": {
      "image/png": "[encoded data removed]",
      "text/plain": [
       "<Figure size 1200x1200 with 3 Axes>"
      ]
     },
     "execution_count": 26,
     "metadata": {},
     "output_type": "execute_result"
    }
   ],
   "source": [
    "figure2"
   ]
  },
  {
   "cell_type": "markdown",
   "id": "89af957d-b581-4041-a443-127fd67266b3",
   "metadata": {},
   "source": [
    "### Save grid as necdf"
   ]
  },
  {
   "cell_type": "markdown",
   "id": "cd96ebc0-9108-4390-bf5f-aa681636dabd",
   "metadata": {},
   "source": [
    "This code creates a Netcdf file containing all grid data (geographic, topo-bathymetric, mask) in the format defined by the classes generated earlier in this notebook. Then it saves it in the ouput repertory."
   ]
  },
  {
   "cell_type": "code",
   "execution_count": 27,
   "id": "c5d12b69-5cdf-4187-ba44-0b8f541167a8",
   "metadata": {},
   "outputs": [
    {
     "name": "stdout",
     "output_type": "stream",
     "text": [
      "Writting ../../CROCO_FILES/croco_chd_grd.nc done\n"
     ]
    }
   ],
   "source": [
    "CROCO.create_grid_nc(None,output_file,inputs,outputs)"
   ]
  },
  {
   "cell_type": "code",
   "execution_count": 28,
   "id": "d0eb282d-1966-40db-ae4a-6253b0fc8fa0",
   "metadata": {},
   "outputs": [
    {
     "name": "stdout",
     "output_type": "stream",
     "text": [
      "Writting ../../CROCO_FILES/croco_chd_orig_grd.nc done\n"
     ]
    }
   ],
   "source": [
    "CROCO.create_grid_nc(None,'../../CROCO_FILES/croco_chd_orig_grd.nc',inputs,outputs_original)"
   ]
  },
  {
   "cell_type": "code",
   "execution_count": null,
   "id": "3a6da174-54b1-4376-837a-d8b6dc8ee4a6",
   "metadata": {},
   "outputs": [],
   "source": []
  }
 ],
 "metadata": {
  "kernelspec": {
   "display_name": "Python 3 (ipykernel)",
   "language": "python",
   "name": "python3"
  },
  "language_info": {
   "codemirror_mode": {
    "name": "ipython",
    "version": 3
   },
   "file_extension": ".py",
   "mimetype": "text/x-python",
   "name": "python",
   "nbconvert_exporter": "python",
   "pygments_lexer": "ipython3",
   "version": "3.9.18"
  }
 },
 "nbformat": 4,
 "nbformat_minor": 5
}
