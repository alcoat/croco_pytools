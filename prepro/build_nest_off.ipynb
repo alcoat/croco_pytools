{
 "cells": [
  {
   "cell_type": "markdown",
   "id": "437146c3-6feb-4799-8088-ce09c3528b7b",
   "metadata": {},
   "source": [
    "# BUILD A CHILD GRID - OFFLINE NESTING NOTEBOOK VERSION\n",
    "💡 This notebook allows the user to create a croco chil grid with the offline method:\n",
    "\n",
    "<div class=\"alert alert-block alert-info\">\n",
    "\n",
    "To represent fine-scale phenomena, CROCO offers the ability to create zooms with increased resolution. Two options exist 🛠️:\n",
    "\n",
    "<div style=\"border: 2px dotted black; padding: 10px; margin: 10px;\">\n",
    "    \n",
    "##### Offline Zoom 🗺️ ➡️ 🔍\n",
    "\n",
    "- **Description**: Creation of a grid with the desired resolution, where the boundaries are within a grid of a larger CROCO domain, already modeled.\n",
    "- **Conditions**: The high-resolution grid takes as initial and boundary conditions those from the larger CROCO simulation. The simulations are independent and no feedback from the high-resolution grid to the coarser grid is possible. The simulations run separately.\n",
    "- **Advantages**:\n",
    "  - Independence\n",
    "  - No constraints on the chosen resolution\n",
    "- **Disadvantages**:\n",
    "  - No feedback to the larger domain\n",
    "  - Zoom boundary forcing depends on the frequency of the parent grid’s history, which may filter out some waves present in the parent grid.\n",
    "</div>\n",
    "##### AGRIF Zoom 🔄\n",
    "\n",
    "- **Description**: AGRIF is a library that allows running CROCO with several embedded domains together. (see documentation in CROCO documentation)\n",
    "- **Conditions**: Parent and child(s) domains are run simultaneously, coupling the domains at the barotropic time step.\n",
    "- **Advantages**:\n",
    "  - Two-way feedback to the parent domain is possible and can significantly improve results of the larger domain\n",
    "  - Coupling at the highest possible frequency\n",
    "  - Consistency of numerics\n",
    "  - Any number of nesting levels is allowed\n",
    "- **Disadvantages**:\n",
    "  - Requires simultaneous execution of the parent and child(s) grids\n",
    "  - Nesting ratio should be 3 or 5\n",
    "  - Currently, AGRIF zooms in CROCO must have the same vertical resolution as the parent.\n",
    "\n",
    "</div>\n",
    "\n",
    "See [online documentation](https://croco-ocean.gitlabpages.inria.fr/croco_pytools/prepro/tuto.zoom.html#offline-zoom-case) for more details 📚\n",
    "\n",
    "## ✅📋 Dependencies\n",
    "*Make sure to [build the croco_pyenv environment](https://croco-ocean.gitlabpages.inria.fr/croco_pytools/prepro/tuto.env.html) before using this notebook.*   "
   ]
  },
  {
   "cell_type": "code",
   "execution_count": null,
   "id": "b70a3461-b251-411f-897a-7a2bdc56017f",
   "metadata": {},
   "outputs": [],
   "source": [
    "#Allows widget interactivity with user\n",
    "%matplotlib widget  \n",
    "%load_ext autoreload\n",
    "%autoreload 2\n",
    "\n",
    "# Import standard modules\n",
    "import numpy as np\n",
    "import os,sys\n",
    "    \n",
    "#----------------------------------------------#\n",
    "#os.environ['ETS_TOOLKIT'] = 'wx'\n",
    "sys.path.append(\"./Modules/\")\n",
    "sys.path.append(\"./Readers/\")\n",
    "sys.path.append(\"./Modules/graphicUI_tools/\")\n",
    "\n",
    "#----------------------------------------------#\n",
    "from tools_grid_inputs import setup_widgets, prepare_variables\n",
    "#from tools_make_grid import inputs, inputs_smth, EasyGrid, GetMask, GetTopo\n",
    "from croco_class import CROCO\n",
    "from tools_create_grids import create_child_grid_offline\n",
    "from tools_grid_edition import plot_outline_ax, plot_topo_bis\n",
    "\n",
    "#----------------------------------------------#\n",
    "#from scipy.spatial import distance\n",
    "import matplotlib.pyplot as plt\n",
    "import ipywidgets as widgets\n",
    "from ipywidgets import interact_manual, FloatText, VBox\n",
    "from IPython.display import display    "
   ]
  },
  {
   "cell_type": "markdown",
   "id": "cd79f6b4-e271-4ddd-a024-30f9ac7727ea",
   "metadata": {},
   "source": [
    "## ✏️🔧 User's changes\n",
    "➡️ Launch the next python cell in order to display the widget which allows you to configurate your child grid.  \n",
    "Then click on the \"SAVE\" button each time you modify your configuration.  \n",
    "Concerning the required inputs:  \n",
    "\n",
    "<table style=\"width: 100%; text-align: left; border-collapse: collapse;\">\n",
    "  <thead>\n",
    "    <tr>\n",
    "      <th style=\"border: 1px solid #ddd; padding: 8px; background-color: #f4f4f4;\">DATA</th>\n",
    "      <th style=\"border: 1px solid #ddd; padding: 8px; background-color: #f4f4f4;\">SOURCE</th>\n",
    "      <th style=\"border: 1px solid #ddd; padding: 8px; background-color: #f4f4f4;\">FILE EXTENSION</th>\n",
    "    </tr>\n",
    "  </thead>\n",
    "  <tbody>\n",
    "    <tr>\n",
    "      <td style=\"border: 1px solid #ddd; padding: 8px;\"><strong>⛰️ topo/bathy</strong></td>\n",
    "      <td style=\"border: 1px solid #ddd; padding: 8px;\">etopo (5,2,1),<br>srtm30, gebco</td>\n",
    "      <td style=\"border: 1px solid #ddd; padding: 8px;\"><em>NetCDF</em></td>\n",
    "    </tr>\n",
    "    <tr>\n",
    "      <td style=\"border: 1px solid #ddd; padding: 8px;\"><strong>🏖️ coastline</strong></td>\n",
    "      <td style=\"border: 1px solid #ddd; padding: 8px;\">GSHHS</td>\n",
    "      <td style=\"border: 1px solid #ddd; padding: 8px;\"><em>shapefile</em></td>\n",
    "    </tr>\n",
    "    <tr>\n",
    "      <td style=\"border: 1px solid #ddd; padding: 8px;\"><strong>🐊 parent CROCO grid</strong></td>\n",
    "      <td style=\"border: 1px solid #ddd; padding: 8px;\">croco_grd built with make_grid.ipynb</td>\n",
    "      <td style=\"border: 1px solid #ddd; padding: 8px;\"><em>NetCDF</em></td>\n",
    "    </tr>\n",
    "  </tbody>\n",
    "</table>"
   ]
  },
  {
   "cell_type": "code",
   "execution_count": null,
   "id": "717ef4cf-80c8-43d1-a7dd-24296d389cdf",
   "metadata": {},
   "outputs": [],
   "source": [
    "# Call the setup_widgets function to display the widgets and get the function to retrieve saved values\n",
    "get_saved_config = setup_widgets(parent_grid= True)"
   ]
  },
  {
   "cell_type": "markdown",
   "id": "35310950-88ad-4d83-b7f6-682d15205dba",
   "metadata": {},
   "source": [
    "## 🧩🌐 Building the child grid with offline method\n",
    "➡️ By running the next python cell, the configuration saved at the previous step is loaded, and a dictionnary nammed \"variables\" is extracted from it to run the child-grid-creation-code.\n",
    "<div class=\"alert alert-block alert-warning\"> \n",
    "Tip: if the ouput window is too long 🖱️ right click on the cell annd \"Enable scrolling for outputs\"\n",
    "</div>"
   ]
  },
  {
   "cell_type": "code",
   "execution_count": null,
   "id": "5cf2a18d-1434-42fc-b403-e39affda3741",
   "metadata": {
    "scrolled": true
   },
   "outputs": [],
   "source": [
    "# Get the config paramaters defined in the widgets + retain the ones useful for creating the grid\n",
    "saved_config= get_saved_config()\n",
    "variables= prepare_variables(saved_config)\n",
    "\n",
    "#create the grid\n",
    "chd_grid, inputs, prt= create_child_grid_offline(**variables)"
   ]
  },
  {
   "cell_type": "markdown",
   "id": "4650efcf-503d-464a-bb85-a17c219ea316",
   "metadata": {},
   "source": [
    "## 👁️🌐 Grid display\n",
    "Run the next cell to check the child grid before saving it."
   ]
  },
  {
   "cell_type": "code",
   "execution_count": null,
   "id": "49296049-323b-4b37-b26e-a4e453732932",
   "metadata": {},
   "outputs": [],
   "source": [
    "plt.style.use('_mpl-gallery')\n",
    "figure2, ax2 = plt.subplots(figsize=(8, 8))\n",
    "figure2.suptitle('Grid outline and bathymetry')\n",
    "ax2 = plot_outline_ax(prt, ax2)\n",
    "ax2, cb2 = plot_topo_bis(prt, figure2, ax2)\n",
    "ax2 = plot_outline_ax(chd_grid, ax2)\n",
    "ax2, cb2= plot_topo_bis(chd_grid, figure2, ax2)\n",
    "#The colorbar is set as the one of the parent grid plot min/max\n",
    "cb2.mappable.set_clim(vmin=prt.h.min(), vmax=prt.h.max())"
   ]
  },
  {
   "cell_type": "markdown",
   "id": "acc7ab77-4104-44c6-9b7e-841cab047fdf",
   "metadata": {},
   "source": [
    "### 💾 Save grid as necdf\n",
    "This code creates a Netcdf file containing all grid data (geographic, topo-bathymetric, mask) in the format defined by the classes generated earlier in this notebook. Then it saves it in the ouput repertory."
   ]
  },
  {
   "cell_type": "code",
   "execution_count": null,
   "id": "b35c9685-6c21-4d8f-8f1a-2e6d4065f256",
   "metadata": {},
   "outputs": [],
   "source": [
    "CROCO.create_grid_nc(None,saved_config['Files']['output_file'],inputs,chd_grid)"
   ]
  }
 ],
 "metadata": {
  "kernelspec": {
   "display_name": "Python 3 (ipykernel)",
   "language": "python",
   "name": "python3"
  },
  "language_info": {
   "codemirror_mode": {
    "name": "ipython",
    "version": 3
   },
   "file_extension": ".py",
   "mimetype": "text/x-python",
   "name": "python",
   "nbconvert_exporter": "python",
   "pygments_lexer": "ipython3",
   "version": "3.9.18"
  }
 },
 "nbformat": 4,
 "nbformat_minor": 5
}
