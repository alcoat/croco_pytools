{
 "cells": [
  {
   "cell_type": "markdown",
   "id": "71573cd1-5091-49f2-8d81-3099cc2a10d2",
   "metadata": {},
   "source": [
    "<center><img src=\"https://encrypted-tbn0.gstatic.com/images?q=tbn:ANd9GcQXnrruP7guibF61c4gOESBR2VhhqYmEjKin0yY9lrhCak3hIbXI0QDSlObO74xcBkjMw&usqp=CAU\"/></center>"
   ]
  },
  {
   "cell_type": "markdown",
   "id": "91295459-7aa4-466c-927c-6a13262198f5",
   "metadata": {},
   "source": [
    "# 🔍 Build a nest - OFFLINE "
   ]
  },
  {
   "cell_type": "markdown",
   "id": "2b482d33-fda9-40ef-997c-4633bfd826eb",
   "metadata": {},
   "source": [
    "<small>\n",
    "This notebook allows you to build a child grid/a nest from a parent grid (created with <strong>`make_grid.ipynb`</strong>) with offline or AGRIF methods\n",
    "<br>💡 It is linked to the croco-ocean/croco_pytools' <a href= \"https://gitlab.inria.fr/croco-ocean/croco_pytools/-/issues/4\">ISSUE #4</a> located on the <strong>croco-ocean INRIA's gitlab</strong>\n",
    "<br>➡️ Notebook created by <a href=\"mailto:thibault.delahaye@ird.fr\">Thibault Delahaye</a> and based on the existing codes of pycrocotool\n",
    "<br>🌳 Developped on **notebook-grid-tools**'s branch, whose source is the main branch\n",
    "</small>"
   ]
  },
  {
   "cell_type": "markdown",
   "id": "de10aad5-4e55-41ff-bc46-ed0a015c6ead",
   "metadata": {},
   "source": [
    "## Table of contents 🔗\n",
    "\n",
    "1. [Code presentation 📖](#📖-Code-presentation)\n",
    "   - \n",
    "   - \n",
    "\n",
    " "
   ]
  },
  {
   "cell_type": "markdown",
   "id": "732b409d-ebfc-46bf-90c0-886c78075eaa",
   "metadata": {},
   "source": [
    "## 📖-Code-presentation"
   ]
  },
  {
   "cell_type": "markdown",
   "id": "b0d9248e-616a-4efc-a185-2a430b1470a4",
   "metadata": {},
   "source": [
    "### Method"
   ]
  },
  {
   "cell_type": "markdown",
   "id": "3ab1876e-b658-4401-bfcb-0336a45f71df",
   "metadata": {},
   "source": [
    "<div class=\"alert alert-block alert-info\">\n",
    "\n",
    "To represent fine-scale phenomena, CROCO offers the ability to create zooms with increased resolution. Two options exist 🛠️:\n",
    "\n",
    "<div style=\"border: 2px dotted black; padding: 10px; margin: 10px;\">\n",
    "    \n",
    "##### Offline Zoom 🗺️ ➡️ 🔍\n",
    "\n",
    "- **Description**: Creation of a grid with the desired resolution, where the boundaries are within a grid of a larger CROCO domain, already modeled.\n",
    "- **Conditions**: The high-resolution grid takes as initial and boundary conditions those from the larger CROCO simulation. The simulations are independent and no feedback from the high-resolution grid to the coarser grid is possible. The simulations run separately.\n",
    "- **Advantages**:\n",
    "  - Independence\n",
    "  - No constraints on the chosen resolution\n",
    "- **Disadvantages**:\n",
    "  - No feedback to the larger domain\n",
    "  - Zoom boundary forcing depends on the frequency of the parent grid’s history, which may filter out some waves present in the parent grid.\n",
    "</div>\n",
    "##### AGRIF Zoom 🔄\n",
    "\n",
    "- **Description**: AGRIF is a library that allows running CROCO with several embedded domains together. (see documentation in CROCO documentation)\n",
    "- **Conditions**: Parent and child(s) domains are run simultaneously, coupling the domains at the barotropic time step.\n",
    "- **Advantages**:\n",
    "  - Two-way feedback to the parent domain is possible and can significantly improve results of the larger domain\n",
    "  - Coupling at the highest possible frequency\n",
    "  - Consistency of numerics\n",
    "  - Any number of nesting levels is allowed\n",
    "- **Disadvantages**:\n",
    "  - Requires simultaneous execution of the parent and child(s) grids\n",
    "  - Nesting ratio should be 3 or 5\n",
    "  - Currently, AGRIF zooms in CROCO must have the same vertical resolution as the parent.\n",
    "\n",
    "</div>"
   ]
  },
  {
   "cell_type": "markdown",
   "id": "d1fe7066-b065-451a-8385-23d3eaff4cf2",
   "metadata": {},
   "source": [
    "### 💾 Datasets\n",
    "\n",
    "Further Information: [CROCO OCEAN WEBSITE](http://www.croco-ocean.org)\n",
    "  \n",
    "*This file is part of CROCOTOOLS* 🐊\n",
    "\n",
    "**Create a CROCO grid file** 🌐   \n",
    "In the current state the script can handle:  "
   ]
  },
  {
   "cell_type": "markdown",
   "id": "a2f0433f-cf98-46f3-a381-638f17113570",
   "metadata": {},
   "source": [
    "<table style=\"width: 100%; text-align: left; border-collapse: collapse;\">\n",
    "  <thead>\n",
    "    <tr>\n",
    "      <th style=\"border: 1px solid #ddd; padding: 8px; background-color: #f4f4f4;\">DATA</th>\n",
    "      <th style=\"border: 1px solid #ddd; padding: 8px; background-color: #f4f4f4;\">SOURCE</th>\n",
    "      <th style=\"border: 1px solid #ddd; padding: 8px; background-color: #f4f4f4;\">FILE EXTENSION</th>\n",
    "    </tr>\n",
    "  </thead>\n",
    "  <tbody>\n",
    "    <tr>\n",
    "      <td style=\"border: 1px solid #ddd; padding: 8px;\"><strong>⛰️ topo/bathy</strong></td>\n",
    "      <td style=\"border: 1px solid #ddd; padding: 8px;\">etopo (5,2,1),<br>srtm30, gebco</td>\n",
    "      <td style=\"border: 1px solid #ddd; padding: 8px;\"><em>NetCDF</em></td>\n",
    "    </tr>\n",
    "    <tr>\n",
    "      <td style=\"border: 1px solid #ddd; padding: 8px;\"><strong>🏖️ coastline</strong></td>\n",
    "      <td style=\"border: 1px solid #ddd; padding: 8px;\">GSHHS</td>\n",
    "      <td style=\"border: 1px solid #ddd; padding: 8px;\"><em>shapefile</em></td>\n",
    "    </tr>\n",
    "    <tr>\n",
    "      <td style=\"border: 1px solid #ddd; padding: 8px;\"><strong>🐊 parent CROCO grid</strong></td>\n",
    "      <td style=\"border: 1px solid #ddd; padding: 8px;\">croco_grd built with make_grid.ipynb</td>\n",
    "      <td style=\"border: 1px solid #ddd; padding: 8px;\"><em>NetCDF</em></td>\n",
    "    </tr>\n",
    "  </tbody>\n",
    "</table>"
   ]
  },
  {
   "cell_type": "markdown",
   "id": "eaa0004a-d8b0-4429-a1f9-f8742bd5b2f0",
   "metadata": {},
   "source": [
    "### ⚙️ Requirements\n",
    "➡️ Installing `ipympl` for interactive Plots :\n",
    "\n",
    "*To use **interactive plotting** features with the `%matplotlib widget` [magic command](#Magic-cells) in Jupyter Notebook or JupyterLab, you need to install the `ipympl` package. This package enables Matplotlib to render interactive plots using Jupyter widgets.*\n",
    "\n",
    " **Run the following command** in a code cell or in your notebook to install `ipympl`:\n",
    "   ```python\n",
    "   pip install ipympl\n",
    "   ```"
   ]
  },
  {
   "cell_type": "markdown",
   "id": "27db1e1f-eef7-4d4f-a1fc-d01f806296ba",
   "metadata": {},
   "source": [
    "---\n",
    "\n",
    "<div style=\"text-align: center; font-size: 0.9em; color: gray;\">\n",
    "  CODE BODY\n",
    "</div>\n",
    "\n",
    "---"
   ]
  },
  {
   "cell_type": "markdown",
   "id": "0777ea4e-fe68-4fdf-b339-db6b4bfebe0f",
   "metadata": {},
   "source": [
    "### Magic cells"
   ]
  },
  {
   "cell_type": "markdown",
   "id": "f6224b8e-f390-45ab-aaee-edd0276477b6",
   "metadata": {},
   "source": [
    "[Magic cell](https://ipython.readthedocs.io/en/stable/interactive/magics.html) ⚡🐚 dedicated to the activation of backend environments"
   ]
  },
  {
   "cell_type": "code",
   "execution_count": 1,
   "id": "3a702449-8ad8-4297-a23b-56415dc11b3c",
   "metadata": {},
   "outputs": [],
   "source": [
    "#Allows widget interactivity with user\n",
    "%matplotlib widget    \n",
    "%load_ext autoreload\n",
    "%autoreload 2"
   ]
  },
  {
   "cell_type": "markdown",
   "id": "54ec949f-b22d-4154-8495-354b59500ae6",
   "metadata": {},
   "source": [
    "### Dependencies"
   ]
  },
  {
   "cell_type": "code",
   "execution_count": 2,
   "id": "d93d3268-6c49-470f-b320-95d2b297c9ba",
   "metadata": {},
   "outputs": [],
   "source": [
    "import numpy as np\n",
    "import os,sys\n",
    "os.environ['ETS_TOOLKIT'] = 'wx'\n",
    "sys.path.append(\"./Modules/\")\n",
    "sys.path.append(\"./Readers/\")\n",
    "sys.path.append(\"./Modules/graphicUI_tools/\")\n",
    "from main_window import *\n",
    "import tools_make_grid\n",
    "#----------------------------------------------#\n",
    "from tools_make_grid import inputs,inputs_smth,EasyGrid,GetMask,GetTopo\n",
    "from croco_class import CROCO\n",
    "from main_window import Outputs\n",
    "#----------------------------------------------#\n",
    "from Modules.map_tools.map_tools import plot_grid, plot_outline, plot_topo\n",
    "from scipy.spatial import distance\n",
    "import matplotlib.pyplot as plt\n",
    "import ipywidgets as widgets\n",
    "from ipywidgets import interact_manual\n",
    "#----------------------------------------------#\n",
    "from matplotlib.widgets import RectangleSelector\n",
    "from ipywidgets import FloatText, VBox\n",
    "from IPython.display import display, clear_output"
   ]
  },
  {
   "cell_type": "markdown",
   "id": "d10507b3-1965-4435-8d6f-e7ca9520a554",
   "metadata": {},
   "source": [
    "## 🗺️ Parent grid path and infos"
   ]
  },
  {
   "cell_type": "markdown",
   "id": "0a7a2d1a-05d5-4bb2-b22c-66de9b131a20",
   "metadata": {},
   "source": [
    "### Parent grid path:"
   ]
  },
  {
   "cell_type": "code",
   "execution_count": 3,
   "id": "e3e1356d-6a5e-4d04-997d-8bb2f08d697f",
   "metadata": {},
   "outputs": [],
   "source": [
    "parent_grid_file= \"../../CROCO_FILES/croco_grd.nc\""
   ]
  },
  {
   "cell_type": "markdown",
   "id": "d81d5fab-dc1d-4ce1-a926-05952234cca4",
   "metadata": {},
   "source": [
    "### Collecting parent's grid inputs/outputs parameters"
   ]
  },
  {
   "cell_type": "markdown",
   "id": "d774cee8-adec-48c8-b705-06206b0bb909",
   "metadata": {},
   "source": [
    "#### Collecting parent's grid inputs"
   ]
  },
  {
   "cell_type": "code",
   "execution_count": 4,
   "id": "31e2f203-967a-44c7-9c4a-e61523ebda53",
   "metadata": {},
   "outputs": [],
   "source": [
    "import json\n",
    "import pandas as pd\n",
    "import os\n",
    "\n",
    "output_folder = os.path.dirname(parent_grid_file)\n",
    "json_filename = 'user_inputs.json'\n",
    "\n",
    "json_file_path= os.path.join(output_folder, json_filename)\n",
    "\n",
    "# Lire le fichier JSON\n",
    "with open(json_file_path, 'r') as json_file:\n",
    "    user_inputs_parent = json.load(json_file)\n",
    "    \n",
    "# Convertir les sous-dictionnaires en DataFrames séparés\n",
    "df_inputs = pd.DataFrame([user_inputs_parent['inputs']])\n",
    "df_inputs_smth = pd.DataFrame([user_inputs_parent['inputs_smth']])"
   ]
  },
  {
   "cell_type": "markdown",
   "id": "f68bb6c1-5490-4932-ba3c-e9f05d4732b7",
   "metadata": {},
   "source": [
    "**PARENT GRID INPUTS**"
   ]
  },
  {
   "cell_type": "code",
   "execution_count": 5,
   "id": "43789432-13c2-4829-bef5-277861c3476a",
   "metadata": {},
   "outputs": [
    {
     "data": {
      "text/html": [
       "<div>\n",
       "<style scoped>\n",
       "    .dataframe tbody tr th:only-of-type {\n",
       "        vertical-align: middle;\n",
       "    }\n",
       "\n",
       "    .dataframe tbody tr th {\n",
       "        vertical-align: top;\n",
       "    }\n",
       "\n",
       "    .dataframe thead th {\n",
       "        text-align: right;\n",
       "    }\n",
       "</style>\n",
       "<table border=\"1\" class=\"dataframe\">\n",
       "  <thead>\n",
       "    <tr style=\"text-align: right;\">\n",
       "      <th></th>\n",
       "      <th>tra_lon</th>\n",
       "      <th>tra_lat</th>\n",
       "      <th>size_x</th>\n",
       "      <th>size_y</th>\n",
       "      <th>rot</th>\n",
       "      <th>nx</th>\n",
       "      <th>ny</th>\n",
       "    </tr>\n",
       "  </thead>\n",
       "  <tbody>\n",
       "    <tr>\n",
       "      <th>0</th>\n",
       "      <td>15</td>\n",
       "      <td>-32</td>\n",
       "      <td>1556</td>\n",
       "      <td>1334</td>\n",
       "      <td>0</td>\n",
       "      <td>39</td>\n",
       "      <td>40</td>\n",
       "    </tr>\n",
       "  </tbody>\n",
       "</table>\n",
       "</div>"
      ],
      "text/plain": [
       "   tra_lon  tra_lat  size_x  size_y  rot  nx  ny\n",
       "0       15      -32    1556    1334    0  39  40"
      ]
     },
     "execution_count": 5,
     "metadata": {},
     "output_type": "execute_result"
    }
   ],
   "source": [
    "df_inputs"
   ]
  },
  {
   "cell_type": "markdown",
   "id": "55dcb7e3-caa5-4cdd-b150-e153273134ca",
   "metadata": {},
   "source": [
    "**PARENT GRID SMOOTHING PARAMETERS**"
   ]
  },
  {
   "cell_type": "code",
   "execution_count": 6,
   "id": "28143ac1-1807-4ffe-b14a-d5e6100bbaf2",
   "metadata": {},
   "outputs": [
    {
     "data": {
      "text/html": [
       "<div>\n",
       "<style scoped>\n",
       "    .dataframe tbody tr th:only-of-type {\n",
       "        vertical-align: middle;\n",
       "    }\n",
       "\n",
       "    .dataframe tbody tr th {\n",
       "        vertical-align: top;\n",
       "    }\n",
       "\n",
       "    .dataframe thead th {\n",
       "        text-align: right;\n",
       "    }\n",
       "</style>\n",
       "<table border=\"1\" class=\"dataframe\">\n",
       "  <thead>\n",
       "    <tr style=\"text-align: right;\">\n",
       "      <th></th>\n",
       "      <th>depthmin</th>\n",
       "      <th>depthmax</th>\n",
       "      <th>smthr</th>\n",
       "      <th>rfact</th>\n",
       "      <th>smooth</th>\n",
       "    </tr>\n",
       "  </thead>\n",
       "  <tbody>\n",
       "    <tr>\n",
       "      <th>0</th>\n",
       "      <td>50</td>\n",
       "      <td>6000</td>\n",
       "      <td>2</td>\n",
       "      <td>0.2</td>\n",
       "      <td>lsmooth</td>\n",
       "    </tr>\n",
       "  </tbody>\n",
       "</table>\n",
       "</div>"
      ],
      "text/plain": [
       "   depthmin  depthmax  smthr  rfact   smooth\n",
       "0        50      6000      2    0.2  lsmooth"
      ]
     },
     "execution_count": 6,
     "metadata": {},
     "output_type": "execute_result"
    }
   ],
   "source": [
    "df_inputs_smth"
   ]
  },
  {
   "cell_type": "code",
   "execution_count": 7,
   "id": "ce19c8c5-3279-4f24-b27d-7467b0f6c2bb",
   "metadata": {},
   "outputs": [],
   "source": [
    "#### Collecting parent's grid inputs"
   ]
  },
  {
   "cell_type": "code",
   "execution_count": 7,
   "id": "eade141e-3d51-4e82-a8d7-8daff05a1d85",
   "metadata": {},
   "outputs": [],
   "source": [
    "json_filename_2 = 'outputs.json'\n",
    "\n",
    "json_file_path_2= os.path.join(output_folder, json_filename_2)\n",
    "\n",
    "# Charger le fichier JSON\n",
    "with open(json_file_path_2, 'r') as f:\n",
    "    outputs_loaded = json.load(f)\n",
    "\n",
    "# Convertir les listes en numpy arrays\n",
    "outputs_loaded_2 = {key: np.array(value) if isinstance(value, list) else value \n",
    "                            for key, value in outputs_loaded.items()}\n",
    "\n",
    "# Réinstancier l'objet Outputs\n",
    "prt = Outputs(**outputs_loaded_2)"
   ]
  },
  {
   "cell_type": "markdown",
   "id": "c690aaf9-13a4-48b5-95fe-790cfc680ca2",
   "metadata": {},
   "source": [
    "## 🐣 Build the nest"
   ]
  },
  {
   "cell_type": "markdown",
   "id": "8b14c9c1-3765-4140-9711-a1ec9f2335fe",
   "metadata": {},
   "source": [
    "### Create a new child grid"
   ]
  },
  {
   "cell_type": "markdown",
   "id": "d5ea6256-3e4d-4778-98b7-729657c05d90",
   "metadata": {},
   "source": [
    "#### ✏️🔧 User's changes"
   ]
  },
  {
   "cell_type": "markdown",
   "id": "5f9a18d0-d44d-4dbc-92bb-2938e96cc95e",
   "metadata": {},
   "source": [
    "##### Center's position (degrees) 📍"
   ]
  },
  {
   "cell_type": "code",
   "execution_count": 8,
   "id": "b633a24d-ae1c-4869-90f8-85177047f5f7",
   "metadata": {},
   "outputs": [],
   "source": [
    "tra_lon =  15 # Longitude of the grid center \n",
    "tra_lat = -32 # Latitude of the grid center"
   ]
  },
  {
   "cell_type": "markdown",
   "id": "ac37c4bd-6a15-4e0a-9579-77fb282b06b2",
   "metadata": {},
   "source": [
    "##### Grid extent (km) and resolution"
   ]
  },
  {
   "cell_type": "code",
   "execution_count": 9,
   "id": "172530be-c801-4d56-bf5c-fe671f67a79f",
   "metadata": {},
   "outputs": [],
   "source": [
    "# Grid size [km]\n",
    "size_x = 150\n",
    "size_y = 130\n",
    "\n",
    "# Grid number of points \n",
    "nx = 39\n",
    "ny = 40"
   ]
  },
  {
   "cell_type": "code",
   "execution_count": 10,
   "id": "fc6765de-5f28-4648-828e-67ae16262ce1",
   "metadata": {},
   "outputs": [
    {
     "name": "stdout",
     "output_type": "stream",
     "text": [
      "Resolution in X direction: 3.85 km\n",
      "Resolution in Y direction: 3.25 km\n"
     ]
    }
   ],
   "source": [
    "# Calculate Resolution\n",
    "delta_x = size_x / nx\n",
    "delta_y = size_y / ny\n",
    "\n",
    "# Display results\n",
    "print(f\"Resolution in X direction: {delta_x:.2f} km\")\n",
    "print(f\"Resolution in Y direction: {delta_y:.2f} km\")"
   ]
  },
  {
   "cell_type": "markdown",
   "id": "9cd5022f-19c2-4f05-a8c5-bfdbec2ffca5",
   "metadata": {},
   "source": [
    "##### Grid rotation (degrees)"
   ]
  },
  {
   "cell_type": "code",
   "execution_count": 11,
   "id": "089e402c-7d32-46d9-a505-cb1d06399d64",
   "metadata": {},
   "outputs": [],
   "source": [
    "rot = 0"
   ]
  },
  {
   "cell_type": "markdown",
   "id": "1db83a93-3f9a-46d8-b691-8f0adf605bd9",
   "metadata": {},
   "source": [
    "#### Smoothing settings"
   ]
  },
  {
   "cell_type": "markdown",
   "id": "5ed0808c-fcd9-4148-a0e5-1a11685acb6f",
   "metadata": {},
   "source": [
    "See [online documentation](https://croco-ocean.gitlabpages.inria.fr/croco_doc/model/model.grid.html) for more details 📚"
   ]
  },
  {
   "cell_type": "code",
   "execution_count": 12,
   "id": "7b61a1e4-58cd-4ca0-8eed-830145c17add",
   "metadata": {},
   "outputs": [],
   "source": [
    "hmin        = 50    # Minimum depth [m]\n",
    "hmax        = 6000  # Maximum depth [m]\n",
    "interp_rad  = 2     # Interpolation radius in number of points (usually between 2 and 8)\n",
    "rfact       = 0.2   # Maximum r-fact to reach (the lower it is, the smoother it will be)    \n",
    "smooth_meth = 'lsmooth' # Smoothing method ('smooth', 'lsmooth', 'lsmooth_legacy', 'lsmooth2', 'lsmooth1', 'cond_rx0_topo') "
   ]
  },
  {
   "cell_type": "markdown",
   "id": "3617efea-cb27-4ef0-ab5b-00baf1c51af9",
   "metadata": {},
   "source": [
    "##### Paths"
   ]
  },
  {
   "cell_type": "markdown",
   "id": "0bac5f00-8e88-496e-81a7-ff451230e74a",
   "metadata": {},
   "source": [
    "###### Inputs"
   ]
  },
  {
   "cell_type": "markdown",
   "id": "16eda06e-fed4-4f74-b898-769933133a0e",
   "metadata": {},
   "source": [
    "Topo/bathy file ⛰️ :"
   ]
  },
  {
   "cell_type": "code",
   "execution_count": 13,
   "id": "096eeb30-73d6-4b78-b17e-d5fb30887197",
   "metadata": {},
   "outputs": [],
   "source": [
    "topofile = '../../DATASETS_CROCOTOOLS/Topo/etopo2.nc'"
   ]
  },
  {
   "cell_type": "markdown",
   "id": "595ab788-9cf8-4bcb-bbfb-419f4936569c",
   "metadata": {},
   "source": [
    "Coastline file (for the mask) 🏖️ :"
   ]
  },
  {
   "cell_type": "code",
   "execution_count": 14,
   "id": "e5e38696-6cda-41b0-96b3-16c86e5980e4",
   "metadata": {},
   "outputs": [],
   "source": [
    "shp_file = '../../DATASETS_CROCOTOOLS/gshhs/GSHHS_shp/i/GSHHS_i_L1.shp'"
   ]
  },
  {
   "cell_type": "markdown",
   "id": "1bfe9ebc-c9fb-4eda-b942-1fbbe3fc2e9f",
   "metadata": {},
   "source": [
    "###### Output(s)"
   ]
  },
  {
   "cell_type": "markdown",
   "id": "83ca225b-99e1-4dbe-be71-2b8baac9b0bb",
   "metadata": {},
   "source": [
    "Output grid file 🔲:"
   ]
  },
  {
   "cell_type": "code",
   "execution_count": 15,
   "id": "94ccd22b-e338-4cb4-84a2-c6881fec8d00",
   "metadata": {},
   "outputs": [],
   "source": [
    "output_file=\"../../CROCO_FILES/croco_chd_grd.nc\""
   ]
  },
  {
   "cell_type": "markdown",
   "id": "258016c8-72df-4821-9de7-8ee1616f89be",
   "metadata": {},
   "source": [
    "##### Mask"
   ]
  },
  {
   "cell_type": "markdown",
   "id": "95c92e47-183a-4a53-82a4-c35fa88ef936",
   "metadata": {},
   "source": [
    "Single Connect (Masks water not connected to the main water body) 🎭:"
   ]
  },
  {
   "cell_type": "code",
   "execution_count": 16,
   "id": "5a035087-218b-4c0c-bbf8-3f70f8efdbcd",
   "metadata": {},
   "outputs": [],
   "source": [
    "sgl_connect=[False,20,20] # True or False, point indices inside the main water body"
   ]
  },
  {
   "cell_type": "markdown",
   "id": "f5fc6241-47a7-46ff-903d-af12c5a87dc8",
   "metadata": {},
   "source": [
    "#### ⚙️🌐 Building the grid"
   ]
  },
  {
   "cell_type": "markdown",
   "id": "53b3c9ca-ce14-47c9-854c-cad3ba1c2196",
   "metadata": {},
   "source": [
    "##### Creating classes for inputs/outputs"
   ]
  },
  {
   "cell_type": "code",
   "execution_count": 18,
   "id": "dcc37aef-7709-461d-90a6-9c9f788ac573",
   "metadata": {},
   "outputs": [],
   "source": [
    "inputs=inputs(tra_lon,tra_lat,size_x,size_y,nx,ny,rot)\n",
    "inputs_smth=inputs_smth(hmin,hmax,interp_rad,rfact,smooth_meth)\n",
    "outputs=Outputs()"
   ]
  },
  {
   "cell_type": "markdown",
   "id": "2fbb3c06-c443-4e06-b116-7c325d73033e",
   "metadata": {},
   "source": [
    "##### Create lon/lat grid "
   ]
  },
  {
   "cell_type": "code",
   "execution_count": 19,
   "id": "5b6e8ea9-aa90-4769-a1b7-6d24b4243265",
   "metadata": {},
   "outputs": [
    {
     "data": {
      "text/plain": [
       "<main_window.Outputs at 0x7ca3e4f1ed60>"
      ]
     },
     "execution_count": 19,
     "metadata": {},
     "output_type": "execute_result"
    }
   ],
   "source": [
    "EasyGrid.easygrid(None,inputs,outputs)"
   ]
  },
  {
   "cell_type": "markdown",
   "id": "569db9af-5087-4d8c-8727-1e71439f5965",
   "metadata": {},
   "source": [
    "##### Building the mask and smoothing topo"
   ]
  },
  {
   "cell_type": "markdown",
   "id": "d16ff50d-448b-4432-bfd3-bc5524732083",
   "metadata": {},
   "source": [
    "<div class=\"alert alert-block alert-warning\"> \n",
    "Tip: if the ouput is too long 🖱️ right click on the cell annd \"Enable scrolling for outputs\"\n",
    "</div>"
   ]
  },
  {
   "cell_type": "code",
   "execution_count": 20,
   "id": "db55f3fe-371e-4ecb-9514-022d2fc4e97e",
   "metadata": {
    "scrolled": true
   },
   "outputs": [
    {
     "name": "stdout",
     "output_type": "stream",
     "text": [
      "Reading topography file: ../../DATASETS_CROCOTOOLS/Topo/etopo2.nc\n",
      "Single region dataset imin/imax= 5820 5879\n",
      "Bounding indices of the relevant part to be extracted from the entire dataset:\n",
      " imin,imax = 5820 5879 out of 10800 jmin,jmax = 1718 1762 out of 5400\n",
      "Interpolating topography to CROCO grid\n",
      "Finished interpolating\n",
      "\n",
      " Geographical extents of the dataset:\n",
      "    Longitude min/max =   14.000000   15.966666\n",
      "    Latitude  min/max =  -32.733334  -31.266666\n",
      "\n",
      " Geographical extents of requested ROMS grid:\n",
      "    Longitude min/max =   14.055049   15.944951\n",
      "    Latitude  min/max =  -32.686808  -31.309844\n",
      "\n",
      " Bounding indices for the portion of dataset covering the entire model grid:\n",
      " iwest,ieast =    2    59 out of    60 jsouth,jnorth =    2    43 out of    45\n",
      "\n",
      " Averaging window width = 2.00000 in grid spaces.\n",
      "\n",
      ".........\n",
      "\n",
      " Wall Clock time spent to compute hraw    0.00 sec running   1 threads.\n",
      " enter smooth_thread r_max = 0.2000000  iters_cond =  500  iters_lin =    0\n",
      " set_tiles: nx =  40 ny =  39 numthreads =  1 nsub_x =  1 nsub_y =  3\n"
     ]
    },
    {
     "data": {
      "text/plain": [
       "<main_window.Outputs at 0x7ca3e4f1ed60>"
      ]
     },
     "execution_count": 20,
     "metadata": {},
     "output_type": "execute_result"
    },
    {
     "name": "stdout",
     "output_type": "stream",
     "text": [
      "  nsub_x =   1  nsub_y =   3  isize =  40  jsize =  13  trd =   0\n",
      "\n",
      " iter  i,jrx_max rx_max              i,jry_max ry_max\n",
      " ------------------------------------------------------------------\n",
      "    0    32   40 rx_max = 0.0347439    34   40 ry_max = 0.0729846\n",
      "    1    18   35 rx_max = 0.0327407    33   39 ry_max = 0.0643221\n",
      "    2    18   35 rx_max = 0.0327407    33   39 ry_max = 0.0643221\n",
      "    3    18   35 rx_max = 0.0327407    33   39 ry_max = 0.0643221\n",
      "    4    18   35 rx_max = 0.0327407    33   39 ry_max = 0.0643221\n",
      "    5    18   35 rx_max = 0.0327407    33   39 ry_max = 0.0643221\n",
      "    6    18   35 rx_max = 0.0327407    33   39 ry_max = 0.0643221\n",
      "    7    18   35 rx_max = 0.0327407    33   39 ry_max = 0.0643221\n",
      "    8    18   35 rx_max = 0.0327407    33   39 ry_max = 0.0643221\n",
      "    9    18   35 rx_max = 0.0327407    33   39 ry_max = 0.0643221\n",
      "   10    18   35 rx_max = 0.0327407    33   39 ry_max = 0.0643221\n",
      "   11    18   35 rx_max = 0.0327407    33   39 ry_max = 0.0643221\n",
      "   12    18   35 rx_max = 0.0327407    33   39 ry_max = 0.0643221\n",
      "   13    18   35 rx_max = 0.0327407    33   39 ry_max = 0.0643221\n",
      "   14    18   35 rx_max = 0.0327407    33   39 ry_max = 0.0643221\n",
      "   15    18   35 rx_max = 0.0327407    33   39 ry_max = 0.0643221\n",
      "   16    18   35 rx_max = 0.0327407    33   39 ry_max = 0.0643221\n",
      "   17    18   35 rx_max = 0.0327407    33   39 ry_max = 0.0643221\n",
      "   18    18   35 rx_max = 0.0327407    33   39 ry_max = 0.0643221\n",
      "   19    18   35 rx_max = 0.0327407    33   39 ry_max = 0.0643221\n",
      "   20    18   35 rx_max = 0.0327407    33   39 ry_max = 0.0643221\n",
      "   21    18   35 rx_max = 0.0327407    33   39 ry_max = 0.0643221\n",
      "   22    18   35 rx_max = 0.0327407    33   39 ry_max = 0.0643221\n",
      "   23    18   35 rx_max = 0.0327407    33   39 ry_max = 0.0643221\n",
      "   24    18   35 rx_max = 0.0327407    33   39 ry_max = 0.0643221\n",
      "   25    18   35 rx_max = 0.0327407    33   39 ry_max = 0.0643221\n",
      "   26    18   35 rx_max = 0.0327407    33   39 ry_max = 0.0643221\n",
      "   27    18   35 rx_max = 0.0327407    33   39 ry_max = 0.0643221\n",
      "   28    18   35 rx_max = 0.0327407    33   39 ry_max = 0.0643221\n",
      "   29    18   35 rx_max = 0.0327407    33   39 ry_max = 0.0643221\n",
      "   30    18   35 rx_max = 0.0327407    33   39 ry_max = 0.0643221\n",
      "   31    18   35 rx_max = 0.0327407    33   39 ry_max = 0.0643221\n",
      "   32    18   35 rx_max = 0.0327407    33   39 ry_max = 0.0643221\n",
      "   33    18   35 rx_max = 0.0327407    33   39 ry_max = 0.0643221\n",
      "   34    18   35 rx_max = 0.0327407    33   39 ry_max = 0.0643221\n",
      "   35    18   35 rx_max = 0.0327407    33   39 ry_max = 0.0643221\n",
      "   36    18   35 rx_max = 0.0327407    33   39 ry_max = 0.0643221\n",
      "   37    18   35 rx_max = 0.0327407    33   39 ry_max = 0.0643221\n",
      "   38    18   35 rx_max = 0.0327407    33   39 ry_max = 0.0643221\n",
      "   39    18   35 rx_max = 0.0327407    33   39 ry_max = 0.0643221\n",
      "   40    18   35 rx_max = 0.0327407    33   39 ry_max = 0.0643221\n",
      "   41    18   35 rx_max = 0.0327407    33   39 ry_max = 0.0643221\n",
      "   42    18   35 rx_max = 0.0327407    33   39 ry_max = 0.0643221\n",
      "   43    18   35 rx_max = 0.0327407    33   39 ry_max = 0.0643221\n",
      "   44    18   35 rx_max = 0.0327407    33   39 ry_max = 0.0643221\n",
      "   45    18   35 rx_max = 0.0327407    33   39 ry_max = 0.0643221\n",
      "   46    18   35 rx_max = 0.0327407    33   39 ry_max = 0.0643221\n",
      "   47    18   35 rx_max = 0.0327407    33   39 ry_max = 0.0643221\n",
      "   48    18   35 rx_max = 0.0327407    33   39 ry_max = 0.0643221\n",
      "   49    18   35 rx_max = 0.0327407    33   39 ry_max = 0.0643221\n",
      "   50    18   35 rx_max = 0.0327407    33   39 ry_max = 0.0643221\n",
      "   51    18   35 rx_max = 0.0327407    33   39 ry_max = 0.0643221\n",
      "   52    18   35 rx_max = 0.0327407    33   39 ry_max = 0.0643221\n",
      "   53    18   35 rx_max = 0.0327407    33   39 ry_max = 0.0643221\n",
      "   54    18   35 rx_max = 0.0327407    33   39 ry_max = 0.0643221\n",
      "   55    18   35 rx_max = 0.0327407    33   39 ry_max = 0.0643221\n",
      "   56    18   35 rx_max = 0.0327407    33   39 ry_max = 0.0643221\n",
      "   57    18   35 rx_max = 0.0327407    33   39 ry_max = 0.0643221\n",
      "   58    18   35 rx_max = 0.0327407    33   39 ry_max = 0.0643221\n",
      "   59    18   35 rx_max = 0.0327407    33   39 ry_max = 0.0643221\n",
      "   60    18   35 rx_max = 0.0327407    33   39 ry_max = 0.0643221\n",
      "   61    18   35 rx_max = 0.0327407    33   39 ry_max = 0.0643221\n",
      "   62    18   35 rx_max = 0.0327407    33   39 ry_max = 0.0643221\n",
      "   63    18   35 rx_max = 0.0327407    33   39 ry_max = 0.0643221\n",
      "   64    18   35 rx_max = 0.0327407    33   39 ry_max = 0.0643221\n",
      "   65    18   35 rx_max = 0.0327407    33   39 ry_max = 0.0643221\n",
      "   66    18   35 rx_max = 0.0327407    33   39 ry_max = 0.0643221\n",
      "   67    18   35 rx_max = 0.0327407    33   39 ry_max = 0.0643221\n",
      "   68    18   35 rx_max = 0.0327407    33   39 ry_max = 0.0643221\n",
      "   69    18   35 rx_max = 0.0327407    33   39 ry_max = 0.0643221\n",
      "   70    18   35 rx_max = 0.0327407    33   39 ry_max = 0.0643221\n",
      "   71    18   35 rx_max = 0.0327407    33   39 ry_max = 0.0643221\n",
      "   72    18   35 rx_max = 0.0327407    33   39 ry_max = 0.0643221\n",
      "   73    18   35 rx_max = 0.0327407    33   39 ry_max = 0.0643221\n",
      "   74    18   35 rx_max = 0.0327407    33   39 ry_max = 0.0643221\n",
      "   75    18   35 rx_max = 0.0327407    33   39 ry_max = 0.0643221\n",
      "   76    18   35 rx_max = 0.0327407    33   39 ry_max = 0.0643221\n",
      "   77    18   35 rx_max = 0.0327407    33   39 ry_max = 0.0643221\n",
      "   78    18   35 rx_max = 0.0327407    33   39 ry_max = 0.0643221\n",
      "   79    18   35 rx_max = 0.0327407    33   39 ry_max = 0.0643221\n",
      "   80    18   35 rx_max = 0.0327407    33   39 ry_max = 0.0643221\n",
      "   81    18   35 rx_max = 0.0327407    33   39 ry_max = 0.0643221\n",
      "   82    18   35 rx_max = 0.0327407    33   39 ry_max = 0.0643221\n",
      "   83    18   35 rx_max = 0.0327407    33   39 ry_max = 0.0643221\n",
      "   84    18   35 rx_max = 0.0327407    33   39 ry_max = 0.0643221\n",
      "   85    18   35 rx_max = 0.0327407    33   39 ry_max = 0.0643221\n",
      "   86    18   35 rx_max = 0.0327407    33   39 ry_max = 0.0643221\n",
      "   87    18   35 rx_max = 0.0327407    33   39 ry_max = 0.0643221\n",
      "   88    18   35 rx_max = 0.0327407    33   39 ry_max = 0.0643221\n",
      "   89    18   35 rx_max = 0.0327407    33   39 ry_max = 0.0643221\n",
      "   90    18   35 rx_max = 0.0327407    33   39 ry_max = 0.0643221\n",
      "   91    18   35 rx_max = 0.0327407    33   39 ry_max = 0.0643221\n",
      "   92    18   35 rx_max = 0.0327407    33   39 ry_max = 0.0643221\n",
      "   93    18   35 rx_max = 0.0327407    33   39 ry_max = 0.0643221\n",
      "   94    18   35 rx_max = 0.0327407    33   39 ry_max = 0.0643221\n",
      "   95    18   35 rx_max = 0.0327407    33   39 ry_max = 0.0643221\n",
      "   96    18   35 rx_max = 0.0327407    33   39 ry_max = 0.0643221\n",
      "   97    18   35 rx_max = 0.0327407    33   39 ry_max = 0.0643221\n",
      "   98    18   35 rx_max = 0.0327407    33   39 ry_max = 0.0643221\n",
      "   99    18   35 rx_max = 0.0327407    33   39 ry_max = 0.0643221\n",
      "  100    18   35 rx_max = 0.0327407    33   39 ry_max = 0.0643221\n",
      "  101    18   35 rx_max = 0.0327407    33   39 ry_max = 0.0643221\n",
      "  102    18   35 rx_max = 0.0327407    33   39 ry_max = 0.0643221\n",
      "  103    18   35 rx_max = 0.0327407    33   39 ry_max = 0.0643221\n",
      "  104    18   35 rx_max = 0.0327407    33   39 ry_max = 0.0643221\n",
      "  105    18   35 rx_max = 0.0327407    33   39 ry_max = 0.0643221\n",
      "  106    18   35 rx_max = 0.0327407    33   39 ry_max = 0.0643221\n",
      "  107    18   35 rx_max = 0.0327407    33   39 ry_max = 0.0643221\n",
      "  108    18   35 rx_max = 0.0327407    33   39 ry_max = 0.0643221\n",
      "  109    18   35 rx_max = 0.0327407    33   39 ry_max = 0.0643221\n",
      "  110    18   35 rx_max = 0.0327407    33   39 ry_max = 0.0643221\n",
      "  111    18   35 rx_max = 0.0327407    33   39 ry_max = 0.0643221\n",
      "  112    18   35 rx_max = 0.0327407    33   39 ry_max = 0.0643221\n",
      "  113    18   35 rx_max = 0.0327407    33   39 ry_max = 0.0643221\n",
      "  114    18   35 rx_max = 0.0327407    33   39 ry_max = 0.0643221\n",
      "  115    18   35 rx_max = 0.0327407    33   39 ry_max = 0.0643221\n",
      "  116    18   35 rx_max = 0.0327407    33   39 ry_max = 0.0643221\n",
      "  117    18   35 rx_max = 0.0327407    33   39 ry_max = 0.0643221\n",
      "  118    18   35 rx_max = 0.0327407    33   39 ry_max = 0.0643221\n",
      "  119    18   35 rx_max = 0.0327407    33   39 ry_max = 0.0643221\n",
      "  120    18   35 rx_max = 0.0327407    33   39 ry_max = 0.0643221\n",
      "  121    18   35 rx_max = 0.0327407    33   39 ry_max = 0.0643221\n",
      "  122    18   35 rx_max = 0.0327407    33   39 ry_max = 0.0643221\n",
      "  123    18   35 rx_max = 0.0327407    33   39 ry_max = 0.0643221\n",
      "  124    18   35 rx_max = 0.0327407    33   39 ry_max = 0.0643221\n",
      "  125    18   35 rx_max = 0.0327407    33   39 ry_max = 0.0643221\n",
      "  126    18   35 rx_max = 0.0327407    33   39 ry_max = 0.0643221\n",
      "  127    18   35 rx_max = 0.0327407    33   39 ry_max = 0.0643221\n",
      "  128    18   35 rx_max = 0.0327407    33   39 ry_max = 0.0643221\n",
      "  129    18   35 rx_max = 0.0327407    33   39 ry_max = 0.0643221\n",
      "  130    18   35 rx_max = 0.0327407    33   39 ry_max = 0.0643221\n",
      "  131    18   35 rx_max = 0.0327407    33   39 ry_max = 0.0643221\n",
      "  132    18   35 rx_max = 0.0327407    33   39 ry_max = 0.0643221\n",
      "  133    18   35 rx_max = 0.0327407    33   39 ry_max = 0.0643221\n",
      "  134    18   35 rx_max = 0.0327407    33   39 ry_max = 0.0643221\n",
      "  135    18   35 rx_max = 0.0327407    33   39 ry_max = 0.0643221\n",
      "  136    18   35 rx_max = 0.0327407    33   39 ry_max = 0.0643221\n",
      "  137    18   35 rx_max = 0.0327407    33   39 ry_max = 0.0643221\n",
      "  138    18   35 rx_max = 0.0327407    33   39 ry_max = 0.0643221\n",
      "  139    18   35 rx_max = 0.0327407    33   39 ry_max = 0.0643221\n",
      "  140    18   35 rx_max = 0.0327407    33   39 ry_max = 0.0643221\n",
      "  141    18   35 rx_max = 0.0327407    33   39 ry_max = 0.0643221\n",
      "  142    18   35 rx_max = 0.0327407    33   39 ry_max = 0.0643221\n",
      "  143    18   35 rx_max = 0.0327407    33   39 ry_max = 0.0643221\n",
      "  144    18   35 rx_max = 0.0327407    33   39 ry_max = 0.0643221\n",
      "  145    18   35 rx_max = 0.0327407    33   39 ry_max = 0.0643221\n",
      "  146    18   35 rx_max = 0.0327407    33   39 ry_max = 0.0643221\n",
      "  147    18   35 rx_max = 0.0327407    33   39 ry_max = 0.0643221\n",
      "  148    18   35 rx_max = 0.0327407    33   39 ry_max = 0.0643221\n",
      "  149    18   35 rx_max = 0.0327407    33   39 ry_max = 0.0643221\n",
      "  150    18   35 rx_max = 0.0327407    33   39 ry_max = 0.0643221\n",
      "  151    18   35 rx_max = 0.0327407    33   39 ry_max = 0.0643221\n",
      "  152    18   35 rx_max = 0.0327407    33   39 ry_max = 0.0643221\n",
      "  153    18   35 rx_max = 0.0327407    33   39 ry_max = 0.0643221\n",
      "  154    18   35 rx_max = 0.0327407    33   39 ry_max = 0.0643221\n",
      "  155    18   35 rx_max = 0.0327407    33   39 ry_max = 0.0643221\n",
      "  156    18   35 rx_max = 0.0327407    33   39 ry_max = 0.0643221\n",
      "  157    18   35 rx_max = 0.0327407    33   39 ry_max = 0.0643221\n",
      "  158    18   35 rx_max = 0.0327407    33   39 ry_max = 0.0643221\n",
      "  159    18   35 rx_max = 0.0327407    33   39 ry_max = 0.0643221\n",
      "  160    18   35 rx_max = 0.0327407    33   39 ry_max = 0.0643221\n",
      "  161    18   35 rx_max = 0.0327407    33   39 ry_max = 0.0643221\n",
      "  162    18   35 rx_max = 0.0327407    33   39 ry_max = 0.0643221\n",
      "  163    18   35 rx_max = 0.0327407    33   39 ry_max = 0.0643221\n",
      "  164    18   35 rx_max = 0.0327407    33   39 ry_max = 0.0643221\n",
      "  165    18   35 rx_max = 0.0327407    33   39 ry_max = 0.0643221\n",
      "  166    18   35 rx_max = 0.0327407    33   39 ry_max = 0.0643221\n",
      "  167    18   35 rx_max = 0.0327407    33   39 ry_max = 0.0643221\n",
      "  168    18   35 rx_max = 0.0327407    33   39 ry_max = 0.0643221\n",
      "  169    18   35 rx_max = 0.0327407    33   39 ry_max = 0.0643221\n",
      "  170    18   35 rx_max = 0.0327407    33   39 ry_max = 0.0643221\n",
      "  171    18   35 rx_max = 0.0327407    33   39 ry_max = 0.0643221\n",
      "  172    18   35 rx_max = 0.0327407    33   39 ry_max = 0.0643221\n",
      "  173    18   35 rx_max = 0.0327407    33   39 ry_max = 0.0643221\n",
      "  174    18   35 rx_max = 0.0327407    33   39 ry_max = 0.0643221\n",
      "  175    18   35 rx_max = 0.0327407    33   39 ry_max = 0.0643221\n",
      "  176    18   35 rx_max = 0.0327407    33   39 ry_max = 0.0643221\n",
      "  177    18   35 rx_max = 0.0327407    33   39 ry_max = 0.0643221\n",
      "  178    18   35 rx_max = 0.0327407    33   39 ry_max = 0.0643221\n",
      "  179    18   35 rx_max = 0.0327407    33   39 ry_max = 0.0643221\n",
      "  180    18   35 rx_max = 0.0327407    33   39 ry_max = 0.0643221\n",
      "  181    18   35 rx_max = 0.0327407    33   39 ry_max = 0.0643221\n",
      "  182    18   35 rx_max = 0.0327407    33   39 ry_max = 0.0643221\n",
      "  183    18   35 rx_max = 0.0327407    33   39 ry_max = 0.0643221\n",
      "  184    18   35 rx_max = 0.0327407    33   39 ry_max = 0.0643221\n",
      "  185    18   35 rx_max = 0.0327407    33   39 ry_max = 0.0643221\n",
      "  186    18   35 rx_max = 0.0327407    33   39 ry_max = 0.0643221\n",
      "  187    18   35 rx_max = 0.0327407    33   39 ry_max = 0.0643221\n",
      "  188    18   35 rx_max = 0.0327407    33   39 ry_max = 0.0643221\n",
      "  189    18   35 rx_max = 0.0327407    33   39 ry_max = 0.0643221\n",
      "  190    18   35 rx_max = 0.0327407    33   39 ry_max = 0.0643221\n",
      "  191    18   35 rx_max = 0.0327407    33   39 ry_max = 0.0643221\n",
      "  192    18   35 rx_max = 0.0327407    33   39 ry_max = 0.0643221\n",
      "  193    18   35 rx_max = 0.0327407    33   39 ry_max = 0.0643221\n",
      "  194    18   35 rx_max = 0.0327407    33   39 ry_max = 0.0643221\n",
      "  195    18   35 rx_max = 0.0327407    33   39 ry_max = 0.0643221\n",
      "  196    18   35 rx_max = 0.0327407    33   39 ry_max = 0.0643221\n",
      "  197    18   35 rx_max = 0.0327407    33   39 ry_max = 0.0643221\n",
      "  198    18   35 rx_max = 0.0327407    33   39 ry_max = 0.0643221\n",
      "  199    18   35 rx_max = 0.0327407    33   39 ry_max = 0.0643221\n",
      "  200    18   35 rx_max = 0.0327407    33   39 ry_max = 0.0643221\n",
      "  201    18   35 rx_max = 0.0327407    33   39 ry_max = 0.0643221\n",
      "  202    18   35 rx_max = 0.0327407    33   39 ry_max = 0.0643221\n",
      "  203    18   35 rx_max = 0.0327407    33   39 ry_max = 0.0643221\n",
      "  204    18   35 rx_max = 0.0327407    33   39 ry_max = 0.0643221\n",
      "  205    18   35 rx_max = 0.0327407    33   39 ry_max = 0.0643221\n",
      "  206    18   35 rx_max = 0.0327407    33   39 ry_max = 0.0643221\n",
      "  207    18   35 rx_max = 0.0327407    33   39 ry_max = 0.0643221\n",
      "  208    18   35 rx_max = 0.0327407    33   39 ry_max = 0.0643221\n",
      "  209    18   35 rx_max = 0.0327407    33   39 ry_max = 0.0643221\n",
      "  210    18   35 rx_max = 0.0327407    33   39 ry_max = 0.0643221\n",
      "  211    18   35 rx_max = 0.0327407    33   39 ry_max = 0.0643221\n",
      "  212    18   35 rx_max = 0.0327407    33   39 ry_max = 0.0643221\n",
      "  213    18   35 rx_max = 0.0327407    33   39 ry_max = 0.0643221\n",
      "  214    18   35 rx_max = 0.0327407    33   39 ry_max = 0.0643221\n",
      "  215    18   35 rx_max = 0.0327407    33   39 ry_max = 0.0643221\n",
      "  216    18   35 rx_max = 0.0327407    33   39 ry_max = 0.0643221\n",
      "  217    18   35 rx_max = 0.0327407    33   39 ry_max = 0.0643221\n",
      "  218    18   35 rx_max = 0.0327407    33   39 ry_max = 0.0643221\n",
      "  219    18   35 rx_max = 0.0327407    33   39 ry_max = 0.0643221\n",
      "  220    18   35 rx_max = 0.0327407    33   39 ry_max = 0.0643221\n",
      "  221    18   35 rx_max = 0.0327407    33   39 ry_max = 0.0643221\n",
      "  222    18   35 rx_max = 0.0327407    33   39 ry_max = 0.0643221\n",
      "  223    18   35 rx_max = 0.0327407    33   39 ry_max = 0.0643221\n",
      "  224    18   35 rx_max = 0.0327407    33   39 ry_max = 0.0643221\n",
      "  225    18   35 rx_max = 0.0327407    33   39 ry_max = 0.0643221\n",
      "  226    18   35 rx_max = 0.0327407    33   39 ry_max = 0.0643221\n",
      "  227    18   35 rx_max = 0.0327407    33   39 ry_max = 0.0643221\n",
      "  228    18   35 rx_max = 0.0327407    33   39 ry_max = 0.0643221\n",
      "  229    18   35 rx_max = 0.0327407    33   39 ry_max = 0.0643221\n",
      "  230    18   35 rx_max = 0.0327407    33   39 ry_max = 0.0643221\n",
      "  231    18   35 rx_max = 0.0327407    33   39 ry_max = 0.0643221\n",
      "  232    18   35 rx_max = 0.0327407    33   39 ry_max = 0.0643221\n",
      "  233    18   35 rx_max = 0.0327407    33   39 ry_max = 0.0643221\n",
      "  234    18   35 rx_max = 0.0327407    33   39 ry_max = 0.0643221\n",
      "  235    18   35 rx_max = 0.0327407    33   39 ry_max = 0.0643221\n",
      "  236    18   35 rx_max = 0.0327407    33   39 ry_max = 0.0643221\n",
      "  237    18   35 rx_max = 0.0327407    33   39 ry_max = 0.0643221\n",
      "  238    18   35 rx_max = 0.0327407    33   39 ry_max = 0.0643221\n",
      "  239    18   35 rx_max = 0.0327407    33   39 ry_max = 0.0643221\n",
      "  240    18   35 rx_max = 0.0327407    33   39 ry_max = 0.0643221\n",
      "  241    18   35 rx_max = 0.0327407    33   39 ry_max = 0.0643221\n",
      "  242    18   35 rx_max = 0.0327407    33   39 ry_max = 0.0643221\n",
      "  243    18   35 rx_max = 0.0327407    33   39 ry_max = 0.0643221\n",
      "  244    18   35 rx_max = 0.0327407    33   39 ry_max = 0.0643221\n",
      "  245    18   35 rx_max = 0.0327407    33   39 ry_max = 0.0643221\n",
      "  246    18   35 rx_max = 0.0327407    33   39 ry_max = 0.0643221\n",
      "  247    18   35 rx_max = 0.0327407    33   39 ry_max = 0.0643221\n",
      "  248    18   35 rx_max = 0.0327407    33   39 ry_max = 0.0643221\n",
      "  249    18   35 rx_max = 0.0327407    33   39 ry_max = 0.0643221\n",
      "  250    18   35 rx_max = 0.0327407    33   39 ry_max = 0.0643221\n",
      "  251    18   35 rx_max = 0.0327407    33   39 ry_max = 0.0643221\n",
      "  252    18   35 rx_max = 0.0327407    33   39 ry_max = 0.0643221\n",
      "  253    18   35 rx_max = 0.0327407    33   39 ry_max = 0.0643221\n",
      "  254    18   35 rx_max = 0.0327407    33   39 ry_max = 0.0643221\n",
      "  255    18   35 rx_max = 0.0327407    33   39 ry_max = 0.0643221\n",
      "  256    18   35 rx_max = 0.0327407    33   39 ry_max = 0.0643221\n",
      "  257    18   35 rx_max = 0.0327407    33   39 ry_max = 0.0643221\n",
      "  258    18   35 rx_max = 0.0327407    33   39 ry_max = 0.0643221\n",
      "  259    18   35 rx_max = 0.0327407    33   39 ry_max = 0.0643221\n",
      "  260    18   35 rx_max = 0.0327407    33   39 ry_max = 0.0643221\n",
      "  261    18   35 rx_max = 0.0327407    33   39 ry_max = 0.0643221\n",
      "  262    18   35 rx_max = 0.0327407    33   39 ry_max = 0.0643221\n",
      "  263    18   35 rx_max = 0.0327407    33   39 ry_max = 0.0643221\n",
      "  264    18   35 rx_max = 0.0327407    33   39 ry_max = 0.0643221\n",
      "  265    18   35 rx_max = 0.0327407    33   39 ry_max = 0.0643221\n",
      "  266    18   35 rx_max = 0.0327407    33   39 ry_max = 0.0643221\n",
      "  267    18   35 rx_max = 0.0327407    33   39 ry_max = 0.0643221\n",
      "  268    18   35 rx_max = 0.0327407    33   39 ry_max = 0.0643221\n",
      "  269    18   35 rx_max = 0.0327407    33   39 ry_max = 0.0643221\n",
      "  270    18   35 rx_max = 0.0327407    33   39 ry_max = 0.0643221\n",
      "  271    18   35 rx_max = 0.0327407    33   39 ry_max = 0.0643221\n",
      "  272    18   35 rx_max = 0.0327407    33   39 ry_max = 0.0643221\n",
      "  273    18   35 rx_max = 0.0327407    33   39 ry_max = 0.0643221\n",
      "  274    18   35 rx_max = 0.0327407    33   39 ry_max = 0.0643221\n",
      "  275    18   35 rx_max = 0.0327407    33   39 ry_max = 0.0643221\n",
      "  276    18   35 rx_max = 0.0327407    33   39 ry_max = 0.0643221\n",
      "  277    18   35 rx_max = 0.0327407    33   39 ry_max = 0.0643221\n",
      "  278    18   35 rx_max = 0.0327407    33   39 ry_max = 0.0643221\n",
      "  279    18   35 rx_max = 0.0327407    33   39 ry_max = 0.0643221\n",
      "  280    18   35 rx_max = 0.0327407    33   39 ry_max = 0.0643221\n",
      "  281    18   35 rx_max = 0.0327407    33   39 ry_max = 0.0643221\n",
      "  282    18   35 rx_max = 0.0327407    33   39 ry_max = 0.0643221\n",
      "  283    18   35 rx_max = 0.0327407    33   39 ry_max = 0.0643221\n",
      "  284    18   35 rx_max = 0.0327407    33   39 ry_max = 0.0643221\n",
      "  285    18   35 rx_max = 0.0327407    33   39 ry_max = 0.0643221\n",
      "  286    18   35 rx_max = 0.0327407    33   39 ry_max = 0.0643221\n",
      "  287    18   35 rx_max = 0.0327407    33   39 ry_max = 0.0643221\n",
      "  288    18   35 rx_max = 0.0327407    33   39 ry_max = 0.0643221\n",
      "  289    18   35 rx_max = 0.0327407    33   39 ry_max = 0.0643221\n",
      "  290    18   35 rx_max = 0.0327407    33   39 ry_max = 0.0643221\n",
      "  291    18   35 rx_max = 0.0327407    33   39 ry_max = 0.0643221\n",
      "  292    18   35 rx_max = 0.0327407    33   39 ry_max = 0.0643221\n",
      "  293    18   35 rx_max = 0.0327407    33   39 ry_max = 0.0643221\n",
      "  294    18   35 rx_max = 0.0327407    33   39 ry_max = 0.0643221\n",
      "  295    18   35 rx_max = 0.0327407    33   39 ry_max = 0.0643221\n",
      "  296    18   35 rx_max = 0.0327407    33   39 ry_max = 0.0643221\n",
      "  297    18   35 rx_max = 0.0327407    33   39 ry_max = 0.0643221\n",
      "  298    18   35 rx_max = 0.0327407    33   39 ry_max = 0.0643221\n",
      "  299    18   35 rx_max = 0.0327407    33   39 ry_max = 0.0643221\n",
      "  300    18   35 rx_max = 0.0327407    33   39 ry_max = 0.0643221\n",
      "  301    18   35 rx_max = 0.0327407    33   39 ry_max = 0.0643221\n",
      "  302    18   35 rx_max = 0.0327407    33   39 ry_max = 0.0643221\n",
      "  303    18   35 rx_max = 0.0327407    33   39 ry_max = 0.0643221\n",
      "  304    18   35 rx_max = 0.0327407    33   39 ry_max = 0.0643221\n",
      "  305    18   35 rx_max = 0.0327407    33   39 ry_max = 0.0643221\n",
      "  306    18   35 rx_max = 0.0327407    33   39 ry_max = 0.0643221\n",
      "  307    18   35 rx_max = 0.0327407    33   39 ry_max = 0.0643221\n",
      "  308    18   35 rx_max = 0.0327407    33   39 ry_max = 0.0643221\n",
      "  309    18   35 rx_max = 0.0327407    33   39 ry_max = 0.0643221\n",
      "  310    18   35 rx_max = 0.0327407    33   39 ry_max = 0.0643221\n",
      "  311    18   35 rx_max = 0.0327407    33   39 ry_max = 0.0643221\n",
      "  312    18   35 rx_max = 0.0327407    33   39 ry_max = 0.0643221\n",
      "  313    18   35 rx_max = 0.0327407    33   39 ry_max = 0.0643221\n",
      "  314    18   35 rx_max = 0.0327407    33   39 ry_max = 0.0643221\n",
      "  315    18   35 rx_max = 0.0327407    33   39 ry_max = 0.0643221\n",
      "  316    18   35 rx_max = 0.0327407    33   39 ry_max = 0.0643221\n",
      "  317    18   35 rx_max = 0.0327407    33   39 ry_max = 0.0643221\n",
      "  318    18   35 rx_max = 0.0327407    33   39 ry_max = 0.0643221\n",
      "  319    18   35 rx_max = 0.0327407    33   39 ry_max = 0.0643221\n",
      "  320    18   35 rx_max = 0.0327407    33   39 ry_max = 0.0643221\n",
      "  321    18   35 rx_max = 0.0327407    33   39 ry_max = 0.0643221\n",
      "  322    18   35 rx_max = 0.0327407    33   39 ry_max = 0.0643221\n",
      "  323    18   35 rx_max = 0.0327407    33   39 ry_max = 0.0643221\n",
      "  324    18   35 rx_max = 0.0327407    33   39 ry_max = 0.0643221\n",
      "  325    18   35 rx_max = 0.0327407    33   39 ry_max = 0.0643221\n",
      "  326    18   35 rx_max = 0.0327407    33   39 ry_max = 0.0643221\n",
      "  327    18   35 rx_max = 0.0327407    33   39 ry_max = 0.0643221\n",
      "  328    18   35 rx_max = 0.0327407    33   39 ry_max = 0.0643221\n",
      "  329    18   35 rx_max = 0.0327407    33   39 ry_max = 0.0643221\n",
      "  330    18   35 rx_max = 0.0327407    33   39 ry_max = 0.0643221\n",
      "  331    18   35 rx_max = 0.0327407    33   39 ry_max = 0.0643221\n",
      "  332    18   35 rx_max = 0.0327407    33   39 ry_max = 0.0643221\n",
      "  333    18   35 rx_max = 0.0327407    33   39 ry_max = 0.0643221\n",
      "  334    18   35 rx_max = 0.0327407    33   39 ry_max = 0.0643221\n",
      "  335    18   35 rx_max = 0.0327407    33   39 ry_max = 0.0643221\n",
      "  336    18   35 rx_max = 0.0327407    33   39 ry_max = 0.0643221\n",
      "  337    18   35 rx_max = 0.0327407    33   39 ry_max = 0.0643221\n",
      "  338    18   35 rx_max = 0.0327407    33   39 ry_max = 0.0643221\n",
      "  339    18   35 rx_max = 0.0327407    33   39 ry_max = 0.0643221\n",
      "  340    18   35 rx_max = 0.0327407    33   39 ry_max = 0.0643221\n",
      "  341    18   35 rx_max = 0.0327407    33   39 ry_max = 0.0643221\n",
      "  342    18   35 rx_max = 0.0327407    33   39 ry_max = 0.0643221\n",
      "  343    18   35 rx_max = 0.0327407    33   39 ry_max = 0.0643221\n",
      "  344    18   35 rx_max = 0.0327407    33   39 ry_max = 0.0643221\n",
      "  345    18   35 rx_max = 0.0327407    33   39 ry_max = 0.0643221\n",
      "  346    18   35 rx_max = 0.0327407    33   39 ry_max = 0.0643221\n",
      "  347    18   35 rx_max = 0.0327407    33   39 ry_max = 0.0643221\n",
      "  348    18   35 rx_max = 0.0327407    33   39 ry_max = 0.0643221\n",
      "  349    18   35 rx_max = 0.0327407    33   39 ry_max = 0.0643221\n",
      "  350    18   35 rx_max = 0.0327407    33   39 ry_max = 0.0643221\n",
      "  351    18   35 rx_max = 0.0327407    33   39 ry_max = 0.0643221\n",
      "  352    18   35 rx_max = 0.0327407    33   39 ry_max = 0.0643221\n",
      "  353    18   35 rx_max = 0.0327407    33   39 ry_max = 0.0643221\n",
      "  354    18   35 rx_max = 0.0327407    33   39 ry_max = 0.0643221\n",
      "  355    18   35 rx_max = 0.0327407    33   39 ry_max = 0.0643221\n",
      "  356    18   35 rx_max = 0.0327407    33   39 ry_max = 0.0643221\n",
      "  357    18   35 rx_max = 0.0327407    33   39 ry_max = 0.0643221\n",
      "  358    18   35 rx_max = 0.0327407    33   39 ry_max = 0.0643221\n",
      "  359    18   35 rx_max = 0.0327407    33   39 ry_max = 0.0643221\n",
      "  360    18   35 rx_max = 0.0327407    33   39 ry_max = 0.0643221\n",
      "  361    18   35 rx_max = 0.0327407    33   39 ry_max = 0.0643221\n",
      "  362    18   35 rx_max = 0.0327407    33   39 ry_max = 0.0643221\n",
      "  363    18   35 rx_max = 0.0327407    33   39 ry_max = 0.0643221\n",
      "  364    18   35 rx_max = 0.0327407    33   39 ry_max = 0.0643221\n",
      "  365    18   35 rx_max = 0.0327407    33   39 ry_max = 0.0643221\n",
      "  366    18   35 rx_max = 0.0327407    33   39 ry_max = 0.0643221\n",
      "  367    18   35 rx_max = 0.0327407    33   39 ry_max = 0.0643221\n",
      "  368    18   35 rx_max = 0.0327407    33   39 ry_max = 0.0643221\n",
      "  369    18   35 rx_max = 0.0327407    33   39 ry_max = 0.0643221\n",
      "  370    18   35 rx_max = 0.0327407    33   39 ry_max = 0.0643221\n",
      "  371    18   35 rx_max = 0.0327407    33   39 ry_max = 0.0643221\n",
      "  372    18   35 rx_max = 0.0327407    33   39 ry_max = 0.0643221\n",
      "  373    18   35 rx_max = 0.0327407    33   39 ry_max = 0.0643221\n",
      "  374    18   35 rx_max = 0.0327407    33   39 ry_max = 0.0643221\n",
      "  375    18   35 rx_max = 0.0327407    33   39 ry_max = 0.0643221\n",
      "  376    18   35 rx_max = 0.0327407    33   39 ry_max = 0.0643221\n",
      "  377    18   35 rx_max = 0.0327407    33   39 ry_max = 0.0643221\n",
      "  378    18   35 rx_max = 0.0327407    33   39 ry_max = 0.0643221\n",
      "  379    18   35 rx_max = 0.0327407    33   39 ry_max = 0.0643221\n",
      "  380    18   35 rx_max = 0.0327407    33   39 ry_max = 0.0643221\n",
      "  381    18   35 rx_max = 0.0327407    33   39 ry_max = 0.0643221\n",
      "  382    18   35 rx_max = 0.0327407    33   39 ry_max = 0.0643221\n",
      "  383    18   35 rx_max = 0.0327407    33   39 ry_max = 0.0643221\n",
      "  384    18   35 rx_max = 0.0327407    33   39 ry_max = 0.0643221\n",
      "  385    18   35 rx_max = 0.0327407    33   39 ry_max = 0.0643221\n",
      "  386    18   35 rx_max = 0.0327407    33   39 ry_max = 0.0643221\n",
      "  387    18   35 rx_max = 0.0327407    33   39 ry_max = 0.0643221\n",
      "  388    18   35 rx_max = 0.0327407    33   39 ry_max = 0.0643221\n",
      "  389    18   35 rx_max = 0.0327407    33   39 ry_max = 0.0643221\n",
      "  390    18   35 rx_max = 0.0327407    33   39 ry_max = 0.0643221\n",
      "  391    18   35 rx_max = 0.0327407    33   39 ry_max = 0.0643221\n",
      "  392    18   35 rx_max = 0.0327407    33   39 ry_max = 0.0643221\n",
      "  393    18   35 rx_max = 0.0327407    33   39 ry_max = 0.0643221\n",
      "  394    18   35 rx_max = 0.0327407    33   39 ry_max = 0.0643221\n",
      "  395    18   35 rx_max = 0.0327407    33   39 ry_max = 0.0643221\n",
      "  396    18   35 rx_max = 0.0327407    33   39 ry_max = 0.0643221\n",
      "  397    18   35 rx_max = 0.0327407    33   39 ry_max = 0.0643221\n",
      "  398    18   35 rx_max = 0.0327407    33   39 ry_max = 0.0643221\n",
      "  399    18   35 rx_max = 0.0327407    33   39 ry_max = 0.0643221\n",
      "  400    18   35 rx_max = 0.0327407    33   39 ry_max = 0.0643221\n",
      "  401    18   35 rx_max = 0.0327407    33   39 ry_max = 0.0643221\n",
      "  402    18   35 rx_max = 0.0327407    33   39 ry_max = 0.0643221\n",
      "  403    18   35 rx_max = 0.0327407    33   39 ry_max = 0.0643221\n",
      "  404    18   35 rx_max = 0.0327407    33   39 ry_max = 0.0643221\n",
      "  405    18   35 rx_max = 0.0327407    33   39 ry_max = 0.0643221\n",
      "  406    18   35 rx_max = 0.0327407    33   39 ry_max = 0.0643221\n",
      "  407    18   35 rx_max = 0.0327407    33   39 ry_max = 0.0643221\n",
      "  408    18   35 rx_max = 0.0327407    33   39 ry_max = 0.0643221\n",
      "  409    18   35 rx_max = 0.0327407    33   39 ry_max = 0.0643221\n",
      "  410    18   35 rx_max = 0.0327407    33   39 ry_max = 0.0643221\n",
      "  411    18   35 rx_max = 0.0327407    33   39 ry_max = 0.0643221\n",
      "  412    18   35 rx_max = 0.0327407    33   39 ry_max = 0.0643221\n",
      "  413    18   35 rx_max = 0.0327407    33   39 ry_max = 0.0643221\n",
      "  414    18   35 rx_max = 0.0327407    33   39 ry_max = 0.0643221\n",
      "  415    18   35 rx_max = 0.0327407    33   39 ry_max = 0.0643221\n",
      "  416    18   35 rx_max = 0.0327407    33   39 ry_max = 0.0643221\n",
      "  417    18   35 rx_max = 0.0327407    33   39 ry_max = 0.0643221\n",
      "  418    18   35 rx_max = 0.0327407    33   39 ry_max = 0.0643221\n",
      "  419    18   35 rx_max = 0.0327407    33   39 ry_max = 0.0643221\n",
      "  420    18   35 rx_max = 0.0327407    33   39 ry_max = 0.0643221\n",
      "  421    18   35 rx_max = 0.0327407    33   39 ry_max = 0.0643221\n",
      "  422    18   35 rx_max = 0.0327407    33   39 ry_max = 0.0643221\n",
      "  423    18   35 rx_max = 0.0327407    33   39 ry_max = 0.0643221\n",
      "  424    18   35 rx_max = 0.0327407    33   39 ry_max = 0.0643221\n",
      "  425    18   35 rx_max = 0.0327407    33   39 ry_max = 0.0643221\n",
      "  426    18   35 rx_max = 0.0327407    33   39 ry_max = 0.0643221\n",
      "  427    18   35 rx_max = 0.0327407    33   39 ry_max = 0.0643221\n",
      "  428    18   35 rx_max = 0.0327407    33   39 ry_max = 0.0643221\n",
      "  429    18   35 rx_max = 0.0327407    33   39 ry_max = 0.0643221\n",
      "  430    18   35 rx_max = 0.0327407    33   39 ry_max = 0.0643221\n",
      "  431    18   35 rx_max = 0.0327407    33   39 ry_max = 0.0643221\n",
      "  432    18   35 rx_max = 0.0327407    33   39 ry_max = 0.0643221\n",
      "  433    18   35 rx_max = 0.0327407    33   39 ry_max = 0.0643221\n",
      "  434    18   35 rx_max = 0.0327407    33   39 ry_max = 0.0643221\n",
      "  435    18   35 rx_max = 0.0327407    33   39 ry_max = 0.0643221\n",
      "  436    18   35 rx_max = 0.0327407    33   39 ry_max = 0.0643221\n",
      "  437    18   35 rx_max = 0.0327407    33   39 ry_max = 0.0643221\n",
      "  438    18   35 rx_max = 0.0327407    33   39 ry_max = 0.0643221\n",
      "  439    18   35 rx_max = 0.0327407    33   39 ry_max = 0.0643221\n",
      "  440    18   35 rx_max = 0.0327407    33   39 ry_max = 0.0643221\n",
      "  441    18   35 rx_max = 0.0327407    33   39 ry_max = 0.0643221\n",
      "  442    18   35 rx_max = 0.0327407    33   39 ry_max = 0.0643221\n",
      "  443    18   35 rx_max = 0.0327407    33   39 ry_max = 0.0643221\n",
      "  444    18   35 rx_max = 0.0327407    33   39 ry_max = 0.0643221\n",
      "  445    18   35 rx_max = 0.0327407    33   39 ry_max = 0.0643221\n",
      "  446    18   35 rx_max = 0.0327407    33   39 ry_max = 0.0643221\n",
      "  447    18   35 rx_max = 0.0327407    33   39 ry_max = 0.0643221\n",
      "  448    18   35 rx_max = 0.0327407    33   39 ry_max = 0.0643221\n",
      "  449    18   35 rx_max = 0.0327407    33   39 ry_max = 0.0643221\n",
      "  450    18   35 rx_max = 0.0327407    33   39 ry_max = 0.0643221\n",
      "  451    18   35 rx_max = 0.0327407    33   39 ry_max = 0.0643221\n",
      "  452    18   35 rx_max = 0.0327407    33   39 ry_max = 0.0643221\n",
      "  453    18   35 rx_max = 0.0327407    33   39 ry_max = 0.0643221\n",
      "  454    18   35 rx_max = 0.0327407    33   39 ry_max = 0.0643221\n",
      "  455    18   35 rx_max = 0.0327407    33   39 ry_max = 0.0643221\n",
      "  456    18   35 rx_max = 0.0327407    33   39 ry_max = 0.0643221\n",
      "  457    18   35 rx_max = 0.0327407    33   39 ry_max = 0.0643221\n",
      "  458    18   35 rx_max = 0.0327407    33   39 ry_max = 0.0643221\n",
      "  459    18   35 rx_max = 0.0327407    33   39 ry_max = 0.0643221\n",
      "  460    18   35 rx_max = 0.0327407    33   39 ry_max = 0.0643221\n",
      "  461    18   35 rx_max = 0.0327407    33   39 ry_max = 0.0643221\n",
      "  462    18   35 rx_max = 0.0327407    33   39 ry_max = 0.0643221\n",
      "  463    18   35 rx_max = 0.0327407    33   39 ry_max = 0.0643221\n",
      "  464    18   35 rx_max = 0.0327407    33   39 ry_max = 0.0643221\n",
      "  465    18   35 rx_max = 0.0327407    33   39 ry_max = 0.0643221\n",
      "  466    18   35 rx_max = 0.0327407    33   39 ry_max = 0.0643221\n",
      "  467    18   35 rx_max = 0.0327407    33   39 ry_max = 0.0643221\n",
      "  468    18   35 rx_max = 0.0327407    33   39 ry_max = 0.0643221\n",
      "  469    18   35 rx_max = 0.0327407    33   39 ry_max = 0.0643221\n",
      "  470    18   35 rx_max = 0.0327407    33   39 ry_max = 0.0643221\n",
      "  471    18   35 rx_max = 0.0327407    33   39 ry_max = 0.0643221\n",
      "  472    18   35 rx_max = 0.0327407    33   39 ry_max = 0.0643221\n",
      "  473    18   35 rx_max = 0.0327407    33   39 ry_max = 0.0643221\n",
      "  474    18   35 rx_max = 0.0327407    33   39 ry_max = 0.0643221\n",
      "  475    18   35 rx_max = 0.0327407    33   39 ry_max = 0.0643221\n",
      "  476    18   35 rx_max = 0.0327407    33   39 ry_max = 0.0643221\n",
      "  477    18   35 rx_max = 0.0327407    33   39 ry_max = 0.0643221\n",
      "  478    18   35 rx_max = 0.0327407    33   39 ry_max = 0.0643221\n",
      "  479    18   35 rx_max = 0.0327407    33   39 ry_max = 0.0643221\n",
      "  480    18   35 rx_max = 0.0327407    33   39 ry_max = 0.0643221\n",
      "  481    18   35 rx_max = 0.0327407    33   39 ry_max = 0.0643221\n",
      "  482    18   35 rx_max = 0.0327407    33   39 ry_max = 0.0643221\n",
      "  483    18   35 rx_max = 0.0327407    33   39 ry_max = 0.0643221\n",
      "  484    18   35 rx_max = 0.0327407    33   39 ry_max = 0.0643221\n",
      "  485    18   35 rx_max = 0.0327407    33   39 ry_max = 0.0643221\n",
      "  486    18   35 rx_max = 0.0327407    33   39 ry_max = 0.0643221\n",
      "  487    18   35 rx_max = 0.0327407    33   39 ry_max = 0.0643221\n",
      "  488    18   35 rx_max = 0.0327407    33   39 ry_max = 0.0643221\n",
      "  489    18   35 rx_max = 0.0327407    33   39 ry_max = 0.0643221\n",
      "  490    18   35 rx_max = 0.0327407    33   39 ry_max = 0.0643221\n",
      "  491    18   35 rx_max = 0.0327407    33   39 ry_max = 0.0643221\n",
      "  492    18   35 rx_max = 0.0327407    33   39 ry_max = 0.0643221\n",
      "  493    18   35 rx_max = 0.0327407    33   39 ry_max = 0.0643221\n",
      "  494    18   35 rx_max = 0.0327407    33   39 ry_max = 0.0643221\n",
      "  495    18   35 rx_max = 0.0327407    33   39 ry_max = 0.0643221\n",
      "  496    18   35 rx_max = 0.0327407    33   39 ry_max = 0.0643221\n",
      "  497    18   35 rx_max = 0.0327407    33   39 ry_max = 0.0643221\n",
      "  498    18   35 rx_max = 0.0327407    33   39 ry_max = 0.0643221\n",
      "  499    18   35 rx_max = 0.0327407    33   39 ry_max = 0.0643221\n",
      "\n",
      " Wall Clock time spent in smoothing    0.01 sec running   1 threads.\n"
     ]
    }
   ],
   "source": [
    "GetTopo.topo(None,outputs,topofile,shp_file,smooth=inputs_smth,sgl_connect=sgl_connect)"
   ]
  },
  {
   "cell_type": "markdown",
   "id": "17942a5c-7a66-482f-a14d-e0c354a6ed9a",
   "metadata": {},
   "source": [
    "##### Save grid as necdf"
   ]
  },
  {
   "cell_type": "markdown",
   "id": "f53eaa55-8b9d-49ec-b5bb-80f751776c90",
   "metadata": {},
   "source": [
    "This code creates a Netcdf file containing all grid data (geographic, topo-bathymetric, mask) in the format defined by the classes generated earlier in this notebook. Then it saves it in the ouput repertory."
   ]
  },
  {
   "cell_type": "code",
   "execution_count": 31,
   "id": "8b0716c7-9313-4599-864a-7049cff1a52f",
   "metadata": {},
   "outputs": [
    {
     "name": "stdout",
     "output_type": "stream",
     "text": [
      "Writting ../../CROCO_FILES/croco_chd_grd.nc done\n"
     ]
    }
   ],
   "source": [
    "CROCO.create_grid_nc(None,output_file,inputs,outputs)"
   ]
  },
  {
   "cell_type": "markdown",
   "id": "ca2716e3-a6f0-4135-b58a-9039aac96818",
   "metadata": {},
   "source": [
    "#### 🪨🧩 Connecting parent/child topo's"
   ]
  },
  {
   "cell_type": "markdown",
   "id": "4ded1a74-8b62-4563-9077-de282a7de751",
   "metadata": {},
   "source": [
    "##### Open boundary conditions"
   ]
  },
  {
   "cell_type": "markdown",
   "id": "8448f301-3f2f-45be-9e22-9afe942642ee",
   "metadata": {},
   "source": [
    "<div style=\"border: 2px solid yellow; padding: 10px; background-color: #fff3e0;\">\n",
    "    <strong>🚨 CHECKBOX SELECTION:</strong> SIMPLY RUN THE NEXT CELL TO SELECT OBCs\n",
    "</div>"
   ]
  },
  {
   "cell_type": "code",
   "execution_count": 34,
   "id": "c62f6348-5343-4438-b077-3a816ff3ad16",
   "metadata": {},
   "outputs": [
    {
     "data": {
      "application/vnd.jupyter.widget-view+json": {
       "model_id": "c18688fc2d3c4621be9817a156b8c363",
       "version_major": 2,
       "version_minor": 0
      },
      "text/plain": [
       "VBox(children=(Checkbox(value=True, description='North Border', layout=Layout(width='100%')), Checkbox(value=T…"
      ]
     },
     "metadata": {},
     "output_type": "display_data"
    },
    {
     "data": {
      "application/vnd.jupyter.widget-view+json": {
       "model_id": "6d7c2bf75d11471db834eb1f8b7a0270",
       "version_major": 2,
       "version_minor": 0
      },
      "text/plain": [
       "Output()"
      ]
     },
     "metadata": {},
     "output_type": "display_data"
    }
   ],
   "source": [
    "# Define variables to store the settings\n",
    "settings = {\n",
    "    'NORTH': True,\n",
    "    'SOUTH': True,\n",
    "    'WEST': True,\n",
    "    'EAST': True,\n",
    "    'MERGING_AREA': 5  # Set default value to 5\n",
    "}\n",
    "\n",
    "# Function to handle saving values\n",
    "def save_values(b):\n",
    "    # Update settings with current values\n",
    "    settings['NORTH'] = north_checkbox.value\n",
    "    settings['SOUTH'] = south_checkbox.value\n",
    "    settings['WEST'] = west_checkbox.value\n",
    "    settings['EAST'] = east_checkbox.value\n",
    "    settings['MERGING_AREA'] = merging_area_text.value\n",
    "    \n",
    "    # Display confirmation message\n",
    "    with output:\n",
    "        clear_output()\n",
    "        print(\"Settings have been saved.\")\n",
    "        print(settings)  # Display current settings for verification\n",
    "\n",
    "# Create checkboxes for each border\n",
    "north_checkbox = widgets.Checkbox(value=settings['NORTH'], description='North Border')\n",
    "south_checkbox = widgets.Checkbox(value=settings['SOUTH'], description='South Border')\n",
    "west_checkbox = widgets.Checkbox(value=settings['WEST'], description='West Border')\n",
    "east_checkbox = widgets.Checkbox(value=settings['EAST'], description='East Border')\n",
    "\n",
    "# Create a field for the \"Merging Area\" parameter as an integer with default value 5\n",
    "merging_area_text = widgets.IntText(\n",
    "    value=settings['MERGING_AREA'], \n",
    "    layout=widgets.Layout(width='100px')  # Adjust width of the input field\n",
    ")\n",
    "merging_area_label = widgets.Label(\n",
    "    value='Merging Area:', \n",
    "    layout=widgets.Layout(width='150px', display='flex', justify_content='flex-end')  # Adjust label width and alignment\n",
    ")\n",
    "\n",
    "# Create an HBox for the label and input field\n",
    "merging_area_box = widgets.HBox(children=[\n",
    "    merging_area_label, \n",
    "    merging_area_text\n",
    "])\n",
    "\n",
    "# Create a button to save the settings\n",
    "save_button = widgets.Button(description=\"Save Settings\")\n",
    "save_button.on_click(save_values)\n",
    "\n",
    "# Create a box around the widgets with custom styling\n",
    "border_box = widgets.VBox(children=[\n",
    "    north_checkbox, \n",
    "    south_checkbox, \n",
    "    west_checkbox, \n",
    "    east_checkbox,\n",
    "    merging_area_box,\n",
    "    save_button\n",
    "])\n",
    "\n",
    "# Apply CSS styles to the box\n",
    "border_box.layout.border = '2px solid #007bff'\n",
    "border_box.layout.padding = '10px'\n",
    "border_box.layout.border_radius = '5px'\n",
    "border_box.layout.margin = '10px'\n",
    "border_box.layout.width = '400px'  # Increase width to ensure full visibility\n",
    "\n",
    "# Adjust width of individual widgets\n",
    "north_checkbox.layout.width = '100%'\n",
    "south_checkbox.layout.width = '100%'\n",
    "west_checkbox.layout.width = '100%'\n",
    "east_checkbox.layout.width = '100%'\n",
    "merging_area_text.layout.width = '100px'  # Set a specific width for the input field\n",
    "\n",
    "# Create an output area for displaying messages\n",
    "output = widgets.Output()\n",
    "\n",
    "# Display the box and output area\n",
    "display(border_box, output)"
   ]
  },
  {
   "cell_type": "markdown",
   "id": "01c6a052-d1f6-4fe9-9aa6-d6cb20d98d84",
   "metadata": {},
   "source": [
    "##### Run the topo matching function"
   ]
  },
  {
   "cell_type": "markdown",
   "id": "2b9def0e-b4ac-40d7-bbce-d4667effc176",
   "metadata": {},
   "source": [
    "<div class=\"alert alert-block alert-info\">\n",
    "<strong>Topo parent-child smoothing:</strong> Currently the code used to match parent/child grids'topo is the fortran one, a python version is under construction\n",
    "</div>"
   ]
  },
  {
   "cell_type": "code",
   "execution_count": 60,
   "id": "2f23b1fb-6e17-455f-9a37-fd5f1ce02fb7",
   "metadata": {},
   "outputs": [
    {
     "name": "stdout",
     "output_type": "stream",
     "text": [
      " allocated           0 MB total\n",
      " allocated           0 MB total\n",
      " Parent grid xmin,xmax =   5.9521298615024127        24.047870138497583     \n",
      " enter search_tile, jcmin =           1  jcmax =          42\n",
      "  check_search_indices ...  ...done\n",
      "  checking offsets...  max errors = 5.329070518200751E-15 1.065814103640150E-14\n",
      " allocated           0 MB total\n",
      " allocated           0 MB total\n",
      " set_tiles: nx =  41 ny =  42 numthreads =  1 nsub_x =  1 nsub_y =  3\n",
      " set_tiles: nx =  41 ny =  42 numthreads =  1 nsub_x =  1 nsub_y =  3\n",
      " Etching merging zone area into land...\n",
      "        iter =      1  npts =         0  changes =         0\n",
      " set_tiles: nx =  41 ny =  42 numthreads =  1 nsub_x =  1 nsub_y =  3\n",
      " Etching merging weight function into land...\n",
      " set_tiles: nx =  41 ny =  42 numthreads =  1 nsub_x =  1 nsub_y =  3\n",
      " Smoothing weight function, iters =          20   numthreads =           1\n",
      "        iter =     20\n",
      " Merging topography...\n"
     ]
    }
   ],
   "source": [
    "    directions = \"\"\n",
    "    if settings['WEST']:\n",
    "        directions += 'W'\n",
    "    if settings['EAST']:\n",
    "        directions += 'E'\n",
    "    if settings['SOUTH']:\n",
    "        directions += 'S'\n",
    "    if settings['NORTH']:\n",
    "        directions += 'N'\n",
    "    settings['bry'] = directions\n",
    "\n",
    "test=GetTopo.match_topo(None,prt,outputs,[settings['bry'],settings['MERGING_AREA']])\n",
    "\n",
    "#topo= toolsf.r2r_match_topo(settings['WEST'],settings['EAST'],settings['SOUTH'],settings['NORTH'],nx ,ny , iip, jjp, settings['MERGING_AREA'],outputs.lon_rho.T,outputs.lat_rho.T,outputs.h.T,mask_tmp.T,\\\n",
    "                                  #prt.lon_rho.T,prt.lat_rho.T,prt.h.T)"
   ]
  },
  {
   "cell_type": "markdown",
   "id": "1b2fb9db-4936-4ce8-9e32-4392c1a12388",
   "metadata": {},
   "source": [
    "## 👁️🌐 Grid display"
   ]
  },
  {
   "cell_type": "code",
   "execution_count": 76,
   "id": "ac1fcb09-5054-49d0-9234-e2d4abfea65a",
   "metadata": {},
   "outputs": [],
   "source": [
    "#plt.style.use('_mpl-gallery')\n",
    "figure2 = plt.figure(figsize = (12,12))\n",
    "figure2.suptitle('Grid outline and bathymetry')\n",
    "ax2 = plot_outline(prt, figure2)\n",
    "ax2, cb2 = plot_topo(prt, figure2, ax2)\n",
    "#ax2 = plot_outline(outputs, figure2)\n",
    "ax2, cb2= plot_topo(outputs, figure2, ax2)"
   ]
  },
  {
   "cell_type": "code",
   "execution_count": 77,
   "id": "1d754624-fc5d-488d-a9d1-d24f3379d438",
   "metadata": {},
   "outputs": [
    {
     "data": {
      "image/png": "[encoded data removed]",
      "text/plain": [
       "<Figure size 1200x1200 with 3 Axes>"
      ]
     },
     "execution_count": 77,
     "metadata": {},
     "output_type": "execute_result"
    }
   ],
   "source": [
    "figure2"
   ]
  },
  {
   "cell_type": "markdown",
   "id": "89af957d-b581-4041-a443-127fd67266b3",
   "metadata": {},
   "source": [
    "### Save grid as necdf"
   ]
  },
  {
   "cell_type": "markdown",
   "id": "cd96ebc0-9108-4390-bf5f-aa681636dabd",
   "metadata": {},
   "source": [
    "This code creates a Netcdf file containing all grid data (geographic, topo-bathymetric, mask) in the format defined by the classes generated earlier in this notebook. Then it saves it in the ouput repertory."
   ]
  },
  {
   "cell_type": "code",
   "execution_count": 59,
   "id": "c5d12b69-5cdf-4187-ba44-0b8f541167a8",
   "metadata": {},
   "outputs": [
    {
     "name": "stdout",
     "output_type": "stream",
     "text": [
      "Writting ../../CROCO_FILES/croco_chd_grd.nc done\n"
     ]
    }
   ],
   "source": [
    "CROCO.create_grid_nc(None,output_file,inputs,outputs)"
   ]
  },
  {
   "cell_type": "code",
   "execution_count": null,
   "id": "8b83f135-4b95-4484-a1a5-c21dab0d23bf",
   "metadata": {},
   "outputs": [],
   "source": []
  }
 ],
 "metadata": {
  "kernelspec": {
   "display_name": "Python 3 (ipykernel)",
   "language": "python",
   "name": "python3"
  },
  "language_info": {
   "codemirror_mode": {
    "name": "ipython",
    "version": 3
   },
   "file_extension": ".py",
   "mimetype": "text/x-python",
   "name": "python",
   "nbconvert_exporter": "python",
   "pygments_lexer": "ipython3",
   "version": "3.9.18"
  }
 },
 "nbformat": 4,
 "nbformat_minor": 5
}
