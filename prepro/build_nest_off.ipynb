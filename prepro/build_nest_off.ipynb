{
 "cells": [
  {
   "cell_type": "markdown",
   "id": "71573cd1-5091-49f2-8d81-3099cc2a10d2",
   "metadata": {},
   "source": [
    "<center><img src=\"https://encrypted-tbn0.gstatic.com/images?q=tbn:ANd9GcQXnrruP7guibF61c4gOESBR2VhhqYmEjKin0yY9lrhCak3hIbXI0QDSlObO74xcBkjMw&usqp=CAU\"/></center>"
   ]
  },
  {
   "cell_type": "markdown",
   "id": "91295459-7aa4-466c-927c-6a13262198f5",
   "metadata": {},
   "source": [
    "# 🔍 Build a nest - OFFLINE "
   ]
  },
  {
   "cell_type": "markdown",
   "id": "2b482d33-fda9-40ef-997c-4633bfd826eb",
   "metadata": {},
   "source": [
    "<small>\n",
    "This notebook allows you to build a child grid/a nest from a parent grid (created with <strong>`make_grid.ipynb`</strong>) with offline or AGRIF methods\n",
    "<br>💡 It is linked to the croco-ocean/croco_pytools' <a href= \"https://gitlab.inria.fr/croco-ocean/croco_pytools/-/issues/4\">ISSUE #4</a> located on the <strong>croco-ocean INRIA's gitlab</strong>\n",
    "<br>➡️ Notebook created by <a href=\"mailto:thibault.delahaye@ird.fr\">Thibault Delahaye</a> and based on the existing codes of pycrocotool\n",
    "<br>🌳 Developped on **notebook-grid-tools**'s branch, whose source is the main branch\n",
    "</small>"
   ]
  },
  {
   "cell_type": "markdown",
   "id": "de10aad5-4e55-41ff-bc46-ed0a015c6ead",
   "metadata": {},
   "source": [
    "## Table of contents 🔗\n",
    "\n",
    "1. [Code presentation 📖](#📖-Code-presentation)\n",
    "   - \n",
    "   - \n",
    "\n",
    " "
   ]
  },
  {
   "cell_type": "markdown",
   "id": "732b409d-ebfc-46bf-90c0-886c78075eaa",
   "metadata": {},
   "source": [
    "## 📖-Code-presentation"
   ]
  },
  {
   "cell_type": "markdown",
   "id": "b0d9248e-616a-4efc-a185-2a430b1470a4",
   "metadata": {},
   "source": [
    "### Method"
   ]
  },
  {
   "cell_type": "markdown",
   "id": "3ab1876e-b658-4401-bfcb-0336a45f71df",
   "metadata": {},
   "source": [
    "<div class=\"alert alert-block alert-info\">\n",
    "\n",
    "To represent fine-scale phenomena, CROCO offers the ability to create zooms with increased resolution. Two options exist 🛠️:\n",
    "\n",
    "<div style=\"border: 2px dotted black; padding: 10px; margin: 10px;\">\n",
    "    \n",
    "##### Offline Zoom 🗺️ ➡️ 🔍\n",
    "\n",
    "- **Description**: Creation of a grid with the desired resolution, where the boundaries are within a grid of a larger CROCO domain, already modeled.\n",
    "- **Conditions**: The high-resolution grid takes as initial and boundary conditions those from the larger CROCO simulation. The simulations are independent and no feedback from the high-resolution grid to the coarser grid is possible. The simulations run separately.\n",
    "- **Advantages**:\n",
    "  - Independence\n",
    "  - No constraints on the chosen resolution\n",
    "- **Disadvantages**:\n",
    "  - No feedback to the larger domain\n",
    "  - Zoom boundary forcing depends on the frequency of the parent grid’s history, which may filter out some waves present in the parent grid.\n",
    "</div>\n",
    "##### AGRIF Zoom 🔄\n",
    "\n",
    "- **Description**: AGRIF is a library that allows running CROCO with several embedded domains together. (see documentation in CROCO documentation)\n",
    "- **Conditions**: Parent and child(s) domains are run simultaneously, coupling the domains at the barotropic time step.\n",
    "- **Advantages**:\n",
    "  - Two-way feedback to the parent domain is possible and can significantly improve results of the larger domain\n",
    "  - Coupling at the highest possible frequency\n",
    "  - Consistency of numerics\n",
    "  - Any number of nesting levels is allowed\n",
    "- **Disadvantages**:\n",
    "  - Requires simultaneous execution of the parent and child(s) grids\n",
    "  - Nesting ratio should be 3 or 5\n",
    "  - Currently, AGRIF zooms in CROCO must have the same vertical resolution as the parent.\n",
    "\n",
    "</div>"
   ]
  },
  {
   "cell_type": "markdown",
   "id": "d1fe7066-b065-451a-8385-23d3eaff4cf2",
   "metadata": {},
   "source": [
    "### 💾 Datasets\n",
    "\n",
    "Further Information: [CROCO OCEAN WEBSITE](http://www.croco-ocean.org)\n",
    "  \n",
    "*This file is part of CROCOTOOLS* 🐊\n",
    "\n",
    "**Create a CROCO grid file** 🌐   \n",
    "In the current state the script can handle:  "
   ]
  },
  {
   "cell_type": "markdown",
   "id": "a2f0433f-cf98-46f3-a381-638f17113570",
   "metadata": {},
   "source": [
    "<table style=\"width: 100%; text-align: left; border-collapse: collapse;\">\n",
    "  <thead>\n",
    "    <tr>\n",
    "      <th style=\"border: 1px solid #ddd; padding: 8px; background-color: #f4f4f4;\">DATA</th>\n",
    "      <th style=\"border: 1px solid #ddd; padding: 8px; background-color: #f4f4f4;\">SOURCE</th>\n",
    "      <th style=\"border: 1px solid #ddd; padding: 8px; background-color: #f4f4f4;\">FILE EXTENSION</th>\n",
    "    </tr>\n",
    "  </thead>\n",
    "  <tbody>\n",
    "    <tr>\n",
    "      <td style=\"border: 1px solid #ddd; padding: 8px;\"><strong>⛰️ topo/bathy</strong></td>\n",
    "      <td style=\"border: 1px solid #ddd; padding: 8px;\">etopo (5,2,1),<br>srtm30, gebco</td>\n",
    "      <td style=\"border: 1px solid #ddd; padding: 8px;\"><em>NetCDF</em></td>\n",
    "    </tr>\n",
    "    <tr>\n",
    "      <td style=\"border: 1px solid #ddd; padding: 8px;\"><strong>🏖️ coastline</strong></td>\n",
    "      <td style=\"border: 1px solid #ddd; padding: 8px;\">GSHHS</td>\n",
    "      <td style=\"border: 1px solid #ddd; padding: 8px;\"><em>shapefile</em></td>\n",
    "    </tr>\n",
    "    <tr>\n",
    "      <td style=\"border: 1px solid #ddd; padding: 8px;\"><strong>🐊 parent CROCO grid</strong></td>\n",
    "      <td style=\"border: 1px solid #ddd; padding: 8px;\">croco_grd built with make_grid.ipynb</td>\n",
    "      <td style=\"border: 1px solid #ddd; padding: 8px;\"><em>NetCDF</em></td>\n",
    "    </tr>\n",
    "  </tbody>\n",
    "</table>"
   ]
  },
  {
   "cell_type": "markdown",
   "id": "eaa0004a-d8b0-4429-a1f9-f8742bd5b2f0",
   "metadata": {},
   "source": [
    "### ⚙️ Requirements\n",
    "➡️ Installing `ipympl` for interactive Plots :\n",
    "\n",
    "*To use **interactive plotting** features with the `%matplotlib widget` [magic command](#Magic-cells) in Jupyter Notebook or JupyterLab, you need to install the `ipympl` package. This package enables Matplotlib to render interactive plots using Jupyter widgets.*\n",
    "\n",
    " **Run the following command** in a code cell or in your notebook to install `ipympl`:\n",
    "   ```python\n",
    "   pip install ipympl\n",
    "   ```"
   ]
  },
  {
   "cell_type": "markdown",
   "id": "27db1e1f-eef7-4d4f-a1fc-d01f806296ba",
   "metadata": {},
   "source": [
    "---\n",
    "\n",
    "<div style=\"text-align: center; font-size: 0.9em; color: gray;\">\n",
    "  CODE BODY\n",
    "</div>\n",
    "\n",
    "---"
   ]
  },
  {
   "cell_type": "markdown",
   "id": "0777ea4e-fe68-4fdf-b339-db6b4bfebe0f",
   "metadata": {},
   "source": [
    "### Magic cells"
   ]
  },
  {
   "cell_type": "markdown",
   "id": "f6224b8e-f390-45ab-aaee-edd0276477b6",
   "metadata": {},
   "source": [
    "[Magic cell](https://ipython.readthedocs.io/en/stable/interactive/magics.html) ⚡🐚 dedicated to the activation of backend environments"
   ]
  },
  {
   "cell_type": "code",
   "execution_count": 10,
   "id": "3a702449-8ad8-4297-a23b-56415dc11b3c",
   "metadata": {},
   "outputs": [],
   "source": [
    "#Allows widget interactivity with user\n",
    "%matplotlib widget    \n",
    "%load_ext autoreload\n",
    "%autoreload 2"
   ]
  },
  {
   "cell_type": "markdown",
   "id": "54ec949f-b22d-4154-8495-354b59500ae6",
   "metadata": {},
   "source": [
    "### Dependencies"
   ]
  },
  {
   "cell_type": "code",
   "execution_count": 11,
   "id": "d93d3268-6c49-470f-b320-95d2b297c9ba",
   "metadata": {},
   "outputs": [],
   "source": [
    "import numpy as np\n",
    "import os,sys\n",
    "os.environ['ETS_TOOLKIT'] = 'wx'\n",
    "sys.path.append(\"./Modules/\")\n",
    "sys.path.append(\"./Readers/\")\n",
    "sys.path.append(\"./Modules/graphicUI_tools/\")\n",
    "from main_window import *\n",
    "import tools_make_grid\n",
    "#----------------------------------------------#\n",
    "from tools_make_grid import inputs,inputs_smth,EasyGrid,GetMask,GetTopo\n",
    "from croco_class import CROCO\n",
    "from main_window import Outputs\n",
    "#----------------------------------------------#\n",
    "from Modules.map_tools.map_tools import plot_grid, plot_outline, plot_topo\n",
    "from scipy.spatial import distance\n",
    "import matplotlib.pyplot as plt\n",
    "import ipywidgets as widgets\n",
    "from ipywidgets import interact_manual\n",
    "#----------------------------------------------#\n",
    "from matplotlib.widgets import RectangleSelector\n",
    "from ipywidgets import FloatText, VBox\n",
    "from IPython.display import display"
   ]
  },
  {
   "cell_type": "markdown",
   "id": "d10507b3-1965-4435-8d6f-e7ca9520a554",
   "metadata": {},
   "source": [
    "## 🗺️ Parent grid path and infos"
   ]
  },
  {
   "cell_type": "markdown",
   "id": "0a7a2d1a-05d5-4bb2-b22c-66de9b131a20",
   "metadata": {},
   "source": [
    "### Parent grid path:"
   ]
  },
  {
   "cell_type": "code",
   "execution_count": 31,
   "id": "e3e1356d-6a5e-4d04-997d-8bb2f08d697f",
   "metadata": {},
   "outputs": [],
   "source": [
    "parent_grid_file= \"../../CROCO_FILES/croco_grd.nc\""
   ]
  },
  {
   "cell_type": "markdown",
   "id": "d81d5fab-dc1d-4ce1-a926-05952234cca4",
   "metadata": {},
   "source": [
    "### Collecting parent's grid inputs parameters"
   ]
  },
  {
   "cell_type": "code",
   "execution_count": 26,
   "id": "31e2f203-967a-44c7-9c4a-e61523ebda53",
   "metadata": {},
   "outputs": [],
   "source": [
    "import json\n",
    "import pandas as pd\n",
    "\n",
    "output_folder = os.path.dirname(parent_grid_file)\n",
    "json_filename = 'user_inputs.json'\n",
    "\n",
    "json_file_path= os.path.join(output_folder, json_filename)\n",
    "\n",
    "# Lire le fichier JSON\n",
    "with open(json_file_path, 'r') as json_file:\n",
    "    user_inputs_parent = json.load(json_file)\n",
    "    \n",
    "# Convertir les sous-dictionnaires en DataFrames séparés\n",
    "df_inputs = pd.DataFrame([user_inputs_parent['inputs']])\n",
    "df_inputs_smth = pd.DataFrame([user_inputs_parent['inputs_smth']])"
   ]
  },
  {
   "cell_type": "markdown",
   "id": "d774cee8-adec-48c8-b705-06206b0bb909",
   "metadata": {},
   "source": [
    "**PARENT GRID INPUTS**"
   ]
  },
  {
   "cell_type": "code",
   "execution_count": 27,
   "id": "43789432-13c2-4829-bef5-277861c3476a",
   "metadata": {},
   "outputs": [
    {
     "data": {
      "text/html": [
       "<div>\n",
       "<style scoped>\n",
       "    .dataframe tbody tr th:only-of-type {\n",
       "        vertical-align: middle;\n",
       "    }\n",
       "\n",
       "    .dataframe tbody tr th {\n",
       "        vertical-align: top;\n",
       "    }\n",
       "\n",
       "    .dataframe thead th {\n",
       "        text-align: right;\n",
       "    }\n",
       "</style>\n",
       "<table border=\"1\" class=\"dataframe\">\n",
       "  <thead>\n",
       "    <tr style=\"text-align: right;\">\n",
       "      <th></th>\n",
       "      <th>tra_lon</th>\n",
       "      <th>tra_lat</th>\n",
       "      <th>size_x</th>\n",
       "      <th>size_y</th>\n",
       "      <th>rot</th>\n",
       "      <th>nx</th>\n",
       "      <th>ny</th>\n",
       "    </tr>\n",
       "  </thead>\n",
       "  <tbody>\n",
       "    <tr>\n",
       "      <th>0</th>\n",
       "      <td>15</td>\n",
       "      <td>-32</td>\n",
       "      <td>1556</td>\n",
       "      <td>1334</td>\n",
       "      <td>0</td>\n",
       "      <td>39</td>\n",
       "      <td>40</td>\n",
       "    </tr>\n",
       "  </tbody>\n",
       "</table>\n",
       "</div>"
      ],
      "text/plain": [
       "   tra_lon  tra_lat  size_x  size_y  rot  nx  ny\n",
       "0       15      -32    1556    1334    0  39  40"
      ]
     },
     "execution_count": 27,
     "metadata": {},
     "output_type": "execute_result"
    }
   ],
   "source": [
    "df_inputs"
   ]
  },
  {
   "cell_type": "markdown",
   "id": "55dcb7e3-caa5-4cdd-b150-e153273134ca",
   "metadata": {},
   "source": [
    "**PARENT GRID SMOOTHING PARAMETERS**"
   ]
  },
  {
   "cell_type": "code",
   "execution_count": 28,
   "id": "28143ac1-1807-4ffe-b14a-d5e6100bbaf2",
   "metadata": {},
   "outputs": [
    {
     "data": {
      "text/html": [
       "<div>\n",
       "<style scoped>\n",
       "    .dataframe tbody tr th:only-of-type {\n",
       "        vertical-align: middle;\n",
       "    }\n",
       "\n",
       "    .dataframe tbody tr th {\n",
       "        vertical-align: top;\n",
       "    }\n",
       "\n",
       "    .dataframe thead th {\n",
       "        text-align: right;\n",
       "    }\n",
       "</style>\n",
       "<table border=\"1\" class=\"dataframe\">\n",
       "  <thead>\n",
       "    <tr style=\"text-align: right;\">\n",
       "      <th></th>\n",
       "      <th>depthmin</th>\n",
       "      <th>depthmax</th>\n",
       "      <th>smthr</th>\n",
       "      <th>rfact</th>\n",
       "      <th>smooth</th>\n",
       "    </tr>\n",
       "  </thead>\n",
       "  <tbody>\n",
       "    <tr>\n",
       "      <th>0</th>\n",
       "      <td>50</td>\n",
       "      <td>6000</td>\n",
       "      <td>2</td>\n",
       "      <td>0.2</td>\n",
       "      <td>lsmooth</td>\n",
       "    </tr>\n",
       "  </tbody>\n",
       "</table>\n",
       "</div>"
      ],
      "text/plain": [
       "   depthmin  depthmax  smthr  rfact   smooth\n",
       "0        50      6000      2    0.2  lsmooth"
      ]
     },
     "execution_count": 28,
     "metadata": {},
     "output_type": "execute_result"
    }
   ],
   "source": [
    "df_inputs_smth"
   ]
  },
  {
   "cell_type": "markdown",
   "id": "c690aaf9-13a4-48b5-95fe-790cfc680ca2",
   "metadata": {},
   "source": [
    "## 🐣 Build the nest"
   ]
  },
  {
   "cell_type": "markdown",
   "id": "8b14c9c1-3765-4140-9711-a1ec9f2335fe",
   "metadata": {},
   "source": [
    "### Create a new grid"
   ]
  },
  {
   "cell_type": "markdown",
   "id": "d5ea6256-3e4d-4778-98b7-729657c05d90",
   "metadata": {},
   "source": [
    "#### ✏️🔧 User's changes"
   ]
  },
  {
   "cell_type": "markdown",
   "id": "5f9a18d0-d44d-4dbc-92bb-2938e96cc95e",
   "metadata": {},
   "source": [
    "##### Center's position (degrees) 📍"
   ]
  },
  {
   "cell_type": "code",
   "execution_count": 1,
   "id": "b633a24d-ae1c-4869-90f8-85177047f5f7",
   "metadata": {},
   "outputs": [],
   "source": [
    "tra_lon =  15 # Longitude of the grid center \n",
    "tra_lat = -32 # Latitude of the grid center"
   ]
  },
  {
   "cell_type": "markdown",
   "id": "ac37c4bd-6a15-4e0a-9579-77fb282b06b2",
   "metadata": {},
   "source": [
    "##### Grid extent (km) and resolution"
   ]
  },
  {
   "cell_type": "code",
   "execution_count": 14,
   "id": "172530be-c801-4d56-bf5c-fe671f67a79f",
   "metadata": {},
   "outputs": [],
   "source": [
    "# Grid size [km]\n",
    "size_x = 150\n",
    "size_y = 130\n",
    "\n",
    "# Grid number of points \n",
    "nx = 39\n",
    "ny = 40"
   ]
  },
  {
   "cell_type": "code",
   "execution_count": 15,
   "id": "fc6765de-5f28-4648-828e-67ae16262ce1",
   "metadata": {},
   "outputs": [
    {
     "name": "stdout",
     "output_type": "stream",
     "text": [
      "Resolution in X direction: 3.85 km\n",
      "Resolution in Y direction: 3.25 km\n"
     ]
    }
   ],
   "source": [
    "# Calculate Resolution\n",
    "delta_x = size_x / nx\n",
    "delta_y = size_y / ny\n",
    "\n",
    "# Display results\n",
    "print(f\"Resolution in X direction: {delta_x:.2f} km\")\n",
    "print(f\"Resolution in Y direction: {delta_y:.2f} km\")"
   ]
  },
  {
   "cell_type": "markdown",
   "id": "9cd5022f-19c2-4f05-a8c5-bfdbec2ffca5",
   "metadata": {},
   "source": [
    "##### Grid rotation (degrees)"
   ]
  },
  {
   "cell_type": "code",
   "execution_count": 16,
   "id": "089e402c-7d32-46d9-a505-cb1d06399d64",
   "metadata": {},
   "outputs": [],
   "source": [
    "rot = 0"
   ]
  },
  {
   "cell_type": "markdown",
   "id": "1db83a93-3f9a-46d8-b691-8f0adf605bd9",
   "metadata": {},
   "source": [
    "#### Smoothing settings"
   ]
  },
  {
   "cell_type": "markdown",
   "id": "5ed0808c-fcd9-4148-a0e5-1a11685acb6f",
   "metadata": {},
   "source": [
    "See [online documentation](https://croco-ocean.gitlabpages.inria.fr/croco_doc/model/model.grid.html) for more details 📚"
   ]
  },
  {
   "cell_type": "code",
   "execution_count": 17,
   "id": "7b61a1e4-58cd-4ca0-8eed-830145c17add",
   "metadata": {},
   "outputs": [],
   "source": [
    "hmin        = 50    # Minimum depth [m]\n",
    "hmax        = 6000  # Maximum depth [m]\n",
    "interp_rad  = 2     # Interpolation radius in number of points (usually between 2 and 8)\n",
    "rfact       = 0.2   # Maximum r-fact to reach (the lower it is, the smoother it will be)    \n",
    "smooth_meth = 'lsmooth' # Smoothing method ('smooth', 'lsmooth', 'lsmooth_legacy', 'lsmooth2', 'lsmooth1', 'cond_rx0_topo') "
   ]
  },
  {
   "cell_type": "markdown",
   "id": "3617efea-cb27-4ef0-ab5b-00baf1c51af9",
   "metadata": {},
   "source": [
    "##### Paths"
   ]
  },
  {
   "cell_type": "markdown",
   "id": "0bac5f00-8e88-496e-81a7-ff451230e74a",
   "metadata": {},
   "source": [
    "###### Inputs"
   ]
  },
  {
   "cell_type": "markdown",
   "id": "16eda06e-fed4-4f74-b898-769933133a0e",
   "metadata": {},
   "source": [
    "Topo/bathy file ⛰️ :"
   ]
  },
  {
   "cell_type": "code",
   "execution_count": 18,
   "id": "096eeb30-73d6-4b78-b17e-d5fb30887197",
   "metadata": {},
   "outputs": [],
   "source": [
    "topofile = '../../DATASETS_CROCOTOOLS/Topo/etopo2.nc'"
   ]
  },
  {
   "cell_type": "markdown",
   "id": "595ab788-9cf8-4bcb-bbfb-419f4936569c",
   "metadata": {},
   "source": [
    "Coastline file (for the mask) 🏖️ :"
   ]
  },
  {
   "cell_type": "code",
   "execution_count": 19,
   "id": "e5e38696-6cda-41b0-96b3-16c86e5980e4",
   "metadata": {},
   "outputs": [],
   "source": [
    "shp_file = '../../DATASETS_CROCOTOOLS/gshhs/GSHHS_shp/i/GSHHS_i_L1.shp'"
   ]
  },
  {
   "cell_type": "markdown",
   "id": "1bfe9ebc-c9fb-4eda-b942-1fbbe3fc2e9f",
   "metadata": {},
   "source": [
    "###### Output(s)"
   ]
  },
  {
   "cell_type": "markdown",
   "id": "83ca225b-99e1-4dbe-be71-2b8baac9b0bb",
   "metadata": {},
   "source": [
    "Output grid file 🔲:"
   ]
  },
  {
   "cell_type": "code",
   "execution_count": 20,
   "id": "94ccd22b-e338-4cb4-84a2-c6881fec8d00",
   "metadata": {},
   "outputs": [],
   "source": [
    "output_file=\"../../CROCO_FILES/croco_grd.nc\"\n"
   ]
  },
  {
   "cell_type": "markdown",
   "id": "258016c8-72df-4821-9de7-8ee1616f89be",
   "metadata": {},
   "source": [
    "##### Mask"
   ]
  },
  {
   "cell_type": "markdown",
   "id": "95c92e47-183a-4a53-82a4-c35fa88ef936",
   "metadata": {},
   "source": [
    "Single Connect (Masks water not connected to the main water body) 🎭:"
   ]
  },
  {
   "cell_type": "code",
   "execution_count": 21,
   "id": "5a035087-218b-4c0c-bbf8-3f70f8efdbcd",
   "metadata": {},
   "outputs": [],
   "source": [
    "sgl_connect=[False,20,20] # True or False, point indices inside the main water body"
   ]
  },
  {
   "cell_type": "code",
   "execution_count": null,
   "id": "f7ff9409-c96f-4606-9090-de9771023583",
   "metadata": {},
   "outputs": [],
   "source": []
  },
  {
   "cell_type": "code",
   "execution_count": null,
   "id": "36b1574e-7288-464c-97f1-81eac8b99750",
   "metadata": {},
   "outputs": [],
   "source": []
  },
  {
   "cell_type": "code",
   "execution_count": null,
   "id": "bd5c812b-2371-4f15-9b1f-39a2679a0c59",
   "metadata": {},
   "outputs": [],
   "source": []
  },
  {
   "cell_type": "code",
   "execution_count": null,
   "id": "8729cb2c-c58e-49b0-ae2d-4cd74a9ca092",
   "metadata": {},
   "outputs": [],
   "source": []
  },
  {
   "cell_type": "code",
   "execution_count": null,
   "id": "393910e2-6c79-41ba-9c32-4371b1a2f601",
   "metadata": {},
   "outputs": [],
   "source": []
  },
  {
   "cell_type": "code",
   "execution_count": null,
   "id": "fdade565-2d20-4397-9961-2031ef78b076",
   "metadata": {},
   "outputs": [],
   "source": []
  },
  {
   "cell_type": "code",
   "execution_count": null,
   "id": "1e9bfc56-ab08-44d9-9e2a-ab2bdc392b68",
   "metadata": {},
   "outputs": [],
   "source": []
  }
 ],
 "metadata": {
  "kernelspec": {
   "display_name": "Python 3 (ipykernel)",
   "language": "python",
   "name": "python3"
  },
  "language_info": {
   "codemirror_mode": {
    "name": "ipython",
    "version": 3
   },
   "file_extension": ".py",
   "mimetype": "text/x-python",
   "name": "python",
   "nbconvert_exporter": "python",
   "pygments_lexer": "ipython3",
   "version": "3.9.18"
  }
 },
 "nbformat": 4,
 "nbformat_minor": 5
}
