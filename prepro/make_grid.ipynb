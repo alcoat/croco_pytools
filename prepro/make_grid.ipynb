{
 "cells": [
  {
   "cell_type": "markdown",
   "id": "87b9969c-dd7a-42ab-8df8-1a815de0184d",
   "metadata": {},
   "source": [
    "<center><img src=\"https://encrypted-tbn0.gstatic.com/images?q=tbn:ANd9GcQXnrruP7guibF61c4gOESBR2VhhqYmEjKin0yY9lrhCak3hIbXI0QDSlObO74xcBkjMw&usqp=CAU\"/></center>"
   ]
  },
  {
   "cell_type": "markdown",
   "id": "fa1454a4-fae8-4114-a512-ec10925a8029",
   "metadata": {},
   "source": [
    "# MAKE GRID - NOTEBOOK VERSION"
   ]
  },
  {
   "cell_type": "markdown",
   "id": "ab40d1c9-c8c0-4597-917c-cb8f970ffd32",
   "metadata": {},
   "source": [
    "<small>\n",
    "🔎 The current interface for creating grids is too heavy to load when the code is run remotely. The aim is to create a notebook(s) that can fulfill the role of the \"make_grid.py\" code and also edit the mask and bathymetry.\n",
    "<br>💡 This notebook is linked to the croco-ocean/croco_pytools' <a href= \"https://gitlab.inria.fr/croco-ocean/croco_pytools/-/issues/4\">ISSUE #4</a> located on the **croco-ocean INRIA's gitlab**\n",
    "<br>➡️ Notebook created by <a href=\"mailto:thibault.delahaye@ird.fr\">Thibault Delahaye</a> and based on the existing codes of pycrocotool\n",
    "<br>🌳 Developped on **notebook-grid-tools**'s branch, whose source is the main branch\n",
    "</small>"
   ]
  },
  {
   "cell_type": "markdown",
   "id": "8c046c08-91b5-40e5-bd3e-efe1adabf65f",
   "metadata": {},
   "source": [
    "---\n",
    "\n",
    "<div style=\"text-align: center; font-size: 0.9em; color: gray;\">\n",
    "  \n",
    "</div>\n",
    "\n",
    "---"
   ]
  },
  {
   "cell_type": "markdown",
   "id": "176b57a3-3415-47a3-af26-098497fef08e",
   "metadata": {},
   "source": [
    "## Table of contents 🔗\n",
    "\n",
    "1. [Code presentation 📖](#📖-Code-presentation)\n",
    "   - [💾 Datasets](#💾-Datasets)\n",
    "   - [⚙️ Requirements](#⚙️-Requirements)\n",
    "3. [CODE BODY 💻](#💻-CODE_BODY)\n",
    "   - [✅📋 Prerequisites](✅📋-Prerequisites)\n",
    "   - [✏️🔧 User's changes](#✏️🔧-User's-changes)\n",
    "   - [📏 Physical parameters](#📏-Physical-parameters)\n",
    "   - [🧩 Building the grid](#🧩-Building-the-grid)"
   ]
  },
  {
   "cell_type": "markdown",
   "id": "ac9d3820-6690-4d0c-8c65-63ca9797fec9",
   "metadata": {},
   "source": [
    "---\n",
    "\n",
    "<div style=\"text-align: center; font-size: 0.9em; color: gray;\">\n",
    "  \n",
    "</div>\n",
    "\n",
    "---"
   ]
  },
  {
   "cell_type": "markdown",
   "id": "1ccb190a-58a3-4760-a1fa-4fd424df8491",
   "metadata": {},
   "source": [
    "# 📖 Code presentation\n",
    "*Make sure to [build the croco_pyenv environment](https://croco-ocean.gitlabpages.inria.fr/croco_pytools/prepro/tuto.env.html) before using this notebook.*\n",
    "## 💾 Datasets\n",
    "\n",
    "Further Information: [CROCO OCEAN WEBSITE](http://www.croco-ocean.org)\n",
    "  \n",
    "*This file is part of CROCOTOOLS* 🐊\n",
    "\n",
    "**Create a CROCO grid file** 🌐   \n",
    "In the current state the script can handle:  "
   ]
  },
  {
   "cell_type": "markdown",
   "id": "436459d5-5d6d-4159-a3e8-63793a73b9fe",
   "metadata": {},
   "source": [
    "\n",
    "<table style=\"width: 100%; text-align: left; border-collapse: collapse;\">\n",
    "  <thead>\n",
    "    <tr>\n",
    "      <th style=\"border: 1px solid #ddd; padding: 8px; background-color: #f4f4f4;\">DATA</th>\n",
    "      <th style=\"border: 1px solid #ddd; padding: 8px; background-color: #f4f4f4;\">SOURCE</th>\n",
    "      <th style=\"border: 1px solid #ddd; padding: 8px; background-color: #f4f4f4;\">FILE EXTENSION</th>\n",
    "    </tr>\n",
    "  </thead>\n",
    "  <tbody>\n",
    "    <tr>\n",
    "      <td style=\"border: 1px solid #ddd; padding: 8px;\"><strong>Topo/Bathy</strong></td>\n",
    "      <td style=\"border: 1px solid #ddd; padding: 8px;\">etopo (5,2,1),<br>srtm30, gebco</td>\n",
    "      <td style=\"border: 1px solid #ddd; padding: 8px;\"><em>NetCDF</em></td>\n",
    "    </tr>\n",
    "    <tr>\n",
    "      <td style=\"border: 1px solid #ddd; padding: 8px;\"><strong>Coastline</strong></td>\n",
    "      <td style=\"border: 1px solid #ddd; padding: 8px;\">GSHHS</td>\n",
    "      <td style=\"border: 1px solid #ddd; padding: 8px;\"><em>shapefile</em></td>\n",
    "    </tr>\n",
    "  </tbody>\n",
    "</table>"
   ]
  },
  {
   "cell_type": "markdown",
   "id": "3a4aa6e3-a4d4-4a2d-a39f-5251cc058b0d",
   "metadata": {},
   "source": [
    "➡️ *To add a new dataset you just have to go into **Readers/topo_readers.py** and\n",
    "create a dictionnary with the names for lon,lat,topo in the dataset.\n",
    "At this time it only handles 1D lon/la*  \n",
    "➡️ *The script makes a grid with **mercator projection** centred at the equator\n",
    "before rotating the sphere to put the middle of the grid in tra_lon/tra_lat\n",
    "position.*  \n",
    "➡️ *Then, it reads topo's dataset and apply the desired smoothing\n",
    "The mask is generated using a shapefile (.shp. default is gshhs dataset)*  \n",
    "➡️ *Smoothing uses **fortran routines** for better performance*"
   ]
  },
  {
   "cell_type": "markdown",
   "id": "66f1824c-0d37-4bbe-bb4c-ac4ba1918e61",
   "metadata": {},
   "source": [
    "### ⚙️ Requirements\n",
    "➡️ Installing `ipympl` for interactive Plots :\n",
    "\n",
    "*To use **interactive plotting** features with the `%matplotlib widget` [magic command](#Magic-cells) in Jupyter Notebook or JupyterLab, you need to install the `ipympl` package. This package enables Matplotlib to render interactive plots using Jupyter widgets.*\n",
    "\n",
    " **Run the following command** in a code cell or in your notebook to install `ipympl`:\n",
    "   ```python\n",
    "   pip install ipympl\n"
   ]
  },
  {
   "cell_type": "markdown",
   "id": "1cb43823-12d0-4247-a55c-bcc359acf55c",
   "metadata": {},
   "source": [
    "---\n",
    "\n",
    "<div style=\"text-align: center; font-size: 0.9em; color: gray;\">\n",
    "  \n",
    "</div>\n",
    "\n",
    "---"
   ]
  },
  {
   "cell_type": "markdown",
   "id": "a4a01ea4-e39b-4161-b09a-112737e13297",
   "metadata": {},
   "source": [
    "# 💻 CODE_BODY"
   ]
  },
  {
   "cell_type": "markdown",
   "id": "9dc3559e-8784-4e2a-975a-261c6446c11e",
   "metadata": {},
   "source": [
    "## ✅📋 Prerequisites"
   ]
  },
  {
   "cell_type": "markdown",
   "id": "28f97bc8-6d0d-4aff-865d-14cbb610ea8c",
   "metadata": {},
   "source": [
    "### Magic cells"
   ]
  },
  {
   "cell_type": "markdown",
   "id": "a8c781ea-0224-45c4-9f65-d7a97bfa8417",
   "metadata": {},
   "source": [
    "[Magic cell](https://ipython.readthedocs.io/en/stable/interactive/magics.html) ⚡🐚 dedicated to the activation of backend environments"
   ]
  },
  {
   "cell_type": "code",
   "execution_count": 33,
   "id": "09cd286b-1fc4-42af-86ba-c284446fc938",
   "metadata": {},
   "outputs": [
    {
     "name": "stdout",
     "output_type": "stream",
     "text": [
      "The autoreload extension is already loaded. To reload it, use:\n",
      "  %reload_ext autoreload\n"
     ]
    }
   ],
   "source": [
    "#Allows widget interactivity with user\n",
    "%matplotlib widget    \n",
    "%load_ext autoreload\n",
    "%autoreload 2"
   ]
  },
  {
   "cell_type": "markdown",
   "id": "2839015f-5bf7-410e-8769-5881e9b80d24",
   "metadata": {},
   "source": [
    "### Dependencies"
   ]
  },
  {
   "cell_type": "code",
   "execution_count": 48,
   "id": "b0f4fba8-c6b8-461b-bc75-ec04901dd386",
   "metadata": {},
   "outputs": [],
   "source": [
    "import numpy as np\n",
    "import os,sys\n",
    "os.environ['ETS_TOOLKIT'] = 'wx'\n",
    "sys.path.append(\"./Modules/\")\n",
    "sys.path.append(\"./Readers/\")\n",
    "sys.path.append(\"./Modules/graphicUI_tools/\")\n",
    "from main_window import *\n",
    "import tools_make_grid\n",
    "#----------------------------------------------#\n",
    "from tools_make_grid import inputs,inputs_smth,EasyGrid,GetMask,GetTopo\n",
    "from croco_class import CROCO\n",
    "from main_window import Outputs"
   ]
  },
  {
   "cell_type": "markdown",
   "id": "d42cbe91-6ca0-45f1-9ecd-998697efee0a",
   "metadata": {},
   "source": [
    "## ✏️🔧 User's changes"
   ]
  },
  {
   "cell_type": "markdown",
   "id": "ed7a460c-1778-4cce-a828-e2cfb06caa9c",
   "metadata": {},
   "source": [
    "### Grid's param"
   ]
  },
  {
   "cell_type": "markdown",
   "id": "be6e9e27-f3fc-40d4-a24f-11c70a57c5e5",
   "metadata": {},
   "source": [
    "#### Center's position (degrees) 📍"
   ]
  },
  {
   "cell_type": "code",
   "execution_count": 26,
   "id": "14141b45-c8a3-407c-b900-6fd2dad4d483",
   "metadata": {},
   "outputs": [],
   "source": [
    "tra_lon =  15 # Longitude of the grid center \n",
    "tra_lat = -32 # Latitude of the grid center"
   ]
  },
  {
   "cell_type": "markdown",
   "id": "4a7d6e7a-2686-493b-9502-01aad800f24b",
   "metadata": {},
   "source": [
    "#### Grid extent (km) and resolution"
   ]
  },
  {
   "cell_type": "code",
   "execution_count": 27,
   "id": "8c06c464-11bc-4115-86ba-a6ceb9d23d6d",
   "metadata": {},
   "outputs": [],
   "source": [
    "# Grid size [km]\n",
    "size_x = 1556\n",
    "size_y = 1334\n",
    "\n",
    "# Grid number of points \n",
    "# Note: grid resolution is grid size / number of points\n",
    "nx = 39\n",
    "ny = 40"
   ]
  },
  {
   "cell_type": "markdown",
   "id": "66a22600-d043-4e55-897a-70b7d24fdb94",
   "metadata": {},
   "source": [
    "#### Grid rotation (degrees)"
   ]
  },
  {
   "cell_type": "code",
   "execution_count": 28,
   "id": "b7126091-9ec0-4686-89d3-80c2f7433e32",
   "metadata": {},
   "outputs": [],
   "source": [
    "rot = 0"
   ]
  },
  {
   "cell_type": "markdown",
   "id": "31f30b80-b488-4394-9018-39d9c8728865",
   "metadata": {},
   "source": [
    "### Smoothing settings"
   ]
  },
  {
   "cell_type": "markdown",
   "id": "693269f3-6b82-4046-988b-4a3ecb2144e9",
   "metadata": {},
   "source": [
    "See [online documentation](https://croco-ocean.gitlabpages.inria.fr/croco_doc/model/model.grid.html) for more details 📚"
   ]
  },
  {
   "cell_type": "code",
   "execution_count": 37,
   "id": "6e323bc9-0b72-4fe1-8d49-dfe0bf73017a",
   "metadata": {},
   "outputs": [],
   "source": [
    "hmin        = 50    # Minimum depth [m]\n",
    "hmax        = 6000  # Maximum depth [m]\n",
    "interp_rad  = 2     # Interpolation radius in number of points (usually between 2 and 8)\n",
    "rfact       = 0.2   # Maximum r-fact to reach (the lower it is, the smoother it will be)    \n",
    "smooth_meth = 'lsmooth' # Smoothing method ('smooth', 'lsmooth', 'lsmooth_legacy', 'lsmooth2', 'lsmooth1', 'cond_rx0_topo') "
   ]
  },
  {
   "cell_type": "markdown",
   "id": "db21c4d0-5be6-41d7-9408-8fe1c66c0211",
   "metadata": {},
   "source": [
    "### Paths"
   ]
  },
  {
   "cell_type": "markdown",
   "id": "e49af12f-cf12-47da-8ee6-76ef8b901e5f",
   "metadata": {},
   "source": [
    "#### Inputs"
   ]
  },
  {
   "cell_type": "markdown",
   "id": "ab1b1eaf-033a-486d-8e07-2503a658fb77",
   "metadata": {},
   "source": [
    "Topo/bathy file ⛰️ :"
   ]
  },
  {
   "cell_type": "code",
   "execution_count": 42,
   "id": "c0a3a066-a7b1-4d64-b9d6-008aeef79ee9",
   "metadata": {},
   "outputs": [],
   "source": [
    "topofile = '../../DATASETS_CROCOTOOLS/Topo/etopo2.nc'"
   ]
  },
  {
   "cell_type": "markdown",
   "id": "92d90000-0140-43f1-86db-6286c31248ce",
   "metadata": {},
   "source": [
    "Coastline file (for the mask) 🏖️ :"
   ]
  },
  {
   "cell_type": "code",
   "execution_count": 43,
   "id": "0004c9e1-e5d3-4be6-b058-3337f4621515",
   "metadata": {},
   "outputs": [],
   "source": [
    "shp_file = '../../DATASETS_CROCOTOOLS/gshhs/GSHHS_shp/i/GSHHS_i_L1.shp'"
   ]
  },
  {
   "cell_type": "markdown",
   "id": "ea62d575-34cc-40b0-9097-3a753bae8e90",
   "metadata": {},
   "source": [
    "#### Output(s)"
   ]
  },
  {
   "cell_type": "markdown",
   "id": "d7d505d0-75ce-4033-9da5-a1a6a2f44f57",
   "metadata": {},
   "source": [
    "Output grid file 🔲:"
   ]
  },
  {
   "cell_type": "code",
   "execution_count": 41,
   "id": "cf9309d5-f57b-4470-8145-8d4d003f046b",
   "metadata": {},
   "outputs": [],
   "source": [
    "output_file=\"../../CROCO_FILES/croco_grd.nc\"\n"
   ]
  },
  {
   "cell_type": "markdown",
   "id": "20aefd15-3336-4a49-8e14-27f219378fda",
   "metadata": {},
   "source": [
    "### Mask"
   ]
  },
  {
   "cell_type": "markdown",
   "id": "54ada7ac-4904-4e41-b6be-7d54b7f45f75",
   "metadata": {},
   "source": [
    "Single Connect (Masks water not connected to the main water body) 🎭:"
   ]
  },
  {
   "cell_type": "code",
   "execution_count": 44,
   "id": "d1fecbd5-67fe-4e23-8e9a-3baeb3f04556",
   "metadata": {},
   "outputs": [],
   "source": [
    "sgl_connect=[False,20,20] # True or False, point indices inside the main water body"
   ]
  },
  {
   "cell_type": "markdown",
   "id": "05c757bb-3e4c-44ce-b92b-cb870e5b3e8a",
   "metadata": {},
   "source": [
    "## 📏 Physical parameters"
   ]
  },
  {
   "cell_type": "code",
   "execution_count": 36,
   "id": "cd69daf2-02e7-477c-b09d-4dd868fcbcb3",
   "metadata": {},
   "outputs": [],
   "source": [
    "r_earth=6371315 # Mean earth radius in meter"
   ]
  },
  {
   "cell_type": "markdown",
   "id": "d1f178a7-a230-488f-b1e4-0de11ef740ec",
   "metadata": {},
   "source": [
    "## 🧩 Building the grid"
   ]
  },
  {
   "cell_type": "markdown",
   "id": "e7224364-a0e9-49b5-861b-86d23d2f5cb8",
   "metadata": {},
   "source": [
    "### Creating classes for inputs/outputs"
   ]
  },
  {
   "cell_type": "code",
   "execution_count": 49,
   "id": "f0a7e6a4-5c62-4041-8d1d-db470e5300df",
   "metadata": {},
   "outputs": [],
   "source": [
    "inputs=inputs(tra_lon,tra_lat,size_x,size_y,nx,ny,rot)\n",
    "inputs_smth=inputs_smth(hmin,hmax,interp_rad,rfact,smooth_meth)\n",
    "outputs=Outputs()"
   ]
  },
  {
   "cell_type": "markdown",
   "id": "dde8790c-8661-4a73-8bdd-dad1aae919fa",
   "metadata": {},
   "source": [
    "### Create lon/lat grid "
   ]
  },
  {
   "cell_type": "code",
   "execution_count": 58,
   "id": "3c4aeb99-ddac-4932-b41e-9f82e1e90137",
   "metadata": {},
   "outputs": [
    {
     "data": {
      "text/plain": [
       "<main_window.Outputs at 0x7d7b41b85db0>"
      ]
     },
     "execution_count": 58,
     "metadata": {},
     "output_type": "execute_result"
    }
   ],
   "source": [
    "EasyGrid.easygrid(None,inputs,outputs)"
   ]
  },
  {
   "cell_type": "markdown",
   "id": "7b9859bc-47ee-4ba7-b9cf-6fc6e5fe23c5",
   "metadata": {},
   "source": [
    "### Building the mask and smoothing topo"
   ]
  },
  {
   "cell_type": "markdown",
   "id": "f7e9e559-0ac6-4d2a-a28a-79dd68546787",
   "metadata": {},
   "source": [
    "*Tip: if the ouput is too long 🖱️ right click on the cell annd **\"Enable scrolling for outputs\"***"
   ]
  },
  {
   "cell_type": "code",
   "execution_count": 61,
   "id": "1a00b52d-3f32-4e42-80c9-a4e16ede55af",
   "metadata": {
    "scrolled": true
   },
   "outputs": [
    {
     "name": "stdout",
     "output_type": "stream",
     "text": [
      "Reading topography file: ../../DATASETS_CROCOTOOLS/Topo/etopo2.nc\n",
      "Single region dataset imin/imax= 5534 6165\n",
      "Bounding indices of the relevant part to be extracted from the entire dataset:\n",
      " imin,imax = 5534 6165 out of 10800 jmin,jmax = 1528 1963 out of 5400\n",
      "Interpolating topography to CROCO grid\n",
      "\n",
      " Geographical extents of the dataset:\n",
      "Finished interpolating\n",
      "    Longitude min/max =    4.466667   25.500000\n",
      "    Latitude  min/max =  -39.066666  -24.566668\n",
      "\n",
      " Geographical extents of requested ROMS grid:\n",
      "    Longitude min/max =    4.511359   25.488641\n",
      "    Latitude  min/max =  -39.031434  -24.631671\n",
      "\n",
      " Bounding indices for the portion of dataset covering the entire model grid:\n",
      " iwest,ieast =    2   631 out of   632 jsouth,jnorth =    2   434 out of   436\n",
      "\n",
      " Averaging window width = 2.00000 in grid spaces.\n",
      "\n",
      ".........\n",
      "\n",
      " Wall Clock time spent to compute hraw    0.04 sec running   1 threads.\n",
      " enter smooth_thread r_max = 0.2000000  iters_cond =  500  iters_lin =    0\n",
      " set_tiles: nx =  40 ny =  39 numthreads =  1 nsub_x =  1 nsub_y =  3\n",
      "  nsub_x =   1  nsub_y =   3  isize =  40  jsize =  13  trd =   0\n",
      "\n",
      " iter  i,jrx_max rx_max              i,jry_max ry_max\n",
      " ------------------------------------------------------------------\n",
      "    0     5   34 rx_max = 0.5929277    13   28 ry_max = 0.7073753\n",
      "    1     5   34 rx_max = 0.5117824    13   28 ry_max = 0.5906621\n",
      "    2     5   34 rx_max = 0.4668393    14   27 ry_max = 0.5151315\n",
      "    3     5   34 rx_max = 0.4369283    14   27 ry_max = 0.4855688\n",
      "    4     5   34 rx_max = 0.4127296    14   27 ry_max = 0.4599162\n",
      "    5     5   34 rx_max = 0.3918576    14   27 ry_max = 0.4381864\n",
      "    6     5   34 rx_max = 0.3741183    14   27 ry_max = 0.4192397\n",
      "    7     5   34 rx_max = 0.3592973    14   27 ry_max = 0.4022505\n",
      "    8     5   34 rx_max = 0.3469263    14   27 ry_max = 0.3870664\n",
      "    9     5   34 rx_max = 0.3364990    14   27 ry_max = 0.3733001\n",
      "   10    10   39 rx_max = 0.3296792    14   27 ry_max = 0.3608013\n",
      "   11    10   39 rx_max = 0.3236327    14   27 ry_max = 0.3494452\n",
      "   12    10   39 rx_max = 0.3179583    14   27 ry_max = 0.3391273\n",
      "   13    10   39 rx_max = 0.3126166    14   27 ry_max = 0.3297516\n",
      "   14    10   39 rx_max = 0.3075939    14   27 ry_max = 0.3212268\n",
      "   15    10   39 rx_max = 0.3028673    14   27 ry_max = 0.3134406\n",
      "   16    10   39 rx_max = 0.2984092    14   27 ry_max = 0.3062999\n",
      "   17    10   39 rx_max = 0.2941945    14   27 ry_max = 0.2997369\n",
      "   18    10   39 rx_max = 0.2902021    14   27 ry_max = 0.2936938\n",
      "   19    10   39 rx_max = 0.2864324    14   27 ry_max = 0.2881181\n",
      "   20    10   39 rx_max = 0.2829485    33   20 ry_max = 0.2831569\n",
      "   21    10   39 rx_max = 0.2797684    33   20 ry_max = 0.2810933\n",
      "   22    10   39 rx_max = 0.2768088    33   20 ry_max = 0.2790294\n",
      "   23    10   39 rx_max = 0.2738886    33   20 ry_max = 0.2769948\n",
      "   24    10   39 rx_max = 0.2710157    33   20 ry_max = 0.2750106\n",
      "   25    10   39 rx_max = 0.2682310    33   20 ry_max = 0.2730867\n",
      "   26    10   39 rx_max = 0.2655537    33   20 ry_max = 0.2712234\n",
      "   27    10   39 rx_max = 0.2629908    33   20 ry_max = 0.2694147\n",
      "   28    10   39 rx_max = 0.2605428    33   20 ry_max = 0.2676578\n",
      "   29    10   39 rx_max = 0.2582066    33   19 ry_max = 0.2660014\n",
      "   30    10   39 rx_max = 0.2559773    33   19 ry_max = 0.2644446\n",
      "   31    10   39 rx_max = 0.2538490    33   19 ry_max = 0.2629292\n",
      "   32    10   39 rx_max = 0.2518161    33   19 ry_max = 0.2614661\n",
      "   33    10   39 rx_max = 0.2498733    33   19 ry_max = 0.2600603\n",
      "   34    10   39 rx_max = 0.2480165    33   19 ry_max = 0.2587132\n",
      "   35    10   39 rx_max = 0.2462406    33   19 ry_max = 0.2574239\n",
      "   36    10   39 rx_max = 0.2445407    33   19 ry_max = 0.2561897\n",
      "   37    10   39 rx_max = 0.2429124    33   19 ry_max = 0.2550065\n",
      "   38    10   39 rx_max = 0.2413513    33   19 ry_max = 0.2538675\n",
      "   39    10   39 rx_max = 0.2398540    33   19 ry_max = 0.2527675\n",
      "   40    10   39 rx_max = 0.2384176    33   19 ry_max = 0.2517025\n",
      "   41    10   39 rx_max = 0.2370399    33   19 ry_max = 0.2506693\n",
      "   42    10   39 rx_max = 0.2357190    33   19 ry_max = 0.2496651\n",
      "   43    10   39 rx_max = 0.2344528    33   19 ry_max = 0.2486878\n",
      "   44     9   39 rx_max = 0.2333674    33   19 ry_max = 0.2477355\n",
      "   45     9   39 rx_max = 0.2323407    33   19 ry_max = 0.2468067\n",
      "   46     9   39 rx_max = 0.2313528    33   19 ry_max = 0.2458999\n",
      "   47     9   39 rx_max = 0.2304011    33   19 ry_max = 0.2450140\n",
      "   48     9   39 rx_max = 0.2294832    33   19 ry_max = 0.2441480\n",
      "   49     9   39 rx_max = 0.2285969    33   19 ry_max = 0.2433010\n",
      "   50     9   39 rx_max = 0.2277403    33   19 ry_max = 0.2424721\n",
      "   51     9   39 rx_max = 0.2269117    33   19 ry_max = 0.2416608\n",
      "   52     9   39 rx_max = 0.2261093    33   19 ry_max = 0.2408662\n",
      "   53     9   39 rx_max = 0.2253318    33   19 ry_max = 0.2400880\n",
      "   54     9   39 rx_max = 0.2245780    33   19 ry_max = 0.2393255\n",
      "   55     9   39 rx_max = 0.2238466    33   19 ry_max = 0.2385782\n",
      "   56     9   39 rx_max = 0.2231368    33   19 ry_max = 0.2378458\n",
      "   57     9   39 rx_max = 0.2224476    33   19 ry_max = 0.2371278\n",
      "   58     9   39 rx_max = 0.2217781    33   19 ry"
     ]
    },
    {
     "data": {
      "text/plain": [
       "<main_window.Outputs at 0x7d7b41b85db0>"
      ]
     },
     "execution_count": 61,
     "metadata": {},
     "output_type": "execute_result"
    },
    {
     "name": "stdout",
     "output_type": "stream",
     "text": [
      "_max = 0.2364239\n",
      "   59     9   39 rx_max = 0.2211276    33   19 ry_max = 0.2357336\n",
      "   60     9   39 rx_max = 0.2204953    33   19 ry_max = 0.2350567\n",
      "   61     9   39 rx_max = 0.2198807    33   19 ry_max = 0.2343929\n",
      "   62     9   39 rx_max = 0.2192831    33   19 ry_max = 0.2337418\n",
      "   63     9   39 rx_max = 0.2187019    33   19 ry_max = 0.2331031\n",
      "   64     9   39 rx_max = 0.2181367    33   19 ry_max = 0.2324766\n",
      "   65     9   39 rx_max = 0.2175870    33   19 ry_max = 0.2318621\n",
      "   66     9   39 rx_max = 0.2170524    33   19 ry_max = 0.2312592\n",
      "   67     9   39 rx_max = 0.2165328    33   19 ry_max = 0.2306678\n",
      "   68     9   39 rx_max = 0.2160282    33   19 ry_max = 0.2300876\n",
      "   69     9   39 rx_max = 0.2155385    33   19 ry_max = 0.2295184\n",
      "   70     9   39 rx_max = 0.2150635    33   19 ry_max = 0.2289599\n",
      "   71     9   39 rx_max = 0.2146030    33   19 ry_max = 0.2284120\n",
      "   72     9   39 rx_max = 0.2141567    33   19 ry_max = 0.2278744\n",
      "   73     9   39 rx_max = 0.2137242    33   19 ry_max = 0.2273470\n",
      "   74     9   39 rx_max = 0.2133052    33   19 ry_max = 0.2268295\n",
      "   75     9   39 rx_max = 0.2128993    33   19 ry_max = 0.2263218\n",
      "   76     9   39 rx_max = 0.2125060    33   19 ry_max = 0.2258237\n",
      "   77     9   39 rx_max = 0.2121248    33   19 ry_max = 0.2253349\n",
      "   78     9   39 rx_max = 0.2117552    33   19 ry_max = 0.2248554\n",
      "   79     9   39 rx_max = 0.2113967    33   19 ry_max = 0.2243849\n",
      "   80     9   39 rx_max = 0.2110489    33   19 ry_max = 0.2239233\n",
      "   81     9   39 rx_max = 0.2107113    33   19 ry_max = 0.2234704\n",
      "   82     9   39 rx_max = 0.2103835    33   19 ry_max = 0.2230260\n",
      "   83     9   39 rx_max = 0.2100650    33   19 ry_max = 0.2225899\n",
      "   84     9   39 rx_max = 0.2097554    33   19 ry_max = 0.2221622\n",
      "   85     9   39 rx_max = 0.2094545    33   19 ry_max = 0.2217424\n",
      "   86     9   39 rx_max = 0.2091618    33   19 ry_max = 0.2213306\n",
      "   87     9   39 rx_max = 0.2088770    33   19 ry_max = 0.2209266\n",
      "   88     9   39 rx_max = 0.2085999    33   19 ry_max = 0.2205301\n",
      "   89     9   39 rx_max = 0.2083300    33   19 ry_max = 0.2201412\n",
      "   90     9   39 rx_max = 0.2080672    33   19 ry_max = 0.2197596\n",
      "   91     9   39 rx_max = 0.2078111    33   19 ry_max = 0.2193851\n",
      "   92     8   39 rx_max = 0.2075757    33   19 ry_max = 0.2190178\n",
      "   93     8   39 rx_max = 0.2073524    33   19 ry_max = 0.2186574\n",
      "   94     8   39 rx_max = 0.2071338    33   19 ry_max = 0.2183037\n",
      "   95     8   39 rx_max = 0.2069197    33   19 ry_max = 0.2179568\n",
      "   96     8   39 rx_max = 0.2067101    33   19 ry_max = 0.2176164\n",
      "   97     8   39 rx_max = 0.2065049    33   19 ry_max = 0.2172824\n",
      "   98     8   39 rx_max = 0.2063041    32   19 ry_max = 0.2169656\n",
      "   99     8   39 rx_max = 0.2061074    32   19 ry_max = 0.2167094\n",
      "  100     8   39 rx_max = 0.2059148    32   19 ry_max = 0.2164572\n",
      "  101     8   39 rx_max = 0.2057263    32   19 ry_max = 0.2162088\n",
      "  102     8   39 rx_max = 0.2055417    32   19 ry_max = 0.2159643\n",
      "  103     8   39 rx_max = 0.2053610    32   19 ry_max = 0.2157234\n",
      "  104     8   39 rx_max = 0.2051841    32   19 ry_max = 0.2154862\n",
      "  105     8   39 rx_max = 0.2050108    32   19 ry_max = 0.2152527\n",
      "  106     8   39 rx_max = 0.2048412    32   19 ry_max = 0.2150227\n",
      "  107     8   39 rx_max = 0.2046751    32   19 ry_max = 0.2147961\n",
      "  108     8   39 rx_max = 0.2045125    32   19 ry_max = 0.2145731\n",
      "  109     8   39 rx_max = 0.2043533    32   19 ry_max = 0.2143534\n",
      "  110     8   39 rx_max = 0.2041975    32   19 ry_max = 0.2141370\n",
      "  111     8   39 rx_max = 0.2040450    32   19 ry_max = 0.2139239\n",
      "  112     8   39 rx_max = 0.2038959    32   19 ry_max = 0.2137141\n",
      "  113     8   39 rx_max = 0.2037499    32   19 ry_max = 0.2135074\n",
      "  114     8   39 rx_max = 0.2036071    32   19 ry_max = 0.2133039\n",
      "  115     8   39 rx_max = 0.2034675    32   19 ry_max = 0.2131034\n",
      "  116     8   39 rx_max = 0.2033312    32   19 ry_max = 0.2129060\n",
      "  117     8   39 rx_max = 0.2031981    32   19 ry_max = 0.2127115\n",
      "  118     8   39 rx_max = 0.2030681    32   19 ry_max = 0.2125200\n",
      "  119     8   39 rx_max = 0.2029412    32   19 ry_max = 0.2123314\n",
      "  120     8   39 rx_max = 0.2028174    32   19 ry_max = 0.2121457\n",
      "  121     8   39 rx_max = 0.2026965    32   19 ry_max = 0.2119627\n",
      "  122     8   39 rx_max = 0.2025784    32   19 ry_max = 0.2117825\n",
      "  123     8   39 rx_max = 0.2024631    32   19 ry_max = 0.2116050\n",
      "  124     8   39 rx_max = 0.2023505    32   19 ry_max = 0.2114302\n",
      "  125     8   39 rx_max = 0.2022406    32   19 ry_max = 0.2112581\n",
      "  126     8   39 rx_max = 0.2021334    32   19 ry_max = 0.2110885\n",
      "  127     8   39 rx_max = 0.2020289    32   19 ry_max = 0.2109215\n",
      "  128     8   39 rx_max = 0.2019270    32   19 ry_max = 0.2107570\n",
      "  129     8   39 rx_max = 0.2018274    32   19 ry_max = 0.2105950\n",
      "  130     8   39 rx_max = 0.2017302    32   19 ry_max = 0.2104355\n",
      "  131     8   39 rx_max = 0.2016351    32   19 ry_max = 0.2102783\n",
      "  132     8   39 rx_max = 0.2015421    32   19 ry_max = 0.2101235\n",
      "  133     8   39 rx_max = 0.2014513    32   19 ry_max = 0.2099711\n",
      "  134     8   39 rx_max = 0.2013626    32   19 ry_max = 0.2098209\n",
      "  135     8   39 rx_max = 0.2012758    32   19 ry_max = 0.2096730\n",
      "  136     8   39 rx_max = 0.2011909    32   19 ry_max = 0.2095274\n",
      "  137     8   39 rx_max = 0.2011078    32   19 ry_max = 0.2093839\n",
      "  138     8   39 rx_max = 0.2010262    32   19 ry_max = 0.2092426\n",
      "  139     8   39 rx_max = 0.2009461    32   19 ry_max = 0.2091034\n",
      "  140     8   39 rx_max = 0.2008674    32   19 ry_max = 0.2089663\n",
      "  141     8   39 rx_max = 0.2007901    32   19 ry_max = 0.2088313\n",
      "  142     8   39 rx_max = 0.2007142    32   19 ry_max = 0.2086983\n",
      "  143     8   39 rx_max = 0.2006398    32   19 ry_max = 0.2085673\n",
      "  144     8   39 rx_max = 0.2005679    32   19 ry_max = 0.2084383\n",
      "  145     8   39 rx_max = 0.2004989    32   19 ry_max = 0.2083113\n",
      "  146     8   39 rx_max = 0.2004329    32   19 ry_max = 0.2081861\n",
      "  147     8   39 rx_max = 0.2003699    32   19 ry_max = 0.2080628\n",
      "  148     8   39 rx_max = 0.2003098    32   19 ry_max = 0.2079414\n",
      "  149     3   34 rx_max = 0.2002605    32   19 ry_max = 0.2078218\n",
      "  150     3   34 rx_max = 0.2002386    32   19 ry_max = 0.2077040\n",
      "  151     3   34 rx_max = 0.2002184    32   19 ry_max = 0.2075880\n",
      "  152     3   34 rx_max = 0.2001998    32   19 ry_max = 0.2074738\n",
      "  153     3   34 rx_max = 0.2001828    32   19 ry_max = 0.2073612\n",
      "  154     3   34 rx_max = 0.2001671    32   19 ry_max = 0.2072504\n",
      "  155     4   33 rx_max = 0.2001581    32   19 ry_max = 0.2071412\n",
      "  156     4   33 rx_max = 0.2001506    32   19 ry_max = 0.2070336\n",
      "  157     4   33 rx_max = 0.2001434    32   19 ry_max = 0.2069277\n",
      "  158     4   33 rx_max = 0.2001365    32   19 ry_max = 0.2068234\n",
      "  159     4   33 rx_max = 0.2001300    32   19 ry_max = 0.2067206\n",
      "  160     4   33 rx_max = 0.2001238    32   19 ry_max = 0.2066194\n",
      "  161     4   33 rx_max = 0.2001179    32   19 ry_max = 0.2065197\n",
      "  162     4   33 rx_max = 0.2001123    32   19 ry_max = 0.2064215\n",
      "  163     4   33 rx_max = 0.2001069    32   19 ry_max = 0.2063248\n",
      "  164     4   33 rx_max = 0.2001018    32   19 ry_max = 0.2062296\n",
      "  165     4   33 rx_max = 0.2000969    32   19 ry_max = 0.2061357\n",
      "  166     4   33 rx_max = 0.2000923    32   19 ry_max = 0.2060433\n",
      "  167     4   33 rx_max = 0.2000879    32   19 ry_max = 0.2059523\n",
      "  168     4   33 rx_max = 0.2000837    32   19 ry_max = 0.2058627\n",
      "  169     4   33 rx_max = 0.2000797    32   19 ry_max = 0.2057744\n",
      "  170     4   33 rx_max = 0.2000759    32   19 ry_max = 0.2056874\n",
      "  171     4   33 rx_max = 0.2000723    32   19 ry_max = 0.2056017\n",
      "  172     4   33 rx_max = 0.2000688    32   19 ry_max = 0.2055174\n",
      "  173     4   33 rx_max = 0.2000655    32   19 ry_max = 0.2054343\n",
      "  174     4   33 rx_max = 0.2000624    32   19 ry_max = 0.2053524\n",
      "  175     4   33 rx_max = 0.2000594    32   19 ry_max = 0.2052718\n",
      "  176     4   33 rx_max = 0.2000566    32   19 ry_max = 0.2051924\n",
      "  177     4   33 rx_max = 0.2000539    32   19 ry_max = 0.2051142\n",
      "  178     4   33 rx_max = 0.2000513    32   19 ry_max = 0.2050371\n",
      "  179     4   33 rx_max = 0.2000489    32   19 ry_max = 0.2049613\n",
      "  180     4   33 rx_max = 0.2000465    32   19 ry_max = 0.2048865\n",
      "  181     4   33 rx_max = 0.2000443    32   19 ry_max = 0.2048129\n",
      "  182     4   33 rx_max = 0.2000422    32   19 ry_max = 0.2047404\n",
      "  183     4   33 rx_max = 0.2000402    32   19 ry_max = 0.2046690\n",
      "  184     4   33 rx_max = 0.2000383    32   19 ry_max = 0.2045987\n",
      "  185     4   33 rx_max = 0.2000364    32   19 ry_max = 0.2045294\n",
      "  186     4   33 rx_max = 0.2000347    32   19 ry_max = 0.2044612\n",
      "  187     4   33 rx_max = 0.2000330    32   19 ry_max = 0.2043940\n",
      "  188     4   33 rx_max = 0.2000315    32   19 ry_max = 0.2043278\n",
      "  189     4   33 rx_max = 0.2000300    32   19 ry_max = 0.2042626\n",
      "  190     4   33 rx_max = 0.2000285    32   19 ry_max = 0.2041984\n",
      "  191     4   33 rx_max = 0.2000272    32   19 ry_max = 0.2041351\n",
      "  192     4   33 rx_max = 0.2000259    32   19 ry_max = 0.2040728\n",
      "  193     4   33 rx_max = 0.2000246    32   19 ry_max = 0.2040115\n",
      "  194     4   33 rx_max = 0.2000235    32   19 ry_max = 0.2039510\n",
      "  195     4   33 rx_max = 0.2000223    32   19 ry_max = 0.2038915\n",
      "  196     4   33 rx_max = 0.2000213    32   19 ry_max = 0.2038329\n",
      "  197     4   33 rx_max = 0.2000203    32   19 ry_max = 0.2037752\n",
      "  198     4   33 rx_max = 0.2000193    32   19 ry_max = 0.2037183\n",
      "  199     4   33 rx_max = 0.2000184    32   19 ry_max = 0.2036623\n",
      "  200     4   33 rx_max = 0.2000175    32   19 ry_max = 0.2036071\n",
      "  201     4   33 rx_max = 0.2000167    32   19 ry_max = 0.2035527\n",
      "  202     4   33 rx_max = 0.2000159    32   19 ry_max = 0.2034992\n",
      "  203     4   33 rx_max = 0.2000151    32   19 ry_max = 0.2034465\n",
      "  204     4   33 rx_max = 0.2000144    32   19 ry_max = 0.2033946\n",
      "  205     4   33 rx_max = 0.2000137    32   19 ry_max = 0.2033434\n",
      "  206     4   33 rx_max = 0.2000130    32   19 ry_max = 0.2032930\n",
      "  207     4   33 rx_max = 0.2000124    32   19 ry_max = 0.2032434\n",
      "  208     4   33 rx_max = 0.2000118    32   19 ry_max = 0.2031946\n",
      "  209     4   33 rx_max = 0.2000113    32   19 ry_max = 0.2031464\n",
      "  210     4   33 rx_max = 0.2000107    32   19 ry_max = 0.2030990\n",
      "  211     4   33 rx_max = 0.2000102    32   19 ry_max = 0.2030523\n",
      "  212     4   33 rx_max = 0.2000097    32   19 ry_max = 0.2030063\n",
      "  213     4   33 rx_max = 0.2000093    32   19 ry_max = 0.2029610\n",
      "  214     4   33 rx_max = 0.2000088    32   19 ry_max = 0.2029164\n",
      "  215     4   33 rx_max = 0.2000084    32   19 ry_max = 0.2028725\n",
      "  216     4   33 rx_max = 0.2000080    32   19 ry_max = 0.2028292\n",
      "  217     4   33 rx_max = 0.2000076    32   19 ry_max = 0.2027866\n",
      "  218     4   33 rx_max = 0.2000073    32   19 ry_max = 0.2027446\n",
      "  219     4   33 rx_max = 0.2000069    32   19 ry_max = 0.2027032\n",
      "  220     4   33 rx_max = 0.2000066    32   19 ry_max = 0.2026625\n",
      "  221     4   33 rx_max = 0.2000063    32   19 ry_max = 0.2026224\n",
      "  222     4   33 rx_max = 0.2000060    32   19 ry_max = 0.2025828\n",
      "  223     4   33 rx_max = 0.2000057    32   19 ry_max = 0.2025439\n",
      "  224     4   33 rx_max = 0.2000054    32   19 ry_max = 0.2025056\n",
      "  225     4   33 rx_max = 0.2000051    32   19 ry_max = 0.2024678\n",
      "  226     4   33 rx_max = 0.2000049    32   19 ry_max = 0.2024306\n",
      "  227     4   33 rx_max = 0.2000047    32   19 ry_max = 0.2023940\n",
      "  228     4   33 rx_max = 0.2000044    32   19 ry_max = 0.2023579\n",
      "  229     4   33 rx_max = 0.2000042    32   19 ry_max = 0.2023224\n",
      "  230     4   33 rx_max = 0.2000040    32   19 ry_max = 0.2022874\n",
      "  231     4   33 rx_max = 0.2000038    32   19 ry_max = 0.2022529\n",
      "  232     4   33 rx_max = 0.2000037    32   19 ry_max = 0.2022190\n",
      "  233     4   33 rx_max = 0.2000035    32   19 ry_max = 0.2021855\n",
      "  234     4   33 rx_max = 0.2000033    32   19 ry_max = 0.2021526\n",
      "  235     4   33 rx_max = 0.2000032    32   19 ry_max = 0.2021202\n",
      "  236     4   33 rx_max = 0.2000030    32   19 ry_max = 0.2020882\n",
      "  237     4   33 rx_max = 0.2000029    32   19 ry_max = 0.2020567\n",
      "  238     4   33 rx_max = 0.2000027    32   19 ry_max = 0.2020257\n",
      "  239     4   33 rx_max = 0.2000026    32   19 ry_max = 0.2019952\n",
      "  240     4   33 rx_max = 0.2000025    32   19 ry_max = 0.2019651\n",
      "  241     4   33 rx_max = 0.2000024    32   19 ry_max = 0.2019355\n",
      "  242     4   33 rx_max = 0.2000022    32   19 ry_max = 0.2019064\n",
      "  243     4   33 rx_max = 0.2000021    32   19 ry_max = 0.2018776\n",
      "  244     4   33 rx_max = 0.2000020    32   19 ry_max = 0.2018493\n",
      "  245     4   33 rx_max = 0.2000019    32   19 ry_max = 0.2018215\n",
      "  246     4   33 rx_max = 0.2000018    32   19 ry_max = 0.2017943\n",
      "  247     4   33 rx_max = 0.2000018    32   19 ry_max = 0.2017675\n",
      "  248     4   33 rx_max = 0.2000017    32   19 ry_max = 0.2017414\n",
      "  249     4   33 rx_max = 0.2000016    32   19 ry_max = 0.2017158\n",
      "  250     4   33 rx_max = 0.2000015    32   19 ry_max = 0.2016908\n",
      "  251     3   33 rx_max = 0.2000014    32   19 ry_max = 0.2016664\n",
      "  252     3   33 rx_max = 0.2000014    32   19 ry_max = 0.2016426\n",
      "  253     3   33 rx_max = 0.2000013    32   19 ry_max = 0.2016194\n",
      "  254     3   33 rx_max = 0.2000012    32   19 ry_max = 0.2015967\n",
      "  255     3   33 rx_max = 0.2000012    32   19 ry_max = 0.2015746\n",
      "  256     3   33 rx_max = 0.2000011    32   19 ry_max = 0.2015529\n",
      "  257     3   33 rx_max = 0.2000011    32   19 ry_max = 0.2015317\n",
      "  258     3   33 rx_max = 0.2000010    32   19 ry_max = 0.2015111\n",
      "  259     4   33 rx_max = 0.2000010    32   19 ry_max = 0.2014908\n",
      "  260     3   33 rx_max = 0.2000009    32   19 ry_max = 0.2014710\n",
      "  261     4   33 rx_max = 0.2000009    32   19 ry_max = 0.2014515\n",
      "  262     3   33 rx_max = 0.2000008    32   19 ry_max = 0.2014325\n",
      "  263     3   33 rx_max = 0.2000008    32   19 ry_max = 0.2014138\n",
      "  264     3   33 rx_max = 0.2000008    32   19 ry_max = 0.2013954\n",
      "  265     4   33 rx_max = 0.2000007    32   19 ry_max = 0.2013774\n",
      "  266     3   33 rx_max = 0.2000007    32   19 ry_max = 0.2013597\n",
      "  267     4   33 rx_max = 0.2000007    32   19 ry_max = 0.2013423\n",
      "  268     3   33 rx_max = 0.2000006    32   19 ry_max = 0.2013252\n",
      "  269     3   33 rx_max = 0.2000006    32   19 ry_max = 0.2013084\n",
      "  270     4   33 rx_max = 0.2000006    32   19 ry_max = 0.2012918\n",
      "  271     3   33 rx_max = 0.2000005    32   19 ry_max = 0.2012755\n",
      "  272     3   33 rx_max = 0.2000005    32   19 ry_max = 0.2012594\n",
      "  273     3   33 rx_max = 0.2000005    32   19 ry_max = 0.2012436\n",
      "  274     4   33 rx_max = 0.2000005    32   19 ry_max = 0.2012281\n",
      "  275     4   33 rx_max = 0.2000004    32   19 ry_max = 0.2012127\n",
      "  276     4   33 rx_max = 0.2000004    32   19 ry_max = 0.2011976\n",
      "  277     3   33 rx_max = 0.2000004    32   19 ry_max = 0.2011827\n",
      "  278     3   33 rx_max = 0.2000004    32   19 ry_max = 0.2011680\n",
      "  279     3   33 rx_max = 0.2000004    32   19 ry_max = 0.2011535\n",
      "  280     4   33 rx_max = 0.2000003    32   19 ry_max = 0.2011392\n",
      "  281     3   33 rx_max = 0.2000003    32   19 ry_max = 0.2011251\n",
      "  282     3   33 rx_max = 0.2000003    32   19 ry_max = 0.2011112\n",
      "  283     3   33 rx_max = 0.2000003    32   19 ry_max = 0.2010974\n",
      "  284     3   33 rx_max = 0.2000003    32   19 ry_max = 0.2010839\n",
      "  285     3   33 rx_max = 0.2000003    32   19 ry_max = 0.2010705\n",
      "  286     4   33 rx_max = 0.2000003    32   19 ry_max = 0.2010573\n",
      "  287     3   33 rx_max = 0.2000002    32   19 ry_max = 0.2010443\n",
      "  288     3   33 rx_max = 0.2000002    32   19 ry_max = 0.2010314\n",
      "  289     3   33 rx_max = 0.2000002    32   19 ry_max = 0.2010188\n",
      "  290     3   33 rx_max = 0.2000002    32   19 ry_max = 0.2010062\n",
      "  291     3   33 rx_max = 0.2000002    32   19 ry_max = 0.2009939\n",
      "  292     3   33 rx_max = 0.2000002    32   19 ry_max = 0.2009817\n",
      "  293     3   33 rx_max = 0.2000002    32   19 ry_max = 0.2009696\n",
      "  294     3   33 rx_max = 0.2000002    32   19 ry_max = 0.2009577\n",
      "  295     3   33 rx_max = 0.2000002    32   19 ry_max = 0.2009459\n",
      "  296     3   33 rx_max = 0.2000002    32   19 ry_max = 0.2009343\n",
      "  297     3   33 rx_max = 0.2000002    32   19 ry_max = 0.2009229\n",
      "  298     4   33 rx_max = 0.2000001    32   19 ry_max = 0.2009116\n",
      "  299     3   33 rx_max = 0.2000001    32   19 ry_max = 0.2009004\n",
      "  300     3   33 rx_max = 0.2000001    32   19 ry_max = 0.2008894\n",
      "  301     3   33 rx_max = 0.2000001    32   19 ry_max = 0.2008785\n",
      "  302     4   33 rx_max = 0.2000001    32   19 ry_max = 0.2008677\n",
      "  303     3   33 rx_max = 0.2000001    32   19 ry_max = 0.2008571\n",
      "  304     3   33 rx_max = 0.2000001    32   19 ry_max = 0.2008466\n",
      "  305     3   33 rx_max = 0.2000001    32   19 ry_max = 0.2008362\n",
      "  306     3   33 rx_max = 0.2000001    32   19 ry_max = 0.2008260\n",
      "  307     4   33 rx_max = 0.2000001    32   19 ry_max = 0.2008158\n",
      "  308     4   33 rx_max = 0.2000001    32   19 ry_max = 0.2008058\n",
      "  309     3   33 rx_max = 0.2000001    32   19 ry_max = 0.2007960\n",
      "  310     4   33 rx_max = 0.2000001    32   19 ry_max = 0.2007862\n",
      "  311     3   33 rx_max = 0.2000001    32   19 ry_max = 0.2007766\n",
      "  312     3   33 rx_max = 0.2000001    32   19 ry_max = 0.2007671\n",
      "  313     4   33 rx_max = 0.2000001    32   19 ry_max = 0.2007577\n",
      "  314     3   33 rx_max = 0.2000001    32   19 ry_max = 0.2007484\n",
      "  315     3   33 rx_max = 0.2000001    32   19 ry_max = 0.2007393\n",
      "  316     4   33 rx_max = 0.2000001    32   19 ry_max = 0.2007302\n",
      "  317     3   33 rx_max = 0.2000001    32   19 ry_max = 0.2007213\n",
      "  318     4   33 rx_max = 0.2000001    32   19 ry_max = 0.2007125\n",
      "  319     4   33 rx_max = 0.2000001    32   19 ry_max = 0.2007037\n",
      "  320     4   33 rx_max = 0.2000000    32   19 ry_max = 0.2006951\n",
      "  321     4   33 rx_max = 0.2000000    32   19 ry_max = 0.2006866\n",
      "  322     3   33 rx_max = 0.2000000    32   19 ry_max = 0.2006782\n",
      "  323     3   33 rx_max = 0.2000000    32   19 ry_max = 0.2006699\n",
      "  324     4   33 rx_max = 0.2000000    32   19 ry_max = 0.2006617\n",
      "  325     4   33 rx_max = 0.2000000    32   19 ry_max = 0.2006536\n",
      "  326     3   33 rx_max = 0.2000000    32   19 ry_max = 0.2006456\n",
      "  327     4   33 rx_max = 0.2000000    32   19 ry_max = 0.2006377\n",
      "  328     4   33 rx_max = 0.2000000    32   19 ry_max = 0.2006299\n",
      "  329     4   33 rx_max = 0.2000000    32   19 ry_max = 0.2006222\n",
      "  330     4   33 rx_max = 0.2000000    32   19 ry_max = 0.2006146\n",
      "  331     4   33 rx_max = 0.2000000    32   19 ry_max = 0.2006071\n",
      "  332     4   33 rx_max = 0.2000000    32   19 ry_max = 0.2005997\n",
      "  333     4   33 rx_max = 0.2000000    32   19 ry_max = 0.2005923\n",
      "  334     4   33 rx_max = 0.2000000    32   19 ry_max = 0.2005851\n",
      "  335     4   33 rx_max = 0.2000000    32   19 ry_max = 0.2005779\n",
      "  336     4   33 rx_max = 0.2000000    32   19 ry_max = 0.2005708\n",
      "  337     4   33 rx_max = 0.2000000    32   19 ry_max = 0.2005639\n",
      "  338     4   33 rx_max = 0.2000000    32   19 ry_max = 0.2005570\n",
      "  339     4   33 rx_max = 0.2000000    32   19 ry_max = 0.2005502\n",
      "  340     4   33 rx_max = 0.2000000    32   19 ry_max = 0.2005434\n",
      "  341     4   33 rx_max = 0.2000000    32   19 ry_max = 0.2005368\n",
      "  342     4   33 rx_max = 0.2000000    32   19 ry_max = 0.2005302\n",
      "  343     4   33 rx_max = 0.2000000    32   19 ry_max = 0.2005237\n",
      "  344     4   33 rx_max = 0.2000000    32   19 ry_max = 0.2005173\n",
      "  345     4   33 rx_max = 0.2000000    32   19 ry_max = 0.2005110\n",
      "  346     4   33 rx_max = 0.2000000    32   19 ry_max = 0.2005047\n",
      "  347     4   33 rx_max = 0.2000000    32   19 ry_max = 0.2004986\n",
      "  348     4   33 rx_max = 0.2000000    32   19 ry_max = 0.2004925\n",
      "  349     4   33 rx_max = 0.2000000    32   19 ry_max = 0.2004864\n",
      "  350     4   33 rx_max = 0.2000000    32   19 ry_max = 0.2004805\n",
      "  351     4   33 rx_max = 0.2000000    32   19 ry_max = 0.2004746\n",
      "  352     3   33 rx_max = 0.2000000    32   19 ry_max = 0.2004688\n",
      "  353     4   33 rx_max = 0.2000000    32   19 ry_max = 0.2004631\n",
      "  354     3   33 rx_max = 0.2000000    32   19 ry_max = 0.2004574\n",
      "  355     4   33 rx_max = 0.2000000    32   19 ry_max = 0.2004518\n",
      "  356     3   33 rx_max = 0.2000000    32   19 ry_max = 0.2004463\n",
      "  357     3   33 rx_max = 0.2000000    32   19 ry_max = 0.2004408\n",
      "  358     3   33 rx_max = 0.2000000    32   19 ry_max = 0.2004354\n",
      "  359     3   33 rx_max = 0.2000000    32   19 ry_max = 0.2004301\n",
      "  360     3   33 rx_max = 0.2000000    32   19 ry_max = 0.2004248\n",
      "  361     3   33 rx_max = 0.2000000    32   19 ry_max = 0.2004196\n",
      "  362     3   33 rx_max = 0.2000000    32   19 ry_max = 0.2004145\n",
      "  363     3   33 rx_max = 0.2000000    32   19 ry_max = 0.2004094\n",
      "  364     3   33 rx_max = 0.2000000    32   19 ry_max = 0.2004044\n",
      "  365     3   33 rx_max = 0.2000000    32   19 ry_max = 0.2003995\n",
      "  366     3   33 rx_max = 0.2000000    32   19 ry_max = 0.2003946\n",
      "  367     3   33 rx_max = 0.2000000    32   19 ry_max = 0.2003897\n",
      "  368     3   33 rx_max = 0.2000000    32   19 ry_max = 0.2003850\n",
      "  369     3   33 rx_max = 0.2000000    32   19 ry_max = 0.2003803\n",
      "  370     4   33 rx_max = 0.2000000    32   19 ry_max = 0.2003756\n",
      "  371     4   33 rx_max = 0.2000000    32   19 ry_max = 0.2003710\n",
      "  372     4   33 rx_max = 0.2000000    32   19 ry_max = 0.2003665\n",
      "  373     3   33 rx_max = 0.2000000    32   19 ry_max = 0.2003620\n",
      "  374     4   33 rx_max = 0.2000000    32   19 ry_max = 0.2003576\n",
      "  375     4   33 rx_max = 0.2000000    32   19 ry_max = 0.2003532\n",
      "  376     4   33 rx_max = 0.2000000    32   19 ry_max = 0.2003489\n",
      "  377     4   33 rx_max = 0.2000000    32   19 ry_max = 0.2003446\n",
      "  378     4   33 rx_max = 0.2000000    32   19 ry_max = 0.2003404\n",
      "  379     4   33 rx_max = 0.2000000    32   19 ry_max = 0.2003362\n",
      "  380     4   33 rx_max = 0.2000000    32   19 ry_max = 0.2003321\n",
      "  381     4   33 rx_max = 0.2000000    32   19 ry_max = 0.2003280\n",
      "  382     4   33 rx_max = 0.2000000    32   19 ry_max = 0.2003240\n",
      "  383     4   33 rx_max = 0.2000000    32   19 ry_max = 0.2003201\n",
      "  384     3   33 rx_max = 0.2000000    32   19 ry_max = 0.2003162\n",
      "  385     3   33 rx_max = 0.2000000    32   19 ry_max = 0.2003123\n",
      "  386     4   33 rx_max = 0.2000000    32   19 ry_max = 0.2003085\n",
      "  387     3   33 rx_max = 0.2000000    32   19 ry_max = 0.2003047\n",
      "  388     3   33 rx_max = 0.2000000    32   19 ry_max = 0.2003010\n",
      "  389     4   33 rx_max = 0.2000000    32   19 ry_max = 0.2002973\n",
      "  390     4   33 rx_max = 0.2000000    32   19 ry_max = 0.2002936\n",
      "  391     4   33 rx_max = 0.2000000    32   19 ry_max = 0.2002900\n",
      "  392     4   33 rx_max = 0.2000000    32   19 ry_max = 0.2002865\n",
      "  393     4   33 rx_max = 0.2000000    32   19 ry_max = 0.2002830\n",
      "  394     4   33 rx_max = 0.2000000    32   19 ry_max = 0.2002795\n",
      "  395     4   33 rx_max = 0.2000000    32   19 ry_max = 0.2002761\n",
      "  396     3   33 rx_max = 0.2000000    32   19 ry_max = 0.2002727\n",
      "  397     3   33 rx_max = 0.2000000    32   19 ry_max = 0.2002694\n",
      "  398     3   33 rx_max = 0.2000000    32   19 ry_max = 0.2002661\n",
      "  399     3   33 rx_max = 0.2000000    32   19 ry_max = 0.2002628\n",
      "  400     3   33 rx_max = 0.2000000    32   19 ry_max = 0.2002596\n",
      "  401     3   33 rx_max = 0.2000000    32   19 ry_max = 0.2002565\n",
      "  402     3   33 rx_max = 0.2000000    32   19 ry_max = 0.2002533\n",
      "  403     3   33 rx_max = 0.2000000    32   19 ry_max = 0.2002502\n",
      "  404     3   33 rx_max = 0.2000000    32   19 ry_max = 0.2002472\n",
      "  405     3   33 rx_max = 0.2000000    32   19 ry_max = 0.2002441\n",
      "  406     3   33 rx_max = 0.2000000    32   19 ry_max = 0.2002411\n",
      "  407     3   33 rx_max = 0.2000000    32   19 ry_max = 0.2002382\n",
      "  408     3   33 rx_max = 0.2000000    32   19 ry_max = 0.2002353\n",
      "  409     4   33 rx_max = 0.2000000    32   19 ry_max = 0.2002324\n",
      "  410     3   33 rx_max = 0.2000000    32   19 ry_max = 0.2002296\n",
      "  411     4   33 rx_max = 0.2000000    32   19 ry_max = 0.2002267\n",
      "  412     3   33 rx_max = 0.2000000    32   19 ry_max = 0.2002240\n",
      "  413     3   33 rx_max = 0.2000000    32   19 ry_max = 0.2002212\n",
      "  414     3   33 rx_max = 0.2000000    32   19 ry_max = 0.2002185\n",
      "  415     3   33 rx_max = 0.2000000    32   19 ry_max = 0.2002159\n",
      "  416     3   33 rx_max = 0.2000000    32   19 ry_max = 0.2002132\n",
      "  417     3   33 rx_max = 0.2000000    32   19 ry_max = 0.2002106\n",
      "  418     4   33 rx_max = 0.2000000    32   19 ry_max = 0.2002080\n",
      "  419     4   33 rx_max = 0.2000000    32   19 ry_max = 0.2002055\n",
      "  420     3   33 rx_max = 0.2000000    32   19 ry_max = 0.2002030\n",
      "  421     3   33 rx_max = 0.2000000    32   19 ry_max = 0.2002005\n",
      "  422     3   33 rx_max = 0.2000000    32   19 ry_max = 0.2001980\n",
      "  423     3   33 rx_max = 0.2000000    32   19 ry_max = 0.2001956\n",
      "  424     3   33 rx_max = 0.2000000    32   19 ry_max = 0.2001932\n",
      "  425     3   33 rx_max = 0.2000000    32   19 ry_max = 0.2001908\n",
      "  426     3   33 rx_max = 0.2000000    32   19 ry_max = 0.2001885\n",
      "  427     3   33 rx_max = 0.2000000    32   19 ry_max = 0.2001862\n",
      "  428     3   33 rx_max = 0.2000000    32   19 ry_max = 0.2001839\n",
      "  429     3   33 rx_max = 0.2000000    32   19 ry_max = 0.2001817\n",
      "  430     3   33 rx_max = 0.2000000    32   19 ry_max = 0.2001795\n",
      "  431     3   33 rx_max = 0.2000000    32   19 ry_max = 0.2001773\n",
      "  432     3   33 rx_max = 0.2000000    32   19 ry_max = 0.2001751\n",
      "  433     3   33 rx_max = 0.2000000    32   19 ry_max = 0.2001729\n",
      "  434     3   33 rx_max = 0.2000000    32   19 ry_max = 0.2001708\n",
      "  435     3   33 rx_max = 0.2000000    32   19 ry_max = 0.2001687\n",
      "  436     4   33 rx_max = 0.2000000    32   19 ry_max = 0.2001667\n",
      "  437     4   33 rx_max = 0.2000000    32   19 ry_max = 0.2001646\n",
      "  438     4   33 rx_max = 0.2000000    32   19 ry_max = 0.2001626\n",
      "  439     4   33 rx_max = 0.2000000    32   19 ry_max = 0.2001606\n",
      "  440     4   33 rx_max = 0.2000000    32   19 ry_max = 0.2001587\n",
      "  441     4   33 rx_max = 0.2000000    32   19 ry_max = 0.2001567\n",
      "  442     4   33 rx_max = 0.2000000    32   19 ry_max = 0.2001548\n",
      "  443     4   33 rx_max = 0.2000000    32   19 ry_max = 0.2001529\n",
      "  444     4   33 rx_max = 0.2000000    32   19 ry_max = 0.2001510\n",
      "  445     4   33 rx_max = 0.2000000    32   19 ry_max = 0.2001492\n",
      "  446     4   33 rx_max = 0.2000000    32   19 ry_max = 0.2001474\n",
      "  447     4   33 rx_max = 0.2000000    32   19 ry_max = 0.2001456\n",
      "  448     4   33 rx_max = 0.2000000    32   19 ry_max = 0.2001438\n",
      "  449     4   33 rx_max = 0.2000000    32   19 ry_max = 0.2001420\n",
      "  450     3   33 rx_max = 0.2000000    32   19 ry_max = 0.2001403\n",
      "  451     3   33 rx_max = 0.2000000    32   19 ry_max = 0.2001386\n",
      "  452     3   33 rx_max = 0.2000000    32   19 ry_max = 0.2001369\n",
      "  453     3   33 rx_max = 0.2000000    32   19 ry_max = 0.2001352\n",
      "  454     4   33 rx_max = 0.2000000    32   19 ry_max = 0.2001335\n",
      "  455     4   33 rx_max = 0.2000000    32   19 ry_max = 0.2001319\n",
      "  456     3   33 rx_max = 0.2000000    32   19 ry_max = 0.2001303\n",
      "  457     4   33 rx_max = 0.2000000    32   19 ry_max = 0.2001287\n",
      "  458     4   33 rx_max = 0.2000000    32   19 ry_max = 0.2001271\n",
      "  459     4   33 rx_max = 0.2000000    32   19 ry_max = 0.2001256\n",
      "  460     4   33 rx_max = 0.2000000    32   19 ry_max = 0.2001240\n",
      "  461     4   33 rx_max = 0.2000000    32   19 ry_max = 0.2001225\n",
      "  462     4   33 rx_max = 0.2000000    32   19 ry_max = 0.2001210\n",
      "  463     4   33 rx_max = 0.2000000    32   19 ry_max = 0.2001195\n",
      "  464     4   33 rx_max = 0.2000000    32   19 ry_max = 0.2001181\n",
      "  465     4   33 rx_max = 0.2000000    32   19 ry_max = 0.2001166\n",
      "  466     4   33 rx_max = 0.2000000    32   19 ry_max = 0.2001152\n",
      "  467     4   33 rx_max = 0.2000000    32   19 ry_max = 0.2001138\n",
      "  468     4   33 rx_max = 0.2000000    32   19 ry_max = 0.2001124\n",
      "  469     4   33 rx_max = 0.2000000    32   19 ry_max = 0.2001110\n",
      "  470     4   33 rx_max = 0.2000000    32   19 ry_max = 0.2001097\n",
      "  471     4   33 rx_max = 0.2000000    32   19 ry_max = 0.2001083\n",
      "  472     4   33 rx_max = 0.2000000    32   19 ry_max = 0.2001070\n",
      "  473     4   33 rx_max = 0.2000000    32   19 ry_max = 0.2001057\n",
      "  474     4   33 rx_max = 0.2000000    32   19 ry_max = 0.2001044\n",
      "  475     4   33 rx_max = 0.2000000    32   19 ry_max = 0.2001031\n",
      "  476     4   33 rx_max = 0.2000000    32   19 ry_max = 0.2001019\n",
      "  477     4   33 rx_max = 0.2000000    32   19 ry_max = 0.2001006\n",
      "  478     4   33 rx_max = 0.2000000    32   19 ry_max = 0.2000994\n",
      "  479     4   33 rx_max = 0.2000000    32   19 ry_max = 0.2000982\n",
      "  480     4   33 rx_max = 0.2000000    32   19 ry_max = 0.2000970\n",
      "  481     3   33 rx_max = 0.2000000    32   19 ry_max = 0.2000958\n",
      "  482     4   33 rx_max = 0.2000000    32   19 ry_max = 0.2000946\n",
      "  483     4   33 rx_max = 0.2000000    32   19 ry_max = 0.2000935\n",
      "  484     4   33 rx_max = 0.2000000    32   19 ry_max = 0.2000923\n",
      "  485     3   33 rx_max = 0.2000000    32   19 ry_max = 0.2000912\n",
      "  486     3   33 rx_max = 0.2000000    32   19 ry_max = 0.2000901\n",
      "  487     3   33 rx_max = 0.2000000    32   19 ry_max = 0.2000890\n",
      "  488     3   33 rx_max = 0.2000000    32   19 ry_max = 0.2000879\n",
      "  489     4   33 rx_max = 0.2000000    32   19 ry_max = 0.2000868\n",
      "  490     4   33 rx_max = 0.2000000    32   19 ry_max = 0.2000857\n",
      "  491     3   33 rx_max = 0.2000000    32   19 ry_max = 0.2000847\n",
      "  492     4   33 rx_max = 0.2000000    32   19 ry_max = 0.2000837\n",
      "  493     3   33 rx_max = 0.2000000    32   19 ry_max = 0.2000826\n",
      "  494     3   33 rx_max = 0.2000000    32   19 ry_max = 0.2000816\n",
      "  495     4   33 rx_max = 0.2000000    32   19 ry_max = 0.2000806\n",
      "  496     4   33 rx_max = 0.2000000    32   19 ry_max = 0.2000796\n",
      "  497     3   33 rx_max = 0.2000000    32   19 ry_max = 0.2000787\n",
      "  498     3   33 rx_max = 0.2000000    32   19 ry_max = 0.2000777\n",
      "  499     4   33 rx_max = 0.2000000    32   19 ry_max = 0.2000767\n",
      "\n",
      " Wall Clock time spent in smoothing    0.02 sec running   1 threads.\n"
     ]
    }
   ],
   "source": [
    "GetTopo.topo(None,outputs,topofile,shp_file,smooth=inputs_smth,sgl_connect=sgl_connect)"
   ]
  },
  {
   "cell_type": "markdown",
   "id": "300100d5-f51f-4583-9150-37aa5c9e8ab3",
   "metadata": {},
   "source": [
    "### Save grid as necdf"
   ]
  },
  {
   "cell_type": "markdown",
   "id": "ef3e8e04-2321-4dbb-a865-d1223003e42f",
   "metadata": {},
   "source": [
    "This code creates a Netcdf file containing all grid data (geographic, topo-bathymetric, mask) in the format defined by the classes generated earlier in this notebook. Then it saves it in the ouput repertory."
   ]
  },
  {
   "cell_type": "code",
   "execution_count": 64,
   "id": "02ddd444-50f8-4143-ab9f-79defec4b02c",
   "metadata": {},
   "outputs": [
    {
     "ename": "PermissionError",
     "evalue": "[Errno 13] Permission denied: '../../CROCO_FILES/croco_grd.nc'",
     "output_type": "error",
     "traceback": [
      "\u001b[0;31m---------------------------------------------------------------------------\u001b[0m",
      "\u001b[0;31mPermissionError\u001b[0m                           Traceback (most recent call last)",
      "Cell \u001b[0;32mIn[64], line 1\u001b[0m\n\u001b[0;32m----> 1\u001b[0m \u001b[43mCROCO\u001b[49m\u001b[38;5;241;43m.\u001b[39;49m\u001b[43mcreate_grid_nc\u001b[49m\u001b[43m(\u001b[49m\u001b[38;5;28;43;01mNone\u001b[39;49;00m\u001b[43m,\u001b[49m\u001b[43moutput_file\u001b[49m\u001b[43m,\u001b[49m\u001b[43minputs\u001b[49m\u001b[43m,\u001b[49m\u001b[43moutputs\u001b[49m\u001b[43m)\u001b[49m\n",
      "File \u001b[0;32m~/git_dev/notebook-grid-tools/croco_pytools/prepro/./Modules/croco_class.py:464\u001b[0m, in \u001b[0;36mCROCO.create_grid_nc\u001b[0;34m(self, output_file, inputs, outputs, prt_grd)\u001b[0m\n\u001b[1;32m    461\u001b[0m             grid_name\u001b[38;5;241m=\u001b[39mprt_grd[\u001b[38;5;241m1\u001b[39m][\u001b[38;5;241m0\u001b[39m:\u001b[38;5;241m-\u001b[39m\u001b[38;5;241m1\u001b[39m]\u001b[38;5;241m+\u001b[39m\u001b[38;5;28mstr\u001b[39m(\u001b[38;5;28mint\u001b[39m(lev)\u001b[38;5;241m+\u001b[39m\u001b[38;5;241m1\u001b[39m)\n\u001b[1;32m    462\u001b[0m         output_file\u001b[38;5;241m=\u001b[39moutput_file\u001b[38;5;241m+\u001b[39mgrid_name\n\u001b[0;32m--> 464\u001b[0m nc \u001b[38;5;241m=\u001b[39m \u001b[43mnetcdf\u001b[49m\u001b[38;5;241;43m.\u001b[39;49m\u001b[43mDataset\u001b[49m\u001b[43m(\u001b[49m\u001b[43moutput_file\u001b[49m\u001b[43m,\u001b[49m\u001b[43m \u001b[49m\u001b[38;5;124;43m'\u001b[39;49m\u001b[38;5;124;43mw\u001b[39;49m\u001b[38;5;124;43m'\u001b[39;49m\u001b[43m,\u001b[49m\u001b[43m \u001b[49m\u001b[38;5;28;43mformat\u001b[39;49m\u001b[38;5;241;43m=\u001b[39;49m\u001b[38;5;124;43m'\u001b[39;49m\u001b[38;5;124;43mNETCDF4\u001b[39;49m\u001b[38;5;124;43m'\u001b[39;49m\u001b[43m)\u001b[49m\n\u001b[1;32m    466\u001b[0m \u001b[38;5;66;03m# create global variables\u001b[39;00m\n\u001b[1;32m    467\u001b[0m nc\u001b[38;5;241m.\u001b[39mcreated \u001b[38;5;241m=\u001b[39m datetime\u001b[38;5;241m.\u001b[39mnow()\u001b[38;5;241m.\u001b[39misoformat()\n",
      "File \u001b[0;32msrc/netCDF4/_netCDF4.pyx:2470\u001b[0m, in \u001b[0;36mnetCDF4._netCDF4.Dataset.__init__\u001b[0;34m()\u001b[0m\n",
      "File \u001b[0;32msrc/netCDF4/_netCDF4.pyx:2107\u001b[0m, in \u001b[0;36mnetCDF4._netCDF4._ensure_nc_success\u001b[0;34m()\u001b[0m\n",
      "\u001b[0;31mPermissionError\u001b[0m: [Errno 13] Permission denied: '../../CROCO_FILES/croco_grd.nc'"
     ]
    }
   ],
   "source": [
    "CROCO.create_grid_nc(None,output_file,inputs,outputs)"
   ]
  },
  {
   "cell_type": "code",
   "execution_count": null,
   "id": "b9b99996-b966-4b23-b3ad-051d5436bc2f",
   "metadata": {},
   "outputs": [],
   "source": []
  }
 ],
 "metadata": {
  "kernelspec": {
   "display_name": "Python 3 (ipykernel)",
   "language": "python",
   "name": "python3"
  },
  "language_info": {
   "codemirror_mode": {
    "name": "ipython",
    "version": 3
   },
   "file_extension": ".py",
   "mimetype": "text/x-python",
   "name": "python",
   "nbconvert_exporter": "python",
   "pygments_lexer": "ipython3",
   "version": "3.9.18"
  }
 },
 "nbformat": 4,
 "nbformat_minor": 5
}
