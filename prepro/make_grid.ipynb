{
 "cells": [
  {
   "cell_type": "markdown",
   "id": "b3a2d30a-317e-4e79-b2ae-5701b51b11fa",
   "metadata": {},
   "source": [
    "# MAKE GRID - NOTEBOOK VERSION"
   ]
  },
  {
   "cell_type": "markdown",
   "id": "471a9a6c-ea76-4dd7-937c-12f1de30128d",
   "metadata": {},
   "source": [
    "💡 This notebook allows the user to create a croco grid which will be used during the next steps of the preporcessing to add boundaries conditions and other forcings.  \n",
    "In this notebook the user can edit the bathymetry and the mask (coastlines).  \n",
    "\n",
    "See [online documentation](https://croco-ocean.gitlabpages.inria.fr/croco_pytools/prepro/tuto.grid.html) for more details 📚"
   ]
  },
  {
   "cell_type": "markdown",
   "id": "3bb2a090-4c4c-4113-b5df-1c1ceac9d524",
   "metadata": {},
   "source": [
    "## ✅📋 Dependencies\n",
    "*Make sure to [build the croco_pyenv environment](https://croco-ocean.gitlabpages.inria.fr/croco_pytools/prepro/tuto.env.html) before using this notebook.*  "
   ]
  },
  {
   "cell_type": "code",
   "execution_count": null,
   "id": "71f95d60-91e0-4b17-a78a-6dc0a87f15f4",
   "metadata": {},
   "outputs": [],
   "source": [
    "#Allows widget interactivity with user (activation of backend environments)\n",
    "%matplotlib widget  \n",
    "%load_ext autoreload\n",
    "%autoreload 2\n",
    "\n",
    "# Import standard modules\n",
    "import os\n",
    "import sys\n",
    "import numpy as np\n",
    "\n",
    "# Configure import paths\n",
    "#os.environ['ETS_TOOLKIT'] = 'wx'\n",
    "sys.path.extend([\"./Modules/\", \"./Readers/\", \"./Modules/graphicUI_tools/\"])\n",
    "\n",
    "# Import third-party modules\n",
    "import matplotlib.pyplot as plt\n",
    "#from scipy.spatial import distance\n",
    "import ipywidgets as widgets\n",
    "from ipywidgets import interact_manual, FloatText, VBox\n",
    "from IPython.display import display\n",
    "\n",
    "# Import custom modules\n",
    "#from tools_make_grid import inputs, inputs_smth, EasyGrid, GetMask, GetTopo\n",
    "from croco_class import CROCO\n",
    "from tools_grid_inputs import setup_widgets, prepare_variables\n",
    "from tools_create_grids import create_classic_grid\n",
    "from tools_grid_edition import (ValueUpdater, RectangleSelectorEdition,\n",
    "                                MaskUpdater, plot_mask, RectangleSelectorMaskUpdater)"
   ]
  },
  {
   "cell_type": "markdown",
   "id": "17455390-e3db-4580-8a25-7ab316276e45",
   "metadata": {},
   "source": [
    "## ✏️🔧 User's changes"
   ]
  },
  {
   "cell_type": "markdown",
   "id": "60dde11a-5367-41ee-b75c-6828e9ba7af6",
   "metadata": {},
   "source": [
    "➡️ Launch the next python cell in order to display the widget which allows you to configurate your future main grid.  \n",
    "Then click on the \"SAVE\" button each time you modify your configuration.  \n",
    "🔎 Concerning the inputs, you'll need:\n",
    "<table style=\"width: 100%; text-align: left; border-collapse: collapse;\">\n",
    "  <thead>\n",
    "    <tr>\n",
    "      <th style=\"border: 1px solid #ddd; padding: 8px; background-color: #f4f4f4;\">DATA</th>\n",
    "      <th style=\"border: 1px solid #ddd; padding: 8px; background-color: #f4f4f4;\">SOURCE</th>\n",
    "      <th style=\"border: 1px solid #ddd; padding: 8px; background-color: #f4f4f4;\">FILE EXTENSION</th>\n",
    "    </tr>\n",
    "  </thead>\n",
    "  <tbody>\n",
    "    <tr>\n",
    "      <td style=\"border: 1px solid #ddd; padding: 8px;\"><strong>Topo/Bathy</strong></td>\n",
    "      <td style=\"border: 1px solid #ddd; padding: 8px;\">etopo (5,2,1),<br>srtm30, gebco</td>\n",
    "      <td style=\"border: 1px solid #ddd; padding: 8px;\"><em>NetCDF</em></td>\n",
    "    </tr>\n",
    "    <tr>\n",
    "      <td style=\"border: 1px solid #ddd; padding: 8px;\"><strong>Coastline</strong></td>\n",
    "      <td style=\"border: 1px solid #ddd; padding: 8px;\">GSHHS</td>\n",
    "      <td style=\"border: 1px solid #ddd; padding: 8px;\"><em>shapefile</em></td>\n",
    "    </tr>\n",
    "  </tbody>\n",
    "</table>"
   ]
  },
  {
   "cell_type": "code",
   "execution_count": null,
   "id": "9ccc5df9-56b5-4c40-bc53-c20beeb755eb",
   "metadata": {},
   "outputs": [],
   "source": [
    "# Call the setup_widgets function to display the widgets and get the function to retrieve saved values\n",
    "get_config= setup_widgets(parent_grid=False)"
   ]
  },
  {
   "cell_type": "markdown",
   "id": "9dbdaac6-9ad2-4ece-874d-b0152e0ca5cd",
   "metadata": {},
   "source": [
    "## 🧩🌐 Building the grid"
   ]
  },
  {
   "cell_type": "markdown",
   "id": "e53b73da-5569-4c76-a8d9-188e4831430b",
   "metadata": {},
   "source": [
    "➡️ By running the next python cell, the configuration saved at the previous step is loaded, and a dictionnary nammed \"variables\" is extracted from it to run the grid-creation-code."
   ]
  },
  {
   "cell_type": "markdown",
   "id": "9df8f679-fee7-4bd4-8290-4d2d165c86ee",
   "metadata": {},
   "source": [
    "<div class=\"alert alert-block alert-warning\"> \n",
    "Tip: if the ouput window is too long 🖱️ right click on the cell annd \"Enable scrolling for outputs\"\n",
    "</div>"
   ]
  },
  {
   "cell_type": "code",
   "execution_count": null,
   "id": "ba963d82-66ff-415c-98d4-f409149b0605",
   "metadata": {
    "scrolled": true
   },
   "outputs": [],
   "source": [
    "# Get the config paramaters defined in the widgets + retain the ones useful for creating the grid\n",
    "saved_config= get_config()\n",
    "variables= prepare_variables(saved_config)\n",
    "\n",
    "# Create the grid and saves it in \"grid\", the configuration is saved in \"inputs\"\n",
    "grid, inputs = create_classic_grid(**variables)"
   ]
  },
  {
   "cell_type": "markdown",
   "id": "97a29f5f-021f-497a-b06d-c8d8f1751147",
   "metadata": {},
   "source": [
    "## 👁️🌐 Grid display\n",
    "Run the next cell to check the grid before saving it. To edit it, go to the next section."
   ]
  },
  {
   "cell_type": "code",
   "execution_count": null,
   "id": "a267d509-2e56-46ba-a0d9-b8e523b7fbea",
   "metadata": {},
   "outputs": [],
   "source": [
    "from Modules.map_tools.map_tools import plot_grid, plot_outline, plot_topo\n",
    "\n",
    "plt.style.use('_mpl-gallery')\n",
    "figure = plt.figure(figsize = (3,3))\n",
    "ax = plot_outline(grid, figure)\n",
    "figure.suptitle('Grid Outline')\n",
    "#plot_grid(grid, figure, ax, saved_config['Files']['shp_file'], zview='topo',plot_shape = True)\n",
    "plot_grid(grid, figure, ax, saved_config['Files']['shp_file'], zview='1/pn',plot_shape = True)"
   ]
  },
  {
   "cell_type": "markdown",
   "id": "49dc75d8-18ce-469e-adef-73a782d931f5",
   "metadata": {},
   "source": [
    "<div class=\"alert alert-block alert-info\">\n",
    "More Arguments:\n",
    "\n",
    "- **4th argument**: path to the shape file\n",
    "- **5th argument**: options (choose one):\n",
    "  - *grid points*\n",
    "  - *topo*\n",
    "  - *1/pm*\n",
    "  - *1/pn*\n",
    "  - *angle*\n",
    "  - *mask*\n",
    "- **6th argument**: set to `True` to plot the shape or `False` to omit it\n",
    "\n",
    "```python\n",
    "plot_grid(outputs, figure, ax, shp_file, zview='grid outline', plot_shape=True)\n",
    "```\n",
    "</div>"
   ]
  },
  {
   "cell_type": "markdown",
   "id": "9180d680-282f-4fe4-bbda-68467e7b108f",
   "metadata": {},
   "source": [
    "##### 💾 Save grid as necdf\n",
    "This code creates a Netcdf file containing all grid data (geographic, topo-bathymetric, mask) in the format defined by the classes generated earlier in this notebook.   \n",
    "Then it saves it in the ouput repertory. If you want to edit bathymetry/Mask you can save it later on this notebook."
   ]
  },
  {
   "cell_type": "code",
   "execution_count": null,
   "id": "7034f888-57c9-4725-8be8-8ea74a43863e",
   "metadata": {},
   "outputs": [],
   "source": [
    "CROCO.create_grid_nc(None, saved_config['Files']['output_file'], inputs, grid)"
   ]
  },
  {
   "cell_type": "markdown",
   "id": "c89ccf23-f2f9-438f-a670-8d979ea4aa02",
   "metadata": {},
   "source": [
    "## ✏️ MASK and BATHYMETRY edition"
   ]
  },
  {
   "cell_type": "markdown",
   "id": "e57fa50e-0fe4-434b-8a04-4f2baf1da85e",
   "metadata": {},
   "source": [
    "### Editing bathymetry"
   ]
  },
  {
   "cell_type": "markdown",
   "id": "b81aa2eb-3d52-4641-aa3b-c5c6a8b3eb71",
   "metadata": {},
   "source": [
    "#### Cell by cell edition mode\n",
    "Launch the next cell to edit the grid bathymetry cell by cell.  \n",
    "➡️ Click on a mesh, edit its value and then save it. Start again if necessary."
   ]
  },
  {
   "cell_type": "code",
   "execution_count": null,
   "id": "18d4a953-3420-4f38-a2ee-9c793844f00b",
   "metadata": {},
   "outputs": [],
   "source": [
    "#Create an instance of the class ValueUpdater (Value of the Topo)\n",
    "figure_cell_updater= ValueUpdater(grid)"
   ]
  },
  {
   "cell_type": "markdown",
   "id": "88e05ae4-e425-432c-88a3-145e72f6ba6c",
   "metadata": {},
   "source": [
    "#### Rectangle selector edition mode\n",
    "To edit multiple cells at once, you can display the \"Rectangle Selector Widget\" below by running the cell.  \n",
    "➡️ Click and hold to expand the rectangle. After releasing the click, enter the new value and save it."
   ]
  },
  {
   "cell_type": "code",
   "execution_count": null,
   "id": "099185cd-d5c5-4978-bce2-dd7b6cc09c00",
   "metadata": {},
   "outputs": [],
   "source": [
    "figure_cell_updater= RectangleSelectorEdition(grid)"
   ]
  },
  {
   "cell_type": "markdown",
   "id": "c6608a8e-41c3-491a-884c-65584a96ec3e",
   "metadata": {},
   "source": [
    "### Editing the MASK"
   ]
  },
  {
   "cell_type": "markdown",
   "id": "09190890-ade6-425d-8b21-ad8479b38889",
   "metadata": {},
   "source": [
    "#### Cell by cell edition mode\n",
    "Launch the next cell to edit the grid mask (initially based on coastlines shapefile) cell by cell.  \n",
    "➡️ Click on a mesh, edit its value and then save it. Start again if necessary."
   ]
  },
  {
   "cell_type": "code",
   "execution_count": null,
   "id": "6b294bd4-8366-4177-84f1-90d0b08432f6",
   "metadata": {},
   "outputs": [],
   "source": [
    "#Create an instance of the class MaskUpdater\n",
    "figure_maskcell_updater= MaskUpdater(grid)"
   ]
  },
  {
   "cell_type": "markdown",
   "id": "782819a3-5c49-4fd5-81d8-bd1bafeb56c8",
   "metadata": {},
   "source": [
    "#### Rectangle selector edition mode\n",
    "\n",
    "To edit multiple cells at once, you can display the \"Rectangle Selector Widget\" below by running the cell.  \n",
    "➡️ Click and hold to expand the rectangle. After releasing the click, enter the new value and save it."
   ]
  },
  {
   "cell_type": "code",
   "execution_count": null,
   "id": "5e951a22-85f9-4efd-be1e-23b97379e159",
   "metadata": {},
   "outputs": [],
   "source": [
    "figure_maskrect_updater= RectangleSelectorMaskUpdater(grid)"
   ]
  },
  {
   "cell_type": "markdown",
   "id": "812d14d3-8cfd-4c98-8cf5-1f4b0fda73cf",
   "metadata": {},
   "source": [
    "##### 💾 Save grid as necdf\n",
    "This code creates a Netcdf file containing all grid data (geographic, topo-bathymetric, mask) in the format defined by the classes generated earlier in this notebook.   \n",
    "Then it saves it in the ouput repertory. If you want to edit bathymetry/Mask you can save it later on this notebook."
   ]
  },
  {
   "cell_type": "code",
   "execution_count": null,
   "id": "54cab58e-fe8b-4c37-9f5d-cc88866d9224",
   "metadata": {},
   "outputs": [],
   "source": [
    "CROCO.create_grid_nc(None, saved_config['Files']['output_file'], inputs, grid)"
   ]
  }
 ],
 "metadata": {
  "kernelspec": {
   "display_name": "Python 3 (ipykernel)",
   "language": "python",
   "name": "python3"
  },
  "language_info": {
   "codemirror_mode": {
    "name": "ipython",
    "version": 3
   },
   "file_extension": ".py",
   "mimetype": "text/x-python",
   "name": "python",
   "nbconvert_exporter": "python",
   "pygments_lexer": "ipython3",
   "version": "3.9.18"
  }
 },
 "nbformat": 4,
 "nbformat_minor": 5
}
