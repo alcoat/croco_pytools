{
 "cells": [
  {
   "cell_type": "markdown",
   "id": "87b9969c-dd7a-42ab-8df8-1a815de0184d",
   "metadata": {},
   "source": [
    "<center><img src=\"https://encrypted-tbn0.gstatic.com/images?q=tbn:ANd9GcQXnrruP7guibF61c4gOESBR2VhhqYmEjKin0yY9lrhCak3hIbXI0QDSlObO74xcBkjMw&usqp=CAU\"/></center>"
   ]
  },
  {
   "cell_type": "markdown",
   "id": "fa1454a4-fae8-4114-a512-ec10925a8029",
   "metadata": {},
   "source": [
    "# MAKE GRID - NOTEBOOK VERSION"
   ]
  },
  {
   "cell_type": "markdown",
   "id": "ab40d1c9-c8c0-4597-917c-cb8f970ffd32",
   "metadata": {},
   "source": [
    "<small>\n",
    "🔎 The current interface for creating grids is too heavy to load when the code is run remotely. The aim is to create a notebook(s) that can fulfill the role of the \"make_grid.py\" code and also edit the mask and bathymetry.\n",
    "<br>💡 This notebook is linked to the croco-ocean/croco_pytools' <a href= \"https://gitlab.inria.fr/croco-ocean/croco_pytools/-/issues/4\">ISSUE #4</a> located on the **croco-ocean INRIA's gitlab**\n",
    "<br>➡️ Notebook created by <a href=\"mailto:thibault.delahaye@ird.fr\">Thibault Delahaye</a> and based on the existing codes of pycrocotool\n",
    "<br>🌳 Developped on **notebook-grid-tools**'s branch, whose source is the main branch\n",
    "</small>"
   ]
  },
  {
   "cell_type": "markdown",
   "id": "8c046c08-91b5-40e5-bd3e-efe1adabf65f",
   "metadata": {},
   "source": [
    "---\n",
    "\n",
    "<div style=\"text-align: center; font-size: 0.9em; color: gray;\">\n",
    "  \n",
    "</div>\n",
    "\n",
    "---"
   ]
  },
  {
   "cell_type": "markdown",
   "id": "176b57a3-3415-47a3-af26-098497fef08e",
   "metadata": {},
   "source": [
    "## Table of contents 🔗\n",
    "\n",
    "1. [Code presentation 📖](#📖-Code-presentation)\n",
    "   - [💾 Datasets](#💾-Datasets)\n",
    "   - [⚙️ Requirements](#⚙️-Requirements)\n",
    "3. [CODE BODY 💻](#💻-CODE_BODY)\n",
    "   - [✅📋 Prerequisites](✅📋-Prerequisites)\n",
    "   - [✏️🔧 User's changes](#✏️🔧-User's-changes)\n",
    "   - [📏 Physical parameters](#📏-Physical-parameters)\n",
    "   - [🧩 Building the grid](#🧩-Building-the-grid)"
   ]
  },
  {
   "cell_type": "markdown",
   "id": "ac9d3820-6690-4d0c-8c65-63ca9797fec9",
   "metadata": {},
   "source": [
    "---\n",
    "\n",
    "<div style=\"text-align: center; font-size: 0.9em; color: gray;\">\n",
    "  \n",
    "</div>\n",
    "\n",
    "---"
   ]
  },
  {
   "cell_type": "markdown",
   "id": "1ccb190a-58a3-4760-a1fa-4fd424df8491",
   "metadata": {},
   "source": [
    "# 📖 Code presentation\n",
    "*Make sure to [build the croco_pyenv environment](https://croco-ocean.gitlabpages.inria.fr/croco_pytools/prepro/tuto.env.html) before using this notebook.*\n",
    "## 💾 Datasets\n",
    "\n",
    "Further Information: [CROCO OCEAN WEBSITE](http://www.croco-ocean.org)\n",
    "  \n",
    "*This file is part of CROCOTOOLS* 🐊\n",
    "\n",
    "**Create a CROCO grid file** 🌐   \n",
    "In the current state the script can handle:  "
   ]
  },
  {
   "cell_type": "markdown",
   "id": "436459d5-5d6d-4159-a3e8-63793a73b9fe",
   "metadata": {},
   "source": [
    "\n",
    "<table style=\"width: 100%; text-align: left; border-collapse: collapse;\">\n",
    "  <thead>\n",
    "    <tr>\n",
    "      <th style=\"border: 1px solid #ddd; padding: 8px; background-color: #f4f4f4;\">DATA</th>\n",
    "      <th style=\"border: 1px solid #ddd; padding: 8px; background-color: #f4f4f4;\">SOURCE</th>\n",
    "      <th style=\"border: 1px solid #ddd; padding: 8px; background-color: #f4f4f4;\">FILE EXTENSION</th>\n",
    "    </tr>\n",
    "  </thead>\n",
    "  <tbody>\n",
    "    <tr>\n",
    "      <td style=\"border: 1px solid #ddd; padding: 8px;\"><strong>Topo/Bathy</strong></td>\n",
    "      <td style=\"border: 1px solid #ddd; padding: 8px;\">etopo (5,2,1),<br>srtm30, gebco</td>\n",
    "      <td style=\"border: 1px solid #ddd; padding: 8px;\"><em>NetCDF</em></td>\n",
    "    </tr>\n",
    "    <tr>\n",
    "      <td style=\"border: 1px solid #ddd; padding: 8px;\"><strong>Coastline</strong></td>\n",
    "      <td style=\"border: 1px solid #ddd; padding: 8px;\">GSHHS</td>\n",
    "      <td style=\"border: 1px solid #ddd; padding: 8px;\"><em>shapefile</em></td>\n",
    "    </tr>\n",
    "  </tbody>\n",
    "</table>"
   ]
  },
  {
   "cell_type": "markdown",
   "id": "3a4aa6e3-a4d4-4a2d-a39f-5251cc058b0d",
   "metadata": {},
   "source": [
    "➡️ *To add a new dataset you just have to go into **Readers/topo_readers.py** and\n",
    "create a dictionnary with the names for lon,lat,topo in the dataset.\n",
    "At this time it only handles 1D lon/la*  \n",
    "➡️ *The script makes a grid with **mercator projection** centred at the equator\n",
    "before rotating the sphere to put the middle of the grid in tra_lon/tra_lat\n",
    "position.*  \n",
    "➡️ *Then, it reads topo's dataset and apply the desired smoothing\n",
    "The mask is generated using a shapefile (.shp. default is gshhs dataset)*  \n",
    "➡️ *Smoothing uses **fortran routines** for better performance*"
   ]
  },
  {
   "cell_type": "markdown",
   "id": "66f1824c-0d37-4bbe-bb4c-ac4ba1918e61",
   "metadata": {},
   "source": [
    "### ⚙️ Requirements\n",
    "➡️ Installing `ipympl` for interactive Plots :\n",
    "\n",
    "*To use **interactive plotting** features with the `%matplotlib widget` [magic command](#Magic-cells) in Jupyter Notebook or JupyterLab, you need to install the `ipympl` package. This package enables Matplotlib to render interactive plots using Jupyter widgets.*\n",
    "\n",
    " **Run the following command** in a code cell or in your notebook to install `ipympl`:\n",
    "   ```python\n",
    "   pip install ipympl\n"
   ]
  },
  {
   "cell_type": "markdown",
   "id": "1cb43823-12d0-4247-a55c-bcc359acf55c",
   "metadata": {},
   "source": [
    "---\n",
    "\n",
    "<div style=\"text-align: center; font-size: 0.9em; color: gray;\">\n",
    "  \n",
    "</div>\n",
    "\n",
    "---"
   ]
  },
  {
   "cell_type": "markdown",
   "id": "a4a01ea4-e39b-4161-b09a-112737e13297",
   "metadata": {},
   "source": [
    "# 💻 CODE_BODY"
   ]
  },
  {
   "cell_type": "markdown",
   "id": "9dc3559e-8784-4e2a-975a-261c6446c11e",
   "metadata": {},
   "source": [
    "## ✅📋 Prerequisites"
   ]
  },
  {
   "cell_type": "markdown",
   "id": "28f97bc8-6d0d-4aff-865d-14cbb610ea8c",
   "metadata": {},
   "source": [
    "### Magic cells"
   ]
  },
  {
   "cell_type": "markdown",
   "id": "a8c781ea-0224-45c4-9f65-d7a97bfa8417",
   "metadata": {},
   "source": [
    "[Magic cell](https://ipython.readthedocs.io/en/stable/interactive/magics.html) ⚡🐚 dedicated to the activation of backend environments"
   ]
  },
  {
   "cell_type": "code",
   "execution_count": 33,
   "id": "09cd286b-1fc4-42af-86ba-c284446fc938",
   "metadata": {},
   "outputs": [
    {
     "name": "stdout",
     "output_type": "stream",
     "text": [
      "The autoreload extension is already loaded. To reload it, use:\n",
      "  %reload_ext autoreload\n"
     ]
    }
   ],
   "source": [
    "#Allows widget interactivity with user\n",
    "%matplotlib widget    \n",
    "%load_ext autoreload\n",
    "%autoreload 2"
   ]
  },
  {
   "cell_type": "markdown",
   "id": "2839015f-5bf7-410e-8769-5881e9b80d24",
   "metadata": {},
   "source": [
    "### Dependencies"
   ]
  },
  {
   "cell_type": "code",
   "execution_count": 115,
   "id": "b0f4fba8-c6b8-461b-bc75-ec04901dd386",
   "metadata": {},
   "outputs": [],
   "source": [
    "import numpy as np\n",
    "import os,sys\n",
    "os.environ['ETS_TOOLKIT'] = 'wx'\n",
    "sys.path.append(\"./Modules/\")\n",
    "sys.path.append(\"./Readers/\")\n",
    "sys.path.append(\"./Modules/graphicUI_tools/\")\n",
    "from main_window import *\n",
    "import tools_make_grid\n",
    "#----------------------------------------------#\n",
    "from tools_make_grid import inputs,inputs_smth,EasyGrid,GetMask,GetTopo\n",
    "from croco_class import CROCO\n",
    "from main_window import Outputs\n",
    "#----------------------------------------------#\n",
    "from Modules.map_tools.map_tools import plot_grid, plot_outline, plot_topo\n",
    "from scipy.spatial import distance\n",
    "import matplotlib.pyplot as plt\n",
    "import ipywidgets as widgets\n",
    "from ipywidgets import interact_manual"
   ]
  },
  {
   "cell_type": "markdown",
   "id": "d42cbe91-6ca0-45f1-9ecd-998697efee0a",
   "metadata": {},
   "source": [
    "## ✏️🔧 User's changes"
   ]
  },
  {
   "cell_type": "markdown",
   "id": "ed7a460c-1778-4cce-a828-e2cfb06caa9c",
   "metadata": {},
   "source": [
    "### Grid's param"
   ]
  },
  {
   "cell_type": "markdown",
   "id": "be6e9e27-f3fc-40d4-a24f-11c70a57c5e5",
   "metadata": {},
   "source": [
    "#### Center's position (degrees) 📍"
   ]
  },
  {
   "cell_type": "code",
   "execution_count": 26,
   "id": "14141b45-c8a3-407c-b900-6fd2dad4d483",
   "metadata": {},
   "outputs": [],
   "source": [
    "tra_lon =  15 # Longitude of the grid center \n",
    "tra_lat = -32 # Latitude of the grid center"
   ]
  },
  {
   "cell_type": "markdown",
   "id": "4a7d6e7a-2686-493b-9502-01aad800f24b",
   "metadata": {},
   "source": [
    "#### Grid extent (km) and resolution"
   ]
  },
  {
   "cell_type": "code",
   "execution_count": 27,
   "id": "8c06c464-11bc-4115-86ba-a6ceb9d23d6d",
   "metadata": {},
   "outputs": [],
   "source": [
    "# Grid size [km]\n",
    "size_x = 1556\n",
    "size_y = 1334\n",
    "\n",
    "# Grid number of points \n",
    "# Note: grid resolution is grid size / number of points\n",
    "nx = 39\n",
    "ny = 40"
   ]
  },
  {
   "cell_type": "markdown",
   "id": "66a22600-d043-4e55-897a-70b7d24fdb94",
   "metadata": {},
   "source": [
    "#### Grid rotation (degrees)"
   ]
  },
  {
   "cell_type": "code",
   "execution_count": 28,
   "id": "b7126091-9ec0-4686-89d3-80c2f7433e32",
   "metadata": {},
   "outputs": [],
   "source": [
    "rot = 0"
   ]
  },
  {
   "cell_type": "markdown",
   "id": "31f30b80-b488-4394-9018-39d9c8728865",
   "metadata": {},
   "source": [
    "### Smoothing settings"
   ]
  },
  {
   "cell_type": "markdown",
   "id": "693269f3-6b82-4046-988b-4a3ecb2144e9",
   "metadata": {},
   "source": [
    "See [online documentation](https://croco-ocean.gitlabpages.inria.fr/croco_doc/model/model.grid.html) for more details 📚"
   ]
  },
  {
   "cell_type": "code",
   "execution_count": 37,
   "id": "6e323bc9-0b72-4fe1-8d49-dfe0bf73017a",
   "metadata": {},
   "outputs": [],
   "source": [
    "hmin        = 50    # Minimum depth [m]\n",
    "hmax        = 6000  # Maximum depth [m]\n",
    "interp_rad  = 2     # Interpolation radius in number of points (usually between 2 and 8)\n",
    "rfact       = 0.2   # Maximum r-fact to reach (the lower it is, the smoother it will be)    \n",
    "smooth_meth = 'lsmooth' # Smoothing method ('smooth', 'lsmooth', 'lsmooth_legacy', 'lsmooth2', 'lsmooth1', 'cond_rx0_topo') "
   ]
  },
  {
   "cell_type": "markdown",
   "id": "db21c4d0-5be6-41d7-9408-8fe1c66c0211",
   "metadata": {},
   "source": [
    "### Paths"
   ]
  },
  {
   "cell_type": "markdown",
   "id": "e49af12f-cf12-47da-8ee6-76ef8b901e5f",
   "metadata": {},
   "source": [
    "#### Inputs"
   ]
  },
  {
   "cell_type": "markdown",
   "id": "ab1b1eaf-033a-486d-8e07-2503a658fb77",
   "metadata": {},
   "source": [
    "Topo/bathy file ⛰️ :"
   ]
  },
  {
   "cell_type": "code",
   "execution_count": 42,
   "id": "c0a3a066-a7b1-4d64-b9d6-008aeef79ee9",
   "metadata": {},
   "outputs": [],
   "source": [
    "topofile = '../../DATASETS_CROCOTOOLS/Topo/etopo2.nc'"
   ]
  },
  {
   "cell_type": "markdown",
   "id": "92d90000-0140-43f1-86db-6286c31248ce",
   "metadata": {},
   "source": [
    "Coastline file (for the mask) 🏖️ :"
   ]
  },
  {
   "cell_type": "code",
   "execution_count": 43,
   "id": "0004c9e1-e5d3-4be6-b058-3337f4621515",
   "metadata": {},
   "outputs": [],
   "source": [
    "shp_file = '../../DATASETS_CROCOTOOLS/gshhs/GSHHS_shp/i/GSHHS_i_L1.shp'"
   ]
  },
  {
   "cell_type": "markdown",
   "id": "ea62d575-34cc-40b0-9097-3a753bae8e90",
   "metadata": {},
   "source": [
    "#### Output(s)"
   ]
  },
  {
   "cell_type": "markdown",
   "id": "d7d505d0-75ce-4033-9da5-a1a6a2f44f57",
   "metadata": {},
   "source": [
    "Output grid file 🔲:"
   ]
  },
  {
   "cell_type": "code",
   "execution_count": 41,
   "id": "cf9309d5-f57b-4470-8145-8d4d003f046b",
   "metadata": {},
   "outputs": [],
   "source": [
    "output_file=\"../../CROCO_FILES/croco_grd.nc\"\n"
   ]
  },
  {
   "cell_type": "markdown",
   "id": "20aefd15-3336-4a49-8e14-27f219378fda",
   "metadata": {},
   "source": [
    "### Mask"
   ]
  },
  {
   "cell_type": "markdown",
   "id": "54ada7ac-4904-4e41-b6be-7d54b7f45f75",
   "metadata": {},
   "source": [
    "Single Connect (Masks water not connected to the main water body) 🎭:"
   ]
  },
  {
   "cell_type": "code",
   "execution_count": 44,
   "id": "d1fecbd5-67fe-4e23-8e9a-3baeb3f04556",
   "metadata": {},
   "outputs": [],
   "source": [
    "sgl_connect=[False,20,20] # True or False, point indices inside the main water body"
   ]
  },
  {
   "cell_type": "markdown",
   "id": "05c757bb-3e4c-44ce-b92b-cb870e5b3e8a",
   "metadata": {},
   "source": [
    "## 📏 Physical parameters"
   ]
  },
  {
   "cell_type": "code",
   "execution_count": 36,
   "id": "cd69daf2-02e7-477c-b09d-4dd868fcbcb3",
   "metadata": {},
   "outputs": [],
   "source": [
    "r_earth=6371315 # Mean earth radius in meter"
   ]
  },
  {
   "cell_type": "markdown",
   "id": "d1f178a7-a230-488f-b1e4-0de11ef740ec",
   "metadata": {},
   "source": [
    "## 🧩 Building the grid"
   ]
  },
  {
   "cell_type": "markdown",
   "id": "e7224364-a0e9-49b5-861b-86d23d2f5cb8",
   "metadata": {},
   "source": [
    "### Creating classes for inputs/outputs"
   ]
  },
  {
   "cell_type": "code",
   "execution_count": 49,
   "id": "f0a7e6a4-5c62-4041-8d1d-db470e5300df",
   "metadata": {},
   "outputs": [],
   "source": [
    "inputs=inputs(tra_lon,tra_lat,size_x,size_y,nx,ny,rot)\n",
    "inputs_smth=inputs_smth(hmin,hmax,interp_rad,rfact,smooth_meth)\n",
    "outputs=Outputs()"
   ]
  },
  {
   "cell_type": "markdown",
   "id": "dde8790c-8661-4a73-8bdd-dad1aae919fa",
   "metadata": {},
   "source": [
    "### Create lon/lat grid "
   ]
  },
  {
   "cell_type": "code",
   "execution_count": 58,
   "id": "3c4aeb99-ddac-4932-b41e-9f82e1e90137",
   "metadata": {},
   "outputs": [
    {
     "data": {
      "text/plain": [
       "<main_window.Outputs at 0x7d7b41b85db0>"
      ]
     },
     "execution_count": 58,
     "metadata": {},
     "output_type": "execute_result"
    }
   ],
   "source": [
    "EasyGrid.easygrid(None,inputs,outputs)"
   ]
  },
  {
   "cell_type": "markdown",
   "id": "7b9859bc-47ee-4ba7-b9cf-6fc6e5fe23c5",
   "metadata": {},
   "source": [
    "### Building the mask and smoothing topo"
   ]
  },
  {
   "cell_type": "markdown",
   "id": "f7e9e559-0ac6-4d2a-a28a-79dd68546787",
   "metadata": {},
   "source": [
    "*Tip: if the ouput is too long 🖱️ right click on the cell annd **\"Enable scrolling for outputs\"***"
   ]
  },
  {
   "cell_type": "code",
   "execution_count": 61,
   "id": "1a00b52d-3f32-4e42-80c9-a4e16ede55af",
   "metadata": {
    "scrolled": true
   },
   "outputs": [
    {
     "name": "stdout",
     "output_type": "stream",
     "text": [
      "Reading topography file: ../../DATASETS_CROCOTOOLS/Topo/etopo2.nc\n",
      "Single region dataset imin/imax= 5534 6165\n",
      "Bounding indices of the relevant part to be extracted from the entire dataset:\n",
      " imin,imax = 5534 6165 out of 10800 jmin,jmax = 1528 1963 out of 5400\n",
      "Interpolating topography to CROCO grid\n",
      "\n",
      " Geographical extents of the dataset:\n",
      "Finished interpolating\n",
      "    Longitude min/max =    4.466667   25.500000\n",
      "    Latitude  min/max =  -39.066666  -24.566668\n",
      "\n",
      " Geographical extents of requested ROMS grid:\n",
      "    Longitude min/max =    4.511359   25.488641\n",
      "    Latitude  min/max =  -39.031434  -24.631671\n",
      "\n",
      " Bounding indices for the portion of dataset covering the entire model grid:\n",
      " iwest,ieast =    2   631 out of   632 jsouth,jnorth =    2   434 out of   436\n",
      "\n",
      " Averaging window width = 2.00000 in grid spaces.\n",
      "\n",
      ".........\n",
      "\n",
      " Wall Clock time spent to compute hraw    0.04 sec running   1 threads.\n",
      " enter smooth_thread r_max = 0.2000000  iters_cond =  500  iters_lin =    0\n",
      " set_tiles: nx =  40 ny =  39 numthreads =  1 nsub_x =  1 nsub_y =  3\n",
      "  nsub_x =   1  nsub_y =   3  isize =  40  jsize =  13  trd =   0\n",
      "\n",
      " iter  i,jrx_max rx_max              i,jry_max ry_max\n",
      " ------------------------------------------------------------------\n",
      "    0     5   34 rx_max = 0.5929277    13   28 ry_max = 0.7073753\n",
      "    1     5   34 rx_max = 0.5117824    13   28 ry_max = 0.5906621\n",
      "    2     5   34 rx_max = 0.4668393    14   27 ry_max = 0.5151315\n",
      "    3     5   34 rx_max = 0.4369283    14   27 ry_max = 0.4855688\n",
      "    4     5   34 rx_max = 0.4127296    14   27 ry_max = 0.4599162\n",
      "    5     5   34 rx_max = 0.3918576    14   27 ry_max = 0.4381864\n",
      "    6     5   34 rx_max = 0.3741183    14   27 ry_max = 0.4192397\n",
      "    7     5   34 rx_max = 0.3592973    14   27 ry_max = 0.4022505\n",
      "    8     5   34 rx_max = 0.3469263    14   27 ry_max = 0.3870664\n",
      "    9     5   34 rx_max = 0.3364990    14   27 ry_max = 0.3733001\n",
      "   10    10   39 rx_max = 0.3296792    14   27 ry_max = 0.3608013\n",
      "   11    10   39 rx_max = 0.3236327    14   27 ry_max = 0.3494452\n",
      "   12    10   39 rx_max = 0.3179583    14   27 ry_max = 0.3391273\n",
      "   13    10   39 rx_max = 0.3126166    14   27 ry_max = 0.3297516\n",
      "   14    10   39 rx_max = 0.3075939    14   27 ry_max = 0.3212268\n",
      "   15    10   39 rx_max = 0.3028673    14   27 ry_max = 0.3134406\n",
      "   16    10   39 rx_max = 0.2984092    14   27 ry_max = 0.3062999\n",
      "   17    10   39 rx_max = 0.2941945    14   27 ry_max = 0.2997369\n",
      "   18    10   39 rx_max = 0.2902021    14   27 ry_max = 0.2936938\n",
      "   19    10   39 rx_max = 0.2864324    14   27 ry_max = 0.2881181\n",
      "   20    10   39 rx_max = 0.2829485    33   20 ry_max = 0.2831569\n",
      "   21    10   39 rx_max = 0.2797684    33   20 ry_max = 0.2810933\n",
      "   22    10   39 rx_max = 0.2768088    33   20 ry_max = 0.2790294\n",
      "   23    10   39 rx_max = 0.2738886    33   20 ry_max = 0.2769948\n",
      "   24    10   39 rx_max = 0.2710157    33   20 ry_max = 0.2750106\n",
      "   25    10   39 rx_max = 0.2682310    33   20 ry_max = 0.2730867\n",
      "   26    10   39 rx_max = 0.2655537    33   20 ry_max = 0.2712234\n",
      "   27    10   39 rx_max = 0.2629908    33   20 ry_max = 0.2694147\n",
      "   28    10   39 rx_max = 0.2605428    33   20 ry_max = 0.2676578\n",
      "   29    10   39 rx_max = 0.2582066    33   19 ry_max = 0.2660014\n",
      "   30    10   39 rx_max = 0.2559773    33   19 ry_max = 0.2644446\n",
      "   31    10   39 rx_max = 0.2538490    33   19 ry_max = 0.2629292\n",
      "   32    10   39 rx_max = 0.2518161    33   19 ry_max = 0.2614661\n",
      "   33    10   39 rx_max = 0.2498733    33   19 ry_max = 0.2600603\n",
      "   34    10   39 rx_max = 0.2480165    33   19 ry_max = 0.2587132\n",
      "   35    10   39 rx_max = 0.2462406    33   19 ry_max = 0.2574239\n",
      "   36    10   39 rx_max = 0.2445407    33   19 ry_max = 0.2561897\n",
      "   37    10   39 rx_max = 0.2429124    33   19 ry_max = 0.2550065\n",
      "   38    10   39 rx_max = 0.2413513    33   19 ry_max = 0.2538675\n",
      "   39    10   39 rx_max = 0.2398540    33   19 ry_max = 0.2527675\n",
      "   40    10   39 rx_max = 0.2384176    33   19 ry_max = 0.2517025\n",
      "   41    10   39 rx_max = 0.2370399    33   19 ry_max = 0.2506693\n",
      "   42    10   39 rx_max = 0.2357190    33   19 ry_max = 0.2496651\n",
      "   43    10   39 rx_max = 0.2344528    33   19 ry_max = 0.2486878\n",
      "   44     9   39 rx_max = 0.2333674    33   19 ry_max = 0.2477355\n",
      "   45     9   39 rx_max = 0.2323407    33   19 ry_max = 0.2468067\n",
      "   46     9   39 rx_max = 0.2313528    33   19 ry_max = 0.2458999\n",
      "   47     9   39 rx_max = 0.2304011    33   19 ry_max = 0.2450140\n",
      "   48     9   39 rx_max = 0.2294832    33   19 ry_max = 0.2441480\n",
      "   49     9   39 rx_max = 0.2285969    33   19 ry_max = 0.2433010\n",
      "   50     9   39 rx_max = 0.2277403    33   19 ry_max = 0.2424721\n",
      "   51     9   39 rx_max = 0.2269117    33   19 ry_max = 0.2416608\n",
      "   52     9   39 rx_max = 0.2261093    33   19 ry_max = 0.2408662\n",
      "   53     9   39 rx_max = 0.2253318    33   19 ry_max = 0.2400880\n",
      "   54     9   39 rx_max = 0.2245780    33   19 ry_max = 0.2393255\n",
      "   55     9   39 rx_max = 0.2238466    33   19 ry_max = 0.2385782\n",
      "   56     9   39 rx_max = 0.2231368    33   19 ry_max = 0.2378458\n",
      "   57     9   39 rx_max = 0.2224476    33   19 ry_max = 0.2371278\n",
      "   58     9   39 rx_max = 0.2217781    33   19 ry"
     ]
    },
    {
     "data": {
      "text/plain": [
       "<main_window.Outputs at 0x7d7b41b85db0>"
      ]
     },
     "execution_count": 61,
     "metadata": {},
     "output_type": "execute_result"
    },
    {
     "name": "stdout",
     "output_type": "stream",
     "text": [
      "_max = 0.2364239\n",
      "   59     9   39 rx_max = 0.2211276    33   19 ry_max = 0.2357336\n",
      "   60     9   39 rx_max = 0.2204953    33   19 ry_max = 0.2350567\n",
      "   61     9   39 rx_max = 0.2198807    33   19 ry_max = 0.2343929\n",
      "   62     9   39 rx_max = 0.2192831    33   19 ry_max = 0.2337418\n",
      "   63     9   39 rx_max = 0.2187019    33   19 ry_max = 0.2331031\n",
      "   64     9   39 rx_max = 0.2181367    33   19 ry_max = 0.2324766\n",
      "   65     9   39 rx_max = 0.2175870    33   19 ry_max = 0.2318621\n",
      "   66     9   39 rx_max = 0.2170524    33   19 ry_max = 0.2312592\n",
      "   67     9   39 rx_max = 0.2165328    33   19 ry_max = 0.2306678\n",
      "   68     9   39 rx_max = 0.2160282    33   19 ry_max = 0.2300876\n",
      "   69     9   39 rx_max = 0.2155385    33   19 ry_max = 0.2295184\n",
      "   70     9   39 rx_max = 0.2150635    33   19 ry_max = 0.2289599\n",
      "   71     9   39 rx_max = 0.2146030    33   19 ry_max = 0.2284120\n",
      "   72     9   39 rx_max = 0.2141567    33   19 ry_max = 0.2278744\n",
      "   73     9   39 rx_max = 0.2137242    33   19 ry_max = 0.2273470\n",
      "   74     9   39 rx_max = 0.2133052    33   19 ry_max = 0.2268295\n",
      "   75     9   39 rx_max = 0.2128993    33   19 ry_max = 0.2263218\n",
      "   76     9   39 rx_max = 0.2125060    33   19 ry_max = 0.2258237\n",
      "   77     9   39 rx_max = 0.2121248    33   19 ry_max = 0.2253349\n",
      "   78     9   39 rx_max = 0.2117552    33   19 ry_max = 0.2248554\n",
      "   79     9   39 rx_max = 0.2113967    33   19 ry_max = 0.2243849\n",
      "   80     9   39 rx_max = 0.2110489    33   19 ry_max = 0.2239233\n",
      "   81     9   39 rx_max = 0.2107113    33   19 ry_max = 0.2234704\n",
      "   82     9   39 rx_max = 0.2103835    33   19 ry_max = 0.2230260\n",
      "   83     9   39 rx_max = 0.2100650    33   19 ry_max = 0.2225899\n",
      "   84     9   39 rx_max = 0.2097554    33   19 ry_max = 0.2221622\n",
      "   85     9   39 rx_max = 0.2094545    33   19 ry_max = 0.2217424\n",
      "   86     9   39 rx_max = 0.2091618    33   19 ry_max = 0.2213306\n",
      "   87     9   39 rx_max = 0.2088770    33   19 ry_max = 0.2209266\n",
      "   88     9   39 rx_max = 0.2085999    33   19 ry_max = 0.2205301\n",
      "   89     9   39 rx_max = 0.2083300    33   19 ry_max = 0.2201412\n",
      "   90     9   39 rx_max = 0.2080672    33   19 ry_max = 0.2197596\n",
      "   91     9   39 rx_max = 0.2078111    33   19 ry_max = 0.2193851\n",
      "   92     8   39 rx_max = 0.2075757    33   19 ry_max = 0.2190178\n",
      "   93     8   39 rx_max = 0.2073524    33   19 ry_max = 0.2186574\n",
      "   94     8   39 rx_max = 0.2071338    33   19 ry_max = 0.2183037\n",
      "   95     8   39 rx_max = 0.2069197    33   19 ry_max = 0.2179568\n",
      "   96     8   39 rx_max = 0.2067101    33   19 ry_max = 0.2176164\n",
      "   97     8   39 rx_max = 0.2065049    33   19 ry_max = 0.2172824\n",
      "   98     8   39 rx_max = 0.2063041    32   19 ry_max = 0.2169656\n",
      "   99     8   39 rx_max = 0.2061074    32   19 ry_max = 0.2167094\n",
      "  100     8   39 rx_max = 0.2059148    32   19 ry_max = 0.2164572\n",
      "  101     8   39 rx_max = 0.2057263    32   19 ry_max = 0.2162088\n",
      "  102     8   39 rx_max = 0.2055417    32   19 ry_max = 0.2159643\n",
      "  103     8   39 rx_max = 0.2053610    32   19 ry_max = 0.2157234\n",
      "  104     8   39 rx_max = 0.2051841    32   19 ry_max = 0.2154862\n",
      "  105     8   39 rx_max = 0.2050108    32   19 ry_max = 0.2152527\n",
      "  106     8   39 rx_max = 0.2048412    32   19 ry_max = 0.2150227\n",
      "  107     8   39 rx_max = 0.2046751    32   19 ry_max = 0.2147961\n",
      "  108     8   39 rx_max = 0.2045125    32   19 ry_max = 0.2145731\n",
      "  109     8   39 rx_max = 0.2043533    32   19 ry_max = 0.2143534\n",
      "  110     8   39 rx_max = 0.2041975    32   19 ry_max = 0.2141370\n",
      "  111     8   39 rx_max = 0.2040450    32   19 ry_max = 0.2139239\n",
      "  112     8   39 rx_max = 0.2038959    32   19 ry_max = 0.2137141\n",
      "  113     8   39 rx_max = 0.2037499    32   19 ry_max = 0.2135074\n",
      "  114     8   39 rx_max = 0.2036071    32   19 ry_max = 0.2133039\n",
      "  115     8   39 rx_max = 0.2034675    32   19 ry_max = 0.2131034\n",
      "  116     8   39 rx_max = 0.2033312    32   19 ry_max = 0.2129060\n",
      "  117     8   39 rx_max = 0.2031981    32   19 ry_max = 0.2127115\n",
      "  118     8   39 rx_max = 0.2030681    32   19 ry_max = 0.2125200\n",
      "  119     8   39 rx_max = 0.2029412    32   19 ry_max = 0.2123314\n",
      "  120     8   39 rx_max = 0.2028174    32   19 ry_max = 0.2121457\n",
      "  121     8   39 rx_max = 0.2026965    32   19 ry_max = 0.2119627\n",
      "  122     8   39 rx_max = 0.2025784    32   19 ry_max = 0.2117825\n",
      "  123     8   39 rx_max = 0.2024631    32   19 ry_max = 0.2116050\n",
      "  124     8   39 rx_max = 0.2023505    32   19 ry_max = 0.2114302\n",
      "  125     8   39 rx_max = 0.2022406    32   19 ry_max = 0.2112581\n",
      "  126     8   39 rx_max = 0.2021334    32   19 ry_max = 0.2110885\n",
      "  127     8   39 rx_max = 0.2020289    32   19 ry_max = 0.2109215\n",
      "  128     8   39 rx_max = 0.2019270    32   19 ry_max = 0.2107570\n",
      "  129     8   39 rx_max = 0.2018274    32   19 ry_max = 0.2105950\n",
      "  130     8   39 rx_max = 0.2017302    32   19 ry_max = 0.2104355\n",
      "  131     8   39 rx_max = 0.2016351    32   19 ry_max = 0.2102783\n",
      "  132     8   39 rx_max = 0.2015421    32   19 ry_max = 0.2101235\n",
      "  133     8   39 rx_max = 0.2014513    32   19 ry_max = 0.2099711\n",
      "  134     8   39 rx_max = 0.2013626    32   19 ry_max = 0.2098209\n",
      "  135     8   39 rx_max = 0.2012758    32   19 ry_max = 0.2096730\n",
      "  136     8   39 rx_max = 0.2011909    32   19 ry_max = 0.2095274\n",
      "  137     8   39 rx_max = 0.2011078    32   19 ry_max = 0.2093839\n",
      "  138     8   39 rx_max = 0.2010262    32   19 ry_max = 0.2092426\n",
      "  139     8   39 rx_max = 0.2009461    32   19 ry_max = 0.2091034\n",
      "  140     8   39 rx_max = 0.2008674    32   19 ry_max = 0.2089663\n",
      "  141     8   39 rx_max = 0.2007901    32   19 ry_max = 0.2088313\n",
      "  142     8   39 rx_max = 0.2007142    32   19 ry_max = 0.2086983\n",
      "  143     8   39 rx_max = 0.2006398    32   19 ry_max = 0.2085673\n",
      "  144     8   39 rx_max = 0.2005679    32   19 ry_max = 0.2084383\n",
      "  145     8   39 rx_max = 0.2004989    32   19 ry_max = 0.2083113\n",
      "  146     8   39 rx_max = 0.2004329    32   19 ry_max = 0.2081861\n",
      "  147     8   39 rx_max = 0.2003699    32   19 ry_max = 0.2080628\n",
      "  148     8   39 rx_max = 0.2003098    32   19 ry_max = 0.2079414\n",
      "  149     3   34 rx_max = 0.2002605    32   19 ry_max = 0.2078218\n",
      "  150     3   34 rx_max = 0.2002386    32   19 ry_max = 0.2077040\n",
      "  151     3   34 rx_max = 0.2002184    32   19 ry_max = 0.2075880\n",
      "  152     3   34 rx_max = 0.2001998    32   19 ry_max = 0.2074738\n",
      "  153     3   34 rx_max = 0.2001828    32   19 ry_max = 0.2073612\n",
      "  154     3   34 rx_max = 0.2001671    32   19 ry_max = 0.2072504\n",
      "  155     4   33 rx_max = 0.2001581    32   19 ry_max = 0.2071412\n",
      "  156     4   33 rx_max = 0.2001506    32   19 ry_max = 0.2070336\n",
      "  157     4   33 rx_max = 0.2001434    32   19 ry_max = 0.2069277\n",
      "  158     4   33 rx_max = 0.2001365    32   19 ry_max = 0.2068234\n",
      "  159     4   33 rx_max = 0.2001300    32   19 ry_max = 0.2067206\n",
      "  160     4   33 rx_max = 0.2001238    32   19 ry_max = 0.2066194\n",
      "  161     4   33 rx_max = 0.2001179    32   19 ry_max = 0.2065197\n",
      "  162     4   33 rx_max = 0.2001123    32   19 ry_max = 0.2064215\n",
      "  163     4   33 rx_max = 0.2001069    32   19 ry_max = 0.2063248\n",
      "  164     4   33 rx_max = 0.2001018    32   19 ry_max = 0.2062296\n",
      "  165     4   33 rx_max = 0.2000969    32   19 ry_max = 0.2061357\n",
      "  166     4   33 rx_max = 0.2000923    32   19 ry_max = 0.2060433\n",
      "  167     4   33 rx_max = 0.2000879    32   19 ry_max = 0.2059523\n",
      "  168     4   33 rx_max = 0.2000837    32   19 ry_max = 0.2058627\n",
      "  169     4   33 rx_max = 0.2000797    32   19 ry_max = 0.2057744\n",
      "  170     4   33 rx_max = 0.2000759    32   19 ry_max = 0.2056874\n",
      "  171     4   33 rx_max = 0.2000723    32   19 ry_max = 0.2056017\n",
      "  172     4   33 rx_max = 0.2000688    32   19 ry_max = 0.2055174\n",
      "  173     4   33 rx_max = 0.2000655    32   19 ry_max = 0.2054343\n",
      "  174     4   33 rx_max = 0.2000624    32   19 ry_max = 0.2053524\n",
      "  175     4   33 rx_max = 0.2000594    32   19 ry_max = 0.2052718\n",
      "  176     4   33 rx_max = 0.2000566    32   19 ry_max = 0.2051924\n",
      "  177     4   33 rx_max = 0.2000539    32   19 ry_max = 0.2051142\n",
      "  178     4   33 rx_max = 0.2000513    32   19 ry_max = 0.2050371\n",
      "  179     4   33 rx_max = 0.2000489    32   19 ry_max = 0.2049613\n",
      "  180     4   33 rx_max = 0.2000465    32   19 ry_max = 0.2048865\n",
      "  181     4   33 rx_max = 0.2000443    32   19 ry_max = 0.2048129\n",
      "  182     4   33 rx_max = 0.2000422    32   19 ry_max = 0.2047404\n",
      "  183     4   33 rx_max = 0.2000402    32   19 ry_max = 0.2046690\n",
      "  184     4   33 rx_max = 0.2000383    32   19 ry_max = 0.2045987\n",
      "  185     4   33 rx_max = 0.2000364    32   19 ry_max = 0.2045294\n",
      "  186     4   33 rx_max = 0.2000347    32   19 ry_max = 0.2044612\n",
      "  187     4   33 rx_max = 0.2000330    32   19 ry_max = 0.2043940\n",
      "  188     4   33 rx_max = 0.2000315    32   19 ry_max = 0.2043278\n",
      "  189     4   33 rx_max = 0.2000300    32   19 ry_max = 0.2042626\n",
      "  190     4   33 rx_max = 0.2000285    32   19 ry_max = 0.2041984\n",
      "  191     4   33 rx_max = 0.2000272    32   19 ry_max = 0.2041351\n",
      "  192     4   33 rx_max = 0.2000259    32   19 ry_max = 0.2040728\n",
      "  193     4   33 rx_max = 0.2000246    32   19 ry_max = 0.2040115\n",
      "  194     4   33 rx_max = 0.2000235    32   19 ry_max = 0.2039510\n",
      "  195     4   33 rx_max = 0.2000223    32   19 ry_max = 0.2038915\n",
      "  196     4   33 rx_max = 0.2000213    32   19 ry_max = 0.2038329\n",
      "  197     4   33 rx_max = 0.2000203    32   19 ry_max = 0.2037752\n",
      "  198     4   33 rx_max = 0.2000193    32   19 ry_max = 0.2037183\n",
      "  199     4   33 rx_max = 0.2000184    32   19 ry_max = 0.2036623\n",
      "  200     4   33 rx_max = 0.2000175    32   19 ry_max = 0.2036071\n",
      "  201     4   33 rx_max = 0.2000167    32   19 ry_max = 0.2035527\n",
      "  202     4   33 rx_max = 0.2000159    32   19 ry_max = 0.2034992\n",
      "  203     4   33 rx_max = 0.2000151    32   19 ry_max = 0.2034465\n",
      "  204     4   33 rx_max = 0.2000144    32   19 ry_max = 0.2033946\n",
      "  205     4   33 rx_max = 0.2000137    32   19 ry_max = 0.2033434\n",
      "  206     4   33 rx_max = 0.2000130    32   19 ry_max = 0.2032930\n",
      "  207     4   33 rx_max = 0.2000124    32   19 ry_max = 0.2032434\n",
      "  208     4   33 rx_max = 0.2000118    32   19 ry_max = 0.2031946\n",
      "  209     4   33 rx_max = 0.2000113    32   19 ry_max = 0.2031464\n",
      "  210     4   33 rx_max = 0.2000107    32   19 ry_max = 0.2030990\n",
      "  211     4   33 rx_max = 0.2000102    32   19 ry_max = 0.2030523\n",
      "  212     4   33 rx_max = 0.2000097    32   19 ry_max = 0.2030063\n",
      "  213     4   33 rx_max = 0.2000093    32   19 ry_max = 0.2029610\n",
      "  214     4   33 rx_max = 0.2000088    32   19 ry_max = 0.2029164\n",
      "  215     4   33 rx_max = 0.2000084    32   19 ry_max = 0.2028725\n",
      "  216     4   33 rx_max = 0.2000080    32   19 ry_max = 0.2028292\n",
      "  217     4   33 rx_max = 0.2000076    32   19 ry_max = 0.2027866\n",
      "  218     4   33 rx_max = 0.2000073    32   19 ry_max = 0.2027446\n",
      "  219     4   33 rx_max = 0.2000069    32   19 ry_max = 0.2027032\n",
      "  220     4   33 rx_max = 0.2000066    32   19 ry_max = 0.2026625\n",
      "  221     4   33 rx_max = 0.2000063    32   19 ry_max = 0.2026224\n",
      "  222     4   33 rx_max = 0.2000060    32   19 ry_max = 0.2025828\n",
      "  223     4   33 rx_max = 0.2000057    32   19 ry_max = 0.2025439\n",
      "  224     4   33 rx_max = 0.2000054    32   19 ry_max = 0.2025056\n",
      "  225     4   33 rx_max = 0.2000051    32   19 ry_max = 0.2024678\n",
      "  226     4   33 rx_max = 0.2000049    32   19 ry_max = 0.2024306\n",
      "  227     4   33 rx_max = 0.2000047    32   19 ry_max = 0.2023940\n",
      "  228     4   33 rx_max = 0.2000044    32   19 ry_max = 0.2023579\n",
      "  229     4   33 rx_max = 0.2000042    32   19 ry_max = 0.2023224\n",
      "  230     4   33 rx_max = 0.2000040    32   19 ry_max = 0.2022874\n",
      "  231     4   33 rx_max = 0.2000038    32   19 ry_max = 0.2022529\n",
      "  232     4   33 rx_max = 0.2000037    32   19 ry_max = 0.2022190\n",
      "  233     4   33 rx_max = 0.2000035    32   19 ry_max = 0.2021855\n",
      "  234     4   33 rx_max = 0.2000033    32   19 ry_max = 0.2021526\n",
      "  235     4   33 rx_max = 0.2000032    32   19 ry_max = 0.2021202\n",
      "  236     4   33 rx_max = 0.2000030    32   19 ry_max = 0.2020882\n",
      "  237     4   33 rx_max = 0.2000029    32   19 ry_max = 0.2020567\n",
      "  238     4   33 rx_max = 0.2000027    32   19 ry_max = 0.2020257\n",
      "  239     4   33 rx_max = 0.2000026    32   19 ry_max = 0.2019952\n",
      "  240     4   33 rx_max = 0.2000025    32   19 ry_max = 0.2019651\n",
      "  241     4   33 rx_max = 0.2000024    32   19 ry_max = 0.2019355\n",
      "  242     4   33 rx_max = 0.2000022    32   19 ry_max = 0.2019064\n",
      "  243     4   33 rx_max = 0.2000021    32   19 ry_max = 0.2018776\n",
      "  244     4   33 rx_max = 0.2000020    32   19 ry_max = 0.2018493\n",
      "  245     4   33 rx_max = 0.2000019    32   19 ry_max = 0.2018215\n",
      "  246     4   33 rx_max = 0.2000018    32   19 ry_max = 0.2017943\n",
      "  247     4   33 rx_max = 0.2000018    32   19 ry_max = 0.2017675\n",
      "  248     4   33 rx_max = 0.2000017    32   19 ry_max = 0.2017414\n",
      "  249     4   33 rx_max = 0.2000016    32   19 ry_max = 0.2017158\n",
      "  250     4   33 rx_max = 0.2000015    32   19 ry_max = 0.2016908\n",
      "  251     3   33 rx_max = 0.2000014    32   19 ry_max = 0.2016664\n",
      "  252     3   33 rx_max = 0.2000014    32   19 ry_max = 0.2016426\n",
      "  253     3   33 rx_max = 0.2000013    32   19 ry_max = 0.2016194\n",
      "  254     3   33 rx_max = 0.2000012    32   19 ry_max = 0.2015967\n",
      "  255     3   33 rx_max = 0.2000012    32   19 ry_max = 0.2015746\n",
      "  256     3   33 rx_max = 0.2000011    32   19 ry_max = 0.2015529\n",
      "  257     3   33 rx_max = 0.2000011    32   19 ry_max = 0.2015317\n",
      "  258     3   33 rx_max = 0.2000010    32   19 ry_max = 0.2015111\n",
      "  259     4   33 rx_max = 0.2000010    32   19 ry_max = 0.2014908\n",
      "  260     3   33 rx_max = 0.2000009    32   19 ry_max = 0.2014710\n",
      "  261     4   33 rx_max = 0.2000009    32   19 ry_max = 0.2014515\n",
      "  262     3   33 rx_max = 0.2000008    32   19 ry_max = 0.2014325\n",
      "  263     3   33 rx_max = 0.2000008    32   19 ry_max = 0.2014138\n",
      "  264     3   33 rx_max = 0.2000008    32   19 ry_max = 0.2013954\n",
      "  265     4   33 rx_max = 0.2000007    32   19 ry_max = 0.2013774\n",
      "  266     3   33 rx_max = 0.2000007    32   19 ry_max = 0.2013597\n",
      "  267     4   33 rx_max = 0.2000007    32   19 ry_max = 0.2013423\n",
      "  268     3   33 rx_max = 0.2000006    32   19 ry_max = 0.2013252\n",
      "  269     3   33 rx_max = 0.2000006    32   19 ry_max = 0.2013084\n",
      "  270     4   33 rx_max = 0.2000006    32   19 ry_max = 0.2012918\n",
      "  271     3   33 rx_max = 0.2000005    32   19 ry_max = 0.2012755\n",
      "  272     3   33 rx_max = 0.2000005    32   19 ry_max = 0.2012594\n",
      "  273     3   33 rx_max = 0.2000005    32   19 ry_max = 0.2012436\n",
      "  274     4   33 rx_max = 0.2000005    32   19 ry_max = 0.2012281\n",
      "  275     4   33 rx_max = 0.2000004    32   19 ry_max = 0.2012127\n",
      "  276     4   33 rx_max = 0.2000004    32   19 ry_max = 0.2011976\n",
      "  277     3   33 rx_max = 0.2000004    32   19 ry_max = 0.2011827\n",
      "  278     3   33 rx_max = 0.2000004    32   19 ry_max = 0.2011680\n",
      "  279     3   33 rx_max = 0.2000004    32   19 ry_max = 0.2011535\n",
      "  280     4   33 rx_max = 0.2000003    32   19 ry_max = 0.2011392\n",
      "  281     3   33 rx_max = 0.2000003    32   19 ry_max = 0.2011251\n",
      "  282     3   33 rx_max = 0.2000003    32   19 ry_max = 0.2011112\n",
      "  283     3   33 rx_max = 0.2000003    32   19 ry_max = 0.2010974\n",
      "  284     3   33 rx_max = 0.2000003    32   19 ry_max = 0.2010839\n",
      "  285     3   33 rx_max = 0.2000003    32   19 ry_max = 0.2010705\n",
      "  286     4   33 rx_max = 0.2000003    32   19 ry_max = 0.2010573\n",
      "  287     3   33 rx_max = 0.2000002    32   19 ry_max = 0.2010443\n",
      "  288     3   33 rx_max = 0.2000002    32   19 ry_max = 0.2010314\n",
      "  289     3   33 rx_max = 0.2000002    32   19 ry_max = 0.2010188\n",
      "  290     3   33 rx_max = 0.2000002    32   19 ry_max = 0.2010062\n",
      "  291     3   33 rx_max = 0.2000002    32   19 ry_max = 0.2009939\n",
      "  292     3   33 rx_max = 0.2000002    32   19 ry_max = 0.2009817\n",
      "  293     3   33 rx_max = 0.2000002    32   19 ry_max = 0.2009696\n",
      "  294     3   33 rx_max = 0.2000002    32   19 ry_max = 0.2009577\n",
      "  295     3   33 rx_max = 0.2000002    32   19 ry_max = 0.2009459\n",
      "  296     3   33 rx_max = 0.2000002    32   19 ry_max = 0.2009343\n",
      "  297     3   33 rx_max = 0.2000002    32   19 ry_max = 0.2009229\n",
      "  298     4   33 rx_max = 0.2000001    32   19 ry_max = 0.2009116\n",
      "  299     3   33 rx_max = 0.2000001    32   19 ry_max = 0.2009004\n",
      "  300     3   33 rx_max = 0.2000001    32   19 ry_max = 0.2008894\n",
      "  301     3   33 rx_max = 0.2000001    32   19 ry_max = 0.2008785\n",
      "  302     4   33 rx_max = 0.2000001    32   19 ry_max = 0.2008677\n",
      "  303     3   33 rx_max = 0.2000001    32   19 ry_max = 0.2008571\n",
      "  304     3   33 rx_max = 0.2000001    32   19 ry_max = 0.2008466\n",
      "  305     3   33 rx_max = 0.2000001    32   19 ry_max = 0.2008362\n",
      "  306     3   33 rx_max = 0.2000001    32   19 ry_max = 0.2008260\n",
      "  307     4   33 rx_max = 0.2000001    32   19 ry_max = 0.2008158\n",
      "  308     4   33 rx_max = 0.2000001    32   19 ry_max = 0.2008058\n",
      "  309     3   33 rx_max = 0.2000001    32   19 ry_max = 0.2007960\n",
      "  310     4   33 rx_max = 0.2000001    32   19 ry_max = 0.2007862\n",
      "  311     3   33 rx_max = 0.2000001    32   19 ry_max = 0.2007766\n",
      "  312     3   33 rx_max = 0.2000001    32   19 ry_max = 0.2007671\n",
      "  313     4   33 rx_max = 0.2000001    32   19 ry_max = 0.2007577\n",
      "  314     3   33 rx_max = 0.2000001    32   19 ry_max = 0.2007484\n",
      "  315     3   33 rx_max = 0.2000001    32   19 ry_max = 0.2007393\n",
      "  316     4   33 rx_max = 0.2000001    32   19 ry_max = 0.2007302\n",
      "  317     3   33 rx_max = 0.2000001    32   19 ry_max = 0.2007213\n",
      "  318     4   33 rx_max = 0.2000001    32   19 ry_max = 0.2007125\n",
      "  319     4   33 rx_max = 0.2000001    32   19 ry_max = 0.2007037\n",
      "  320     4   33 rx_max = 0.2000000    32   19 ry_max = 0.2006951\n",
      "  321     4   33 rx_max = 0.2000000    32   19 ry_max = 0.2006866\n",
      "  322     3   33 rx_max = 0.2000000    32   19 ry_max = 0.2006782\n",
      "  323     3   33 rx_max = 0.2000000    32   19 ry_max = 0.2006699\n",
      "  324     4   33 rx_max = 0.2000000    32   19 ry_max = 0.2006617\n",
      "  325     4   33 rx_max = 0.2000000    32   19 ry_max = 0.2006536\n",
      "  326     3   33 rx_max = 0.2000000    32   19 ry_max = 0.2006456\n",
      "  327     4   33 rx_max = 0.2000000    32   19 ry_max = 0.2006377\n",
      "  328     4   33 rx_max = 0.2000000    32   19 ry_max = 0.2006299\n",
      "  329     4   33 rx_max = 0.2000000    32   19 ry_max = 0.2006222\n",
      "  330     4   33 rx_max = 0.2000000    32   19 ry_max = 0.2006146\n",
      "  331     4   33 rx_max = 0.2000000    32   19 ry_max = 0.2006071\n",
      "  332     4   33 rx_max = 0.2000000    32   19 ry_max = 0.2005997\n",
      "  333     4   33 rx_max = 0.2000000    32   19 ry_max = 0.2005923\n",
      "  334     4   33 rx_max = 0.2000000    32   19 ry_max = 0.2005851\n",
      "  335     4   33 rx_max = 0.2000000    32   19 ry_max = 0.2005779\n",
      "  336     4   33 rx_max = 0.2000000    32   19 ry_max = 0.2005708\n",
      "  337     4   33 rx_max = 0.2000000    32   19 ry_max = 0.2005639\n",
      "  338     4   33 rx_max = 0.2000000    32   19 ry_max = 0.2005570\n",
      "  339     4   33 rx_max = 0.2000000    32   19 ry_max = 0.2005502\n",
      "  340     4   33 rx_max = 0.2000000    32   19 ry_max = 0.2005434\n",
      "  341     4   33 rx_max = 0.2000000    32   19 ry_max = 0.2005368\n",
      "  342     4   33 rx_max = 0.2000000    32   19 ry_max = 0.2005302\n",
      "  343     4   33 rx_max = 0.2000000    32   19 ry_max = 0.2005237\n",
      "  344     4   33 rx_max = 0.2000000    32   19 ry_max = 0.2005173\n",
      "  345     4   33 rx_max = 0.2000000    32   19 ry_max = 0.2005110\n",
      "  346     4   33 rx_max = 0.2000000    32   19 ry_max = 0.2005047\n",
      "  347     4   33 rx_max = 0.2000000    32   19 ry_max = 0.2004986\n",
      "  348     4   33 rx_max = 0.2000000    32   19 ry_max = 0.2004925\n",
      "  349     4   33 rx_max = 0.2000000    32   19 ry_max = 0.2004864\n",
      "  350     4   33 rx_max = 0.2000000    32   19 ry_max = 0.2004805\n",
      "  351     4   33 rx_max = 0.2000000    32   19 ry_max = 0.2004746\n",
      "  352     3   33 rx_max = 0.2000000    32   19 ry_max = 0.2004688\n",
      "  353     4   33 rx_max = 0.2000000    32   19 ry_max = 0.2004631\n",
      "  354     3   33 rx_max = 0.2000000    32   19 ry_max = 0.2004574\n",
      "  355     4   33 rx_max = 0.2000000    32   19 ry_max = 0.2004518\n",
      "  356     3   33 rx_max = 0.2000000    32   19 ry_max = 0.2004463\n",
      "  357     3   33 rx_max = 0.2000000    32   19 ry_max = 0.2004408\n",
      "  358     3   33 rx_max = 0.2000000    32   19 ry_max = 0.2004354\n",
      "  359     3   33 rx_max = 0.2000000    32   19 ry_max = 0.2004301\n",
      "  360     3   33 rx_max = 0.2000000    32   19 ry_max = 0.2004248\n",
      "  361     3   33 rx_max = 0.2000000    32   19 ry_max = 0.2004196\n",
      "  362     3   33 rx_max = 0.2000000    32   19 ry_max = 0.2004145\n",
      "  363     3   33 rx_max = 0.2000000    32   19 ry_max = 0.2004094\n",
      "  364     3   33 rx_max = 0.2000000    32   19 ry_max = 0.2004044\n",
      "  365     3   33 rx_max = 0.2000000    32   19 ry_max = 0.2003995\n",
      "  366     3   33 rx_max = 0.2000000    32   19 ry_max = 0.2003946\n",
      "  367     3   33 rx_max = 0.2000000    32   19 ry_max = 0.2003897\n",
      "  368     3   33 rx_max = 0.2000000    32   19 ry_max = 0.2003850\n",
      "  369     3   33 rx_max = 0.2000000    32   19 ry_max = 0.2003803\n",
      "  370     4   33 rx_max = 0.2000000    32   19 ry_max = 0.2003756\n",
      "  371     4   33 rx_max = 0.2000000    32   19 ry_max = 0.2003710\n",
      "  372     4   33 rx_max = 0.2000000    32   19 ry_max = 0.2003665\n",
      "  373     3   33 rx_max = 0.2000000    32   19 ry_max = 0.2003620\n",
      "  374     4   33 rx_max = 0.2000000    32   19 ry_max = 0.2003576\n",
      "  375     4   33 rx_max = 0.2000000    32   19 ry_max = 0.2003532\n",
      "  376     4   33 rx_max = 0.2000000    32   19 ry_max = 0.2003489\n",
      "  377     4   33 rx_max = 0.2000000    32   19 ry_max = 0.2003446\n",
      "  378     4   33 rx_max = 0.2000000    32   19 ry_max = 0.2003404\n",
      "  379     4   33 rx_max = 0.2000000    32   19 ry_max = 0.2003362\n",
      "  380     4   33 rx_max = 0.2000000    32   19 ry_max = 0.2003321\n",
      "  381     4   33 rx_max = 0.2000000    32   19 ry_max = 0.2003280\n",
      "  382     4   33 rx_max = 0.2000000    32   19 ry_max = 0.2003240\n",
      "  383     4   33 rx_max = 0.2000000    32   19 ry_max = 0.2003201\n",
      "  384     3   33 rx_max = 0.2000000    32   19 ry_max = 0.2003162\n",
      "  385     3   33 rx_max = 0.2000000    32   19 ry_max = 0.2003123\n",
      "  386     4   33 rx_max = 0.2000000    32   19 ry_max = 0.2003085\n",
      "  387     3   33 rx_max = 0.2000000    32   19 ry_max = 0.2003047\n",
      "  388     3   33 rx_max = 0.2000000    32   19 ry_max = 0.2003010\n",
      "  389     4   33 rx_max = 0.2000000    32   19 ry_max = 0.2002973\n",
      "  390     4   33 rx_max = 0.2000000    32   19 ry_max = 0.2002936\n",
      "  391     4   33 rx_max = 0.2000000    32   19 ry_max = 0.2002900\n",
      "  392     4   33 rx_max = 0.2000000    32   19 ry_max = 0.2002865\n",
      "  393     4   33 rx_max = 0.2000000    32   19 ry_max = 0.2002830\n",
      "  394     4   33 rx_max = 0.2000000    32   19 ry_max = 0.2002795\n",
      "  395     4   33 rx_max = 0.2000000    32   19 ry_max = 0.2002761\n",
      "  396     3   33 rx_max = 0.2000000    32   19 ry_max = 0.2002727\n",
      "  397     3   33 rx_max = 0.2000000    32   19 ry_max = 0.2002694\n",
      "  398     3   33 rx_max = 0.2000000    32   19 ry_max = 0.2002661\n",
      "  399     3   33 rx_max = 0.2000000    32   19 ry_max = 0.2002628\n",
      "  400     3   33 rx_max = 0.2000000    32   19 ry_max = 0.2002596\n",
      "  401     3   33 rx_max = 0.2000000    32   19 ry_max = 0.2002565\n",
      "  402     3   33 rx_max = 0.2000000    32   19 ry_max = 0.2002533\n",
      "  403     3   33 rx_max = 0.2000000    32   19 ry_max = 0.2002502\n",
      "  404     3   33 rx_max = 0.2000000    32   19 ry_max = 0.2002472\n",
      "  405     3   33 rx_max = 0.2000000    32   19 ry_max = 0.2002441\n",
      "  406     3   33 rx_max = 0.2000000    32   19 ry_max = 0.2002411\n",
      "  407     3   33 rx_max = 0.2000000    32   19 ry_max = 0.2002382\n",
      "  408     3   33 rx_max = 0.2000000    32   19 ry_max = 0.2002353\n",
      "  409     4   33 rx_max = 0.2000000    32   19 ry_max = 0.2002324\n",
      "  410     3   33 rx_max = 0.2000000    32   19 ry_max = 0.2002296\n",
      "  411     4   33 rx_max = 0.2000000    32   19 ry_max = 0.2002267\n",
      "  412     3   33 rx_max = 0.2000000    32   19 ry_max = 0.2002240\n",
      "  413     3   33 rx_max = 0.2000000    32   19 ry_max = 0.2002212\n",
      "  414     3   33 rx_max = 0.2000000    32   19 ry_max = 0.2002185\n",
      "  415     3   33 rx_max = 0.2000000    32   19 ry_max = 0.2002159\n",
      "  416     3   33 rx_max = 0.2000000    32   19 ry_max = 0.2002132\n",
      "  417     3   33 rx_max = 0.2000000    32   19 ry_max = 0.2002106\n",
      "  418     4   33 rx_max = 0.2000000    32   19 ry_max = 0.2002080\n",
      "  419     4   33 rx_max = 0.2000000    32   19 ry_max = 0.2002055\n",
      "  420     3   33 rx_max = 0.2000000    32   19 ry_max = 0.2002030\n",
      "  421     3   33 rx_max = 0.2000000    32   19 ry_max = 0.2002005\n",
      "  422     3   33 rx_max = 0.2000000    32   19 ry_max = 0.2001980\n",
      "  423     3   33 rx_max = 0.2000000    32   19 ry_max = 0.2001956\n",
      "  424     3   33 rx_max = 0.2000000    32   19 ry_max = 0.2001932\n",
      "  425     3   33 rx_max = 0.2000000    32   19 ry_max = 0.2001908\n",
      "  426     3   33 rx_max = 0.2000000    32   19 ry_max = 0.2001885\n",
      "  427     3   33 rx_max = 0.2000000    32   19 ry_max = 0.2001862\n",
      "  428     3   33 rx_max = 0.2000000    32   19 ry_max = 0.2001839\n",
      "  429     3   33 rx_max = 0.2000000    32   19 ry_max = 0.2001817\n",
      "  430     3   33 rx_max = 0.2000000    32   19 ry_max = 0.2001795\n",
      "  431     3   33 rx_max = 0.2000000    32   19 ry_max = 0.2001773\n",
      "  432     3   33 rx_max = 0.2000000    32   19 ry_max = 0.2001751\n",
      "  433     3   33 rx_max = 0.2000000    32   19 ry_max = 0.2001729\n",
      "  434     3   33 rx_max = 0.2000000    32   19 ry_max = 0.2001708\n",
      "  435     3   33 rx_max = 0.2000000    32   19 ry_max = 0.2001687\n",
      "  436     4   33 rx_max = 0.2000000    32   19 ry_max = 0.2001667\n",
      "  437     4   33 rx_max = 0.2000000    32   19 ry_max = 0.2001646\n",
      "  438     4   33 rx_max = 0.2000000    32   19 ry_max = 0.2001626\n",
      "  439     4   33 rx_max = 0.2000000    32   19 ry_max = 0.2001606\n",
      "  440     4   33 rx_max = 0.2000000    32   19 ry_max = 0.2001587\n",
      "  441     4   33 rx_max = 0.2000000    32   19 ry_max = 0.2001567\n",
      "  442     4   33 rx_max = 0.2000000    32   19 ry_max = 0.2001548\n",
      "  443     4   33 rx_max = 0.2000000    32   19 ry_max = 0.2001529\n",
      "  444     4   33 rx_max = 0.2000000    32   19 ry_max = 0.2001510\n",
      "  445     4   33 rx_max = 0.2000000    32   19 ry_max = 0.2001492\n",
      "  446     4   33 rx_max = 0.2000000    32   19 ry_max = 0.2001474\n",
      "  447     4   33 rx_max = 0.2000000    32   19 ry_max = 0.2001456\n",
      "  448     4   33 rx_max = 0.2000000    32   19 ry_max = 0.2001438\n",
      "  449     4   33 rx_max = 0.2000000    32   19 ry_max = 0.2001420\n",
      "  450     3   33 rx_max = 0.2000000    32   19 ry_max = 0.2001403\n",
      "  451     3   33 rx_max = 0.2000000    32   19 ry_max = 0.2001386\n",
      "  452     3   33 rx_max = 0.2000000    32   19 ry_max = 0.2001369\n",
      "  453     3   33 rx_max = 0.2000000    32   19 ry_max = 0.2001352\n",
      "  454     4   33 rx_max = 0.2000000    32   19 ry_max = 0.2001335\n",
      "  455     4   33 rx_max = 0.2000000    32   19 ry_max = 0.2001319\n",
      "  456     3   33 rx_max = 0.2000000    32   19 ry_max = 0.2001303\n",
      "  457     4   33 rx_max = 0.2000000    32   19 ry_max = 0.2001287\n",
      "  458     4   33 rx_max = 0.2000000    32   19 ry_max = 0.2001271\n",
      "  459     4   33 rx_max = 0.2000000    32   19 ry_max = 0.2001256\n",
      "  460     4   33 rx_max = 0.2000000    32   19 ry_max = 0.2001240\n",
      "  461     4   33 rx_max = 0.2000000    32   19 ry_max = 0.2001225\n",
      "  462     4   33 rx_max = 0.2000000    32   19 ry_max = 0.2001210\n",
      "  463     4   33 rx_max = 0.2000000    32   19 ry_max = 0.2001195\n",
      "  464     4   33 rx_max = 0.2000000    32   19 ry_max = 0.2001181\n",
      "  465     4   33 rx_max = 0.2000000    32   19 ry_max = 0.2001166\n",
      "  466     4   33 rx_max = 0.2000000    32   19 ry_max = 0.2001152\n",
      "  467     4   33 rx_max = 0.2000000    32   19 ry_max = 0.2001138\n",
      "  468     4   33 rx_max = 0.2000000    32   19 ry_max = 0.2001124\n",
      "  469     4   33 rx_max = 0.2000000    32   19 ry_max = 0.2001110\n",
      "  470     4   33 rx_max = 0.2000000    32   19 ry_max = 0.2001097\n",
      "  471     4   33 rx_max = 0.2000000    32   19 ry_max = 0.2001083\n",
      "  472     4   33 rx_max = 0.2000000    32   19 ry_max = 0.2001070\n",
      "  473     4   33 rx_max = 0.2000000    32   19 ry_max = 0.2001057\n",
      "  474     4   33 rx_max = 0.2000000    32   19 ry_max = 0.2001044\n",
      "  475     4   33 rx_max = 0.2000000    32   19 ry_max = 0.2001031\n",
      "  476     4   33 rx_max = 0.2000000    32   19 ry_max = 0.2001019\n",
      "  477     4   33 rx_max = 0.2000000    32   19 ry_max = 0.2001006\n",
      "  478     4   33 rx_max = 0.2000000    32   19 ry_max = 0.2000994\n",
      "  479     4   33 rx_max = 0.2000000    32   19 ry_max = 0.2000982\n",
      "  480     4   33 rx_max = 0.2000000    32   19 ry_max = 0.2000970\n",
      "  481     3   33 rx_max = 0.2000000    32   19 ry_max = 0.2000958\n",
      "  482     4   33 rx_max = 0.2000000    32   19 ry_max = 0.2000946\n",
      "  483     4   33 rx_max = 0.2000000    32   19 ry_max = 0.2000935\n",
      "  484     4   33 rx_max = 0.2000000    32   19 ry_max = 0.2000923\n",
      "  485     3   33 rx_max = 0.2000000    32   19 ry_max = 0.2000912\n",
      "  486     3   33 rx_max = 0.2000000    32   19 ry_max = 0.2000901\n",
      "  487     3   33 rx_max = 0.2000000    32   19 ry_max = 0.2000890\n",
      "  488     3   33 rx_max = 0.2000000    32   19 ry_max = 0.2000879\n",
      "  489     4   33 rx_max = 0.2000000    32   19 ry_max = 0.2000868\n",
      "  490     4   33 rx_max = 0.2000000    32   19 ry_max = 0.2000857\n",
      "  491     3   33 rx_max = 0.2000000    32   19 ry_max = 0.2000847\n",
      "  492     4   33 rx_max = 0.2000000    32   19 ry_max = 0.2000837\n",
      "  493     3   33 rx_max = 0.2000000    32   19 ry_max = 0.2000826\n",
      "  494     3   33 rx_max = 0.2000000    32   19 ry_max = 0.2000816\n",
      "  495     4   33 rx_max = 0.2000000    32   19 ry_max = 0.2000806\n",
      "  496     4   33 rx_max = 0.2000000    32   19 ry_max = 0.2000796\n",
      "  497     3   33 rx_max = 0.2000000    32   19 ry_max = 0.2000787\n",
      "  498     3   33 rx_max = 0.2000000    32   19 ry_max = 0.2000777\n",
      "  499     4   33 rx_max = 0.2000000    32   19 ry_max = 0.2000767\n",
      "\n",
      " Wall Clock time spent in smoothing    0.02 sec running   1 threads.\n"
     ]
    }
   ],
   "source": [
    "GetTopo.topo(None,outputs,topofile,shp_file,smooth=inputs_smth,sgl_connect=sgl_connect)"
   ]
  },
  {
   "cell_type": "markdown",
   "id": "300100d5-f51f-4583-9150-37aa5c9e8ab3",
   "metadata": {},
   "source": [
    "### Save grid as necdf"
   ]
  },
  {
   "cell_type": "markdown",
   "id": "ef3e8e04-2321-4dbb-a865-d1223003e42f",
   "metadata": {},
   "source": [
    "This code creates a Netcdf file containing all grid data (geographic, topo-bathymetric, mask) in the format defined by the classes generated earlier in this notebook. Then it saves it in the ouput repertory."
   ]
  },
  {
   "cell_type": "code",
   "execution_count": 67,
   "id": "02ddd444-50f8-4143-ab9f-79defec4b02c",
   "metadata": {},
   "outputs": [
    {
     "name": "stdout",
     "output_type": "stream",
     "text": [
      "Writting ../../CROCO_FILES/croco_grd.nc done\n"
     ]
    }
   ],
   "source": [
    "CROCO.create_grid_nc(None,output_file,inputs,outputs)"
   ]
  },
  {
   "cell_type": "markdown",
   "id": "d53d86f5-7ca5-4e3f-918a-3a884e1efc75",
   "metadata": {},
   "source": [
    "---\n",
    "\n",
    "<div style=\"text-align: center; font-size: 0.9em; color: gray;\">\n",
    "  The grid has been created, now you can visualize it and edit the mask/bathymetry\n",
    "</div>\n",
    "\n",
    "---"
   ]
  },
  {
   "cell_type": "markdown",
   "id": "52b0ea99-af88-40ba-8efd-1e5bb263431c",
   "metadata": {},
   "source": [
    "## 👁️🌐 Grid display"
   ]
  },
  {
   "cell_type": "markdown",
   "id": "86ffa92d-00af-48c8-98ac-f02f88b6c216",
   "metadata": {},
   "source": [
    "### Grid's outline"
   ]
  },
  {
   "cell_type": "markdown",
   "id": "5d74fb43-b4c9-4346-ba2d-7d9e1d405664",
   "metadata": {},
   "source": [
    "First, to visualize the grid's outline for instance, the map_tools.py plotting functions are usefull:"
   ]
  },
  {
   "cell_type": "code",
   "execution_count": 83,
   "id": "a02d29f1-dc80-4c0c-bced-e1ea418887c1",
   "metadata": {},
   "outputs": [
    {
     "data": {
      "text/plain": [
       "<GeoAxes: >"
      ]
     },
     "execution_count": 83,
     "metadata": {},
     "output_type": "execute_result"
    },
    {
     "data": {
      "application/vnd.jupyter.widget-view+json": {
       "model_id": "86a36c3b57a04bf1b688d7035ec48e03",
       "version_major": 2,
       "version_minor": 0
      },
      "image/png": "[encoded data removed]",
      "text/html": [
       "\n",
       "            <div style=\"display: inline-block;\">\n",
       "                <div class=\"jupyter-widgets widget-label\" style=\"text-align: center;\">\n",
       "                    Figure\n",
       "                </div>\n",
       "                <img src='data:image/png;base64,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' width=200.0/>\n",
       "            </div>\n",
       "        "
      ],
      "text/plain": [
       "Canvas(toolbar=Toolbar(toolitems=[('Home', 'Reset original view', 'home', 'home'), ('Back', 'Back to previous …"
      ]
     },
     "metadata": {},
     "output_type": "display_data"
    }
   ],
   "source": [
    "plt.style.use('_mpl-gallery')\n",
    "figure = plt.figure(figsize = (3,3))\n",
    "ax = plot_outline(outputs, figure)\n",
    "figure.suptitle('Grid Outline')\n",
    "plot_grid(outputs, figure, ax, shp_file ,plot_shape = False)"
   ]
  },
  {
   "cell_type": "markdown",
   "id": "95390473-9fba-473f-8f12-599d4f489888",
   "metadata": {},
   "source": [
    "##### More Arguments:\n",
    "\n",
    "- **4th argument**: path to the shape file\n",
    "- **5th argument**: options (choose one):\n",
    "  - *grid points*\n",
    "  - *topo*\n",
    "  - *1/pm*\n",
    "  - *1/pn*\n",
    "  - *angle*\n",
    "  - *mask*\n",
    "- **6th argument**: set to `True` to plot the shape or `False` to omit it\n",
    "\n",
    "```python\n",
    "plot_grid(outputs, figure, ax, shp_file, zview='grid outline', plot_shape=True)"
   ]
  },
  {
   "cell_type": "markdown",
   "id": "8819cce8-c948-434c-b716-3762ebad75d7",
   "metadata": {},
   "source": [
    "### Adding the topo-bathymetry"
   ]
  },
  {
   "cell_type": "markdown",
   "id": "1fbebb86-75de-4138-bf09-2ab819fcd5e4",
   "metadata": {},
   "source": [
    "🖍️ Plot outline again "
   ]
  },
  {
   "cell_type": "code",
   "execution_count": 107,
   "id": "a2094c9c-bf11-410e-a9c5-4c73ee91cc4c",
   "metadata": {},
   "outputs": [
    {
     "data": {
      "application/vnd.jupyter.widget-view+json": {
       "model_id": "c71191e1a836412d909b2dfb3f4b39da",
       "version_major": 2,
       "version_minor": 0
      },
      "image/png": "[encoded data removed]",
      "text/html": [
       "\n",
       "            <div style=\"display: inline-block;\">\n",
       "                <div class=\"jupyter-widgets widget-label\" style=\"text-align: center;\">\n",
       "                    Figure\n",
       "                </div>\n",
       "                <img src='data:image/png;base64,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' width=300.0/>\n",
       "            </div>\n",
       "        "
      ],
      "text/plain": [
       "Canvas(toolbar=Toolbar(toolitems=[('Home', 'Reset original view', 'home', 'home'), ('Back', 'Back to previous …"
      ]
     },
     "metadata": {},
     "output_type": "display_data"
    }
   ],
   "source": [
    "plt.style.use('_mpl-gallery')\n",
    "figure = plt.figure(figsize = (3,3))\n",
    "figure.suptitle('Grid outline and bathymetry')\n",
    "ax = plot_outline(outputs, figure)"
   ]
  },
  {
   "cell_type": "markdown",
   "id": "b1cfb6be-d139-4740-9e42-6089f6ab51f3",
   "metadata": {},
   "source": [
    "🎨 Adding **topo-bathymetry** and the **mask** to the figure"
   ]
  },
  {
   "cell_type": "code",
   "execution_count": 108,
   "id": "1daac69b-46fd-4849-b772-edf9730f0f62",
   "metadata": {},
   "outputs": [],
   "source": [
    "ax, cb = plot_topo(outputs, figure, ax)"
   ]
  },
  {
   "cell_type": "markdown",
   "id": "8957d43b-8ebe-491e-aba2-db71d7c0d66f",
   "metadata": {},
   "source": [
    "## Editing the bathymetry"
   ]
  },
  {
   "cell_type": "markdown",
   "id": "260087e4-3d2e-4815-be5c-d0a347137503",
   "metadata": {},
   "source": [
    "Flattening and stacking the longitude and latitude data :"
   ]
  },
  {
   "cell_type": "code",
   "execution_count": 112,
   "id": "01f865bc-185c-4c15-b0d5-0e0e938575aa",
   "metadata": {},
   "outputs": [],
   "source": [
    "x_rho, y_rho = outputs.lon_rho,outputs.lat_rho\n",
    "data = np.vstack((x_rho.flatten(), y_rho.flatten())).T"
   ]
  },
  {
   "cell_type": "markdown",
   "id": "2bd12de3-d30c-4a4a-b6cf-7f9aa2cabee5",
   "metadata": {},
   "source": [
    "<ul>\n",
    "  <li>\n",
    "    🌍 <code>x_rho.flatten()</code> and <code>y_rho.flatten()</code> convert the 2D arrays <code>x_rho</code> and <code>y_rho</code> into 1D arrays by flattening them. This process creates a single long array from the 2D grid data.\n",
    "  </li>\n",
    "  <li>\n",
    "    🏗️ <code>np.vstack((x_rho.flatten(), y_rho.flatten()))</code> stacks these 1D arrays vertically, resulting in a 2xN array where N is the total number of grid points.\n",
    "  </li>\n",
    "  <li>\n",
    "    🔄 The <code>.T</code> (transpose) operation converts the 2xN array into an Nx2 array, where each row now contains the longitude and latitude of a single grid point.\n",
    "  </li>\n",
    "</ul>"
   ]
  },
  {
   "cell_type": "markdown",
   "id": "f8a45b93-0c42-4dd6-be9a-6ac418819e1a",
   "metadata": {},
   "source": [
    "### Widgets and functions to connect to the figure, in order to edit the grid"
   ]
  },
  {
   "cell_type": "markdown",
   "id": "56e132d4-2b72-4a6a-83b4-8e0f25118cf1",
   "metadata": {},
   "source": [
    "#### Widget to catch click value and to update it"
   ]
  },
  {
   "cell_type": "code",
   "execution_count": 133,
   "id": "4e1fa7bb-e5af-455d-bceb-d1eda9553736",
   "metadata": {},
   "outputs": [],
   "source": [
    "# Widget to display the old value\n",
    "def create_old_value_widget():\n",
    "    global oldValue\n",
    "    oldValue = widgets.FloatText(\n",
    "        value=0.0,\n",
    "        description='Old value:',\n",
    "        disabled=True\n",
    "    )\n",
    "    display(oldValue)\n",
    "\n",
    "# Widget to input the new value\n",
    "def create_new_value_widget():\n",
    "    return interact_manual(update_value, x=widgets.FloatText(\n",
    "        value=0.0,\n",
    "        description='New value:'\n",
    "    ))"
   ]
  },
  {
   "cell_type": "markdown",
   "id": "bf5cc168-cbda-4706-8183-e8cbf460677b",
   "metadata": {},
   "source": [
    "#### Functions to select the cell to edit with your mouse 🖱️"
   ]
  },
  {
   "cell_type": "code",
   "execution_count": 122,
   "id": "8c26830b-a704-40b8-9db4-2074a63a59b1",
   "metadata": {},
   "outputs": [],
   "source": [
    "# Initialization of global var\n",
    "focusedPointX, focusedPointY = None, None\n",
    "oldValue = None\n",
    "ax, cb = None, None\n",
    "\n",
    "# Find the closest node\n",
    "def closest_node(node, nodes):\n",
    "    \"\"\"\n",
    "    Finds the closest node to the given point.\n",
    "    \"\"\"\n",
    "    closest_index = distance.cdist([node], nodes).argmin()\n",
    "    return closest_index, nodes[closest_index]\n",
    "\n",
    "# Handle mouse click events\n",
    "def on_click(event):\n",
    "    \"\"\"\n",
    "    Event handler for mouse clicks on the plot.\n",
    "    \"\"\"\n",
    "    global focusedPointX, focusedPointY\n",
    "    pt = (event.xdata, event.ydata)\n",
    "    prox_pt_id, prox_pt_value = closest_node(pt, data)\n",
    "    \n",
    "    # Calculate the grid coordinates of the closest point\n",
    "    p, mod = divmod(prox_pt_id, x_rho.shape[1])\n",
    "    focusedPointX = p\n",
    "    focusedPointY = mod\n",
    "    \n",
    "    # Update the widget with the old value\n",
    "    oldValue.value = outputs.h[focusedPointX][focusedPointY]\n",
    "\n",
    "# Function to update the value at the focused point\n",
    "def update_value(x):\n",
    "    \"\"\"\n",
    "    Update the value at the focused point and refresh the plot.\n",
    "    \"\"\"\n",
    "    global ax, cb\n",
    "    if focusedPointX is not None and focusedPointY is not None:\n",
    "        outputs.h[focusedPointX][focusedPointY] = x\n",
    "        plt.cla()\n",
    "        cb.remove()\n",
    "        ax, cb = plot_topo(outputs, figure, ax)"
   ]
  },
  {
   "cell_type": "markdown",
   "id": "900f8b3d-905f-4993-a853-1c14a2a19f94",
   "metadata": {},
   "source": [
    "#### Function to plot an editable map"
   ]
  },
  {
   "cell_type": "code",
   "execution_count": 131,
   "id": "0004cbfc-78c8-4e1b-986b-6f2a5fe05b11",
   "metadata": {},
   "outputs": [],
   "source": [
    "# Create a new figure and configure events and widgets\n",
    "def create_new_figure():\n",
    "    global ax_edit, cb_edit\n",
    "    \n",
    "    # Create a new figure\n",
    "    figure_edit, ax_edit = plt.subplots(figsize = (8,8))  \n",
    "    ax_edit.set_title(\"Bathymetry Edit\")  \n",
    "    \n",
    "    # Initial plot\n",
    "    ax_edit, cb_edit = plot_topo(outputs, figure_edit, ax_edit)\n",
    "    \n",
    "    # Connect mouse events\n",
    "    figure_edit.canvas.mpl_connect('button_press_event', on_click)\n",
    "    \n",
    "    # Create the widgets\n",
    "    create_old_value_widget()\n",
    "    create_new_value_widget()\n",
    "    \n",
    "    plt.show()  # Display the figure"
   ]
  },
  {
   "cell_type": "markdown",
   "id": "74a8a31b-807c-435e-b24b-80034c472ea2",
   "metadata": {},
   "source": [
    "#### Plot again the map, but this one is editable 🗺️"
   ]
  },
  {
   "cell_type": "code",
   "execution_count": 134,
   "id": "f5b18c65-cf1f-4010-8a32-d5cbc9d8bd10",
   "metadata": {},
   "outputs": [
    {
     "data": {
      "application/vnd.jupyter.widget-view+json": {
       "model_id": "ac6bf8abe9f049ababd015cbb32914d8",
       "version_major": 2,
       "version_minor": 0
      },
      "text/plain": [
       "FloatText(value=0.0, description='Old value:', disabled=True)"
      ]
     },
     "metadata": {},
     "output_type": "display_data"
    },
    {
     "data": {
      "application/vnd.jupyter.widget-view+json": {
       "model_id": "12f74b6080df4a7e80f79c67b75ac7cb",
       "version_major": 2,
       "version_minor": 0
      },
      "text/plain": [
       "interactive(children=(FloatText(value=0.0, description='New value:'), Button(description='Run Interact', style…"
      ]
     },
     "metadata": {},
     "output_type": "display_data"
    },
    {
     "data": {
      "application/vnd.jupyter.widget-view+json": {
       "model_id": "e5c423d8dd8f40288a653783637e82e5",
       "version_major": 2,
       "version_minor": 0
      },
      "image/png": "[encoded data removed]",
      "text/html": [
       "\n",
       "            <div style=\"display: inline-block;\">\n",
       "                <div class=\"jupyter-widgets widget-label\" style=\"text-align: center;\">\n",
       "                    Figure\n",
       "                </div>\n",
       "                <img src='data:image/png;base64,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' width=800.0/>\n",
       "            </div>\n",
       "        "
      ],
      "text/plain": [
       "Canvas(toolbar=Toolbar(toolitems=[('Home', 'Reset original view', 'home', 'home'), ('Back', 'Back to previous …"
      ]
     },
     "metadata": {},
     "output_type": "display_data"
    }
   ],
   "source": [
    "create_new_figure()"
   ]
  },
  {
   "cell_type": "markdown",
   "id": "8dc60272-f22d-4634-abc1-cfac7cd011c3",
   "metadata": {},
   "source": [
    "### Overwrite the old grid with the new one 📝"
   ]
  },
  {
   "cell_type": "code",
   "execution_count": null,
   "id": "acc2b603-36fd-43c4-8be0-36bbd1d144be",
   "metadata": {},
   "outputs": [],
   "source": [
    "CROCO.create_grid_nc(None,output_file,inputs,outputs)"
   ]
  }
 ],
 "metadata": {
  "kernelspec": {
   "display_name": "Python 3 (ipykernel)",
   "language": "python",
   "name": "python3"
  },
  "language_info": {
   "codemirror_mode": {
    "name": "ipython",
    "version": 3
   },
   "file_extension": ".py",
   "mimetype": "text/x-python",
   "name": "python",
   "nbconvert_exporter": "python",
   "pygments_lexer": "ipython3",
   "version": "3.9.18"
  }
 },
 "nbformat": 4,
 "nbformat_minor": 5
}
