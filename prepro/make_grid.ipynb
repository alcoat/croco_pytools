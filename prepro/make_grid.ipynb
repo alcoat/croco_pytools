{
 "cells": [
  {
   "cell_type": "markdown",
   "id": "87b9969c-dd7a-42ab-8df8-1a815de0184d",
   "metadata": {},
   "source": [
    "<center><img src=\"https://encrypted-tbn0.gstatic.com/images?q=tbn:ANd9GcQXnrruP7guibF61c4gOESBR2VhhqYmEjKin0yY9lrhCak3hIbXI0QDSlObO74xcBkjMw&usqp=CAU\"/></center>"
   ]
  },
  {
   "cell_type": "markdown",
   "id": "fa1454a4-fae8-4114-a512-ec10925a8029",
   "metadata": {},
   "source": [
    "# MAKE GRID - NOTEBOOK VERSION"
   ]
  },
  {
   "cell_type": "markdown",
   "id": "ab40d1c9-c8c0-4597-917c-cb8f970ffd32",
   "metadata": {},
   "source": [
    "<small>\n",
    "🔎 The current interface for creating grids is too heavy to load when the code is run remotely. The aim is to create a notebook(s) that can fulfill the role of the \"make_grid.py\" code and also edit the mask and bathymetry.\n",
    "<br>💡 This notebook is linked to the croco-ocean/croco_pytolls' [ISSUE #4](https://gitlab.inria.fr/croco-ocean/croco_pytools/-/issues/4) located on the **croco-ocean INRIA's gitlab**\n",
    "<br>➡️ Notebook created by <a href=\"mailto:thibault.delahaye@ird.fr\">Thibault Delahaye</a> and based on the existing codes of pycrocotool\n",
    "<br>🌳 Developped on **notebook-grid-tools**'s branch, whose source is the main branch\n",
    "</small>"
   ]
  },
  {
   "cell_type": "markdown",
   "id": "176b57a3-3415-47a3-af26-098497fef08e",
   "metadata": {},
   "source": [
    "## Table of contents 🔗\n",
    "\n",
    "1. [Code presentation 📖](#📖INFOS)\n",
    "2. [Requirements ⚙️](#⚙️Requirements)\n",
    "3. [CODE BODY](#CODE_BODY)"
   ]
  },
  {
   "cell_type": "markdown",
   "id": "1ccb190a-58a3-4760-a1fa-4fd424df8491",
   "metadata": {},
   "source": [
    "### 📖INFOS\n",
    "\n",
    "Further Information: [CROCO OCEAN WEBSITE](http://www.croco-ocean.org)\n",
    "  \n",
    "*This file is part of CROCOTOOLS* 🐊\n",
    "\n",
    "🌐 Create a CROCO grid file  \n",
    "In the current state the script can handle:  \n",
    "\n",
    "| DATA 💾     | SOURCE | FILE EXTENSION    |\n",
    "|------------|------------|---------------|\n",
    "| **Topo/Bathy** | etopo (5,2,1), | *NetCDF*    |\n",
    "|            | srtm30, gebco  |           |\n",
    "| **Coastline**  | GSHHS          | *shapefile* |\n",
    " \n",
    "\n",
    "➡️ *To add a new dataset you just have to go into Readers/topo_readers.py and\n",
    "create a dictionnary with the names for lon,lat,topo in the dataset.\n",
    "At this time it only handles 1D lon/la*  \n",
    "➡️ *The script makes a grid with mercator projection centred at the equator\n",
    "before rotating the sphere to put the middle of the grid in tra_lon/tra_lat\n",
    "position.*  \n",
    "➡️ *Then, it reads topo's dataset and apply the desired smoothing\n",
    "The mask is generated using a shapefile (.shp. default is gshhs dataset)*  \n",
    "➡️ *Smoothing uses fortran routines for better performance*\n"
   ]
  },
  {
   "cell_type": "markdown",
   "id": "66f1824c-0d37-4bbe-bb4c-ac4ba1918e61",
   "metadata": {},
   "source": [
    "### ⚙️Requirements\n",
    "➡️ Installing `ipympl` for Interactive Plots :\n",
    "\n",
    "*To use interactive plotting features with the `%matplotlib widget` magic command in Jupyter Notebook or JupyterLab, you need to install the `ipympl` package. This package enables Matplotlib to render interactive plots using Jupyter widgets.*\n",
    "\n",
    " **Run the following command** in a code cell or in your notebook to install `ipympl`:\n",
    "   ```bash\n",
    "   pip install ipympl\n"
   ]
  },
  {
   "cell_type": "markdown",
   "id": "e5540158-d609-4e95-8634-bf9493a7a090",
   "metadata": {},
   "source": [
    "============================================================================================================================="
   ]
  },
  {
   "cell_type": "markdown",
   "id": "a4a01ea4-e39b-4161-b09a-112737e13297",
   "metadata": {},
   "source": [
    "# CODE_BODY"
   ]
  },
  {
   "cell_type": "markdown",
   "id": "9dc3559e-8784-4e2a-975a-261c6446c11e",
   "metadata": {},
   "source": [
    "## Prerequisites"
   ]
  },
  {
   "cell_type": "markdown",
   "id": "28f97bc8-6d0d-4aff-865d-14cbb610ea8c",
   "metadata": {},
   "source": [
    "### Magic cells"
   ]
  },
  {
   "cell_type": "code",
   "execution_count": 11,
   "id": "09cd286b-1fc4-42af-86ba-c284446fc938",
   "metadata": {},
   "outputs": [
    {
     "name": "stdout",
     "output_type": "stream",
     "text": [
      "The autoreload extension is already loaded. To reload it, use:\n",
      "  %reload_ext autoreload\n"
     ]
    }
   ],
   "source": [
    "\"\"\"\n",
    "Magic cell dedicated to the activation of backend environments\n",
    "\"\"\"\n",
    "#Allows widget interactivity with user\n",
    "%matplotlib widget    \n",
    "%load_ext autoreload\n",
    "%autoreload 2"
   ]
  },
  {
   "cell_type": "markdown",
   "id": "2839015f-5bf7-410e-8769-5881e9b80d24",
   "metadata": {},
   "source": [
    "### DEPENDENCIES"
   ]
  },
  {
   "cell_type": "code",
   "execution_count": 14,
   "id": "b0f4fba8-c6b8-461b-bc75-ec04901dd386",
   "metadata": {},
   "outputs": [],
   "source": [
    "import numpy as np\n",
    "import os,sys\n",
    "os.environ['ETS_TOOLKIT'] = 'wx'\n",
    "sys.path.append(\"./Modules/\")\n",
    "sys.path.append(\"./Readers/\")\n",
    "sys.path.append(\"./Modules/graphicUI_tools/\")\n",
    "from main_window import *\n",
    "import tools_make_grid"
   ]
  },
  {
   "cell_type": "markdown",
   "id": "d42cbe91-6ca0-45f1-9ecd-998697efee0a",
   "metadata": {},
   "source": [
    "## USER's CHANGES"
   ]
  },
  {
   "cell_type": "code",
   "execution_count": 15,
   "id": "c0a3a066-a7b1-4d64-b9d6-008aeef79ee9",
   "metadata": {},
   "outputs": [],
   "source": [
    "# Grid center [degree]\n",
    "tra_lon =  15 # Longitude of the grid center \n",
    "tra_lat = -32 # Latitude of the grid center\n",
    "\n",
    "# Grid size [km]\n",
    "size_x = 1556\n",
    "size_y = 1334\n",
    "\n",
    "# Grid number of points \n",
    "# Note: grid resolution is grid size / number of points\n",
    "nx = 39\n",
    "ny = 40\n",
    "\n",
    "# Grid rotation [degree]\n",
    "rot = 0\n",
    "\n",
    "# Smoothing parameters\n",
    "# (see online documentation for more details)\n",
    "hmin        = 50    # Minimum depth [m]\n",
    "hmax        = 6000  # Maximum depth [m]\n",
    "interp_rad  = 2     # Interpolation radius in number of points (usually between 2 and 8)\n",
    "rfact       = 0.2   # Maximum r-fact to reach (the lower it is, the smoother it will be)    \n",
    "smooth_meth = 'lsmooth' # Smoothing method ('smooth', 'lsmooth', 'lsmooth_legacy', 'lsmooth2', 'lsmooth1', 'cond_rx0_topo') \n",
    "\n",
    "# Topo/Bathy file\n",
    "topofile = '../../DATASETS_CROCOTOOLS/Topo/etopo2.nc'\n",
    "\n",
    "# Coastline file (for the mask)\n",
    "shp_file = '../../DATASETS_CROCOTOOLS/gshhs/GSHHS_shp/i/GSHHS_i_L1.shp'\n",
    "\n",
    "# Single Connect [Mask water not connected to the main water body]\n",
    "sgl_connect=[False,20,20] # True or False, point indices inside the main water body\n",
    "\n",
    "# Output grid file\n",
    "output_file=\"../../CROCO_FILES/croco_grd.nc\"\n"
   ]
  },
  {
   "cell_type": "code",
   "execution_count": null,
   "id": "cf9309d5-f57b-4470-8145-8d4d003f046b",
   "metadata": {},
   "outputs": [],
   "source": []
  }
 ],
 "metadata": {
  "kernelspec": {
   "display_name": "Python 3 (ipykernel)",
   "language": "python",
   "name": "python3"
  },
  "language_info": {
   "codemirror_mode": {
    "name": "ipython",
    "version": 3
   },
   "file_extension": ".py",
   "mimetype": "text/x-python",
   "name": "python",
   "nbconvert_exporter": "python",
   "pygments_lexer": "ipython3",
   "version": "3.9.18"
  }
 },
 "nbformat": 4,
 "nbformat_minor": 5
}
