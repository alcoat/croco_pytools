{
 "cells": [
  {
   "cell_type": "markdown",
   "id": "87b9969c-dd7a-42ab-8df8-1a815de0184d",
   "metadata": {},
   "source": [
    "<center><img src=\"https://encrypted-tbn0.gstatic.com/images?q=tbn:ANd9GcQXnrruP7guibF61c4gOESBR2VhhqYmEjKin0yY9lrhCak3hIbXI0QDSlObO74xcBkjMw&usqp=CAU\"/></center>"
   ]
  },
  {
   "cell_type": "markdown",
   "id": "fa1454a4-fae8-4114-a512-ec10925a8029",
   "metadata": {},
   "source": [
    "# MAKE GRID - NOTEBOOK VERSION"
   ]
  },
  {
   "cell_type": "markdown",
   "id": "ab40d1c9-c8c0-4597-917c-cb8f970ffd32",
   "metadata": {},
   "source": [
    "<small>\n",
    "🔎 The current interface for creating grids is too heavy to load when the code is run remotely. The aim is to create a notebook(s) that can fulfill the role of the \"make_grid.py\" code and also edit the mask and bathymetry.\n",
    "<br>💡 This notebook is linked to the croco-ocean/croco_pytools' <a href= \"https://gitlab.inria.fr/croco-ocean/croco_pytools/-/issues/4\">ISSUE #4</a> located on the <strong>croco-ocean INRIA's gitlab</strong>\n",
    "<br>➡️ Notebook created by <a href=\"mailto:thibault.delahaye@ird.fr\">Thibault Delahaye</a> and based on the existing codes of pycrocotool\n",
    "<br>🌳 Developped on **notebook-grid-tools**'s branch, whose source is the main branch\n",
    "</small>"
   ]
  },
  {
   "cell_type": "markdown",
   "id": "8c046c08-91b5-40e5-bd3e-efe1adabf65f",
   "metadata": {},
   "source": [
    "---\n",
    "\n",
    "<div style=\"text-align: center; font-size: 0.9em; color: gray;\">\n",
    "  \n",
    "</div>\n",
    "\n",
    "---"
   ]
  },
  {
   "cell_type": "markdown",
   "id": "176b57a3-3415-47a3-af26-098497fef08e",
   "metadata": {},
   "source": [
    "## Table of contents 🔗\n",
    "\n",
    "1. [Code presentation 📖](#📖-Code-presentation)\n",
    "   - [💾 Datasets](#💾-Datasets)\n",
    "   - [⚙️ Requirements](#⚙️-Requirements)\n",
    "3. [CODE BODY 💻](#💻-CODE_BODY)\n",
    "   - [✅📋 Prerequisites](✅📋-Prerequisites)\n",
    "   - [✏️🔧 User's changes](#✏️🔧-User's-changes)\n",
    "   - [📏 Physical parameters](#📏-Physical-parameters)\n",
    "   - [🧩 Building the grid](#🧩-Building-the-grid)\n",
    "   - [✏️ Editing the bathymetry](#✏️-Editing-the-bathymetry)"
   ]
  },
  {
   "cell_type": "markdown",
   "id": "ac9d3820-6690-4d0c-8c65-63ca9797fec9",
   "metadata": {},
   "source": [
    "---\n",
    "\n",
    "<div style=\"text-align: center; font-size: 0.9em; color: gray;\">\n",
    "  \n",
    "</div>\n",
    "\n",
    "---"
   ]
  },
  {
   "cell_type": "markdown",
   "id": "1ccb190a-58a3-4760-a1fa-4fd424df8491",
   "metadata": {},
   "source": [
    "# 📖 Code presentation\n",
    "*Make sure to [build the croco_pyenv environment](https://croco-ocean.gitlabpages.inria.fr/croco_pytools/prepro/tuto.env.html) before using this notebook.*\n",
    "## 💾 Datasets\n",
    "\n",
    "Further Information: [CROCO OCEAN WEBSITE](http://www.croco-ocean.org)\n",
    "  \n",
    "*This file is part of CROCOTOOLS* 🐊\n",
    "\n",
    "**Create a CROCO grid file** 🌐   \n",
    "In the current state the script can handle:  "
   ]
  },
  {
   "cell_type": "markdown",
   "id": "436459d5-5d6d-4159-a3e8-63793a73b9fe",
   "metadata": {},
   "source": [
    "\n",
    "<table style=\"width: 100%; text-align: left; border-collapse: collapse;\">\n",
    "  <thead>\n",
    "    <tr>\n",
    "      <th style=\"border: 1px solid #ddd; padding: 8px; background-color: #f4f4f4;\">DATA</th>\n",
    "      <th style=\"border: 1px solid #ddd; padding: 8px; background-color: #f4f4f4;\">SOURCE</th>\n",
    "      <th style=\"border: 1px solid #ddd; padding: 8px; background-color: #f4f4f4;\">FILE EXTENSION</th>\n",
    "    </tr>\n",
    "  </thead>\n",
    "  <tbody>\n",
    "    <tr>\n",
    "      <td style=\"border: 1px solid #ddd; padding: 8px;\"><strong>Topo/Bathy</strong></td>\n",
    "      <td style=\"border: 1px solid #ddd; padding: 8px;\">etopo (5,2,1),<br>srtm30, gebco</td>\n",
    "      <td style=\"border: 1px solid #ddd; padding: 8px;\"><em>NetCDF</em></td>\n",
    "    </tr>\n",
    "    <tr>\n",
    "      <td style=\"border: 1px solid #ddd; padding: 8px;\"><strong>Coastline</strong></td>\n",
    "      <td style=\"border: 1px solid #ddd; padding: 8px;\">GSHHS</td>\n",
    "      <td style=\"border: 1px solid #ddd; padding: 8px;\"><em>shapefile</em></td>\n",
    "    </tr>\n",
    "  </tbody>\n",
    "</table>"
   ]
  },
  {
   "cell_type": "markdown",
   "id": "3a4aa6e3-a4d4-4a2d-a39f-5251cc058b0d",
   "metadata": {},
   "source": [
    "➡️ *To add a new dataset you just have to go into **Readers/topo_readers.py** and\n",
    "create a dictionnary with the names for lon,lat,topo in the dataset.\n",
    "At this time it only handles 1D lon/la*  \n",
    "➡️ *The script makes a grid with **mercator projection** centred at the equator\n",
    "before rotating the sphere to put the middle of the grid in tra_lon/tra_lat\n",
    "position.*  \n",
    "➡️ *Then, it reads topo's dataset and apply the desired smoothing\n",
    "The mask is generated using a shapefile (.shp. default is gshhs dataset)*  \n",
    "➡️ *Smoothing uses **fortran routines** for better performance*"
   ]
  },
  {
   "cell_type": "markdown",
   "id": "66f1824c-0d37-4bbe-bb4c-ac4ba1918e61",
   "metadata": {},
   "source": [
    "### ⚙️ Requirements\n",
    "➡️ Installing `ipympl` for interactive Plots :\n",
    "\n",
    "*To use **interactive plotting** features with the `%matplotlib widget` [magic command](#Magic-cells) in Jupyter Notebook or JupyterLab, you need to install the `ipympl` package. This package enables Matplotlib to render interactive plots using Jupyter widgets.*\n",
    "\n",
    " **Run the following command** in a code cell or in your notebook to install `ipympl`:\n",
    "   ```python\n",
    "   pip install ipympl\n"
   ]
  },
  {
   "cell_type": "markdown",
   "id": "1cb43823-12d0-4247-a55c-bcc359acf55c",
   "metadata": {},
   "source": [
    "---\n",
    "\n",
    "<div style=\"text-align: center; font-size: 0.9em; color: gray;\">\n",
    "  \n",
    "</div>\n",
    "\n",
    "---"
   ]
  },
  {
   "cell_type": "markdown",
   "id": "a4a01ea4-e39b-4161-b09a-112737e13297",
   "metadata": {},
   "source": [
    "# 💻 CODE_BODY"
   ]
  },
  {
   "cell_type": "markdown",
   "id": "9dc3559e-8784-4e2a-975a-261c6446c11e",
   "metadata": {},
   "source": [
    "## ✅📋 Prerequisites"
   ]
  },
  {
   "cell_type": "markdown",
   "id": "28f97bc8-6d0d-4aff-865d-14cbb610ea8c",
   "metadata": {},
   "source": [
    "### Magic cells"
   ]
  },
  {
   "cell_type": "markdown",
   "id": "a8c781ea-0224-45c4-9f65-d7a97bfa8417",
   "metadata": {},
   "source": [
    "[Magic cell](https://ipython.readthedocs.io/en/stable/interactive/magics.html) ⚡🐚 dedicated to the activation of backend environments"
   ]
  },
  {
   "cell_type": "code",
   "execution_count": 1,
   "id": "09cd286b-1fc4-42af-86ba-c284446fc938",
   "metadata": {},
   "outputs": [],
   "source": [
    "#Allows widget interactivity with user\n",
    "%matplotlib widget    \n",
    "%load_ext autoreload\n",
    "%autoreload 2"
   ]
  },
  {
   "cell_type": "markdown",
   "id": "2839015f-5bf7-410e-8769-5881e9b80d24",
   "metadata": {},
   "source": [
    "### Dependencies"
   ]
  },
  {
   "cell_type": "code",
   "execution_count": 2,
   "id": "b0f4fba8-c6b8-461b-bc75-ec04901dd386",
   "metadata": {},
   "outputs": [],
   "source": [
    "import numpy as np\n",
    "import os,sys\n",
    "os.environ['ETS_TOOLKIT'] = 'wx'\n",
    "sys.path.append(\"./Modules/\")\n",
    "sys.path.append(\"./Readers/\")\n",
    "sys.path.append(\"./Modules/graphicUI_tools/\")\n",
    "from main_window import *\n",
    "import tools_make_grid\n",
    "#----------------------------------------------#\n",
    "from tools_make_grid import inputs,inputs_smth,EasyGrid,GetMask,GetTopo\n",
    "from croco_class import CROCO\n",
    "from main_window import Outputs\n",
    "#----------------------------------------------#\n",
    "from Modules.map_tools.map_tools import plot_grid, plot_outline, plot_topo\n",
    "from scipy.spatial import distance\n",
    "import matplotlib.pyplot as plt\n",
    "import ipywidgets as widgets\n",
    "from ipywidgets import interact_manual\n",
    "#----------------------------------------------#\n",
    "from matplotlib.widgets import RectangleSelector\n",
    "from ipywidgets import FloatText, VBox\n",
    "from IPython.display import display"
   ]
  },
  {
   "cell_type": "markdown",
   "id": "d42cbe91-6ca0-45f1-9ecd-998697efee0a",
   "metadata": {},
   "source": [
    "## ✏️🔧 User's changes"
   ]
  },
  {
   "cell_type": "markdown",
   "id": "ed7a460c-1778-4cce-a828-e2cfb06caa9c",
   "metadata": {},
   "source": [
    "### Grid's param"
   ]
  },
  {
   "cell_type": "markdown",
   "id": "be6e9e27-f3fc-40d4-a24f-11c70a57c5e5",
   "metadata": {},
   "source": [
    "#### Center's position (degrees) 📍"
   ]
  },
  {
   "cell_type": "code",
   "execution_count": 3,
   "id": "14141b45-c8a3-407c-b900-6fd2dad4d483",
   "metadata": {},
   "outputs": [],
   "source": [
    "tra_lon =  15 # Longitude of the grid center \n",
    "tra_lat = -32 # Latitude of the grid center"
   ]
  },
  {
   "cell_type": "markdown",
   "id": "4a7d6e7a-2686-493b-9502-01aad800f24b",
   "metadata": {},
   "source": [
    "#### Grid extent (km) and resolution"
   ]
  },
  {
   "cell_type": "code",
   "execution_count": 4,
   "id": "8c06c464-11bc-4115-86ba-a6ceb9d23d6d",
   "metadata": {},
   "outputs": [],
   "source": [
    "# Grid size [km]\n",
    "size_x = 1556\n",
    "size_y = 1334\n",
    "\n",
    "# Grid number of points \n",
    "nx = 39\n",
    "ny = 40"
   ]
  },
  {
   "cell_type": "code",
   "execution_count": 5,
   "id": "bec58fd2-34ab-4dd2-9708-033f814e3063",
   "metadata": {},
   "outputs": [
    {
     "name": "stdout",
     "output_type": "stream",
     "text": [
      "Resolution in X direction: 39.90 km\n",
      "Resolution in Y direction: 33.35 km\n"
     ]
    }
   ],
   "source": [
    "# Calculate Resolution\n",
    "delta_x = size_x / nx\n",
    "delta_y = size_y / ny\n",
    "\n",
    "# Display results\n",
    "print(f\"Resolution in X direction: {delta_x:.2f} km\")\n",
    "print(f\"Resolution in Y direction: {delta_y:.2f} km\")"
   ]
  },
  {
   "cell_type": "markdown",
   "id": "66a22600-d043-4e55-897a-70b7d24fdb94",
   "metadata": {},
   "source": [
    "#### Grid rotation (degrees)"
   ]
  },
  {
   "cell_type": "code",
   "execution_count": 6,
   "id": "b7126091-9ec0-4686-89d3-80c2f7433e32",
   "metadata": {},
   "outputs": [],
   "source": [
    "rot = 0"
   ]
  },
  {
   "cell_type": "markdown",
   "id": "31f30b80-b488-4394-9018-39d9c8728865",
   "metadata": {},
   "source": [
    "### Smoothing settings"
   ]
  },
  {
   "cell_type": "markdown",
   "id": "693269f3-6b82-4046-988b-4a3ecb2144e9",
   "metadata": {},
   "source": [
    "See [online documentation](https://croco-ocean.gitlabpages.inria.fr/croco_doc/model/model.grid.html) for more details 📚"
   ]
  },
  {
   "cell_type": "code",
   "execution_count": 7,
   "id": "6e323bc9-0b72-4fe1-8d49-dfe0bf73017a",
   "metadata": {},
   "outputs": [],
   "source": [
    "hmin        = 50    # Minimum depth [m]\n",
    "hmax        = 6000  # Maximum depth [m]\n",
    "interp_rad  = 2     # Interpolation radius in number of points (usually between 2 and 8)\n",
    "rfact       = 0.2   # Maximum r-fact to reach (the lower it is, the smoother it will be)    \n",
    "smooth_meth = 'lsmooth' # Smoothing method ('smooth', 'lsmooth', 'lsmooth_legacy', 'lsmooth2', 'lsmooth1', 'cond_rx0_topo') "
   ]
  },
  {
   "cell_type": "markdown",
   "id": "db21c4d0-5be6-41d7-9408-8fe1c66c0211",
   "metadata": {},
   "source": [
    "### Paths"
   ]
  },
  {
   "cell_type": "markdown",
   "id": "e49af12f-cf12-47da-8ee6-76ef8b901e5f",
   "metadata": {},
   "source": [
    "#### Inputs"
   ]
  },
  {
   "cell_type": "markdown",
   "id": "ab1b1eaf-033a-486d-8e07-2503a658fb77",
   "metadata": {},
   "source": [
    "Topo/bathy file ⛰️ :"
   ]
  },
  {
   "cell_type": "code",
   "execution_count": 8,
   "id": "c0a3a066-a7b1-4d64-b9d6-008aeef79ee9",
   "metadata": {},
   "outputs": [],
   "source": [
    "topofile = '../../DATASETS_CROCOTOOLS/Topo/etopo2.nc'"
   ]
  },
  {
   "cell_type": "markdown",
   "id": "92d90000-0140-43f1-86db-6286c31248ce",
   "metadata": {},
   "source": [
    "Coastline file (for the mask) 🏖️ :"
   ]
  },
  {
   "cell_type": "code",
   "execution_count": 9,
   "id": "0004c9e1-e5d3-4be6-b058-3337f4621515",
   "metadata": {},
   "outputs": [],
   "source": [
    "shp_file = '../../DATASETS_CROCOTOOLS/gshhs/GSHHS_shp/i/GSHHS_i_L1.shp'"
   ]
  },
  {
   "cell_type": "markdown",
   "id": "ea62d575-34cc-40b0-9097-3a753bae8e90",
   "metadata": {},
   "source": [
    "#### Output(s)"
   ]
  },
  {
   "cell_type": "markdown",
   "id": "d7d505d0-75ce-4033-9da5-a1a6a2f44f57",
   "metadata": {},
   "source": [
    "Output grid file 🔲:"
   ]
  },
  {
   "cell_type": "code",
   "execution_count": 10,
   "id": "cf9309d5-f57b-4470-8145-8d4d003f046b",
   "metadata": {},
   "outputs": [],
   "source": [
    "output_file=\"../../CROCO_FILES/croco_grd.nc\"\n"
   ]
  },
  {
   "cell_type": "markdown",
   "id": "20aefd15-3336-4a49-8e14-27f219378fda",
   "metadata": {},
   "source": [
    "### Mask"
   ]
  },
  {
   "cell_type": "markdown",
   "id": "54ada7ac-4904-4e41-b6be-7d54b7f45f75",
   "metadata": {},
   "source": [
    "Single Connect (Masks water not connected to the main water body) 🎭:"
   ]
  },
  {
   "cell_type": "code",
   "execution_count": 11,
   "id": "d1fecbd5-67fe-4e23-8e9a-3baeb3f04556",
   "metadata": {},
   "outputs": [],
   "source": [
    "sgl_connect=[False,20,20] # True or False, point indices inside the main water body"
   ]
  },
  {
   "cell_type": "markdown",
   "id": "05c757bb-3e4c-44ce-b92b-cb870e5b3e8a",
   "metadata": {},
   "source": [
    "## 📏 Physical parameters"
   ]
  },
  {
   "cell_type": "code",
   "execution_count": 322,
   "id": "cd69daf2-02e7-477c-b09d-4dd868fcbcb3",
   "metadata": {},
   "outputs": [],
   "source": [
    "r_earth=6371315 # Mean earth radius in meter"
   ]
  },
  {
   "cell_type": "markdown",
   "id": "d1f178a7-a230-488f-b1e4-0de11ef740ec",
   "metadata": {},
   "source": [
    "## 🧩 Building the grid"
   ]
  },
  {
   "cell_type": "markdown",
   "id": "e7224364-a0e9-49b5-861b-86d23d2f5cb8",
   "metadata": {},
   "source": [
    "### Creating classes for inputs/outputs"
   ]
  },
  {
   "cell_type": "code",
   "execution_count": 12,
   "id": "f0a7e6a4-5c62-4041-8d1d-db470e5300df",
   "metadata": {},
   "outputs": [],
   "source": [
    "inputs=inputs(tra_lon,tra_lat,size_x,size_y,nx,ny,rot)\n",
    "inputs_smth=inputs_smth(hmin,hmax,interp_rad,rfact,smooth_meth)\n",
    "outputs=Outputs()"
   ]
  },
  {
   "cell_type": "markdown",
   "id": "dde8790c-8661-4a73-8bdd-dad1aae919fa",
   "metadata": {},
   "source": [
    "### Create lon/lat grid "
   ]
  },
  {
   "cell_type": "code",
   "execution_count": 13,
   "id": "3c4aeb99-ddac-4932-b41e-9f82e1e90137",
   "metadata": {},
   "outputs": [
    {
     "data": {
      "text/plain": [
       "<main_window.Outputs at 0x70bfc0f710e0>"
      ]
     },
     "execution_count": 13,
     "metadata": {},
     "output_type": "execute_result"
    }
   ],
   "source": [
    "EasyGrid.easygrid(None,inputs,outputs)"
   ]
  },
  {
   "cell_type": "markdown",
   "id": "7b9859bc-47ee-4ba7-b9cf-6fc6e5fe23c5",
   "metadata": {},
   "source": [
    "### Building the mask and smoothing topo"
   ]
  },
  {
   "cell_type": "markdown",
   "id": "f7e9e559-0ac6-4d2a-a28a-79dd68546787",
   "metadata": {},
   "source": [
    "<div class=\"alert alert-block alert-warning\"> \n",
    "Tip: if the ouput is too long 🖱️ right click on the cell annd \"Enable scrolling for outputs\"\n",
    "</div>"
   ]
  },
  {
   "cell_type": "code",
   "execution_count": 14,
   "id": "1a00b52d-3f32-4e42-80c9-a4e16ede55af",
   "metadata": {
    "scrolled": true
   },
   "outputs": [
    {
     "name": "stdout",
     "output_type": "stream",
     "text": [
      "Reading topography file: ../../DATASETS_CROCOTOOLS/Topo/etopo2.nc\n",
      "Single region dataset imin/imax= 5534 6165\n",
      "Bounding indices of the relevant part to be extracted from the entire dataset:\n",
      " imin,imax = 5534 6165 out of 10800 jmin,jmax = 1528 1963 out of 5400\n",
      "Interpolating topography to CROCO grid\n",
      "\n",
      " Geographical extents of the dataset:\n",
      "Finished interpolating\n",
      "    Longitude min/max =    4.466667   25.500000\n",
      "    Latitude  min/max =  -39.066666  -24.566668\n",
      "\n",
      " Geographical extents of requested ROMS grid:\n",
      "    Longitude min/max =    4.511359   25.488641\n",
      "    Latitude  min/max =  -39.031434  -24.631671\n",
      "\n",
      " Bounding indices for the portion of dataset covering the entire model grid:\n",
      " iwest,ieast =    2   631 out of   632 jsouth,jnorth =    2   434 out of   436\n",
      "\n",
      " Averaging window width = 2.00000 in grid spaces.\n",
      "\n",
      ".........\n",
      "\n",
      " Wall Clock time spent to compute hraw    0.03 sec running   1 threads.\n",
      " enter smooth_thread r_max = 0.2000000  iters_cond =  500  iters_lin =    0\n",
      " set_tiles: nx =  40 ny =  39 numthreads =  1 nsub_x =  1 nsub_y =  3\n",
      "  nsub_x =   1  nsub_y =   3  isize =  40  jsize =  13  trd =   0\n",
      "\n",
      " iter  i,jrx_max rx_max              i,jry_max ry_max\n",
      " ------------------------------------------------------------------\n",
      "    0     5   34 rx_max = 0.5929277    13   28 ry_max = 0.7073753\n",
      "    1     5   34 rx_max = 0.5117824    13   28 ry_max = 0.5906621\n",
      "    2     5   34 rx_max = 0.4668393    14   27 ry_max = 0.5151315\n",
      "    3     5   34 rx_max = 0.4369283    14   27 ry_max = 0.4855688\n",
      "    4     5   34 rx_max = 0.4127296    14   27 ry_max = 0.4599162\n",
      "    5     5   34 rx_max = 0.3918576    14   27 ry_max = 0.4381864\n",
      "    6     5   34 rx_max = 0.3741183    14   27 ry_max = 0.4192397\n",
      "    7     5   34 rx_max = 0.3592973    14   27 ry_max = 0.4022505\n",
      "    8     5   34 rx_max = 0.3469263    14   27 ry_max = 0.3870664\n",
      "    9     5   34 rx_max = 0.3364990    14   27 ry_max = 0.3733001\n",
      "   10    10   39 rx_max = 0.3296792    14   27 ry_max = 0.3608013\n",
      "   11    10   39 rx_max = 0.3236327    14   27 ry_max = 0.3494452\n",
      "   12    10   39 rx_max = 0.3179583    14   27 ry_max = 0.3391273\n",
      "   13    10   39 rx_max = 0.3126166    14   27 ry_max = 0.3297516\n",
      "   14    10   39 rx_max = 0.3075939    14   27 ry_max = 0.3212268\n",
      "   15    10   39 rx_max = 0.3028673    14   27 ry_max = 0.3134406\n",
      "   16    10   39 rx_max = 0.2984092    14   27 ry_max = 0.3062999\n",
      "   17    10   39 rx_max = 0.2941945    14   27 ry_max = 0.2997369\n",
      "   18    10   39 rx_max = 0.2902021    14   27 ry_max = 0.2936938\n",
      "   19    10   39 rx_max = 0.2864324    14   27 ry_max = 0.2881181\n",
      "   20    10   39 rx_max = 0.2829485    33   20 ry_max = 0.2831569\n",
      "   21    10   39 rx_max = 0.2797684    33   20 ry_max = 0.2810933\n",
      "   22    10   39 rx_max = 0.2768088    33   20 ry_max = 0.2790294\n",
      "   23    10   39 rx_max = 0.2738886    33   20 ry_max = 0.2769948\n",
      "   24    10   39 rx_max = 0.2710157    33   20 ry_max = 0.2750106\n",
      "   25    10   39 rx_max = 0.2682310    33   20 ry_max = 0.2730867\n",
      "   26    10   39 rx_max = 0.2655537    33   20 ry_max = 0.2712234\n",
      "   27    10   39 rx_max = 0.2629908    33   20 ry_max = 0.2694147\n",
      "   28    10   39 rx_max = 0.2605428    33   20 ry_max = 0.2676578\n",
      "   29    10   39 rx_max = 0.2582066    33   19 ry_max = 0.2660014\n",
      "   30    10   39 rx_max = 0.2559773    33   19 ry_max = 0.2644446\n",
      "   31    10   39 rx_max = 0.2538490    33   19 ry_max = 0.2629292\n",
      "   32    10   39 rx_max = 0.2518161    33   19 ry_max = 0.2614661\n",
      "   33    10   39 rx_max = 0.2498733    33   19 ry_max = 0.2600603\n",
      "   34    10   39 rx_max = 0.2480165    33   19 ry_max = 0.2587132\n",
      "   35    10   39 rx_max = 0.2462406    33   19 ry_max = 0.2574239\n",
      "   36    10   39 rx_max = 0.2445407    33   19 ry_max = 0.2561897\n",
      "   37    10   39 rx_max = 0.2429124    33   19 ry_max = 0.2550065\n",
      "   38    10   39 rx_max = 0.2413513    33   19 ry_max = 0.2538675\n",
      "   39    10   39 rx_max = 0.2398540    33   19 ry_max = 0.2527675\n",
      "   40    10   39 rx_max = 0.2384176    33   19 ry_max = 0.2517025\n",
      "   41    10   39 rx_max = 0.2370399    33   19 ry_max = 0.2506693\n",
      "   42    10   39 rx_max = 0.2357190    33   19 ry_max = 0.2496651\n",
      "   43    10   39 rx_max = 0.2344528    33   19 ry_max = 0.2486878\n",
      "   44     9   39 rx_max = 0.2333674    33   19 ry_max = 0.2477355\n",
      "   45     9   39 rx_max = 0.2323407    33   19 ry_max = 0.2468067\n",
      "   46     9   39 rx_max = 0.2313528    33   19 ry_max = 0.2458999\n",
      "   47     9   39 rx_max = 0.2304011    33   19 ry_max = 0.2450140\n",
      "   48     9   39 rx_max = 0.2294832    33   19 ry_max = 0.2441480\n",
      "   49     9   39 rx_max = 0.2285969    33   19 ry_max = 0.2433010\n",
      "   50     9   39 rx_max = 0.2277403    33   19 ry_max = 0.2424721\n",
      "   51     9   39 rx_max = 0.2269117    33   19 ry_max = 0.2416608\n",
      "   52     9   39 rx_max = 0.2261093    33   19 ry_max = 0.2408662\n",
      "   53     9   39 rx_max = 0.2253318    33   19 ry_max = 0.2400880\n",
      "   54     9   39 rx_max = 0.2245780    33   19 ry_max = 0.2393255\n",
      "   55     9   39 rx_max = 0.2238466    33   19 ry_max = 0.2385782\n",
      "   56     9   39 rx_max = 0.2231368    33   19 ry_max = 0.2378458\n",
      "   57     9   39 rx_max = 0.2224476    33   19 ry_max = 0.2371278\n",
      "   58     9   39 rx_max = 0.2217781    33   19 ry_max = 0.2364239\n",
      "   59     9   39 rx_max = 0.2211276    33   19 ry_max = 0.2357336\n",
      "   60     9   39 rx_max = 0.2204953    33   19 ry_max = 0.2350567\n",
      "   61     9   39 rx_max = 0.2198807    33   19 ry_max = 0.2343929\n",
      "   62     9   39 rx_max = 0.2192831    33   19 ry_max = 0.2337418\n",
      "   63     9   39 rx_max = 0.2187019    33   19 ry_max = 0.2331031\n",
      "   64     9   39 rx_max = 0.2181367    33   19 ry_max = 0.2324766\n",
      "   65     9   39 rx_max = 0.2175870    33   19 ry_max = 0.2318621\n",
      "   66     9   39 rx_max = 0.2170524    33   19 ry_max = 0.2312592\n",
      "   67     9   39 rx_max = 0.2165328    33   19 ry_max = 0.2306678\n",
      "   68     9   39 rx_max = 0.2160282    33   19 ry_max = 0.2300876\n",
      "   69     9   39 rx_max = 0.2155385    33   19 ry_max = 0.2295184\n",
      "   70     9   39 rx_max = 0.2150635    33   19 ry_max = 0.2289599\n",
      "   71     9   39 rx_max = 0.2146030    33   19 ry_max = 0.2284120\n",
      "   72     9   39 rx_max = 0.2141567    33   19 ry_max = 0.2278744\n",
      "   73     9   39 rx_max = 0.2137242    33   19 ry_max = 0.2273470\n",
      "   74     9   39 rx_max = 0.2133052    33   19 ry_max = 0.2268295\n",
      "   75     9   39 rx_max = 0.2128993    33   19 ry_max = 0.2263218\n",
      "   76     9   39 rx_max = 0.2125060    33   19 ry_max = 0.2258237\n",
      "   77     9   39 rx_max = 0.2121248    33   19 ry_max = 0.2253349\n",
      "   78     9   39 rx_max = 0.2117552    33   19 ry_max = 0.2248554\n",
      "   79     9   39 rx_max = 0.2113967    33   19 ry_max = 0.2243849\n",
      "   80     9   39 rx_max = 0.2110489    33   19 ry_max = 0.2239233\n",
      "   81     9   39 rx_max = 0.2107113    33   19 ry_max = 0.2234704\n",
      "   82     9   39 rx_max = 0.2103835    33   19 ry_max = 0.2230260\n",
      "   83     9   39 rx_max = 0.2100650    33   19 ry_max = 0.2225899\n",
      "   84     9   39 rx_max = 0.2097554    33   19 ry_max = 0.2221622\n",
      "   85     9   39 rx_max = 0.2094545    33   19 ry_max = 0.2217424\n",
      "   86     9   39 rx_max = 0.2091618    33   19 ry_max = 0.2213306\n",
      "   87     9   39 rx_max = 0.2088770    33   19 ry_max = 0.2209266\n",
      "   88     9   39 rx_max = 0.2085999    33   19 ry_max = 0.2205301\n",
      "   89     9   39 rx_max = 0.2083300    33   19 ry_max = 0.2201412\n",
      "   90     9   39 rx_max = 0.2080672    33   19 ry_max = 0.2197596\n",
      "   91     9   39 rx_max = 0.2078111    33   19 ry_max = 0.2193851\n",
      "   92     8   39 rx_max = 0.2075757    33   19 ry_max = 0.2190178\n",
      "   93     8   39 rx_max = 0.2073524    33   19 ry_max = 0.2186574\n",
      "   94     8   39 rx_max = 0.2071338    33   19 ry_max = 0.2183037\n",
      "   95     8   39 rx_max = 0.2069197    33   19 ry_max = 0.2179568\n",
      "   96     8   39 rx_max = 0.2067101    33   19 ry_max = 0.2176164\n",
      "   97     8   39 rx_max = 0.2065049    33   19 ry_max = 0.2172824\n",
      "   98     8   39 rx_max = 0.2063041    32   19 ry_max = 0.2169656\n",
      "   99     8   39 rx_max = 0.2061074    32   19 ry_max = 0.2167094\n",
      "  100     8   39 rx_max = 0.2059148    32   19 ry_max = 0.2164572\n",
      "  101     8   39 rx_max = 0.2057263    32   19 ry_max = 0.2162088\n",
      "  102     8   39 rx_max = 0.2055417    32   19 ry_max = 0.2159643\n",
      "  103     8   39 rx_max = 0.2053610    32   19 ry_max = 0.2157234\n",
      "  104     8   39 rx_max = 0.2051841    32   19 ry_max = 0.2154862\n",
      "  105     8   39 rx_max = 0.2050108    32   19 ry_max = 0.2152527\n",
      "  106     8   39 rx_max = 0.2048412    32   19 ry_max = 0.2150227\n",
      "  107     8   39 rx_max = 0.2046751    32   19 ry_max = 0.2147961\n",
      "  108     8   39 rx_max = 0.2045125    32   19 ry_max = 0.2145731\n",
      "  109     8   39 rx_max = 0.2043533    32   19 ry_max = 0.2143534\n",
      "  110     8   39 rx_max = 0.2041975    32   19 ry_max = 0.2141370\n",
      "  111     8   39 rx_max = 0.2040450    32   19 ry_max = 0.2139239\n",
      "  112     8   39 rx_max = 0.2038959    32   19 ry_max = 0.2137141\n",
      "  113     8   39 rx_max = 0.2037499    32   19 ry_max = 0.2135074\n",
      "  114     8   39 rx_max = 0.2036071    32   19 ry_max = 0.2133039\n",
      "  115     8   39 rx_max = 0.2034675    32   19 ry_max = 0.2131034\n",
      "  116     8   39 rx_max = 0.2033312    32   19 ry_max = 0.2129060\n",
      "  117     8   39 rx_max = 0.2031981    32   19 ry_max = 0.2127115\n",
      "  118     8   39 rx_max = 0.2030681    32   19 ry_max = 0.2125200\n",
      "  119     8   39 rx_max = 0.2029412    32   19 ry_max = 0.2123314\n",
      "  120     8   39 rx_max = 0.2028174    32   19 ry_max = 0.2121457\n",
      "  121     8   39 rx_max = 0.2026965    32   19 ry_max = 0.2119627\n",
      "  122     8   39 rx_max = 0.2025784    32   19 ry_max = 0.2117825\n",
      "  123     8   39 rx_max = 0.2024631    32   19 ry_max = 0.2116050\n",
      "  124     8   39 rx_max = 0.2023505    32   19 ry_max = 0.2114302\n",
      "  125     8   39 rx_max = 0.2022406    32   19 ry_max = 0.2112581\n",
      "  126     8   39 rx_max = 0.2021334    32   19 ry_max = 0.2110885\n",
      "  127     8   39 rx_max = 0.2020289    32   19 ry_max = 0.2109215\n",
      "  128     8   39 rx_max = 0.2019270    32   19 ry_max = 0.2107570\n",
      "  129     8   39 rx_max = 0.2018274    32   19 ry_max = 0.2105950\n",
      "  130     8   39 rx_max = 0.2017302    32   19 ry_max = 0.2104355\n",
      "  131     8   39 rx_max = 0.2016351    32   19 ry_max = 0.2102783\n",
      "  132     8   39 rx_max = 0.2015421    32   19 ry_max = 0.2101235\n",
      "  133     8   39 rx_max = 0.2014513    32   19 ry_max = 0.2099711\n",
      "  134     8   39 rx_max = 0.2013626    32   19 ry_max = 0.2098209\n",
      "  135     8   39 rx_max = 0.2012758    32   19 ry_max = 0.2096730\n",
      "  136     8   39 rx_max = 0.2011909    32   19 ry_max = 0.2095274\n",
      "  137     8   39 rx_max = 0.2011078    32   19 ry_max = 0.2093839\n",
      "  138     8   39 rx_max = 0.2010262    32   19 ry_max = 0.2092426\n",
      "  139     8   39 rx_max = 0.2009461    32   19 ry_max = 0.2091034\n",
      "  140     8   39 rx_max = 0.2008674    32   19 ry_max = 0.2089663\n",
      "  141     8   39 rx_max = 0.2007901    32   19 ry_max = 0.2088313\n",
      "  142     8   39 rx_max = 0.2007142    32   19 ry_max = 0.2086983\n",
      "  143     8   39 rx_max = 0.2006398    32   19 ry_max = 0.2085673\n",
      "  144     8   39 rx_max = 0.2005679    32   19 ry_max = 0.2084383\n",
      "  145     8   39 rx_max = 0.2004989    32   19 ry_max = 0.2083113\n",
      "  146     8   39 rx_max = 0.2004329    32   19 ry_max = 0.2081861\n",
      "  147     8   39 rx_max = 0.2003699    32   19 ry_max = 0.2080628\n",
      "  148     8   39 rx_max = 0.2003098    32  "
     ]
    },
    {
     "data": {
      "text/plain": [
       "<main_window.Outputs at 0x70bfc0f710e0>"
      ]
     },
     "execution_count": 14,
     "metadata": {},
     "output_type": "execute_result"
    },
    {
     "name": "stdout",
     "output_type": "stream",
     "text": [
      " 19 ry_max = 0.2079414\n",
      "  149     3   34 rx_max = 0.2002605    32   19 ry_max = 0.2078218\n",
      "  150     3   34 rx_max = 0.2002386    32   19 ry_max = 0.2077040\n",
      "  151     3   34 rx_max = 0.2002184    32   19 ry_max = 0.2075880\n",
      "  152     3   34 rx_max = 0.2001998    32   19 ry_max = 0.2074738\n",
      "  153     3   34 rx_max = 0.2001828    32   19 ry_max = 0.2073612\n",
      "  154     3   34 rx_max = 0.2001671    32   19 ry_max = 0.2072504\n",
      "  155     4   33 rx_max = 0.2001581    32   19 ry_max = 0.2071412\n",
      "  156     4   33 rx_max = 0.2001506    32   19 ry_max = 0.2070336\n",
      "  157     4   33 rx_max = 0.2001434    32   19 ry_max = 0.2069277\n",
      "  158     4   33 rx_max = 0.2001365    32   19 ry_max = 0.2068234\n",
      "  159     4   33 rx_max = 0.2001300    32   19 ry_max = 0.2067206\n",
      "  160     4   33 rx_max = 0.2001238    32   19 ry_max = 0.2066194\n",
      "  161     4   33 rx_max = 0.2001179    32   19 ry_max = 0.2065197\n",
      "  162     4   33 rx_max = 0.2001123    32   19 ry_max = 0.2064215\n",
      "  163     4   33 rx_max = 0.2001069    32   19 ry_max = 0.2063248\n",
      "  164     4   33 rx_max = 0.2001018    32   19 ry_max = 0.2062296\n",
      "  165     4   33 rx_max = 0.2000969    32   19 ry_max = 0.2061357\n",
      "  166     4   33 rx_max = 0.2000923    32   19 ry_max = 0.2060433\n",
      "  167     4   33 rx_max = 0.2000879    32   19 ry_max = 0.2059523\n",
      "  168     4   33 rx_max = 0.2000837    32   19 ry_max = 0.2058627\n",
      "  169     4   33 rx_max = 0.2000797    32   19 ry_max = 0.2057744\n",
      "  170     4   33 rx_max = 0.2000759    32   19 ry_max = 0.2056874\n",
      "  171     4   33 rx_max = 0.2000723    32   19 ry_max = 0.2056017\n",
      "  172     4   33 rx_max = 0.2000688    32   19 ry_max = 0.2055174\n",
      "  173     4   33 rx_max = 0.2000655    32   19 ry_max = 0.2054343\n",
      "  174     4   33 rx_max = 0.2000624    32   19 ry_max = 0.2053524\n",
      "  175     4   33 rx_max = 0.2000594    32   19 ry_max = 0.2052718\n",
      "  176     4   33 rx_max = 0.2000566    32   19 ry_max = 0.2051924\n",
      "  177     4   33 rx_max = 0.2000539    32   19 ry_max = 0.2051142\n",
      "  178     4   33 rx_max = 0.2000513    32   19 ry_max = 0.2050371\n",
      "  179     4   33 rx_max = 0.2000489    32   19 ry_max = 0.2049613\n",
      "  180     4   33 rx_max = 0.2000465    32   19 ry_max = 0.2048865\n",
      "  181     4   33 rx_max = 0.2000443    32   19 ry_max = 0.2048129\n",
      "  182     4   33 rx_max = 0.2000422    32   19 ry_max = 0.2047404\n",
      "  183     4   33 rx_max = 0.2000402    32   19 ry_max = 0.2046690\n",
      "  184     4   33 rx_max = 0.2000383    32   19 ry_max = 0.2045987\n",
      "  185     4   33 rx_max = 0.2000364    32   19 ry_max = 0.2045294\n",
      "  186     4   33 rx_max = 0.2000347    32   19 ry_max = 0.2044612\n",
      "  187     4   33 rx_max = 0.2000330    32   19 ry_max = 0.2043940\n",
      "  188     4   33 rx_max = 0.2000315    32   19 ry_max = 0.2043278\n",
      "  189     4   33 rx_max = 0.2000300    32   19 ry_max = 0.2042626\n",
      "  190     4   33 rx_max = 0.2000285    32   19 ry_max = 0.2041984\n",
      "  191     4   33 rx_max = 0.2000272    32   19 ry_max = 0.2041351\n",
      "  192     4   33 rx_max = 0.2000259    32   19 ry_max = 0.2040728\n",
      "  193     4   33 rx_max = 0.2000246    32   19 ry_max = 0.2040115\n",
      "  194     4   33 rx_max = 0.2000235    32   19 ry_max = 0.2039510\n",
      "  195     4   33 rx_max = 0.2000223    32   19 ry_max = 0.2038915\n",
      "  196     4   33 rx_max = 0.2000213    32   19 ry_max = 0.2038329\n",
      "  197     4   33 rx_max = 0.2000203    32   19 ry_max = 0.2037752\n",
      "  198     4   33 rx_max = 0.2000193    32   19 ry_max = 0.2037183\n",
      "  199     4   33 rx_max = 0.2000184    32   19 ry_max = 0.2036623\n",
      "  200     4   33 rx_max = 0.2000175    32   19 ry_max = 0.2036071\n",
      "  201     4   33 rx_max = 0.2000167    32   19 ry_max = 0.2035527\n",
      "  202     4   33 rx_max = 0.2000159    32   19 ry_max = 0.2034992\n",
      "  203     4   33 rx_max = 0.2000151    32   19 ry_max = 0.2034465\n",
      "  204     4   33 rx_max = 0.2000144    32   19 ry_max = 0.2033946\n",
      "  205     4   33 rx_max = 0.2000137    32   19 ry_max = 0.2033434\n",
      "  206     4   33 rx_max = 0.2000130    32   19 ry_max = 0.2032930\n",
      "  207     4   33 rx_max = 0.2000124    32   19 ry_max = 0.2032434\n",
      "  208     4   33 rx_max = 0.2000118    32   19 ry_max = 0.2031946\n",
      "  209     4   33 rx_max = 0.2000113    32   19 ry_max = 0.2031464\n",
      "  210     4   33 rx_max = 0.2000107    32   19 ry_max = 0.2030990\n",
      "  211     4   33 rx_max = 0.2000102    32   19 ry_max = 0.2030523\n",
      "  212     4   33 rx_max = 0.2000097    32   19 ry_max = 0.2030063\n",
      "  213     4   33 rx_max = 0.2000093    32   19 ry_max = 0.2029610\n",
      "  214     4   33 rx_max = 0.2000088    32   19 ry_max = 0.2029164\n",
      "  215     4   33 rx_max = 0.2000084    32   19 ry_max = 0.2028725\n",
      "  216     4   33 rx_max = 0.2000080    32   19 ry_max = 0.2028292\n",
      "  217     4   33 rx_max = 0.2000076    32   19 ry_max = 0.2027866\n",
      "  218     4   33 rx_max = 0.2000073    32   19 ry_max = 0.2027446\n",
      "  219     4   33 rx_max = 0.2000069    32   19 ry_max = 0.2027032\n",
      "  220     4   33 rx_max = 0.2000066    32   19 ry_max = 0.2026625\n",
      "  221     4   33 rx_max = 0.2000063    32   19 ry_max = 0.2026224\n",
      "  222     4   33 rx_max = 0.2000060    32   19 ry_max = 0.2025828\n",
      "  223     4   33 rx_max = 0.2000057    32   19 ry_max = 0.2025439\n",
      "  224     4   33 rx_max = 0.2000054    32   19 ry_max = 0.2025056\n",
      "  225     4   33 rx_max = 0.2000051    32   19 ry_max = 0.2024678\n",
      "  226     4   33 rx_max = 0.2000049    32   19 ry_max = 0.2024306\n",
      "  227     4   33 rx_max = 0.2000047    32   19 ry_max = 0.2023940\n",
      "  228     4   33 rx_max = 0.2000044    32   19 ry_max = 0.2023579\n",
      "  229     4   33 rx_max = 0.2000042    32   19 ry_max = 0.2023224\n",
      "  230     4   33 rx_max = 0.2000040    32   19 ry_max = 0.2022874\n",
      "  231     4   33 rx_max = 0.2000038    32   19 ry_max = 0.2022529\n",
      "  232     4   33 rx_max = 0.2000037    32   19 ry_max = 0.2022190\n",
      "  233     4   33 rx_max = 0.2000035    32   19 ry_max = 0.2021855\n",
      "  234     4   33 rx_max = 0.2000033    32   19 ry_max = 0.2021526\n",
      "  235     4   33 rx_max = 0.2000032    32   19 ry_max = 0.2021202\n",
      "  236     4   33 rx_max = 0.2000030    32   19 ry_max = 0.2020882\n",
      "  237     4   33 rx_max = 0.2000029    32   19 ry_max = 0.2020567\n",
      "  238     4   33 rx_max = 0.2000027    32   19 ry_max = 0.2020257\n",
      "  239     4   33 rx_max = 0.2000026    32   19 ry_max = 0.2019952\n",
      "  240     4   33 rx_max = 0.2000025    32   19 ry_max = 0.2019651\n",
      "  241     4   33 rx_max = 0.2000024    32   19 ry_max = 0.2019355\n",
      "  242     4   33 rx_max = 0.2000022    32   19 ry_max = 0.2019064\n",
      "  243     4   33 rx_max = 0.2000021    32   19 ry_max = 0.2018776\n",
      "  244     4   33 rx_max = 0.2000020    32   19 ry_max = 0.2018493\n",
      "  245     4   33 rx_max = 0.2000019    32   19 ry_max = 0.2018215\n",
      "  246     4   33 rx_max = 0.2000018    32   19 ry_max = 0.2017943\n",
      "  247     4   33 rx_max = 0.2000018    32   19 ry_max = 0.2017675\n",
      "  248     4   33 rx_max = 0.2000017    32   19 ry_max = 0.2017414\n",
      "  249     4   33 rx_max = 0.2000016    32   19 ry_max = 0.2017158\n",
      "  250     4   33 rx_max = 0.2000015    32   19 ry_max = 0.2016908\n",
      "  251     3   33 rx_max = 0.2000014    32   19 ry_max = 0.2016664\n",
      "  252     3   33 rx_max = 0.2000014    32   19 ry_max = 0.2016426\n",
      "  253     3   33 rx_max = 0.2000013    32   19 ry_max = 0.2016194\n",
      "  254     3   33 rx_max = 0.2000012    32   19 ry_max = 0.2015967\n",
      "  255     3   33 rx_max = 0.2000012    32   19 ry_max = 0.2015746\n",
      "  256     3   33 rx_max = 0.2000011    32   19 ry_max = 0.2015529\n",
      "  257     3   33 rx_max = 0.2000011    32   19 ry_max = 0.2015317\n",
      "  258     3   33 rx_max = 0.2000010    32   19 ry_max = 0.2015111\n",
      "  259     4   33 rx_max = 0.2000010    32   19 ry_max = 0.2014908\n",
      "  260     3   33 rx_max = 0.2000009    32   19 ry_max = 0.2014710\n",
      "  261     4   33 rx_max = 0.2000009    32   19 ry_max = 0.2014515\n",
      "  262     3   33 rx_max = 0.2000008    32   19 ry_max = 0.2014325\n",
      "  263     3   33 rx_max = 0.2000008    32   19 ry_max = 0.2014138\n",
      "  264     3   33 rx_max = 0.2000008    32   19 ry_max = 0.2013954\n",
      "  265     4   33 rx_max = 0.2000007    32   19 ry_max = 0.2013774\n",
      "  266     3   33 rx_max = 0.2000007    32   19 ry_max = 0.2013597\n",
      "  267     4   33 rx_max = 0.2000007    32   19 ry_max = 0.2013423\n",
      "  268     3   33 rx_max = 0.2000006    32   19 ry_max = 0.2013252\n",
      "  269     3   33 rx_max = 0.2000006    32   19 ry_max = 0.2013084\n",
      "  270     4   33 rx_max = 0.2000006    32   19 ry_max = 0.2012918\n",
      "  271     3   33 rx_max = 0.2000005    32   19 ry_max = 0.2012755\n",
      "  272     3   33 rx_max = 0.2000005    32   19 ry_max = 0.2012594\n",
      "  273     3   33 rx_max = 0.2000005    32   19 ry_max = 0.2012436\n",
      "  274     4   33 rx_max = 0.2000005    32   19 ry_max = 0.2012281\n",
      "  275     4   33 rx_max = 0.2000004    32   19 ry_max = 0.2012127\n",
      "  276     4   33 rx_max = 0.2000004    32   19 ry_max = 0.2011976\n",
      "  277     3   33 rx_max = 0.2000004    32   19 ry_max = 0.2011827\n",
      "  278     3   33 rx_max = 0.2000004    32   19 ry_max = 0.2011680\n",
      "  279     3   33 rx_max = 0.2000004    32   19 ry_max = 0.2011535\n",
      "  280     4   33 rx_max = 0.2000003    32   19 ry_max = 0.2011392\n",
      "  281     3   33 rx_max = 0.2000003    32   19 ry_max = 0.2011251\n",
      "  282     3   33 rx_max = 0.2000003    32   19 ry_max = 0.2011112\n",
      "  283     3   33 rx_max = 0.2000003    32   19 ry_max = 0.2010974\n",
      "  284     3   33 rx_max = 0.2000003    32   19 ry_max = 0.2010839\n",
      "  285     3   33 rx_max = 0.2000003    32   19 ry_max = 0.2010705\n",
      "  286     4   33 rx_max = 0.2000003    32   19 ry_max = 0.2010573\n",
      "  287     3   33 rx_max = 0.2000002    32   19 ry_max = 0.2010443\n",
      "  288     3   33 rx_max = 0.2000002    32   19 ry_max = 0.2010314\n",
      "  289     3   33 rx_max = 0.2000002    32   19 ry_max = 0.2010188\n",
      "  290     3   33 rx_max = 0.2000002    32   19 ry_max = 0.2010062\n",
      "  291     3   33 rx_max = 0.2000002    32   19 ry_max = 0.2009939\n",
      "  292     3   33 rx_max = 0.2000002    32   19 ry_max = 0.2009817\n",
      "  293     3   33 rx_max = 0.2000002    32   19 ry_max = 0.2009696\n",
      "  294     3   33 rx_max = 0.2000002    32   19 ry_max = 0.2009577\n",
      "  295     3   33 rx_max = 0.2000002    32   19 ry_max = 0.2009459\n",
      "  296     3   33 rx_max = 0.2000002    32   19 ry_max = 0.2009343\n",
      "  297     3   33 rx_max = 0.2000002    32   19 ry_max = 0.2009229\n",
      "  298     4   33 rx_max = 0.2000001    32   19 ry_max = 0.2009116\n",
      "  299     3   33 rx_max = 0.2000001    32   19 ry_max = 0.2009004\n",
      "  300     3   33 rx_max = 0.2000001    32   19 ry_max = 0.2008894\n",
      "  301     3   33 rx_max = 0.2000001    32   19 ry_max = 0.2008785\n",
      "  302     4   33 rx_max = 0.2000001    32   19 ry_max = 0.2008677\n",
      "  303     3   33 rx_max = 0.2000001    32   19 ry_max = 0.2008571\n",
      "  304     3   33 rx_max = 0.2000001    32   19 ry_max = 0.2008466\n",
      "  305     3   33 rx_max = 0.2000001    32   19 ry_max = 0.2008362\n",
      "  306     3   33 rx_max = 0.2000001    32   19 ry_max = 0.2008260\n",
      "  307     4   33 rx_max = 0.2000001    32   19 ry_max = 0.2008158\n",
      "  308     4   33 rx_max = 0.2000001    32   19 ry_max = 0.2008058\n",
      "  309     3   33 rx_max = 0.2000001    32   19 ry_max = 0.2007960\n",
      "  310     4   33 rx_max = 0.2000001    32   19 ry_max = 0.2007862\n",
      "  311     3   33 rx_max = 0.2000001    32   19 ry_max = 0.2007766\n",
      "  312     3   33 rx_max = 0.2000001    32   19 ry_max = 0.2007671\n",
      "  313     4   33 rx_max = 0.2000001    32   19 ry_max = 0.2007577\n",
      "  314     3   33 rx_max = 0.2000001    32   19 ry_max = 0.2007484\n",
      "  315     3   33 rx_max = 0.2000001    32   19 ry_max = 0.2007393\n",
      "  316     4   33 rx_max = 0.2000001    32   19 ry_max = 0.2007302\n",
      "  317     3   33 rx_max = 0.2000001    32   19 ry_max = 0.2007213\n",
      "  318     4   33 rx_max = 0.2000001    32   19 ry_max = 0.2007125\n",
      "  319     4   33 rx_max = 0.2000001    32   19 ry_max = 0.2007037\n",
      "  320     4   33 rx_max = 0.2000000    32   19 ry_max = 0.2006951\n",
      "  321     4   33 rx_max = 0.2000000    32   19 ry_max = 0.2006866\n",
      "  322     3   33 rx_max = 0.2000000    32   19 ry_max = 0.2006782\n",
      "  323     3   33 rx_max = 0.2000000    32   19 ry_max = 0.2006699\n",
      "  324     4   33 rx_max = 0.2000000    32   19 ry_max = 0.2006617\n",
      "  325     4   33 rx_max = 0.2000000    32   19 ry_max = 0.2006536\n",
      "  326     3   33 rx_max = 0.2000000    32   19 ry_max = 0.2006456\n",
      "  327     4   33 rx_max = 0.2000000    32   19 ry_max = 0.2006377\n",
      "  328     4   33 rx_max = 0.2000000    32   19 ry_max = 0.2006299\n",
      "  329     4   33 rx_max = 0.2000000    32   19 ry_max = 0.2006222\n",
      "  330     4   33 rx_max = 0.2000000    32   19 ry_max = 0.2006146\n",
      "  331     4   33 rx_max = 0.2000000    32   19 ry_max = 0.2006071\n",
      "  332     4   33 rx_max = 0.2000000    32   19 ry_max = 0.2005997\n",
      "  333     4   33 rx_max = 0.2000000    32   19 ry_max = 0.2005923\n",
      "  334     4   33 rx_max = 0.2000000    32   19 ry_max = 0.2005851\n",
      "  335     4   33 rx_max = 0.2000000    32   19 ry_max = 0.2005779\n",
      "  336     4   33 rx_max = 0.2000000    32   19 ry_max = 0.2005708\n",
      "  337     4   33 rx_max = 0.2000000    32   19 ry_max = 0.2005639\n",
      "  338     4   33 rx_max = 0.2000000    32   19 ry_max = 0.2005570\n",
      "  339     4   33 rx_max = 0.2000000    32   19 ry_max = 0.2005502\n",
      "  340     4   33 rx_max = 0.2000000    32   19 ry_max = 0.2005434\n",
      "  341     4   33 rx_max = 0.2000000    32   19 ry_max = 0.2005368\n",
      "  342     4   33 rx_max = 0.2000000    32   19 ry_max = 0.2005302\n",
      "  343     4   33 rx_max = 0.2000000    32   19 ry_max = 0.2005237\n",
      "  344     4   33 rx_max = 0.2000000    32   19 ry_max = 0.2005173\n",
      "  345     4   33 rx_max = 0.2000000    32   19 ry_max = 0.2005110\n",
      "  346     4   33 rx_max = 0.2000000    32   19 ry_max = 0.2005047\n",
      "  347     4   33 rx_max = 0.2000000    32   19 ry_max = 0.2004986\n",
      "  348     4   33 rx_max = 0.2000000    32   19 ry_max = 0.2004925\n",
      "  349     4   33 rx_max = 0.2000000    32   19 ry_max = 0.2004864\n",
      "  350     4   33 rx_max = 0.2000000    32   19 ry_max = 0.2004805\n",
      "  351     4   33 rx_max = 0.2000000    32   19 ry_max = 0.2004746\n",
      "  352     3   33 rx_max = 0.2000000    32   19 ry_max = 0.2004688\n",
      "  353     4   33 rx_max = 0.2000000    32   19 ry_max = 0.2004631\n",
      "  354     3   33 rx_max = 0.2000000    32   19 ry_max = 0.2004574\n",
      "  355     4   33 rx_max = 0.2000000    32   19 ry_max = 0.2004518\n",
      "  356     3   33 rx_max = 0.2000000    32   19 ry_max = 0.2004463\n",
      "  357     3   33 rx_max = 0.2000000    32   19 ry_max = 0.2004408\n",
      "  358     3   33 rx_max = 0.2000000    32   19 ry_max = 0.2004354\n",
      "  359     3   33 rx_max = 0.2000000    32   19 ry_max = 0.2004301\n",
      "  360     3   33 rx_max = 0.2000000    32   19 ry_max = 0.2004248\n",
      "  361     3   33 rx_max = 0.2000000    32   19 ry_max = 0.2004196\n",
      "  362     3   33 rx_max = 0.2000000    32   19 ry_max = 0.2004145\n",
      "  363     3   33 rx_max = 0.2000000    32   19 ry_max = 0.2004094\n",
      "  364     3   33 rx_max = 0.2000000    32   19 ry_max = 0.2004044\n",
      "  365     3   33 rx_max = 0.2000000    32   19 ry_max = 0.2003995\n",
      "  366     3   33 rx_max = 0.2000000    32   19 ry_max = 0.2003946\n",
      "  367     3   33 rx_max = 0.2000000    32   19 ry_max = 0.2003897\n",
      "  368     3   33 rx_max = 0.2000000    32   19 ry_max = 0.2003850\n",
      "  369     3   33 rx_max = 0.2000000    32   19 ry_max = 0.2003803\n",
      "  370     4   33 rx_max = 0.2000000    32   19 ry_max = 0.2003756\n",
      "  371     4   33 rx_max = 0.2000000    32   19 ry_max = 0.2003710\n",
      "  372     4   33 rx_max = 0.2000000    32   19 ry_max = 0.2003665\n",
      "  373     3   33 rx_max = 0.2000000    32   19 ry_max = 0.2003620\n",
      "  374     4   33 rx_max = 0.2000000    32   19 ry_max = 0.2003576\n",
      "  375     4   33 rx_max = 0.2000000    32   19 ry_max = 0.2003532\n",
      "  376     4   33 rx_max = 0.2000000    32   19 ry_max = 0.2003489\n",
      "  377     4   33 rx_max = 0.2000000    32   19 ry_max = 0.2003446\n",
      "  378     4   33 rx_max = 0.2000000    32   19 ry_max = 0.2003404\n",
      "  379     4   33 rx_max = 0.2000000    32   19 ry_max = 0.2003362\n",
      "  380     4   33 rx_max = 0.2000000    32   19 ry_max = 0.2003321\n",
      "  381     4   33 rx_max = 0.2000000    32   19 ry_max = 0.2003280\n",
      "  382     4   33 rx_max = 0.2000000    32   19 ry_max = 0.2003240\n",
      "  383     4   33 rx_max = 0.2000000    32   19 ry_max = 0.2003201\n",
      "  384     3   33 rx_max = 0.2000000    32   19 ry_max = 0.2003162\n",
      "  385     3   33 rx_max = 0.2000000    32   19 ry_max = 0.2003123\n",
      "  386     4   33 rx_max = 0.2000000    32   19 ry_max = 0.2003085\n",
      "  387     3   33 rx_max = 0.2000000    32   19 ry_max = 0.2003047\n",
      "  388     3   33 rx_max = 0.2000000    32   19 ry_max = 0.2003010\n",
      "  389     4   33 rx_max = 0.2000000    32   19 ry_max = 0.2002973\n",
      "  390     4   33 rx_max = 0.2000000    32   19 ry_max = 0.2002936\n",
      "  391     4   33 rx_max = 0.2000000    32   19 ry_max = 0.2002900\n",
      "  392     4   33 rx_max = 0.2000000    32   19 ry_max = 0.2002865\n",
      "  393     4   33 rx_max = 0.2000000    32   19 ry_max = 0.2002830\n",
      "  394     4   33 rx_max = 0.2000000    32   19 ry_max = 0.2002795\n",
      "  395     4   33 rx_max = 0.2000000    32   19 ry_max = 0.2002761\n",
      "  396     3   33 rx_max = 0.2000000    32   19 ry_max = 0.2002727\n",
      "  397     3   33 rx_max = 0.2000000    32   19 ry_max = 0.2002694\n",
      "  398     3   33 rx_max = 0.2000000    32   19 ry_max = 0.2002661\n",
      "  399     3   33 rx_max = 0.2000000    32   19 ry_max = 0.2002628\n",
      "  400     3   33 rx_max = 0.2000000    32   19 ry_max = 0.2002596\n",
      "  401     3   33 rx_max = 0.2000000    32   19 ry_max = 0.2002565\n",
      "  402     3   33 rx_max = 0.2000000    32   19 ry_max = 0.2002533\n",
      "  403     3   33 rx_max = 0.2000000    32   19 ry_max = 0.2002502\n",
      "  404     3   33 rx_max = 0.2000000    32   19 ry_max = 0.2002472\n",
      "  405     3   33 rx_max = 0.2000000    32   19 ry_max = 0.2002441\n",
      "  406     3   33 rx_max = 0.2000000    32   19 ry_max = 0.2002411\n",
      "  407     3   33 rx_max = 0.2000000    32   19 ry_max = 0.2002382\n",
      "  408     3   33 rx_max = 0.2000000    32   19 ry_max = 0.2002353\n",
      "  409     4   33 rx_max = 0.2000000    32   19 ry_max = 0.2002324\n",
      "  410     3   33 rx_max = 0.2000000    32   19 ry_max = 0.2002296\n",
      "  411     4   33 rx_max = 0.2000000    32   19 ry_max = 0.2002267\n",
      "  412     3   33 rx_max = 0.2000000    32   19 ry_max = 0.2002240\n",
      "  413     3   33 rx_max = 0.2000000    32   19 ry_max = 0.2002212\n",
      "  414     3   33 rx_max = 0.2000000    32   19 ry_max = 0.2002185\n",
      "  415     3   33 rx_max = 0.2000000    32   19 ry_max = 0.2002159\n",
      "  416     3   33 rx_max = 0.2000000    32   19 ry_max = 0.2002132\n",
      "  417     3   33 rx_max = 0.2000000    32   19 ry_max = 0.2002106\n",
      "  418     4   33 rx_max = 0.2000000    32   19 ry_max = 0.2002080\n",
      "  419     4   33 rx_max = 0.2000000    32   19 ry_max = 0.2002055\n",
      "  420     3   33 rx_max = 0.2000000    32   19 ry_max = 0.2002030\n",
      "  421     3   33 rx_max = 0.2000000    32   19 ry_max = 0.2002005\n",
      "  422     3   33 rx_max = 0.2000000    32   19 ry_max = 0.2001980\n",
      "  423     3   33 rx_max = 0.2000000    32   19 ry_max = 0.2001956\n",
      "  424     3   33 rx_max = 0.2000000    32   19 ry_max = 0.2001932\n",
      "  425     3   33 rx_max = 0.2000000    32   19 ry_max = 0.2001908\n",
      "  426     3   33 rx_max = 0.2000000    32   19 ry_max = 0.2001885\n",
      "  427     3   33 rx_max = 0.2000000    32   19 ry_max = 0.2001862\n",
      "  428     3   33 rx_max = 0.2000000    32   19 ry_max = 0.2001839\n",
      "  429     3   33 rx_max = 0.2000000    32   19 ry_max = 0.2001817\n",
      "  430     3   33 rx_max = 0.2000000    32   19 ry_max = 0.2001795\n",
      "  431     3   33 rx_max = 0.2000000    32   19 ry_max = 0.2001773\n",
      "  432     3   33 rx_max = 0.2000000    32   19 ry_max = 0.2001751\n",
      "  433     3   33 rx_max = 0.2000000    32   19 ry_max = 0.2001729\n",
      "  434     3   33 rx_max = 0.2000000    32   19 ry_max = 0.2001708\n",
      "  435     3   33 rx_max = 0.2000000    32   19 ry_max = 0.2001687\n",
      "  436     4   33 rx_max = 0.2000000    32   19 ry_max = 0.2001667\n",
      "  437     4   33 rx_max = 0.2000000    32   19 ry_max = 0.2001646\n",
      "  438     4   33 rx_max = 0.2000000    32   19 ry_max = 0.2001626\n",
      "  439     4   33 rx_max = 0.2000000    32   19 ry_max = 0.2001606\n",
      "  440     4   33 rx_max = 0.2000000    32   19 ry_max = 0.2001587\n",
      "  441     4   33 rx_max = 0.2000000    32   19 ry_max = 0.2001567\n",
      "  442     4   33 rx_max = 0.2000000    32   19 ry_max = 0.2001548\n",
      "  443     4   33 rx_max = 0.2000000    32   19 ry_max = 0.2001529\n",
      "  444     4   33 rx_max = 0.2000000    32   19 ry_max = 0.2001510\n",
      "  445     4   33 rx_max = 0.2000000    32   19 ry_max = 0.2001492\n",
      "  446     4   33 rx_max = 0.2000000    32   19 ry_max = 0.2001474\n",
      "  447     4   33 rx_max = 0.2000000    32   19 ry_max = 0.2001456\n",
      "  448     4   33 rx_max = 0.2000000    32   19 ry_max = 0.2001438\n",
      "  449     4   33 rx_max = 0.2000000    32   19 ry_max = 0.2001420\n",
      "  450     3   33 rx_max = 0.2000000    32   19 ry_max = 0.2001403\n",
      "  451     3   33 rx_max = 0.2000000    32   19 ry_max = 0.2001386\n",
      "  452     3   33 rx_max = 0.2000000    32   19 ry_max = 0.2001369\n",
      "  453     3   33 rx_max = 0.2000000    32   19 ry_max = 0.2001352\n",
      "  454     4   33 rx_max = 0.2000000    32   19 ry_max = 0.2001335\n",
      "  455     4   33 rx_max = 0.2000000    32   19 ry_max = 0.2001319\n",
      "  456     3   33 rx_max = 0.2000000    32   19 ry_max = 0.2001303\n",
      "  457     4   33 rx_max = 0.2000000    32   19 ry_max = 0.2001287\n",
      "  458     4   33 rx_max = 0.2000000    32   19 ry_max = 0.2001271\n",
      "  459     4   33 rx_max = 0.2000000    32   19 ry_max = 0.2001256\n",
      "  460     4   33 rx_max = 0.2000000    32   19 ry_max = 0.2001240\n",
      "  461     4   33 rx_max = 0.2000000    32   19 ry_max = 0.2001225\n",
      "  462     4   33 rx_max = 0.2000000    32   19 ry_max = 0.2001210\n",
      "  463     4   33 rx_max = 0.2000000    32   19 ry_max = 0.2001195\n",
      "  464     4   33 rx_max = 0.2000000    32   19 ry_max = 0.2001181\n",
      "  465     4   33 rx_max = 0.2000000    32   19 ry_max = 0.2001166\n",
      "  466     4   33 rx_max = 0.2000000    32   19 ry_max = 0.2001152\n",
      "  467     4   33 rx_max = 0.2000000    32   19 ry_max = 0.2001138\n",
      "  468     4   33 rx_max = 0.2000000    32   19 ry_max = 0.2001124\n",
      "  469     4   33 rx_max = 0.2000000    32   19 ry_max = 0.2001110\n",
      "  470     4   33 rx_max = 0.2000000    32   19 ry_max = 0.2001097\n",
      "  471     4   33 rx_max = 0.2000000    32   19 ry_max = 0.2001083\n",
      "  472     4   33 rx_max = 0.2000000    32   19 ry_max = 0.2001070\n",
      "  473     4   33 rx_max = 0.2000000    32   19 ry_max = 0.2001057\n",
      "  474     4   33 rx_max = 0.2000000    32   19 ry_max = 0.2001044\n",
      "  475     4   33 rx_max = 0.2000000    32   19 ry_max = 0.2001031\n",
      "  476     4   33 rx_max = 0.2000000    32   19 ry_max = 0.2001019\n",
      "  477     4   33 rx_max = 0.2000000    32   19 ry_max = 0.2001006\n",
      "  478     4   33 rx_max = 0.2000000    32   19 ry_max = 0.2000994\n",
      "  479     4   33 rx_max = 0.2000000    32   19 ry_max = 0.2000982\n",
      "  480     4   33 rx_max = 0.2000000    32   19 ry_max = 0.2000970\n",
      "  481     3   33 rx_max = 0.2000000    32   19 ry_max = 0.2000958\n",
      "  482     4   33 rx_max = 0.2000000    32   19 ry_max = 0.2000946\n",
      "  483     4   33 rx_max = 0.2000000    32   19 ry_max = 0.2000935\n",
      "  484     4   33 rx_max = 0.2000000    32   19 ry_max = 0.2000923\n",
      "  485     3   33 rx_max = 0.2000000    32   19 ry_max = 0.2000912\n",
      "  486     3   33 rx_max = 0.2000000    32   19 ry_max = 0.2000901\n",
      "  487     3   33 rx_max = 0.2000000    32   19 ry_max = 0.2000890\n",
      "  488     3   33 rx_max = 0.2000000    32   19 ry_max = 0.2000879\n",
      "  489     4   33 rx_max = 0.2000000    32   19 ry_max = 0.2000868\n",
      "  490     4   33 rx_max = 0.2000000    32   19 ry_max = 0.2000857\n",
      "  491     3   33 rx_max = 0.2000000    32   19 ry_max = 0.2000847\n",
      "  492     4   33 rx_max = 0.2000000    32   19 ry_max = 0.2000837\n",
      "  493     3   33 rx_max = 0.2000000    32   19 ry_max = 0.2000826\n",
      "  494     3   33 rx_max = 0.2000000    32   19 ry_max = 0.2000816\n",
      "  495     4   33 rx_max = 0.2000000    32   19 ry_max = 0.2000806\n",
      "  496     4   33 rx_max = 0.2000000    32   19 ry_max = 0.2000796\n",
      "  497     3   33 rx_max = 0.2000000    32   19 ry_max = 0.2000787\n",
      "  498     3   33 rx_max = 0.2000000    32   19 ry_max = 0.2000777\n",
      "  499     4   33 rx_max = 0.2000000    32   19 ry_max = 0.2000767\n",
      "\n",
      " Wall Clock time spent in smoothing    0.01 sec running   1 threads.\n"
     ]
    }
   ],
   "source": [
    "GetTopo.topo(None,outputs,topofile,shp_file,smooth=inputs_smth,sgl_connect=sgl_connect)"
   ]
  },
  {
   "cell_type": "markdown",
   "id": "300100d5-f51f-4583-9150-37aa5c9e8ab3",
   "metadata": {},
   "source": [
    "### Save grid as necdf"
   ]
  },
  {
   "cell_type": "markdown",
   "id": "ef3e8e04-2321-4dbb-a865-d1223003e42f",
   "metadata": {},
   "source": [
    "This code creates a Netcdf file containing all grid data (geographic, topo-bathymetric, mask) in the format defined by the classes generated earlier in this notebook. Then it saves it in the ouput repertory."
   ]
  },
  {
   "cell_type": "code",
   "execution_count": 15,
   "id": "02ddd444-50f8-4143-ab9f-79defec4b02c",
   "metadata": {},
   "outputs": [
    {
     "name": "stdout",
     "output_type": "stream",
     "text": [
      "Writting ../../CROCO_FILES/croco_grd.nc done\n"
     ]
    }
   ],
   "source": [
    "CROCO.create_grid_nc(None,output_file,inputs,outputs)"
   ]
  },
  {
   "cell_type": "markdown",
   "id": "5036c0bb-d668-4161-956b-7e577017ec40",
   "metadata": {},
   "source": [
    "### Save user's inputs (for nesting)"
   ]
  },
  {
   "cell_type": "markdown",
   "id": "2857576d-6d4b-4aef-9274-63a7a446fceb",
   "metadata": {},
   "source": [
    "#### Save inputs"
   ]
  },
  {
   "cell_type": "code",
   "execution_count": 16,
   "id": "717c18a0-6bf3-4bd4-9683-f88a98b6ea21",
   "metadata": {},
   "outputs": [
    {
     "name": "stdout",
     "output_type": "stream",
     "text": [
      "Inputs data saved as ../../CROCO_FILES/user_inputs.json\n"
     ]
    }
   ],
   "source": [
    "import json\n",
    "\n",
    "user_inputs= {\n",
    "    'inputs': vars(inputs),\n",
    "    'inputs_smth': vars(inputs_smth)\n",
    "}\n",
    "\n",
    "output_folder = os.path.dirname(output_file)\n",
    "json_filename = 'user_inputs.json'\n",
    "\n",
    "json_file_path= os.path.join(output_folder, json_filename)\n",
    "\n",
    "with open(json_file_path, 'w') as json_file:\n",
    "    json.dump(user_inputs, json_file, indent=4)\n",
    "\n",
    "print(f\"Inputs data saved as {json_file_path}\")"
   ]
  },
  {
   "cell_type": "markdown",
   "id": "89d50620-4840-4c53-ae94-a0581b76f1d8",
   "metadata": {},
   "source": [
    "#### Save outputs"
   ]
  },
  {
   "cell_type": "code",
   "execution_count": 17,
   "id": "3bf14cdd-bcac-4471-807b-1c14f6db75ef",
   "metadata": {},
   "outputs": [
    {
     "name": "stdout",
     "output_type": "stream",
     "text": [
      "Outputs data saved as ../../CROCO_FILES/outputs.json\n"
     ]
    }
   ],
   "source": [
    "outputs_dict = outputs.__dict__\n",
    "\n",
    "# Convert to lists of arrays\n",
    "outputs_converted = {key: value.tolist() if isinstance(value, np.ndarray) else value \n",
    "                     for key, value in outputs_dict.items()}\n",
    "\n",
    "json_file_path_2= os.path.join(output_folder, 'outputs.json')\n",
    "\n",
    "# Save as json file\n",
    "with open(json_file_path_2, 'w') as f:\n",
    "    json.dump(outputs_converted, f)\n",
    "\n",
    "print(f\"Outputs data saved as {json_file_path_2}\")"
   ]
  },
  {
   "cell_type": "markdown",
   "id": "d53d86f5-7ca5-4e3f-918a-3a884e1efc75",
   "metadata": {},
   "source": [
    "---\n",
    "\n",
    "<div style=\"text-align: center; font-size: 0.9em; color: gray;\">\n",
    "  The grid has been created, now you can visualize it and edit the mask/bathymetry\n",
    "</div>\n",
    "\n",
    "---"
   ]
  },
  {
   "cell_type": "markdown",
   "id": "52b0ea99-af88-40ba-8efd-1e5bb263431c",
   "metadata": {},
   "source": [
    "## 👁️🌐 Grid display"
   ]
  },
  {
   "cell_type": "markdown",
   "id": "86ffa92d-00af-48c8-98ac-f02f88b6c216",
   "metadata": {},
   "source": [
    "### Grid's outline"
   ]
  },
  {
   "cell_type": "markdown",
   "id": "5d74fb43-b4c9-4346-ba2d-7d9e1d405664",
   "metadata": {},
   "source": [
    "First, to visualize the grid's outline for instance, the map_tools.py plotting functions are usefull:"
   ]
  },
  {
   "cell_type": "code",
   "execution_count": 18,
   "id": "a02d29f1-dc80-4c0c-bced-e1ea418887c1",
   "metadata": {},
   "outputs": [
    {
     "data": {
      "text/plain": [
       "<GeoAxes: >"
      ]
     },
     "execution_count": 18,
     "metadata": {},
     "output_type": "execute_result"
    }
   ],
   "source": [
    "plt.style.use('_mpl-gallery')\n",
    "figure = plt.figure(figsize = (3,3))\n",
    "ax = plot_outline(outputs, figure)\n",
    "figure.suptitle('Grid Outline')\n",
    "plot_grid(outputs, figure, ax, shp_file ,plot_shape = False)"
   ]
  },
  {
   "cell_type": "markdown",
   "id": "95390473-9fba-473f-8f12-599d4f489888",
   "metadata": {},
   "source": [
    "<div class=\"alert alert-block alert-info\">\n",
    "More Arguments:\n",
    "\n",
    "- **4th argument**: path to the shape file\n",
    "- **5th argument**: options (choose one):\n",
    "  - *grid points*\n",
    "  - *topo*\n",
    "  - *1/pm*\n",
    "  - *1/pn*\n",
    "  - *angle*\n",
    "  - *mask*\n",
    "- **6th argument**: set to `True` to plot the shape or `False` to omit it\n",
    "\n",
    "```python\n",
    "plot_grid(outputs, figure, ax, shp_file, zview='grid outline', plot_shape=True)\n",
    "```\n",
    "</div>"
   ]
  },
  {
   "cell_type": "code",
   "execution_count": 19,
   "id": "ca005e16-ea27-4448-a8c4-ee29067086ef",
   "metadata": {},
   "outputs": [
    {
     "data": {
      "image/png": "[encoded data removed]",
      "text/plain": [
       "<Figure size 300x300 with 1 Axes>"
      ]
     },
     "execution_count": 19,
     "metadata": {},
     "output_type": "execute_result"
    }
   ],
   "source": [
    "figure"
   ]
  },
  {
   "cell_type": "markdown",
   "id": "8819cce8-c948-434c-b716-3762ebad75d7",
   "metadata": {},
   "source": [
    "### Adding the topo-bathymetry"
   ]
  },
  {
   "cell_type": "markdown",
   "id": "1fbebb86-75de-4138-bf09-2ab819fcd5e4",
   "metadata": {},
   "source": [
    "🖍️ Plot outline again "
   ]
  },
  {
   "cell_type": "code",
   "execution_count": 107,
   "id": "a2094c9c-bf11-410e-a9c5-4c73ee91cc4c",
   "metadata": {},
   "outputs": [
    {
     "data": {
      "application/vnd.jupyter.widget-view+json": {
       "model_id": "c71191e1a836412d909b2dfb3f4b39da",
       "version_major": 2,
       "version_minor": 0
      },
      "image/png": "[encoded data removed]",
      "text/html": [
       "\n",
       "            <div style=\"display: inline-block;\">\n",
       "                <div class=\"jupyter-widgets widget-label\" style=\"text-align: center;\">\n",
       "                    Figure\n",
       "                </div>\n",
       "                <img src='data:image/png;base64,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' width=300.0/>\n",
       "            </div>\n",
       "        "
      ],
      "text/plain": [
       "Canvas(toolbar=Toolbar(toolitems=[('Home', 'Reset original view', 'home', 'home'), ('Back', 'Back to previous …"
      ]
     },
     "metadata": {},
     "output_type": "display_data"
    }
   ],
   "source": [
    "plt.style.use('_mpl-gallery')\n",
    "figure = plt.figure(figsize = (3,3))\n",
    "figure.suptitle('Grid outline and bathymetry')\n",
    "ax = plot_outline(outputs, figure)"
   ]
  },
  {
   "cell_type": "markdown",
   "id": "b1cfb6be-d139-4740-9e42-6089f6ab51f3",
   "metadata": {},
   "source": [
    "🎨 Adding **topo-bathymetry** and the **mask** to the figure"
   ]
  },
  {
   "cell_type": "code",
   "execution_count": 20,
   "id": "1daac69b-46fd-4849-b772-edf9730f0f62",
   "metadata": {},
   "outputs": [],
   "source": [
    "ax, cb = plot_topo(outputs, figure, ax)"
   ]
  },
  {
   "cell_type": "code",
   "execution_count": 21,
   "id": "c920d45e-6109-4a29-bfcf-08036ef345c2",
   "metadata": {},
   "outputs": [
    {
     "data": {
      "image/png": "[encoded data removed]",
      "text/plain": [
       "<Figure size 300x300 with 2 Axes>"
      ]
     },
     "execution_count": 21,
     "metadata": {},
     "output_type": "execute_result"
    }
   ],
   "source": [
    "figure"
   ]
  },
  {
   "cell_type": "markdown",
   "id": "8957d43b-8ebe-491e-aba2-db71d7c0d66f",
   "metadata": {},
   "source": [
    "## ✏️ Editing the bathymetry"
   ]
  },
  {
   "cell_type": "markdown",
   "id": "260087e4-3d2e-4815-be5c-d0a347137503",
   "metadata": {},
   "source": [
    "Flattening and stacking the longitude and latitude data :"
   ]
  },
  {
   "cell_type": "code",
   "execution_count": 112,
   "id": "01f865bc-185c-4c15-b0d5-0e0e938575aa",
   "metadata": {},
   "outputs": [],
   "source": [
    "x_rho, y_rho = outputs.lon_rho,outputs.lat_rho\n",
    "data = np.vstack((x_rho.flatten(), y_rho.flatten())).T"
   ]
  },
  {
   "cell_type": "markdown",
   "id": "2bd12de3-d30c-4a4a-b6cf-7f9aa2cabee5",
   "metadata": {},
   "source": [
    "<div class=\"alert alert-block alert-info\">\n",
    "<ul>\n",
    "  <li>\n",
    "    🌍 <code>x_rho.flatten()</code> and <code>y_rho.flatten()</code> convert the 2D arrays <code>x_rho</code> and <code>y_rho</code> into 1D arrays by flattening them. This process creates a single long array from the 2D grid data.\n",
    "  </li>\n",
    "  <li>\n",
    "    🏗️ <code>np.vstack((x_rho.flatten(), y_rho.flatten()))</code> stacks these 1D arrays vertically, resulting in a 2xN array where N is the total number of grid points.\n",
    "  </li>\n",
    "  <li>\n",
    "    🔄 The <code>.T</code> (transpose) operation converts the 2xN array into an Nx2 array, where each row now contains the longitude and latitude of a single grid point.\n",
    "  </li>\n",
    "</ul>\n",
    "</div>"
   ]
  },
  {
   "cell_type": "markdown",
   "id": "f87a25ef-4aea-4f92-8505-991803ef73d3",
   "metadata": {},
   "source": [
    " ### Ponctual cells editing 🔲"
   ]
  },
  {
   "cell_type": "markdown",
   "id": "f8a45b93-0c42-4dd6-be9a-6ac418819e1a",
   "metadata": {},
   "source": [
    "#### Widgets and functions to connect to the figure, in order to edit the grid"
   ]
  },
  {
   "cell_type": "markdown",
   "id": "56e132d4-2b72-4a6a-83b4-8e0f25118cf1",
   "metadata": {},
   "source": [
    "##### Widget to catch click value and to update it"
   ]
  },
  {
   "cell_type": "code",
   "execution_count": 133,
   "id": "4e1fa7bb-e5af-455d-bceb-d1eda9553736",
   "metadata": {},
   "outputs": [],
   "source": [
    "# Widget to display the old value\n",
    "def create_old_value_widget():\n",
    "    global oldValue\n",
    "    oldValue = widgets.FloatText(\n",
    "        value=0.0,\n",
    "        description='Old value:',\n",
    "        disabled=True\n",
    "    )\n",
    "    display(oldValue)\n",
    "\n",
    "# Widget to input the new value\n",
    "def create_new_value_widget():\n",
    "    return interact_manual(update_value, x=widgets.FloatText(\n",
    "        value=0.0,\n",
    "        description='New value:'\n",
    "    ))"
   ]
  },
  {
   "cell_type": "markdown",
   "id": "bf5cc168-cbda-4706-8183-e8cbf460677b",
   "metadata": {},
   "source": [
    "##### Functions to select the cell to edit with your mouse 🖱️"
   ]
  },
  {
   "cell_type": "code",
   "execution_count": 122,
   "id": "8c26830b-a704-40b8-9db4-2074a63a59b1",
   "metadata": {},
   "outputs": [],
   "source": [
    "# Initialization of global var\n",
    "focusedPointX, focusedPointY = None, None\n",
    "oldValue = None\n",
    "ax, cb = None, None\n",
    "\n",
    "# Find the closest node\n",
    "def closest_node(node, nodes):\n",
    "    \"\"\"\n",
    "    Finds the closest node to the given point.\n",
    "    \"\"\"\n",
    "    closest_index = distance.cdist([node], nodes).argmin()\n",
    "    return closest_index, nodes[closest_index]\n",
    "\n",
    "# Handle mouse click events\n",
    "def on_click(event):\n",
    "    \"\"\"\n",
    "    Event handler for mouse clicks on the plot.\n",
    "    \"\"\"\n",
    "    global focusedPointX, focusedPointY\n",
    "    pt = (event.xdata, event.ydata)\n",
    "    prox_pt_id, prox_pt_value = closest_node(pt, data)\n",
    "    \n",
    "    # Calculate the grid coordinates of the closest point\n",
    "    p, mod = divmod(prox_pt_id, x_rho.shape[1])\n",
    "    focusedPointX = p\n",
    "    focusedPointY = mod\n",
    "    \n",
    "    # Update the widget with the old value\n",
    "    oldValue.value = outputs.h[focusedPointX][focusedPointY]\n",
    "\n",
    "# Function to update the value at the focused point\n",
    "def update_value(x):\n",
    "    \"\"\"\n",
    "    Update the value at the focused point and refresh the plot.\n",
    "    \"\"\"\n",
    "    global ax, cb\n",
    "    if focusedPointX is not None and focusedPointY is not None:\n",
    "        outputs.h[focusedPointX][focusedPointY] = x\n",
    "        plt.cla()\n",
    "        cb.remove()\n",
    "        ax, cb = plot_topo(outputs, figure, ax)"
   ]
  },
  {
   "cell_type": "markdown",
   "id": "900f8b3d-905f-4993-a853-1c14a2a19f94",
   "metadata": {},
   "source": [
    "##### Function to plot an editable map"
   ]
  },
  {
   "cell_type": "code",
   "execution_count": 131,
   "id": "0004cbfc-78c8-4e1b-986b-6f2a5fe05b11",
   "metadata": {},
   "outputs": [],
   "source": [
    "# Create a new figure and configure events and widgets\n",
    "def create_new_figure():\n",
    "    global ax_edit, cb_edit\n",
    "    \n",
    "    # Create a new figure\n",
    "    figure_edit, ax_edit = plt.subplots(figsize = (8,8))  \n",
    "    ax_edit.set_title(\"Bathymetry Edit\")  \n",
    "    \n",
    "    # Initial plot\n",
    "    ax_edit, cb_edit = plot_topo(outputs, figure_edit, ax_edit)\n",
    "    \n",
    "    # Connect mouse events\n",
    "    figure_edit.canvas.mpl_connect('button_press_event', on_click)\n",
    "    \n",
    "    # Create the widgets\n",
    "    create_old_value_widget()\n",
    "    create_new_value_widget()\n",
    "    \n",
    "    plt.show()  # Display the figure"
   ]
  },
  {
   "cell_type": "markdown",
   "id": "74a8a31b-807c-435e-b24b-80034c472ea2",
   "metadata": {},
   "source": [
    "##### Plot again the map, but this one is editable 🗺️"
   ]
  },
  {
   "cell_type": "code",
   "execution_count": 205,
   "id": "f5b18c65-cf1f-4010-8a32-d5cbc9d8bd10",
   "metadata": {},
   "outputs": [
    {
     "data": {
      "application/vnd.jupyter.widget-view+json": {
       "model_id": "69819f9768e146e8b5dac2639bdfc27e",
       "version_major": 2,
       "version_minor": 0
      },
      "text/plain": [
       "FloatText(value=0.0, description='Old value:', disabled=True)"
      ]
     },
     "metadata": {},
     "output_type": "display_data"
    },
    {
     "data": {
      "application/vnd.jupyter.widget-view+json": {
       "model_id": "e3a6fad90454481ca21763cd1275ee0a",
       "version_major": 2,
       "version_minor": 0
      },
      "text/plain": [
       "interactive(children=(FloatText(value=0.0, description='New value:'), Button(description='Run Interact', style…"
      ]
     },
     "metadata": {},
     "output_type": "display_data"
    },
    {
     "data": {
      "application/vnd.jupyter.widget-view+json": {
       "model_id": "c58f5aff7038495786c3407232fb863c",
       "version_major": 2,
       "version_minor": 0
      },
      "image/png": "[encoded data removed]",
      "text/html": [
       "\n",
       "            <div style=\"display: inline-block;\">\n",
       "                <div class=\"jupyter-widgets widget-label\" style=\"text-align: center;\">\n",
       "                    Figure\n",
       "                </div>\n",
       "                <img src='data:image/png;base64,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' width=800.0/>\n",
       "            </div>\n",
       "        "
      ],
      "text/plain": [
       "Canvas(toolbar=Toolbar(toolitems=[('Home', 'Reset original view', 'home', 'home'), ('Back', 'Back to previous …"
      ]
     },
     "metadata": {},
     "output_type": "display_data"
    }
   ],
   "source": [
    "create_new_figure()"
   ]
  },
  {
   "cell_type": "markdown",
   "id": "8dc60272-f22d-4634-abc1-cfac7cd011c3",
   "metadata": {},
   "source": [
    "#### Overwrite the old grid with the new one"
   ]
  },
  {
   "cell_type": "code",
   "execution_count": null,
   "id": "acc2b603-36fd-43c4-8be0-36bbd1d144be",
   "metadata": {},
   "outputs": [],
   "source": [
    "CROCO.create_grid_nc(None,output_file,inputs,outputs)"
   ]
  },
  {
   "cell_type": "markdown",
   "id": "ba55b926-23d8-40c6-94f9-7698629d5cc6",
   "metadata": {},
   "source": [
    "### Rectangle selector for bathymetry edition 🟦🟦🟦"
   ]
  },
  {
   "cell_type": "markdown",
   "id": "3d2b57ed-ec46-4528-bb4e-094cd143cfc8",
   "metadata": {},
   "source": [
    "<div class=\"alert alert-block alert-info\">\n",
    "\n",
    "With this functionality, you can **select multiple cells simultaneously** and edit them using a rectangular selector. Here's how to use it:\n",
    "\n",
    "1. Select Cells: Click and drag to draw a rectangle around the cells you want to edit. 🖍️⬜️⬛️\n",
    "\n",
    "2. Enter New Values: Use the widget to input the new value and click “Apply Changes” to update the selected cells. 🛠️🖱️\n",
    "\n",
    "3. View Updates: The figure will be updated to reflect the new values. 📈🔄\n",
    "</div>\n"
   ]
  },
  {
   "cell_type": "code",
   "execution_count": 233,
   "id": "2633810d-5344-4bab-8c1e-767dd621e42d",
   "metadata": {},
   "outputs": [],
   "source": [
    "from ipywidgets import interact"
   ]
  },
  {
   "cell_type": "code",
   "execution_count": 255,
   "id": "aec97ff1-4b00-47d1-8e0d-3f3c20148408",
   "metadata": {},
   "outputs": [
    {
     "data": {
      "application/vnd.jupyter.widget-view+json": {
       "model_id": "cae75055f8dc4a63bc63a8b279660092",
       "version_major": 2,
       "version_minor": 0
      },
      "text/plain": [
       "FloatText(value=0.0, description='New Value:')"
      ]
     },
     "metadata": {},
     "output_type": "display_data"
    },
    {
     "data": {
      "application/vnd.jupyter.widget-view+json": {
       "model_id": "005a16467f664418bc2dbd6a1d293e2d",
       "version_major": 2,
       "version_minor": 0
      },
      "text/plain": [
       "Button(description='Apply', style=ButtonStyle())"
      ]
     },
     "metadata": {},
     "output_type": "display_data"
    },
    {
     "data": {
      "application/vnd.jupyter.widget-view+json": {
       "model_id": "13c633aaa0124c72a9bfc02debf714dd",
       "version_major": 2,
       "version_minor": 0
      },
      "image/png": "[encoded data removed]",
      "text/html": [
       "\n",
       "            <div style=\"display: inline-block;\">\n",
       "                <div class=\"jupyter-widgets widget-label\" style=\"text-align: center;\">\n",
       "                    Figure\n",
       "                </div>\n",
       "                <img src='data:image/png;base64,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' width=600.0/>\n",
       "            </div>\n",
       "        "
      ],
      "text/plain": [
       "Canvas(toolbar=Toolbar(toolitems=[('Home', 'Reset original view', 'home', 'home'), ('Back', 'Back to previous …"
      ]
     },
     "metadata": {},
     "output_type": "display_data"
    }
   ],
   "source": [
    "# Variables globales pour la sélection rectangulaire\n",
    "x1, y1, x2, y2 = None, None, None, None\n",
    "\n",
    "# Fonction pour mettre à jour la grille de bathymétrie dans la région sélectionnée\n",
    "def update_bathymetry(value):\n",
    "    global x1, y1, x2, y2\n",
    "    if x1 is not None and y1 is not None and x2 is not None and y2 is not None:\n",
    "        min_x, max_x = min(x1, x2), max(x1, x2)\n",
    "        min_y, max_y = min(y1, y2), max(y1, y2)\n",
    "        # Assurez-vous que les indices ne dépassent pas les limites du tableau\n",
    "        min_x = max(min_x, 0)\n",
    "        max_x = min(max_x, outputs.h.shape[1] - 1)\n",
    "        min_y = max(min_y, 0)\n",
    "        max_y = min(max_y, outputs.h.shape[0] - 1)\n",
    "        outputs.h[min_y:max_y+1, min_x:max_x+1] = value\n",
    "        update_plot()  # Met à jour le graphique avec les nouvelles valeurs\n",
    "\n",
    "# Fonction pour mettre à jour l'affichage\n",
    "def update_plot():\n",
    "    ax_edit_rect.clear()  # Efface l'ancienne image\n",
    "    # Redessine la grille avec les nouvelles valeurs\n",
    "    plot_topo(outputs, figure_edit_rect, ax_edit_rect)\n",
    "    ax_edit_rect.set_title(\"Bathymetry Edit\")\n",
    "    plt.draw()  # Redessine la figure\n",
    "\n",
    "# Fonction de callback pour la sélection rectangulaire\n",
    "def select_callback(eclick, erelease):\n",
    "    global x1, y1, x2, y2\n",
    "\n",
    "    pt1 = (eclick.xdata, eclick.ydata)\n",
    "    pt2 = (erelease.xdata, erelease.ydata)\n",
    "    \n",
    "    # Trouver les indices les plus proches pour les points de sélection\n",
    "    x1_idx, y1_idx = find_closest_indices(pt1, outputs)\n",
    "    x2_idx, y2_idx = find_closest_indices(pt2, outputs)\n",
    "\n",
    "    # Mise à jour des coordonnées globales\n",
    "    x1, y1 = x1_idx, y1_idx\n",
    "    x2, y2 = x2_idx, y2_idx\n",
    "    print(f\"({x1}, {y1}) --> ({x2}, {y2})\")\n",
    "\n",
    "# Fonction pour trouver les indices les plus proches dans les données\n",
    "def find_closest_indices(point, outputs):\n",
    "    x, y = point\n",
    "    x_idx = np.argmin(np.abs(outputs.lon_rho[0, :] - x))\n",
    "    y_idx = np.argmin(np.abs(outputs.lat_rho[:, 0] - y))\n",
    "    return x_idx, y_idx\n",
    "\n",
    "# Fonction de gestion du bouton\n",
    "def on_button_click(b):\n",
    "    new_value = value_widget.value\n",
    "    update_bathymetry(new_value)\n",
    "\n",
    "# Création de la figure et affichage initial\n",
    "figure_edit_rect, ax_edit_rect = plt.subplots(figsize=(6, 6))\n",
    "ax_edit_rect.set_title(\"Bathymetry Edit\")\n",
    "plot_topo(outputs, figure_edit_rect, ax_edit_rect)\n",
    "\n",
    "# Créer un widget pour entrer la nouvelle valeur\n",
    "value_widget = widgets.FloatText(description='New Value:')\n",
    "\n",
    "# Créer un bouton pour appliquer la nouvelle valeur\n",
    "apply_button = widgets.Button(description=\"Apply\")\n",
    "apply_button.on_click(on_button_click)\n",
    "\n",
    "# Ajouter le sélecteur de rectangle\n",
    "selector = RectangleSelector(ax_edit_rect, select_callback, useblit=True, button=[1], interactive=True)\n",
    "\n",
    "# Afficher le widget et le bouton\n",
    "display(value_widget)\n",
    "display(apply_button)\n",
    "\n",
    "# Afficher la figure\n",
    "plt.show()\n"
   ]
  },
  {
   "cell_type": "markdown",
   "id": "2d10b8ab-f11d-4080-942a-edd4744569ea",
   "metadata": {},
   "source": [
    "#### Overwrite the old grid with this new one"
   ]
  },
  {
   "cell_type": "code",
   "execution_count": 256,
   "id": "7dbe8af7-4d2f-428e-8579-042a24e676e2",
   "metadata": {},
   "outputs": [
    {
     "name": "stdout",
     "output_type": "stream",
     "text": [
      "Writting ../../CROCO_FILES/croco_grd.nc done\n"
     ]
    }
   ],
   "source": [
    "CROCO.create_grid_nc(None,output_file,inputs,outputs)"
   ]
  },
  {
   "cell_type": "markdown",
   "id": "344bff29-3245-4711-90f0-71139d61b89d",
   "metadata": {},
   "source": [
    "---\n",
    "\n",
    "<div style=\"text-align: center; font-size: 0.9em; color: gray;\">\n",
    "  The grid has been modified, now you may create children Offline/AGRIF grids with build_nest_off or build_nest_ADRIF notebooks\n",
    "</div>\n",
    "\n",
    "---"
   ]
  },
  {
   "cell_type": "code",
   "execution_count": null,
   "id": "94269ff6-5bba-433f-aa90-6d9a7051ab7e",
   "metadata": {},
   "outputs": [],
   "source": []
  }
 ],
 "metadata": {
  "kernelspec": {
   "display_name": "Python 3 (ipykernel)",
   "language": "python",
   "name": "python3"
  },
  "language_info": {
   "codemirror_mode": {
    "name": "ipython",
    "version": 3
   },
   "file_extension": ".py",
   "mimetype": "text/x-python",
   "name": "python",
   "nbconvert_exporter": "python",
   "pygments_lexer": "ipython3",
   "version": "3.9.18"
  }
 },
 "nbformat": 4,
 "nbformat_minor": 5
}
